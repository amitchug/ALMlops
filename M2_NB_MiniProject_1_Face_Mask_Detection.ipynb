{
  "nbformat": 4,
  "nbformat_minor": 0,
  "metadata": {
    "accelerator": "GPU",
    "colab": {
      "provenance": [],
      "include_colab_link": true
    },
    "kernelspec": {
      "display_name": "Python 3",
      "name": "python3"
    },
    "language_info": {
      "name": "python"
    },
    "gpuClass": "standard"
  },
  "cells": [
    {
      "cell_type": "markdown",
      "metadata": {
        "id": "view-in-github",
        "colab_type": "text"
      },
      "source": [
        "<a href=\"https://colab.research.google.com/github/amitchug/ALMlops/blob/main/M2_NB_MiniProject_1_Face_Mask_Detection.ipynb\" target=\"_parent\"><img src=\"https://colab.research.google.com/assets/colab-badge.svg\" alt=\"Open In Colab\"/></a>"
      ]
    },
    {
      "cell_type": "markdown",
      "source": [
        "# Advanced Certification Programme in AI and MLOps\n",
        "## A programme by IISc and TalentSprint\n",
        "### Mini Project: Face Mask Detection using Convolutional Neural Networks"
      ],
      "metadata": {
        "id": "LJY-HzQzCiJx"
      }
    },
    {
      "cell_type": "markdown",
      "metadata": {
        "id": "maritime-miami"
      },
      "source": [
        "## Learning Objectives"
      ]
    },
    {
      "cell_type": "markdown",
      "metadata": {
        "id": "95F1ym6qB8VU"
      },
      "source": [
        "At the end of the experiment, you will be able to :\n",
        "\n",
        "* load the image dataset using ImageDataGenerator from the path directory\n",
        "* perform data augmentation on the fly and create  batches of the dataset\n",
        "* build the convolutional neural networks for classification problem\n",
        "* visualize & interpret what CNN layers learn\n",
        "* use the transfer learning (pre-trained models) for classification problems"
      ]
    },
    {
      "cell_type": "markdown",
      "metadata": {
        "id": "29152de7"
      },
      "source": [
        "## Introduction\n",
        "\n",
        "This project uses a Deep Neural Network, more specifically a Convolutional Neural Network, to differentiate between images of people, with masks, without masks and incorrectly placed masks. Manually built and pretrained networks will be used to perform this classification task.\n",
        "\n",
        "**Face-Mask-Detection-Using-CNN**\n",
        "\n",
        "* Outbreak of the Coronavirus pandemic has created various changes in the lifestyle of everyone around the world.\n",
        "* Among these changes, wearing a mask has been very vital to every individual.\n",
        "* Detection of people who are not wearing masks is a challenge due to the large populations.\n",
        "* This face mask detection project can be used in schools, hospitals, banks, airports etc as a digitalized scanning tool.\n",
        "  - The technique of detecting people’s faces and segregating them into three classes namely the people with masks and people without masks and partial masks is done with the help of image processing and deep learning.\n",
        "* With the help of this project, a person who is monitoring the face mask status for a particular firm can be seated in a remote area and still monitor efficiently and give instructions accordingly.\n",
        "\n",
        "![img](https://cdn.iisc.talentsprint.com/CDS/MiniProjects/dataset-images-with-mask.jpg)"
      ]
    },
    {
      "cell_type": "markdown",
      "metadata": {
        "id": "kgx1PkHfCDyJ"
      },
      "source": [
        "## Dataset\n",
        "\n",
        "The data for this mini-project is collected from various sources including the masked images from internet and general frontal face images considered as without mask. This dataset consists of 5029 train images and 1059 test images with 3 classes `with_mask`, `without_mask` and `partial_mask`\n",
        "\n",
        "Many people are not correctly wearing their masks due to bad practices, bad behaviors or vulnerability of individuals (e.g., children, old people). For these reasons, several mask wearing campaigns intend to sensitize people about this problem and good practices. In this sense, this work proposes three types of masked face detection dataset\n",
        "  \n",
        "- Without Mask/ With Mask/ Partial Mask\n",
        "  \n",
        "Note that this dataset contains some annotated (artificially generated) masks to augment the 'masked' data category."
      ]
    },
    {
      "cell_type": "markdown",
      "metadata": {
        "id": "ih-oasWmdZul"
      },
      "source": [
        "## Problem Statement"
      ]
    },
    {
      "cell_type": "markdown",
      "metadata": {
        "id": "-18cjyCTCHE-"
      },
      "source": [
        "To build and implement a Convolutional Neural Network model to classify between masked/unmasked/partially masked faces."
      ]
    },
    {
      "cell_type": "code",
      "metadata": {
        "id": "812a816f",
        "cellView": "form"
      },
      "source": [
        "#@title Download the data\n",
        "!wget -qq https://cdn.iisc.talentsprint.com/CDS/MiniProjects/MP2_FaceMask_Dataset.zip\n",
        "!unzip -qq MP2_FaceMask_Dataset.zip\n",
        "print(\"Data Downloaded Successfuly!!\")"
      ],
      "execution_count": null,
      "outputs": []
    },
    {
      "cell_type": "markdown",
      "metadata": {
        "id": "operating-latter"
      },
      "source": [
        "## Grading = 10 Points"
      ]
    },
    {
      "cell_type": "markdown",
      "metadata": {
        "id": "abstract-stocks"
      },
      "source": [
        "### Import Required packages"
      ]
    },
    {
      "cell_type": "code",
      "metadata": {
        "id": "YG52PDGENRgN"
      },
      "source": [
        "from tensorflow.keras.optimizers import RMSprop\n",
        "from keras.preprocessing.image import ImageDataGenerator\n",
        "from keras.models import Sequential\n",
        "from keras.layers import Conv2D, Input, ZeroPadding2D, BatchNormalization, Activation, MaxPooling2D, Flatten, Dense,Dropout\n",
        "from keras.models import Model, load_model\n",
        "from keras.callbacks import EarlyStopping, TensorBoard, ModelCheckpoint\n",
        "from sklearn.model_selection import train_test_split\n",
        "from sklearn.metrics import f1_score\n",
        "from sklearn.utils import shuffle\n",
        "import numpy as np\n",
        "import pandas as pd\n",
        "import PIL\n",
        "from matplotlib import pyplot as plt\n",
        "from keras.applications.vgg16 import VGG16\n",
        "from tensorflow.keras.applications.resnet50 import ResNet50\n",
        "import tensorflow as tf\n",
        "from tensorflow import keras\n",
        "import glob, os"
      ],
      "execution_count": null,
      "outputs": []
    },
    {
      "cell_type": "markdown",
      "source": [
        "# Part-A [5-Marks]"
      ],
      "metadata": {
        "id": "ptD5yCB5Skgy"
      }
    },
    {
      "cell_type": "markdown",
      "metadata": {
        "id": "aYSjwlcSGJq1"
      },
      "source": [
        "### Analyzing the shape and distribution of datasets [1 Mark]"
      ]
    },
    {
      "cell_type": "markdown",
      "source": [
        "Store the list of the paths from the training dataset for images of partial-mask, with_mask, and without_mask in variables partial, on, and off respectively. Hint : [Check the 'glob' section.](https://realpython.com/working-with-files-in-python/)"
      ],
      "metadata": {
        "id": "rFRK7AO75NlR"
      }
    },
    {
      "cell_type": "code",
      "metadata": {
        "id": "Z_FC0knCfeFD"
      },
      "source": [
        "# YOUR CODE HERE"
      ],
      "execution_count": null,
      "outputs": []
    },
    {
      "cell_type": "markdown",
      "source": [
        "Store paths of all three types of images in one variable. Check and store the height and width of each image.\n",
        "\n",
        "Hint: Use PIL(PIL.Image.open) library to open the image from the path, convert it into a NumPy array and check for shape.  "
      ],
      "metadata": {
        "id": "nJxCfK2p5gDd"
      }
    },
    {
      "cell_type": "code",
      "metadata": {
        "id": "jPbrQoQGGRh8"
      },
      "source": [
        "# YOUR CODE HERE"
      ],
      "execution_count": null,
      "outputs": []
    },
    {
      "cell_type": "code",
      "metadata": {
        "id": "-wwYXoG_Gok1"
      },
      "source": [
        "# YOUR CODE HERE"
      ],
      "execution_count": null,
      "outputs": []
    },
    {
      "cell_type": "markdown",
      "source": [
        "Discuss the distribution of images. Calculate and display max, min and average of height and width of all images."
      ],
      "metadata": {
        "id": "hj9-n2Vw5u5E"
      }
    },
    {
      "cell_type": "code",
      "metadata": {
        "id": "jR21tLffHWPy"
      },
      "source": [
        "# YOUR CODE HERE"
      ],
      "execution_count": null,
      "outputs": []
    },
    {
      "cell_type": "markdown",
      "source": [
        "### Visualize the sample images of each class before augmentation [1 Mark]"
      ],
      "metadata": {
        "id": "QCKfnNWq4XFA"
      }
    },
    {
      "cell_type": "code",
      "source": [
        "# YOUR CODE HERE"
      ],
      "metadata": {
        "id": "wyywbhUZ31q1"
      },
      "execution_count": null,
      "outputs": []
    },
    {
      "cell_type": "code",
      "source": [
        "# YOUR CODE HERE"
      ],
      "metadata": {
        "id": "FnM7KwSC17C0"
      },
      "execution_count": null,
      "outputs": []
    },
    {
      "cell_type": "markdown",
      "metadata": {
        "id": "5_icWF1CCLwY"
      },
      "source": [
        "### Load the images using ImageDataGenerator [1 Mark]\n",
        "\n",
        "There are two main steps involved in creating the generator.\n",
        "1. Instantiate ImageDataGenerator with required arguments to create an object\n",
        "2. Use the `flow_from_directory` command depending on how your data is stored on disk. This is the command that will allow you to generate and get access to batches of data on the fly.\n",
        "\n",
        "Hint: [link](https://www.tensorflow.org/api_docs/python/tf/keras/preprocessing/image/ImageDataGenerator)"
      ]
    },
    {
      "cell_type": "code",
      "metadata": {
        "id": "LqsC5w4f5NOr"
      },
      "source": [
        "TRAINING_DIR = \"/content/MP2_FaceMask_Dataset/train/\"\n",
        "VALIDATION_DIR = \"/content/MP2_FaceMask_Dataset/test/\""
      ],
      "execution_count": null,
      "outputs": []
    },
    {
      "cell_type": "code",
      "metadata": {
        "id": "BBmLkk-zNeZs"
      },
      "source": [
        "# YOUR CODE HERE"
      ],
      "execution_count": null,
      "outputs": []
    },
    {
      "cell_type": "markdown",
      "source": [
        "Check class indices"
      ],
      "metadata": {
        "id": "oUc5C57Fp4Zu"
      }
    },
    {
      "cell_type": "code",
      "metadata": {
        "id": "5LZ3mguSHjD7"
      },
      "source": [
        "# YOUR CODE HERE"
      ],
      "execution_count": null,
      "outputs": []
    },
    {
      "cell_type": "markdown",
      "source": [
        "Check the shape of the image from train_generator"
      ],
      "metadata": {
        "id": "5GgiFlxFqLG3"
      }
    },
    {
      "cell_type": "code",
      "metadata": {
        "id": "Z3vJcC-4-YCi"
      },
      "source": [
        "# YOUR CODE HERE"
      ],
      "execution_count": null,
      "outputs": []
    },
    {
      "cell_type": "code",
      "metadata": {
        "id": "Es9FGxUjbyHM"
      },
      "source": [
        "# YOUR CODE HERE"
      ],
      "execution_count": null,
      "outputs": []
    },
    {
      "cell_type": "markdown",
      "metadata": {
        "id": "vdQY-dzZeqWm"
      },
      "source": [
        "### Visualize a few sample images using data generator [1 Mark]"
      ]
    },
    {
      "cell_type": "code",
      "metadata": {
        "id": "HCgAcqdGewsb"
      },
      "source": [
        "# YOUR CODE HERE"
      ],
      "execution_count": null,
      "outputs": []
    },
    {
      "cell_type": "code",
      "metadata": {
        "id": "-bnS1Mpkm671"
      },
      "source": [
        "# YOUR CODE HERE"
      ],
      "execution_count": null,
      "outputs": []
    },
    {
      "cell_type": "markdown",
      "metadata": {
        "id": "tY_0BwOICQXi"
      },
      "source": [
        "## Build the CNN model using Keras [1 Mark]\n",
        "\n"
      ]
    },
    {
      "cell_type": "markdown",
      "metadata": {
        "id": "x1GGjQTfTIoO"
      },
      "source": [
        "**Convolutional Neural Network:** A neural network in which at least one layer is a convolutional layer. A typical convolutional neural network consists of some combination of the following layers:\n",
        "\n",
        "* convolutional layers\n",
        "* pooling layers\n",
        "* dense layers\n",
        "\n",
        "\n",
        "**Conv2D**  \n",
        "\n",
        "Passing an image with input shape of 3-D and to calculate the output:\n",
        "\n",
        " $O = \\frac{n - f + 2p}{s} + 1$\n",
        "\n",
        " where\n",
        "\n",
        " $n$ = image dimension\n",
        "\n",
        " $f$ = filter size\n",
        "\n",
        " $p$ = padding\n",
        "\n",
        " $s$ = stride\n",
        "\n",
        "**MaxPool**\n",
        "\n",
        "The resulting output, when using the \"valid\" padding option, has a spatial shape (number of rows or columns) of:\n",
        "\n",
        "O = `math.floor`$(\\frac{input shape - pool size)}{ strides}) + 1$ (when input shape >= pool size)\n",
        "\n",
        "The resulting output shape when using the \"same\" padding option is:\n",
        "\n",
        "O = `math.floor`$(\\frac{input shape - 1}{strides}) + 1$\n",
        "\n",
        "by default, stride = None, so stride is same as pool size"
      ]
    },
    {
      "cell_type": "markdown",
      "metadata": {
        "id": "PmGNu31vmLhs"
      },
      "source": [
        "Task-flow\n",
        "* Initialize the network of convolution, maxpooling and dense layers\n",
        "* Define the optimizer and loss functions\n",
        "* Fit the model and evaluate the model"
      ]
    },
    {
      "cell_type": "markdown",
      "metadata": {
        "id": "2pqSFUUIca6f"
      },
      "source": [
        "**model 1 with 2 convolutional (feature representation) and 2 maxpool layers (down sampling) and 2 dense layers for classification.**"
      ]
    },
    {
      "cell_type": "code",
      "metadata": {
        "id": "TdaobFneNaJO"
      },
      "source": [
        "model1 = Sequential([\n",
        "    # YOUR CODE HERE          #convolutional layer 1: No. of filters=100, filter size=3x3, activation = relu, input_shap = 224x224x3,\n",
        "    # YOUR CODE HERE                                                         #Maxpooling2D filter size=2x2\n",
        "\n",
        "   # YOUR CODE HERE                                  #convolutional layer 2: No. of filters=100, filter size=3x3, activation = relu,\n",
        "   # YOUR CODE HERE                                                         #Maxpooling2D filter size=2x2\n",
        "\n",
        "# YOUR CODE HERE\n",
        "])\n",
        "# Compile the model"
      ],
      "execution_count": null,
      "outputs": []
    },
    {
      "cell_type": "code",
      "source": [
        "# YOUR CODE HERE\n",
        "#Note: Applying a convolution to an image will make it smaller (if no padding).\n",
        "#Convolving a 3x3 filter over images means we’ll lose a single pixel on all sides (2 in total).\n",
        "#In the given case, sliding a 3x3 filter over a 224x224 image results in a 222x222 image"
      ],
      "metadata": {
        "id": "u36QS6Tm8f5J"
      },
      "execution_count": null,
      "outputs": []
    },
    {
      "cell_type": "markdown",
      "source": [
        "Fit the data to the model"
      ],
      "metadata": {
        "id": "_SvusGidrxAQ"
      }
    },
    {
      "cell_type": "code",
      "metadata": {
        "id": "483fUjrwUKbM"
      },
      "source": [
        "# YOUR CODE HERE"
      ],
      "execution_count": null,
      "outputs": []
    },
    {
      "cell_type": "markdown",
      "source": [
        "Plot training and validation loss"
      ],
      "metadata": {
        "id": "5-27p6CRr80e"
      }
    },
    {
      "cell_type": "code",
      "metadata": {
        "id": "Pj8p_8pXx5xJ"
      },
      "source": [
        "# YOUR CODE HERE"
      ],
      "execution_count": null,
      "outputs": []
    },
    {
      "cell_type": "markdown",
      "metadata": {
        "id": "AJdl7ZnwUOlF"
      },
      "source": [
        "**model 2 with few more conv layers**"
      ]
    },
    {
      "cell_type": "markdown",
      "source": [
        "Task-flow\n",
        "* Initialize the network of convolution, maxpooling and dense layers\n",
        "* Define the optimizer and loss functions\n",
        "* Define callback list\n",
        "* Fit the model and evaluate the model"
      ],
      "metadata": {
        "id": "NIAIxUljLoTV"
      }
    },
    {
      "cell_type": "markdown",
      "source": [
        "Define the model"
      ],
      "metadata": {
        "id": "eVHFu7HDsILn"
      }
    },
    {
      "cell_type": "code",
      "metadata": {
        "id": "R-FrPZO1aFMM"
      },
      "source": [
        "# YOUR CODE HERE"
      ],
      "execution_count": null,
      "outputs": []
    },
    {
      "cell_type": "markdown",
      "source": [
        "Compile the model"
      ],
      "metadata": {
        "id": "erZI0giVsUeA"
      }
    },
    {
      "cell_type": "code",
      "source": [
        "# YOUR CODE HERE"
      ],
      "metadata": {
        "id": "CcY4qtwln-dc"
      },
      "execution_count": null,
      "outputs": []
    },
    {
      "cell_type": "markdown",
      "source": [
        "Define Callbacks"
      ],
      "metadata": {
        "id": "tkyeIBMssnzm"
      }
    },
    {
      "cell_type": "code",
      "source": [
        "# YOUR CODE HERE"
      ],
      "metadata": {
        "id": "o8BP42MFpXaS"
      },
      "execution_count": null,
      "outputs": []
    },
    {
      "cell_type": "markdown",
      "source": [
        "Fit the data to the model"
      ],
      "metadata": {
        "id": "vThSsATZswHG"
      }
    },
    {
      "cell_type": "code",
      "metadata": {
        "id": "VMOqcNE3Clfk"
      },
      "source": [
        "# YOUR CODE HERE"
      ],
      "execution_count": null,
      "outputs": []
    },
    {
      "cell_type": "markdown",
      "source": [
        "Plot training and validation loss"
      ],
      "metadata": {
        "id": "68k7j7Zvs3Ch"
      }
    },
    {
      "cell_type": "code",
      "metadata": {
        "id": "bu9ceW13fuuc"
      },
      "source": [
        "# YOUR CODE HERE"
      ],
      "execution_count": null,
      "outputs": []
    },
    {
      "cell_type": "markdown",
      "source": [
        "## Prediction on a random test image"
      ],
      "metadata": {
        "id": "Eu18F7bj_6vX"
      }
    },
    {
      "cell_type": "code",
      "source": [
        "# YOUR CODE HERE"
      ],
      "metadata": {
        "id": "JgQVJJL6-4gc"
      },
      "execution_count": null,
      "outputs": []
    },
    {
      "cell_type": "markdown",
      "source": [
        "# Part-B [5-Marks]"
      ],
      "metadata": {
        "id": "EDBSiORoStLr"
      }
    },
    {
      "cell_type": "markdown",
      "source": [
        "## Visualization [2 Marks]"
      ],
      "metadata": {
        "id": "PEKRjtWw-owG"
      }
    },
    {
      "cell_type": "markdown",
      "source": [
        "Define a function 'get_img_array' that takes two parameters image path and target size. It returns the converted image to array.\n",
        "\n",
        "Display this image."
      ],
      "metadata": {
        "id": "Nz52TNuhM1vr"
      }
    },
    {
      "cell_type": "markdown",
      "source": [
        "Hint:: Consider AST3 for visualization."
      ],
      "metadata": {
        "id": "ue_Jt5xANPSu"
      }
    },
    {
      "cell_type": "code",
      "source": [
        "# YOUR CODE HERE"
      ],
      "metadata": {
        "id": "RRkg6lqnAtgn"
      },
      "execution_count": null,
      "outputs": []
    },
    {
      "cell_type": "markdown",
      "source": [
        "## Instantiating a model that returns \"layer activations\""
      ],
      "metadata": {
        "id": "n93GVtSaNU4h"
      }
    },
    {
      "cell_type": "markdown",
      "source": [
        "Hint:: Use 'keras.model' to define this model."
      ],
      "metadata": {
        "id": "yOEsUuVVNj-n"
      }
    },
    {
      "cell_type": "code",
      "source": [
        "# Instantiating a model that returns \"layer activations\"\n",
        "# YOUR CODE HERE"
      ],
      "metadata": {
        "id": "PuiFdJBx_8To"
      },
      "execution_count": null,
      "outputs": []
    },
    {
      "cell_type": "markdown",
      "source": [
        "Once the activation model is defined, predict the image tensor created using this model."
      ],
      "metadata": {
        "id": "itxw1Gs8NuOE"
      }
    },
    {
      "cell_type": "code",
      "source": [
        "# Compute layer activations\n",
        "# YOUR CODE HERE"
      ],
      "metadata": {
        "id": "CSFiBeeQAhtD"
      },
      "execution_count": null,
      "outputs": []
    },
    {
      "cell_type": "markdown",
      "source": [
        "## Visualize first feature map"
      ],
      "metadata": {
        "id": "wfv4dDqIN8op"
      }
    },
    {
      "cell_type": "code",
      "source": [
        "# Visualise activation\n",
        "\n",
        "# YOUR CODE HERE"
      ],
      "metadata": {
        "id": "nASl1qTGD6j0"
      },
      "execution_count": null,
      "outputs": []
    },
    {
      "cell_type": "markdown",
      "source": [
        "## Visualize feature map after each layer"
      ],
      "metadata": {
        "id": "ECWxnbypELWO"
      }
    },
    {
      "cell_type": "code",
      "source": [
        "# YOUR CODE HERE"
      ],
      "metadata": {
        "id": "6e5iR4iCEIPV"
      },
      "execution_count": null,
      "outputs": []
    },
    {
      "cell_type": "markdown",
      "source": [
        "Successive feature maps are of smaller dimensions but scaled to be the same size during visualization."
      ],
      "metadata": {
        "id": "2b17iR7EElV_"
      }
    },
    {
      "cell_type": "markdown",
      "source": [
        "## Visualise all the feature maps of all the layers"
      ],
      "metadata": {
        "id": "AXYX3eqlExCX"
      }
    },
    {
      "cell_type": "code",
      "source": [
        "# Post-processing code - only visualizaton\n",
        "# Visualizing every channel in every intermediate activation\n",
        "# YOUR CODE HERE\n",
        "# YOUR CODE HERE"
      ],
      "metadata": {
        "id": "13B37W3cE9bh"
      },
      "execution_count": null,
      "outputs": []
    },
    {
      "cell_type": "markdown",
      "source": [
        "# ConvNet Filters [1 Mark]"
      ],
      "metadata": {
        "id": "dGdXS5ELGQkF"
      }
    },
    {
      "cell_type": "markdown",
      "source": [
        "## Print the names of  conv and MaxPooling layers."
      ],
      "metadata": {
        "id": "mTBEIn05OkSQ"
      }
    },
    {
      "cell_type": "markdown",
      "source": [
        "Hint:: 'model2.layer'"
      ],
      "metadata": {
        "id": "qjF8qqckOnsO"
      }
    },
    {
      "cell_type": "code",
      "source": [
        "# YOUR CODE HERE"
      ],
      "metadata": {
        "id": "r5AlNWOwGavA"
      },
      "execution_count": null,
      "outputs": []
    },
    {
      "cell_type": "markdown",
      "source": [
        "## Create a feature extractor model"
      ],
      "metadata": {
        "id": "oEg-69f4OwV0"
      }
    },
    {
      "cell_type": "code",
      "source": [
        "# YOUR CODE HERE\n",
        "# Check the model summary\n",
        "# YOUR CODE HERE"
      ],
      "metadata": {
        "id": "5_I6xvO6GvIa"
      },
      "execution_count": null,
      "outputs": []
    },
    {
      "cell_type": "markdown",
      "source": [
        "## Use the feature extractor model to extract feature out of the image tensor."
      ],
      "metadata": {
        "id": "kESdOQRoO6RH"
      }
    },
    {
      "cell_type": "code",
      "source": [
        "# YOUR CODE HERE"
      ],
      "metadata": {
        "id": "p8xP0MEnHJbQ"
      },
      "execution_count": null,
      "outputs": []
    },
    {
      "cell_type": "markdown",
      "source": [
        "Define a function 'compute_loss' it takes two arguments, image and filter index. It returns the filter activation using 'tf.reduce_mean'."
      ],
      "metadata": {
        "id": "9l15pw-NQSwp"
      }
    },
    {
      "cell_type": "code",
      "source": [
        "# YOUR CODE HERE"
      ],
      "metadata": {
        "id": "veUp4pMQHRzE"
      },
      "execution_count": null,
      "outputs": []
    },
    {
      "cell_type": "markdown",
      "source": [
        "## Loss maximization via stochastic gradient ascent.\n",
        "Define a function to implement this step."
      ],
      "metadata": {
        "id": "fdNI5i63RBya"
      }
    },
    {
      "cell_type": "code",
      "source": [
        "@tf.function\n",
        "# YOUR CODE HERE"
      ],
      "metadata": {
        "id": "ikONyhrWHVr-"
      },
      "execution_count": null,
      "outputs": []
    },
    {
      "cell_type": "markdown",
      "source": [
        "## Define a function to generate filter visualizations"
      ],
      "metadata": {
        "id": "y1Ha0GAORPOP"
      }
    },
    {
      "cell_type": "markdown",
      "source": [
        "This function uses gradient ascent to generate an image that maximizes the activation of a given filter in a CNN."
      ],
      "metadata": {
        "id": "Zcm6kLJZzaTu"
      }
    },
    {
      "cell_type": "code",
      "source": [
        "# YOUR CODE HERE"
      ],
      "metadata": {
        "id": "3jBdkBWFHZon"
      },
      "execution_count": null,
      "outputs": []
    },
    {
      "cell_type": "markdown",
      "source": [
        "## Define a function to convert a tensor into a valid image"
      ],
      "metadata": {
        "id": "r_MJfH52RVrK"
      }
    },
    {
      "cell_type": "code",
      "source": [
        "# YOUR CODE HERE"
      ],
      "metadata": {
        "id": "4dTx6TA0HdC4"
      },
      "execution_count": null,
      "outputs": []
    },
    {
      "cell_type": "markdown",
      "source": [
        "Generate a list of images, where each image in the list represents the activation pattern of a particular filter in the given layer."
      ],
      "metadata": {
        "id": "TED6w8Zi_O01"
      }
    },
    {
      "cell_type": "code",
      "source": [
        "# Post processing- Just visualization\n",
        "# Generating a grid of all filter response patterns in a layer\n",
        "\n",
        "# YOUR CODE HERE"
      ],
      "metadata": {
        "id": "kErKQYxsJffX"
      },
      "execution_count": null,
      "outputs": []
    },
    {
      "cell_type": "markdown",
      "source": [
        "Stitch together all the images in the 'all_images' list and save the resulting image as a PNG file. The resulting image shows a grid of all the filter activation patterns in the given layer."
      ],
      "metadata": {
        "id": "MoguWV0G_kHl"
      }
    },
    {
      "cell_type": "code",
      "source": [
        "# YOUR CODE HERE"
      ],
      "metadata": {
        "id": "yEnlc8iNHzYy"
      },
      "execution_count": null,
      "outputs": []
    },
    {
      "cell_type": "markdown",
      "source": [
        "Display the images"
      ],
      "metadata": {
        "id": "Kvlt9ZqA_zvu"
      }
    },
    {
      "cell_type": "code",
      "source": [
        "# YOUR CODE HERE"
      ],
      "metadata": {
        "id": "829Vp33tJyRY"
      },
      "execution_count": null,
      "outputs": []
    },
    {
      "cell_type": "markdown",
      "source": [
        "All the steps discussed in visualization section can be easily understood from AST3."
      ],
      "metadata": {
        "id": "djPt76WMRnc3"
      }
    },
    {
      "cell_type": "markdown",
      "metadata": {
        "id": "wFPKELTRnv9s"
      },
      "source": [
        "## Transfer Learning [2 Marks]\n",
        "\n",
        "Transfer learning consists of taking features learned on one problem, and leveraging them on a new, similar problem.\n",
        "\n",
        "A pre-trained model is a saved network that was previously trained on a large dataset, typically on a large-scale image-classification task.\n",
        "\n",
        "The intuition behind transfer learning for image classification is that if a model is trained on a large and general enough dataset, this model will effectively serve as a generic model of the visual world. You can then take advantage of these learned feature maps without having to start from scratch by training a large model on a large dataset.\n",
        "\n",
        "For eg. Using VGG16, we remove the last layer which takes a probability for each of the 1000 classes in the ImageNet and replaces it with a layer that takes 3 probabilities in our case."
      ]
    },
    {
      "cell_type": "markdown",
      "metadata": {
        "id": "wWXBTiIGCox1"
      },
      "source": [
        "### Use the pre-trained models ([VGG16](https://www.tensorflow.org/api_docs/python/tf/keras/applications/vgg16/VGG16) or [ResNet50](https://www.tensorflow.org/api_docs/python/tf/keras/applications/resnet50/ResNet50))\n",
        "\n",
        "* Load the pre-trained model\n",
        "* Fit and evaluate the data\n",
        "\n",
        "Hint: [How to use pre-trained model](https://drive.google.com/file/d/1d5WSWQmdVYYcJhvhMcZMoK5-BPOC1B_7/view?usp=sharing)"
      ]
    },
    {
      "cell_type": "markdown",
      "metadata": {
        "id": "7YI0gnq-DLyu"
      },
      "source": [
        "#### Expected accuracy: More than 90%"
      ]
    },
    {
      "cell_type": "markdown",
      "metadata": {
        "id": "Y4GX9CwFqOXm"
      },
      "source": [
        "Task-flow\n",
        "* Initialize the network with the weights of Imagenet\n",
        "* Fine tune the network by modifying fully connected layers.\n",
        "* Re-train the model with our problem data"
      ]
    },
    {
      "cell_type": "markdown",
      "metadata": {
        "id": "V5IsJY7ZVuQM"
      },
      "source": [
        "#### VGG16"
      ]
    },
    {
      "cell_type": "markdown",
      "source": [
        "Define the pre-trained vgg model with dense layers.\n",
        "\n",
        "Display the model summary"
      ],
      "metadata": {
        "id": "hvdX6Whx__xN"
      }
    },
    {
      "cell_type": "code",
      "metadata": {
        "id": "9r8Te6R9c27S"
      },
      "source": [
        "# YOUR CODE HERE"
      ],
      "execution_count": null,
      "outputs": []
    },
    {
      "cell_type": "code",
      "metadata": {
        "id": "8w9JPHLrlS9w"
      },
      "source": [
        "# Compile the model\n",
        "# YOUR CODE HERE"
      ],
      "execution_count": null,
      "outputs": []
    },
    {
      "cell_type": "markdown",
      "source": [
        "Fit the data to the model"
      ],
      "metadata": {
        "id": "40etmYzwAUgZ"
      }
    },
    {
      "cell_type": "code",
      "metadata": {
        "id": "ICVNeRSeNotA"
      },
      "source": [
        "# YOUR CODE HERE"
      ],
      "execution_count": null,
      "outputs": []
    },
    {
      "cell_type": "markdown",
      "source": [
        "Plot training and validation loss"
      ],
      "metadata": {
        "id": "YUup-3FZAcCc"
      }
    },
    {
      "cell_type": "code",
      "metadata": {
        "id": "qhl2k4Ekf4he"
      },
      "source": [
        "# YOUR CODE HERE"
      ],
      "execution_count": null,
      "outputs": []
    },
    {
      "cell_type": "markdown",
      "metadata": {
        "id": "qr5HVPfiV26t"
      },
      "source": [
        "#### ResNet50"
      ]
    },
    {
      "cell_type": "markdown",
      "source": [
        "Define the pre-trained resnet model with dense layers"
      ],
      "metadata": {
        "id": "5KqOeFkxAkaa"
      }
    },
    {
      "cell_type": "code",
      "metadata": {
        "id": "nx2Z2vLZqXm0"
      },
      "source": [
        "# YOUR CODE HERE"
      ],
      "execution_count": null,
      "outputs": []
    },
    {
      "cell_type": "markdown",
      "source": [
        "Fit the data to the model"
      ],
      "metadata": {
        "id": "uFPzqM63AzmK"
      }
    },
    {
      "cell_type": "code",
      "metadata": {
        "id": "MX9UWVFJPldz"
      },
      "source": [
        "# YOUR CODE HERE"
      ],
      "execution_count": null,
      "outputs": []
    },
    {
      "cell_type": "markdown",
      "source": [
        "Plot the validation and training loss"
      ],
      "metadata": {
        "id": "-2DdiGI3A8Ag"
      }
    },
    {
      "cell_type": "code",
      "metadata": {
        "id": "i2miNoWCgAXs"
      },
      "source": [
        "# YOUR CODE HERE"
      ],
      "execution_count": null,
      "outputs": []
    },
    {
      "cell_type": "markdown",
      "metadata": {
        "id": "w4tF71VIUwzK"
      },
      "source": [
        "### Capture the live image using the below code cell and predict"
      ]
    },
    {
      "cell_type": "code",
      "metadata": {
        "id": "I6kTLnTmrcCg",
        "cellView": "form"
      },
      "source": [
        "#@title Capture the photo\n",
        "from IPython.display import display, Javascript\n",
        "from google.colab.output import eval_js\n",
        "from base64 import b64decode\n",
        "\n",
        "def take_photo(filename='photo.jpg', quality=0.8):\n",
        "  js = Javascript('''\n",
        "    async function takePhoto(quality) {\n",
        "      const div = document.createElement('div');\n",
        "      const capture = document.createElement('button');\n",
        "      capture.textContent = 'Capture';\n",
        "      div.appendChild(capture);\n",
        "\n",
        "      const video = document.createElement('video');\n",
        "      video.style.display = 'block';\n",
        "      const stream = await navigator.mediaDevices.getUserMedia({video: true});\n",
        "\n",
        "      document.body.appendChild(div);\n",
        "      div.appendChild(video);\n",
        "      video.srcObject = stream;\n",
        "      await video.play();\n",
        "\n",
        "      // Resize the output to fit the video element.\n",
        "      google.colab.output.setIframeHeight(document.documentElement.scrollHeight, true);\n",
        "\n",
        "      // Wait for Capture to be clicked.\n",
        "      await new Promise((resolve) => capture.onclick = resolve);\n",
        "\n",
        "      const canvas = document.createElement('canvas');\n",
        "      canvas.width = video.videoWidth;\n",
        "      canvas.height = video.videoHeight;\n",
        "      canvas.getContext('2d').drawImage(video, 0, 0);\n",
        "      stream.getVideoTracks()[0].stop();\n",
        "      div.remove();\n",
        "      return canvas.toDataURL('image/jpeg', quality);\n",
        "    }\n",
        "    ''')\n",
        "  display(js)\n",
        "  data = eval_js('takePhoto({})'.format(quality))\n",
        "  binary = b64decode(data.split(',')[1])\n",
        "  with open(filename, 'wb') as f:\n",
        "    f.write(binary)\n",
        "  return filename\n",
        "\n",
        "from IPython.display import Image\n",
        "try:\n",
        "  filename = take_photo()\n",
        "  print('Saved to {}'.format(filename))\n",
        "  display(Image(filename))\n",
        "except Exception as err:\n",
        "  print(str(err))"
      ],
      "execution_count": null,
      "outputs": []
    },
    {
      "cell_type": "markdown",
      "metadata": {
        "id": "rNe9vDQ6q6Z6"
      },
      "source": [
        "After executing above cell and capturing the photo, load the captured photo and predict with model.\n",
        "\n",
        "**Note:**\n",
        "* Convert the image to numpy array and resize to the shape which model accept.\n",
        "* Extend the dimension (to 4-D shape) of an image, as the model is trained on a batch of inputs."
      ]
    },
    {
      "cell_type": "code",
      "metadata": {
        "id": "XD5gr9YOAX83"
      },
      "source": [
        "# Make a prediction using model that is created by making use of transer learning technique\n",
        "# YOUR CODE HERE"
      ],
      "execution_count": null,
      "outputs": []
    },
    {
      "cell_type": "markdown",
      "metadata": {
        "id": "fBIA1sbLByIL"
      },
      "source": [
        "### Report Analysis\n",
        "\n",
        "- Compare the accuracies for the Pre-trained vs CNN models\n",
        "- Which model detects the mask/no mask/ partial mask more accurately with the live pictures?\n",
        "- What process was followed to tune the hyperparameters?"
      ]
    }
  ]
}