{
  "cells": [
    {
      "cell_type": "markdown",
      "metadata": {
        "id": "view-in-github",
        "colab_type": "text"
      },
      "source": [
        "<a href=\"https://colab.research.google.com/github/amitchug/ALMlops/blob/main/PyTorch_MB_I.ipynb\" target=\"_parent\"><img src=\"https://colab.research.google.com/assets/colab-badge.svg\" alt=\"Open In Colab\"/></a>"
      ]
    },
    {
      "cell_type": "markdown",
      "metadata": {
        "id": "eRAzj-CJkofA"
      },
      "source": [
        "# Advanced Certification Programme in AI and MLOps\n",
        "## A programme by IISc and TalentSprint\n",
        "### PyTorch Notebook 2: Model Building - I"
      ]
    },
    {
      "cell_type": "markdown",
      "metadata": {
        "id": "Uvitdh7p2xbG"
      },
      "source": [
        "## Learning Objectives\n",
        "\n",
        "At the end of the experiment, you will be able to\n",
        "\n",
        "* understand & build different components of Model Class in PyTorch through a regression example\n",
        "* understand & build  the train and test loop in PyTorch\n",
        "* understand & build Customdataset Class in PyTorch\n",
        "* understand batch processing in PyTorch\n",
        "* understand & use dataloader in PyTorch"
      ]
    },
    {
      "cell_type": "code",
      "execution_count": null,
      "metadata": {
        "colab": {
          "background_save": true
        },
        "id": "-daPbjVm2dnB"
      },
      "outputs": [],
      "source": [
        "import torch\n",
        "import pandas as pd\n",
        "import numpy as np\n",
        "from sklearn.model_selection import train_test_split\n",
        "from sklearn import metrics\n",
        "import matplotlib.pyplot as plt"
      ]
    },
    {
      "cell_type": "code",
      "execution_count": null,
      "metadata": {
        "colab": {
          "base_uri": "https://localhost:8080/",
          "height": 36
        },
        "id": "gO7qF2mmty_Z",
        "outputId": "033adc02-dfbf-47c4-b669-9245ea425f69"
      },
      "outputs": [
        {
          "data": {
            "application/vnd.google.colaboratory.intrinsic+json": {
              "type": "string"
            },
            "text/plain": [
              "'2.4.0+cu121'"
            ]
          },
          "execution_count": 2,
          "metadata": {},
          "output_type": "execute_result"
        }
      ],
      "source": [
        "# Check PyTorch version\n",
        "torch.__version__"
      ]
    },
    {
      "cell_type": "markdown",
      "metadata": {
        "id": "fg1mxKRnxKhw"
      },
      "source": [
        "### Downloading data"
      ]
    },
    {
      "cell_type": "code",
      "execution_count": null,
      "metadata": {
        "id": "MRrN_z1fwnQL"
      },
      "outputs": [],
      "source": [
        "!wget -qq https://cdn.iisc.talentsprint.com/AIandMLOps/Datasets/data1.txt"
      ]
    },
    {
      "cell_type": "markdown",
      "metadata": {
        "id": "GIj7Ftq8xQq5"
      },
      "source": [
        "#### Understanding and visualizing the data"
      ]
    },
    {
      "cell_type": "code",
      "execution_count": null,
      "metadata": {
        "colab": {
          "base_uri": "https://localhost:8080/",
          "height": 206
        },
        "collapsed": true,
        "id": "_yj3RVXssJmc",
        "outputId": "39b89d96-5587-42ee-ba57-c5b7e0e30588"
      },
      "outputs": [
        {
          "data": {
            "application/vnd.google.colaboratory.intrinsic+json": {
              "summary": "{\n  \"name\": \"df\",\n  \"rows\": 97,\n  \"fields\": [\n    {\n      \"column\": \"Population\",\n      \"properties\": {\n        \"dtype\": \"number\",\n        \"std\": 3.8698835278823314,\n        \"min\": 5.0269,\n        \"max\": 22.203,\n        \"num_unique_values\": 97,\n        \"samples\": [\n          21.279,\n          5.4069,\n          5.3054\n        ],\n        \"semantic_type\": \"\",\n        \"description\": \"\"\n      }\n    },\n    {\n      \"column\": \"Profit\",\n      \"properties\": {\n        \"dtype\": \"number\",\n        \"std\": 5.510262255231544,\n        \"min\": -2.6807,\n        \"max\": 24.147,\n        \"num_unique_values\": 97,\n        \"samples\": [\n          17.929,\n          0.55657,\n          1.9869\n        ],\n        \"semantic_type\": \"\",\n        \"description\": \"\"\n      }\n    }\n  ]\n}",
              "type": "dataframe",
              "variable_name": "df"
            },
            "text/html": [
              "\n",
              "  <div id=\"df-4e59f33e-e46a-4866-9d4e-81c6d02cc39d\" class=\"colab-df-container\">\n",
              "    <div>\n",
              "<style scoped>\n",
              "    .dataframe tbody tr th:only-of-type {\n",
              "        vertical-align: middle;\n",
              "    }\n",
              "\n",
              "    .dataframe tbody tr th {\n",
              "        vertical-align: top;\n",
              "    }\n",
              "\n",
              "    .dataframe thead th {\n",
              "        text-align: right;\n",
              "    }\n",
              "</style>\n",
              "<table border=\"1\" class=\"dataframe\">\n",
              "  <thead>\n",
              "    <tr style=\"text-align: right;\">\n",
              "      <th></th>\n",
              "      <th>Population</th>\n",
              "      <th>Profit</th>\n",
              "    </tr>\n",
              "  </thead>\n",
              "  <tbody>\n",
              "    <tr>\n",
              "      <th>0</th>\n",
              "      <td>6.1101</td>\n",
              "      <td>17.5920</td>\n",
              "    </tr>\n",
              "    <tr>\n",
              "      <th>1</th>\n",
              "      <td>5.5277</td>\n",
              "      <td>9.1302</td>\n",
              "    </tr>\n",
              "    <tr>\n",
              "      <th>2</th>\n",
              "      <td>8.5186</td>\n",
              "      <td>13.6620</td>\n",
              "    </tr>\n",
              "    <tr>\n",
              "      <th>3</th>\n",
              "      <td>7.0032</td>\n",
              "      <td>11.8540</td>\n",
              "    </tr>\n",
              "    <tr>\n",
              "      <th>4</th>\n",
              "      <td>5.8598</td>\n",
              "      <td>6.8233</td>\n",
              "    </tr>\n",
              "  </tbody>\n",
              "</table>\n",
              "</div>\n",
              "    <div class=\"colab-df-buttons\">\n",
              "\n",
              "  <div class=\"colab-df-container\">\n",
              "    <button class=\"colab-df-convert\" onclick=\"convertToInteractive('df-4e59f33e-e46a-4866-9d4e-81c6d02cc39d')\"\n",
              "            title=\"Convert this dataframe to an interactive table.\"\n",
              "            style=\"display:none;\">\n",
              "\n",
              "  <svg xmlns=\"http://www.w3.org/2000/svg\" height=\"24px\" viewBox=\"0 -960 960 960\">\n",
              "    <path d=\"M120-120v-720h720v720H120Zm60-500h600v-160H180v160Zm220 220h160v-160H400v160Zm0 220h160v-160H400v160ZM180-400h160v-160H180v160Zm440 0h160v-160H620v160ZM180-180h160v-160H180v160Zm440 0h160v-160H620v160Z\"/>\n",
              "  </svg>\n",
              "    </button>\n",
              "\n",
              "  <style>\n",
              "    .colab-df-container {\n",
              "      display:flex;\n",
              "      gap: 12px;\n",
              "    }\n",
              "\n",
              "    .colab-df-convert {\n",
              "      background-color: #E8F0FE;\n",
              "      border: none;\n",
              "      border-radius: 50%;\n",
              "      cursor: pointer;\n",
              "      display: none;\n",
              "      fill: #1967D2;\n",
              "      height: 32px;\n",
              "      padding: 0 0 0 0;\n",
              "      width: 32px;\n",
              "    }\n",
              "\n",
              "    .colab-df-convert:hover {\n",
              "      background-color: #E2EBFA;\n",
              "      box-shadow: 0px 1px 2px rgba(60, 64, 67, 0.3), 0px 1px 3px 1px rgba(60, 64, 67, 0.15);\n",
              "      fill: #174EA6;\n",
              "    }\n",
              "\n",
              "    .colab-df-buttons div {\n",
              "      margin-bottom: 4px;\n",
              "    }\n",
              "\n",
              "    [theme=dark] .colab-df-convert {\n",
              "      background-color: #3B4455;\n",
              "      fill: #D2E3FC;\n",
              "    }\n",
              "\n",
              "    [theme=dark] .colab-df-convert:hover {\n",
              "      background-color: #434B5C;\n",
              "      box-shadow: 0px 1px 3px 1px rgba(0, 0, 0, 0.15);\n",
              "      filter: drop-shadow(0px 1px 2px rgba(0, 0, 0, 0.3));\n",
              "      fill: #FFFFFF;\n",
              "    }\n",
              "  </style>\n",
              "\n",
              "    <script>\n",
              "      const buttonEl =\n",
              "        document.querySelector('#df-4e59f33e-e46a-4866-9d4e-81c6d02cc39d button.colab-df-convert');\n",
              "      buttonEl.style.display =\n",
              "        google.colab.kernel.accessAllowed ? 'block' : 'none';\n",
              "\n",
              "      async function convertToInteractive(key) {\n",
              "        const element = document.querySelector('#df-4e59f33e-e46a-4866-9d4e-81c6d02cc39d');\n",
              "        const dataTable =\n",
              "          await google.colab.kernel.invokeFunction('convertToInteractive',\n",
              "                                                    [key], {});\n",
              "        if (!dataTable) return;\n",
              "\n",
              "        const docLinkHtml = 'Like what you see? Visit the ' +\n",
              "          '<a target=\"_blank\" href=https://colab.research.google.com/notebooks/data_table.ipynb>data table notebook</a>'\n",
              "          + ' to learn more about interactive tables.';\n",
              "        element.innerHTML = '';\n",
              "        dataTable['output_type'] = 'display_data';\n",
              "        await google.colab.output.renderOutput(dataTable, element);\n",
              "        const docLink = document.createElement('div');\n",
              "        docLink.innerHTML = docLinkHtml;\n",
              "        element.appendChild(docLink);\n",
              "      }\n",
              "    </script>\n",
              "  </div>\n",
              "\n",
              "\n",
              "<div id=\"df-38b79397-3b75-4b94-830d-8059d24e771b\">\n",
              "  <button class=\"colab-df-quickchart\" onclick=\"quickchart('df-38b79397-3b75-4b94-830d-8059d24e771b')\"\n",
              "            title=\"Suggest charts\"\n",
              "            style=\"display:none;\">\n",
              "\n",
              "<svg xmlns=\"http://www.w3.org/2000/svg\" height=\"24px\"viewBox=\"0 0 24 24\"\n",
              "     width=\"24px\">\n",
              "    <g>\n",
              "        <path d=\"M19 3H5c-1.1 0-2 .9-2 2v14c0 1.1.9 2 2 2h14c1.1 0 2-.9 2-2V5c0-1.1-.9-2-2-2zM9 17H7v-7h2v7zm4 0h-2V7h2v10zm4 0h-2v-4h2v4z\"/>\n",
              "    </g>\n",
              "</svg>\n",
              "  </button>\n",
              "\n",
              "<style>\n",
              "  .colab-df-quickchart {\n",
              "      --bg-color: #E8F0FE;\n",
              "      --fill-color: #1967D2;\n",
              "      --hover-bg-color: #E2EBFA;\n",
              "      --hover-fill-color: #174EA6;\n",
              "      --disabled-fill-color: #AAA;\n",
              "      --disabled-bg-color: #DDD;\n",
              "  }\n",
              "\n",
              "  [theme=dark] .colab-df-quickchart {\n",
              "      --bg-color: #3B4455;\n",
              "      --fill-color: #D2E3FC;\n",
              "      --hover-bg-color: #434B5C;\n",
              "      --hover-fill-color: #FFFFFF;\n",
              "      --disabled-bg-color: #3B4455;\n",
              "      --disabled-fill-color: #666;\n",
              "  }\n",
              "\n",
              "  .colab-df-quickchart {\n",
              "    background-color: var(--bg-color);\n",
              "    border: none;\n",
              "    border-radius: 50%;\n",
              "    cursor: pointer;\n",
              "    display: none;\n",
              "    fill: var(--fill-color);\n",
              "    height: 32px;\n",
              "    padding: 0;\n",
              "    width: 32px;\n",
              "  }\n",
              "\n",
              "  .colab-df-quickchart:hover {\n",
              "    background-color: var(--hover-bg-color);\n",
              "    box-shadow: 0 1px 2px rgba(60, 64, 67, 0.3), 0 1px 3px 1px rgba(60, 64, 67, 0.15);\n",
              "    fill: var(--button-hover-fill-color);\n",
              "  }\n",
              "\n",
              "  .colab-df-quickchart-complete:disabled,\n",
              "  .colab-df-quickchart-complete:disabled:hover {\n",
              "    background-color: var(--disabled-bg-color);\n",
              "    fill: var(--disabled-fill-color);\n",
              "    box-shadow: none;\n",
              "  }\n",
              "\n",
              "  .colab-df-spinner {\n",
              "    border: 2px solid var(--fill-color);\n",
              "    border-color: transparent;\n",
              "    border-bottom-color: var(--fill-color);\n",
              "    animation:\n",
              "      spin 1s steps(1) infinite;\n",
              "  }\n",
              "\n",
              "  @keyframes spin {\n",
              "    0% {\n",
              "      border-color: transparent;\n",
              "      border-bottom-color: var(--fill-color);\n",
              "      border-left-color: var(--fill-color);\n",
              "    }\n",
              "    20% {\n",
              "      border-color: transparent;\n",
              "      border-left-color: var(--fill-color);\n",
              "      border-top-color: var(--fill-color);\n",
              "    }\n",
              "    30% {\n",
              "      border-color: transparent;\n",
              "      border-left-color: var(--fill-color);\n",
              "      border-top-color: var(--fill-color);\n",
              "      border-right-color: var(--fill-color);\n",
              "    }\n",
              "    40% {\n",
              "      border-color: transparent;\n",
              "      border-right-color: var(--fill-color);\n",
              "      border-top-color: var(--fill-color);\n",
              "    }\n",
              "    60% {\n",
              "      border-color: transparent;\n",
              "      border-right-color: var(--fill-color);\n",
              "    }\n",
              "    80% {\n",
              "      border-color: transparent;\n",
              "      border-right-color: var(--fill-color);\n",
              "      border-bottom-color: var(--fill-color);\n",
              "    }\n",
              "    90% {\n",
              "      border-color: transparent;\n",
              "      border-bottom-color: var(--fill-color);\n",
              "    }\n",
              "  }\n",
              "</style>\n",
              "\n",
              "  <script>\n",
              "    async function quickchart(key) {\n",
              "      const quickchartButtonEl =\n",
              "        document.querySelector('#' + key + ' button');\n",
              "      quickchartButtonEl.disabled = true;  // To prevent multiple clicks.\n",
              "      quickchartButtonEl.classList.add('colab-df-spinner');\n",
              "      try {\n",
              "        const charts = await google.colab.kernel.invokeFunction(\n",
              "            'suggestCharts', [key], {});\n",
              "      } catch (error) {\n",
              "        console.error('Error during call to suggestCharts:', error);\n",
              "      }\n",
              "      quickchartButtonEl.classList.remove('colab-df-spinner');\n",
              "      quickchartButtonEl.classList.add('colab-df-quickchart-complete');\n",
              "    }\n",
              "    (() => {\n",
              "      let quickchartButtonEl =\n",
              "        document.querySelector('#df-38b79397-3b75-4b94-830d-8059d24e771b button');\n",
              "      quickchartButtonEl.style.display =\n",
              "        google.colab.kernel.accessAllowed ? 'block' : 'none';\n",
              "    })();\n",
              "  </script>\n",
              "</div>\n",
              "\n",
              "    </div>\n",
              "  </div>\n"
            ],
            "text/plain": [
              "   Population   Profit\n",
              "0      6.1101  17.5920\n",
              "1      5.5277   9.1302\n",
              "2      8.5186  13.6620\n",
              "3      7.0032  11.8540\n",
              "4      5.8598   6.8233"
            ]
          },
          "execution_count": 3,
          "metadata": {},
          "output_type": "execute_result"
        }
      ],
      "source": [
        "df=pd.read_csv('data1.txt',header=None)\n",
        "df.rename(columns={0:'Population',1:'Profit'},inplace=True)\n",
        "df.head()"
      ]
    },
    {
      "cell_type": "code",
      "execution_count": null,
      "metadata": {
        "colab": {
          "base_uri": "https://localhost:8080/",
          "height": 466
        },
        "collapsed": true,
        "id": "bRWFMN5U2sZa",
        "outputId": "65301900-a3a7-4ed4-8dc2-2cb1734025db"
      },
      "outputs": [
        {
          "data": {
            "text/plain": [
              "Text(0, 0.5, 'Profit of Appolo Pharmacy in 10,000')"
            ]
          },
          "execution_count": 5,
          "metadata": {},
          "output_type": "execute_result"
        },
        {
          "data": {
            "image/png": "[encoded data removed]",
            "text/plain": [
              "<Figure size 640x480 with 1 Axes>"
            ]
          },
          "metadata": {},
          "output_type": "display_data"
        }
      ],
      "source": [
        "plt.scatter(df.Population,df.Profit)\n",
        "plt.xlabel('Population of Area in 10,000')\n",
        "plt.ylabel('Profit of Appolo Pharmacy in 10,000')"
      ]
    },
    {
      "cell_type": "code",
      "execution_count": null,
      "metadata": {
        "id": "XFQCrYvz3K_e"
      },
      "outputs": [],
      "source": [
        "data,targets=  df.Population.values[:,np.newaxis],df.Profit.values[:,np.newaxis]"
      ]
    },
    {
      "cell_type": "markdown",
      "metadata": {
        "id": "XZ3bkdP64vJX"
      },
      "source": [
        "### Train-Test Split"
      ]
    },
    {
      "cell_type": "code",
      "execution_count": null,
      "metadata": {
        "id": "3bucXaaX4ulr"
      },
      "outputs": [],
      "source": [
        "train_data,test_data,train_targets,test_targets=train_test_split(data,targets)"
      ]
    },
    {
      "cell_type": "code",
      "execution_count": null,
      "metadata": {
        "colab": {
          "base_uri": "https://localhost:8080/"
        },
        "collapsed": true,
        "id": "ibAVe8QpBWCP",
        "outputId": "fbfb87f8-2e66-42fc-e461-135e17a12e08"
      },
      "outputs": [
        {
          "data": {
            "text/plain": [
              "(72, 1)"
            ]
          },
          "execution_count": 8,
          "metadata": {},
          "output_type": "execute_result"
        }
      ],
      "source": [
        "train_data.shape"
      ]
    },
    {
      "cell_type": "code",
      "execution_count": null,
      "metadata": {
        "colab": {
          "base_uri": "https://localhost:8080/"
        },
        "collapsed": true,
        "id": "j5tFVw--AscJ",
        "outputId": "d62ea95e-12c5-48ee-cbee-ebfb4edbc6d0"
      },
      "outputs": [
        {
          "data": {
            "text/plain": [
              "(25, 1)"
            ]
          },
          "execution_count": 9,
          "metadata": {},
          "output_type": "execute_result"
        }
      ],
      "source": [
        "test_data.shape"
      ]
    },
    {
      "cell_type": "markdown",
      "metadata": {
        "id": "nF0HA7n3xyOq"
      },
      "source": [
        "### Setting the GPU"
      ]
    },
    {
      "cell_type": "code",
      "execution_count": null,
      "metadata": {
        "colab": {
          "base_uri": "https://localhost:8080/"
        },
        "collapsed": true,
        "id": "gXS0P74APfLX",
        "outputId": "993f77a6-ae1f-44f0-8942-42baaa85a7b9"
      },
      "outputs": [
        {
          "name": "stdout",
          "output_type": "stream",
          "text": [
            "Sun Sep  1 10:25:25 2024       \n",
            "+---------------------------------------------------------------------------------------+\n",
            "| NVIDIA-SMI 535.104.05             Driver Version: 535.104.05   CUDA Version: 12.2     |\n",
            "|-----------------------------------------+----------------------+----------------------+\n",
            "| GPU  Name                 Persistence-M | Bus-Id        Disp.A | Volatile Uncorr. ECC |\n",
            "| Fan  Temp   Perf          Pwr:Usage/Cap |         Memory-Usage | GPU-Util  Compute M. |\n",
            "|                                         |                      |               MIG M. |\n",
            "|=========================================+======================+======================|\n",
            "|   0  Tesla T4                       Off | 00000000:00:04.0 Off |                    0 |\n",
            "| N/A   53C    P8              10W /  70W |      0MiB / 15360MiB |      0%      Default |\n",
            "|                                         |                      |                  N/A |\n",
            "+-----------------------------------------+----------------------+----------------------+\n",
            "                                                                                         \n",
            "+---------------------------------------------------------------------------------------+\n",
            "| Processes:                                                                            |\n",
            "|  GPU   GI   CI        PID   Type   Process name                            GPU Memory |\n",
            "|        ID   ID                                                             Usage      |\n",
            "|=======================================================================================|\n",
            "|  No running processes found                                                           |\n",
            "+---------------------------------------------------------------------------------------+\n"
          ]
        }
      ],
      "source": [
        "# Linux bash command to print the status of nvidia gpu (memory and processes)\n",
        "!nvidia-smi"
      ]
    },
    {
      "cell_type": "code",
      "execution_count": null,
      "metadata": {
        "colab": {
          "base_uri": "https://localhost:8080/"
        },
        "collapsed": true,
        "id": "6a48LjF_PZ-N",
        "outputId": "f9034210-fbd8-4c47-ee03-0e89b268c96f"
      },
      "outputs": [
        {
          "data": {
            "text/plain": [
              "True"
            ]
          },
          "execution_count": 11,
          "metadata": {},
          "output_type": "execute_result"
        }
      ],
      "source": [
        "torch.cuda.is_available()"
      ]
    },
    {
      "cell_type": "code",
      "execution_count": null,
      "metadata": {
        "id": "mZe91W1_POGl"
      },
      "outputs": [],
      "source": [
        "device = torch.device(\"cuda\")"
      ]
    },
    {
      "cell_type": "markdown",
      "metadata": {
        "id": "15IKisbzhN5l"
      },
      "source": [
        "### **Class approach for Regression**"
      ]
    },
    {
      "cell_type": "code",
      "execution_count": null,
      "metadata": {
        "id": "b58v_lHitibX"
      },
      "outputs": [],
      "source": [
        "from torch import nn # nn contains all of PyTorch's building blocks for neural networks"
      ]
    },
    {
      "cell_type": "markdown",
      "metadata": {
        "id": "Yv9KjR6WuyBS"
      },
      "source": [
        "* **Low Level Implementation**"
      ]
    },
    {
      "cell_type": "code",
      "execution_count": null,
      "metadata": {
        "id": "bTIOHUqVGNo7"
      },
      "outputs": [],
      "source": [
        "# Create a Linear Regression model class\n",
        "class LinearRegressionModel(nn.Module):# <- almost everything in PyTorch is a nn.Module\n",
        "  def __init__(self):\n",
        "    super().__init__()\n",
        "    self.weights = nn.Parameter(torch.randn(1, dtype=torch.float), requires_grad=True)\n",
        "    # <- start with random weights, get adjusted as the model learns, float32 by default, gradient tracking for GD updates)\n",
        "    self.bias = nn.Parameter(torch.randn(1,dtype=torch.float), requires_grad=True)\n",
        "\n",
        "  # Forward defines the computation in the model\n",
        "  def forward(self, x: torch.Tensor) -> torch.Tensor: # <- \"x\" is the input data (e.g. training/testing features)\n",
        "    return self.weights * x + self.bias # <- this is the linear regression formula (y = m*x + b)"
      ]
    },
    {
      "cell_type": "markdown",
      "metadata": {
        "id": "-FykQXNQ91j_"
      },
      "source": [
        "* **Using Linear Layer**\n",
        "\n",
        "https://pytorch.org/docs/stable/generated/torch.nn.Linear.html"
      ]
    },
    {
      "cell_type": "code",
      "execution_count": null,
      "metadata": {
        "id": "poNFbjkq9wU-"
      },
      "outputs": [],
      "source": [
        "# Define the Linear Regression model\n",
        "class LinearRegressionModel(nn.Module):\n",
        "    def __init__(self):\n",
        "        super(LinearRegressionModel, self).__init__()\n",
        "        self.linear = nn.Linear(1, 1) # y  = m x + c #  one  variable L.R.\n",
        "        # for three feature: nn.linear(3,1) #  y  = m1 x1 +m2 x2 + m3 x3 + c # Multi V. L.R\n",
        "        #self.linear1 = nn.Linear(3, 4)\n",
        "        #self.linear2 = nn.Linear(4, 6) # NN having multiple layer\n",
        "\n",
        "    def forward(self, x):\n",
        "        return self.linear(x)"
      ]
    },
    {
      "cell_type": "markdown",
      "metadata": {
        "id": "HcYGephWu3yx"
      },
      "source": [
        "Checking the contents of a PyTorch model:\n",
        "\n",
        "Let's create a model instance with the class we've made and check its parameters using .parameters().\n",
        "\n"
      ]
    },
    {
      "cell_type": "code",
      "execution_count": null,
      "metadata": {
        "colab": {
          "base_uri": "https://localhost:8080/"
        },
        "id": "PjQEARh4uaGW",
        "outputId": "c8a40b07-0db5-41a7-a0d3-1ba7f9c95fd9"
      },
      "outputs": [
        {
          "data": {
            "text/plain": [
              "[Parameter containing:\n",
              " tensor([[0.7645]], device='cuda:0', requires_grad=True),\n",
              " Parameter containing:\n",
              " tensor([0.8300], device='cuda:0', requires_grad=True)]"
            ]
          },
          "execution_count": 22,
          "metadata": {},
          "output_type": "execute_result"
        }
      ],
      "source": [
        "# Set manual seed since nn.Parameter are randomly initialzied\n",
        "torch.manual_seed(42)\n",
        "\n",
        "# Create an instance of the model (this is a subclass of nn.Module that contains nn.Parameter(s))\n",
        "model_0 = LinearRegressionModel().to(device) ## Different from Tensorflow\n",
        "\n",
        "# Check the nn.Parameter(s) within the nn.Module subclass we created\n",
        "list(model_0.parameters())"
      ]
    },
    {
      "cell_type": "markdown",
      "metadata": {
        "id": "oCDxbdAHu7-T"
      },
      "source": [
        "We can also get the state (what the model contains) of the model using .state_dict()."
      ]
    },
    {
      "cell_type": "code",
      "execution_count": null,
      "metadata": {
        "colab": {
          "base_uri": "https://localhost:8080/"
        },
        "id": "rB9RPTvmu-tz",
        "outputId": "b7227023-f146-4c08-fb66-f49022314a6a"
      },
      "outputs": [
        {
          "data": {
            "text/plain": [
              "OrderedDict([('linear.weight', tensor([[0.7645]], device='cuda:0')),\n",
              "             ('linear.bias', tensor([0.8300], device='cuda:0'))])"
            ]
          },
          "execution_count": 23,
          "metadata": {},
          "output_type": "execute_result"
        }
      ],
      "source": [
        "# List named parameters\n",
        "model_0.state_dict()"
      ]
    },
    {
      "cell_type": "markdown",
      "metadata": {
        "id": "qk2x6ZLEvXm9"
      },
      "source": [
        "Making predictions using torch.inference_mode()\n",
        "\n",
        "To check this we can pass it the test data X_test to see how closely it predicts y_test.\n",
        "\n",
        "When we pass data to our model, it'll go through the model's forward() method and produce a result using the computation we've defined.\n",
        "\n",
        "Let's make some predictions."
      ]
    },
    {
      "cell_type": "code",
      "execution_count": null,
      "metadata": {
        "colab": {
          "base_uri": "https://localhost:8080/"
        },
        "id": "AuNJTush6C59",
        "outputId": "35bf7fca-709c-4aec-c114-6618658d62af"
      },
      "outputs": [
        {
          "data": {
            "text/plain": [
              "array([ 6.3328, 10.236 ,  5.0702,  5.7737,  7.0032,  9.3102,  5.8014,\n",
              "        7.6366,  5.6407,  9.7687, 13.394 ,  5.7077,  5.4901,  6.3261,\n",
              "        5.7292,  7.3345,  6.8825,  5.1793, 10.957 ,  5.734 ,  5.1077,\n",
              "        9.4536, 11.708 ,  5.8598, 11.7   ])"
            ]
          },
          "execution_count": 24,
          "metadata": {},
          "output_type": "execute_result"
        }
      ],
      "source": [
        "test_data[:,0]"
      ]
    },
    {
      "cell_type": "code",
      "execution_count": null,
      "metadata": {
        "id": "FVSgvd-Dx7zp"
      },
      "outputs": [],
      "source": [
        "# Make predictions with model\n",
        "with torch.inference_mode():\n",
        "    y_preds = model_0(torch.from_numpy(test_data).float().to(device)) ## different tensorflow\n"
      ]
    },
    {
      "cell_type": "markdown",
      "metadata": {
        "id": "JTBA-DQbyW3W"
      },
      "source": [
        "* **torch.inference_mode()** : Turns off gradient tracking (necessary for training but not for inference) to make forward-passes (data going through the forward() method faster.\n",
        "\n",
        "* Note: In older PyTorch code, you may also see **torch.no_grad()** being used for inference. While torch.inference_mode() and torch.no_grad() do similar things,\n",
        "torch.inference_mode() is newer, potentially faster and preferred."
      ]
    },
    {
      "cell_type": "code",
      "execution_count": null,
      "metadata": {
        "colab": {
          "base_uri": "https://localhost:8080/"
        },
        "id": "3P_q8FLJydDe",
        "outputId": "6fcbb3e9-bc59-4adc-afa9-bb2d290c31c5"
      },
      "outputs": [
        {
          "name": "stdout",
          "output_type": "stream",
          "text": [
            "Number of testing samples: 25\n",
            "Number of predictions made: 25\n",
            "Predicted values:\n",
            "tensor([[ 5.6717],\n",
            "        [ 8.6558],\n",
            "        [ 4.7064],\n",
            "        [ 5.2442],\n",
            "        [ 6.1842],\n",
            "        [ 7.9480],\n",
            "        [ 5.2654],\n",
            "        [ 6.6685],\n",
            "        [ 5.1425],\n",
            "        [ 8.2986],\n",
            "        [11.0702],\n",
            "        [ 5.1938],\n",
            "        [ 5.0274],\n",
            "        [ 5.6666],\n",
            "        [ 5.2102],\n",
            "        [ 6.4375],\n",
            "        [ 6.0919],\n",
            "        [ 4.7898],\n",
            "        [ 9.2071],\n",
            "        [ 5.2139],\n",
            "        [ 4.7350],\n",
            "        [ 8.0576],\n",
            "        [ 9.7812],\n",
            "        [ 5.3101],\n",
            "        [ 9.7751]], device='cuda:0')\n"
          ]
        }
      ],
      "source": [
        "# Check the predictions\n",
        "print(f\"Number of testing samples: {len(test_data)}\")\n",
        "print(f\"Number of predictions made: {len(y_preds)}\")\n",
        "print(f\"Predicted values:\\n{y_preds}\")"
      ]
    },
    {
      "cell_type": "markdown",
      "metadata": {
        "id": "7qtbq0-r4W6H"
      },
      "source": [
        "### **Train model**\n",
        "\n",
        "#### Defining loss function and optimizer"
      ]
    },
    {
      "cell_type": "code",
      "execution_count": null,
      "metadata": {
        "id": "U37JdO7J4wN5"
      },
      "outputs": [],
      "source": [
        "# Create the loss function\n",
        "loss_fn = nn.MSELoss().to(device) # MSE loss\n",
        "# Create the optimizer\n",
        "optimizer = torch.optim.SGD(params=model_0.parameters(), lr=0.01) # parameters of the model to optimize,  learning rate"
      ]
    },
    {
      "cell_type": "markdown",
      "metadata": {
        "id": "SL5F2HkR5Xde"
      },
      "source": [
        "#### Train and Test loop"
      ]
    },
    {
      "cell_type": "code",
      "execution_count": null,
      "metadata": {
        "id": "LdabEkbJ9ltM"
      },
      "outputs": [],
      "source": [
        "# Converting data into torch tensor and passing into GPU\n",
        "X_train=torch.from_numpy(train_data).float().to(device)\n",
        "y_train=torch.from_numpy(train_targets).float().to(device)\n",
        "X_test=torch.from_numpy(test_data).float().to(device)\n",
        "y_test=torch.from_numpy(test_targets).float().to(device)"
      ]
    },
    {
      "cell_type": "code",
      "execution_count": null,
      "metadata": {
        "colab": {
          "base_uri": "https://localhost:8080/"
        },
        "id": "QwH2sFGp5EzL",
        "outputId": "77f30d7d-31b1-4fb9-e4c0-907f2347a49c"
      },
      "outputs": [
        {
          "name": "stdout",
          "output_type": "stream",
          "text": [
            "Epoch: 0 | MAE Train Loss: 14.433992385864258 | MAE Test Loss: 9.873265266418457 \n",
            "Epoch: 10 | MAE Train Loss: 14.064553260803223 | MAE Test Loss: 9.531901359558105 \n",
            "Epoch: 20 | MAE Train Loss: 13.72585391998291 | MAE Test Loss: 9.322205543518066 \n",
            "Epoch: 30 | MAE Train Loss: 13.41331958770752 | MAE Test Loss: 9.136863708496094 \n",
            "Epoch: 40 | MAE Train Loss: 13.124916076660156 | MAE Test Loss: 8.966972351074219 \n",
            "Epoch: 50 | MAE Train Loss: 12.858783721923828 | MAE Test Loss: 8.81080150604248 \n",
            "Epoch: 60 | MAE Train Loss: 12.613198280334473 | MAE Test Loss: 8.667231559753418 \n",
            "Epoch: 70 | MAE Train Loss: 12.386577606201172 | MAE Test Loss: 8.535270690917969 \n",
            "Epoch: 80 | MAE Train Loss: 12.177453994750977 | MAE Test Loss: 8.414000511169434 \n",
            "Epoch: 90 | MAE Train Loss: 11.984478950500488 | MAE Test Loss: 8.302573204040527 \n",
            "Epoch: 100 | MAE Train Loss: 11.806405067443848 | MAE Test Loss: 8.200207710266113 \n",
            "Epoch: 110 | MAE Train Loss: 11.64207935333252 | MAE Test Loss: 8.106192588806152 \n",
            "Epoch: 120 | MAE Train Loss: 11.490443229675293 | MAE Test Loss: 8.019862174987793 \n",
            "Epoch: 130 | MAE Train Loss: 11.35051441192627 | MAE Test Loss: 7.940605163574219 \n",
            "Epoch: 140 | MAE Train Loss: 11.221391677856445 | MAE Test Loss: 7.867863178253174 \n",
            "Epoch: 150 | MAE Train Loss: 11.102238655090332 | MAE Test Loss: 7.8011155128479 \n",
            "Epoch: 160 | MAE Train Loss: 10.99228572845459 | MAE Test Loss: 7.739882469177246 \n",
            "Epoch: 170 | MAE Train Loss: 10.890822410583496 | MAE Test Loss: 7.683722972869873 \n",
            "Epoch: 180 | MAE Train Loss: 10.797194480895996 | MAE Test Loss: 7.632238388061523 \n",
            "Epoch: 190 | MAE Train Loss: 10.710797309875488 | MAE Test Loss: 7.585048675537109 \n",
            "Epoch: 200 | MAE Train Loss: 10.631068229675293 | MAE Test Loss: 7.541812419891357 \n",
            "Epoch: 210 | MAE Train Loss: 10.557497024536133 | MAE Test Loss: 7.5022101402282715 \n",
            "Epoch: 220 | MAE Train Loss: 10.489605903625488 | MAE Test Loss: 7.465948104858398 \n",
            "Epoch: 230 | MAE Train Loss: 10.426958084106445 | MAE Test Loss: 7.432763576507568 \n",
            "Epoch: 240 | MAE Train Loss: 10.369145393371582 | MAE Test Loss: 7.402402400970459 \n",
            "Epoch: 250 | MAE Train Loss: 10.315799713134766 | MAE Test Loss: 7.374637126922607 \n",
            "Epoch: 260 | MAE Train Loss: 10.266571044921875 | MAE Test Loss: 7.349261283874512 \n",
            "Epoch: 270 | MAE Train Loss: 10.221144676208496 | MAE Test Loss: 7.326077938079834 \n",
            "Epoch: 280 | MAE Train Loss: 10.17922592163086 | MAE Test Loss: 7.304904460906982 \n",
            "Epoch: 290 | MAE Train Loss: 10.140543937683105 | MAE Test Loss: 7.285579681396484 \n",
            "Epoch: 300 | MAE Train Loss: 10.10484790802002 | MAE Test Loss: 7.267958164215088 \n",
            "Epoch: 310 | MAE Train Loss: 10.071907997131348 | MAE Test Loss: 7.251895427703857 \n",
            "Epoch: 320 | MAE Train Loss: 10.041510581970215 | MAE Test Loss: 7.237263202667236 \n",
            "Epoch: 330 | MAE Train Loss: 10.013463020324707 | MAE Test Loss: 7.223944664001465 \n",
            "Epoch: 340 | MAE Train Loss: 9.987580299377441 | MAE Test Loss: 7.211827278137207 \n",
            "Epoch: 350 | MAE Train Loss: 9.963695526123047 | MAE Test Loss: 7.200814247131348 \n",
            "Epoch: 360 | MAE Train Loss: 9.941655158996582 | MAE Test Loss: 7.190815448760986 \n",
            "Epoch: 370 | MAE Train Loss: 9.921317100524902 | MAE Test Loss: 7.181746482849121 \n",
            "Epoch: 380 | MAE Train Loss: 9.902548789978027 | MAE Test Loss: 7.173525333404541 \n",
            "Epoch: 390 | MAE Train Loss: 9.885231018066406 | MAE Test Loss: 7.166081428527832 \n",
            "Epoch: 400 | MAE Train Loss: 9.86924934387207 | MAE Test Loss: 7.1593523025512695 \n",
            "Epoch: 410 | MAE Train Loss: 9.854500770568848 | MAE Test Loss: 7.153276443481445 \n",
            "Epoch: 420 | MAE Train Loss: 9.84089183807373 | MAE Test Loss: 7.147795677185059 \n",
            "Epoch: 430 | MAE Train Loss: 9.828333854675293 | MAE Test Loss: 7.142862319946289 \n",
            "Epoch: 440 | MAE Train Loss: 9.816746711730957 | MAE Test Loss: 7.138426303863525 \n",
            "Epoch: 450 | MAE Train Loss: 9.806051254272461 | MAE Test Loss: 7.134443759918213 \n",
            "Epoch: 460 | MAE Train Loss: 9.796184539794922 | MAE Test Loss: 7.130882263183594 \n",
            "Epoch: 470 | MAE Train Loss: 9.787077903747559 | MAE Test Loss: 7.127694606781006 \n",
            "Epoch: 480 | MAE Train Loss: 9.778675079345703 | MAE Test Loss: 7.124856948852539 \n",
            "Epoch: 490 | MAE Train Loss: 9.77092170715332 | MAE Test Loss: 7.122334003448486 \n",
            "Epoch: 500 | MAE Train Loss: 9.763766288757324 | MAE Test Loss: 7.120095729827881 \n",
            "Epoch: 510 | MAE Train Loss: 9.757163047790527 | MAE Test Loss: 7.118121147155762 \n",
            "Epoch: 520 | MAE Train Loss: 9.75107192993164 | MAE Test Loss: 7.116386413574219 \n",
            "Epoch: 530 | MAE Train Loss: 9.745448112487793 | MAE Test Loss: 7.114865779876709 \n",
            "Epoch: 540 | MAE Train Loss: 9.740260124206543 | MAE Test Loss: 7.113539695739746 \n",
            "Epoch: 550 | MAE Train Loss: 9.735471725463867 | MAE Test Loss: 7.1123948097229 \n",
            "Epoch: 560 | MAE Train Loss: 9.731053352355957 | MAE Test Loss: 7.11140775680542 \n",
            "Epoch: 570 | MAE Train Loss: 9.726977348327637 | MAE Test Loss: 7.110569953918457 \n",
            "Epoch: 580 | MAE Train Loss: 9.723215103149414 | MAE Test Loss: 7.109859466552734 \n",
            "Epoch: 590 | MAE Train Loss: 9.719743728637695 | MAE Test Loss: 7.109273433685303 \n",
            "Epoch: 600 | MAE Train Loss: 9.71653938293457 | MAE Test Loss: 7.10878849029541 \n",
            "Epoch: 610 | MAE Train Loss: 9.713582038879395 | MAE Test Loss: 7.108404159545898 \n",
            "Epoch: 620 | MAE Train Loss: 9.710855484008789 | MAE Test Loss: 7.10810661315918 \n",
            "Epoch: 630 | MAE Train Loss: 9.708338737487793 | MAE Test Loss: 7.10788631439209 \n",
            "Epoch: 640 | MAE Train Loss: 9.706015586853027 | MAE Test Loss: 7.107736110687256 \n",
            "Epoch: 650 | MAE Train Loss: 9.703871726989746 | MAE Test Loss: 7.10764741897583 \n",
            "Epoch: 660 | MAE Train Loss: 9.70189380645752 | MAE Test Loss: 7.107616424560547 \n",
            "Epoch: 670 | MAE Train Loss: 9.700068473815918 | MAE Test Loss: 7.107629299163818 \n",
            "Epoch: 680 | MAE Train Loss: 9.698384284973145 | MAE Test Loss: 7.107692718505859 \n",
            "Epoch: 690 | MAE Train Loss: 9.696829795837402 | MAE Test Loss: 7.107790470123291 \n",
            "Epoch: 700 | MAE Train Loss: 9.695395469665527 | MAE Test Loss: 7.10792350769043 \n",
            "Epoch: 710 | MAE Train Loss: 9.694071769714355 | MAE Test Loss: 7.108085632324219 \n",
            "Epoch: 720 | MAE Train Loss: 9.692851066589355 | MAE Test Loss: 7.108272075653076 \n",
            "Epoch: 730 | MAE Train Loss: 9.691723823547363 | MAE Test Loss: 7.108482360839844 \n",
            "Epoch: 740 | MAE Train Loss: 9.690683364868164 | MAE Test Loss: 7.108710765838623 \n",
            "Epoch: 750 | MAE Train Loss: 9.689724922180176 | MAE Test Loss: 7.108954906463623 \n",
            "Epoch: 760 | MAE Train Loss: 9.688838005065918 | MAE Test Loss: 7.109212398529053 \n",
            "Epoch: 770 | MAE Train Loss: 9.688021659851074 | MAE Test Loss: 7.1094841957092285 \n",
            "Epoch: 780 | MAE Train Loss: 9.687268257141113 | MAE Test Loss: 7.109764099121094 \n",
            "Epoch: 790 | MAE Train Loss: 9.68657112121582 | MAE Test Loss: 7.110049247741699 \n",
            "Epoch: 800 | MAE Train Loss: 9.685929298400879 | MAE Test Loss: 7.110339641571045 \n",
            "Epoch: 810 | MAE Train Loss: 9.68533706665039 | MAE Test Loss: 7.11063814163208 \n",
            "Epoch: 820 | MAE Train Loss: 9.684788703918457 | MAE Test Loss: 7.110935688018799 \n",
            "Epoch: 830 | MAE Train Loss: 9.684285163879395 | MAE Test Loss: 7.11123514175415 \n",
            "Epoch: 840 | MAE Train Loss: 9.683819770812988 | MAE Test Loss: 7.111535549163818 \n",
            "Epoch: 850 | MAE Train Loss: 9.683389663696289 | MAE Test Loss: 7.111835956573486 \n",
            "Epoch: 860 | MAE Train Loss: 9.682992935180664 | MAE Test Loss: 7.112135410308838 \n",
            "Epoch: 870 | MAE Train Loss: 9.68262767791748 | MAE Test Loss: 7.112431526184082 \n",
            "Epoch: 880 | MAE Train Loss: 9.68228816986084 | MAE Test Loss: 7.112725257873535 \n",
            "Epoch: 890 | MAE Train Loss: 9.681978225708008 | MAE Test Loss: 7.113013744354248 \n",
            "Epoch: 900 | MAE Train Loss: 9.681690216064453 | MAE Test Loss: 7.113300800323486 \n",
            "Epoch: 910 | MAE Train Loss: 9.681425094604492 | MAE Test Loss: 7.113584041595459 \n",
            "Epoch: 920 | MAE Train Loss: 9.681180953979492 | MAE Test Loss: 7.1138596534729 \n",
            "Epoch: 930 | MAE Train Loss: 9.680953979492188 | MAE Test Loss: 7.114134311676025 \n",
            "Epoch: 940 | MAE Train Loss: 9.680746078491211 | MAE Test Loss: 7.114400386810303 \n",
            "Epoch: 950 | MAE Train Loss: 9.680554389953613 | MAE Test Loss: 7.114660263061523 \n",
            "Epoch: 960 | MAE Train Loss: 9.680376052856445 | MAE Test Loss: 7.114918231964111 \n",
            "Epoch: 970 | MAE Train Loss: 9.680212020874023 | MAE Test Loss: 7.11516809463501 \n",
            "Epoch: 980 | MAE Train Loss: 9.680061340332031 | MAE Test Loss: 7.115413665771484 \n",
            "Epoch: 990 | MAE Train Loss: 9.67992115020752 | MAE Test Loss: 7.115649223327637 \n"
          ]
        }
      ],
      "source": [
        "torch.manual_seed(42)\n",
        "\n",
        "# Set the number of epochs (how many times the model will pass over the training data)\n",
        "epochs = 1000\n",
        "\n",
        "# Create empty loss lists to track values\n",
        "train_loss_values = []\n",
        "test_loss_values = []\n",
        "epoch_count = []\n",
        "\n",
        "for epoch in range(epochs):\n",
        "    ### Training\n",
        "\n",
        "    # Put model in training mode (this is the default state of a model)\n",
        "    model_0.train()\n",
        "\n",
        "    # 1. Forward pass on train data using the forward() method inside\n",
        "    y_pred = model_0(X_train)\n",
        "    # print(y_pred)\n",
        "\n",
        "    # 2. Calculate the loss (how different are our models predictions to the ground truth)\n",
        "    loss = loss_fn(y_pred, y_train)\n",
        "\n",
        "    # 3. Zero grad of the optimizer\n",
        "    optimizer.zero_grad()\n",
        "\n",
        "    # 4. Loss backwards\n",
        "    loss.backward()\n",
        "\n",
        "    # 5. Progress the optimizer\n",
        "    optimizer.step() ## Gradient descent eqn: w:=w-(alpha)*(dl/dw), b:=b-(alpha)*(dl/db)\n",
        "\n",
        "\n",
        "    ### Testing\n",
        "\n",
        "    # Put the model in evaluation mode\n",
        "    model_0.eval()\n",
        "\n",
        "    with torch.inference_mode():\n",
        "      # 1. Forward pass on test data\n",
        "      test_pred = model_0(X_test)\n",
        "\n",
        "      # 2. Caculate loss on test data\n",
        "      test_loss = loss_fn(test_pred, y_test.type(torch.float)) # predictions come in torch.float datatype, so comparisons need to be done with tensors of the same type\n",
        "\n",
        "      # Print out what's happening\n",
        "      if epoch % 10 == 0:\n",
        "            epoch_count.append(epoch)\n",
        "            train_loss_values.append(loss.detach().cpu().numpy())\n",
        "            test_loss_values.append(test_loss.detach().cpu().numpy())\n",
        "            print(f\"Epoch: {epoch} | MAE Train Loss: {loss} | MAE Test Loss: {test_loss} \")"
      ]
    },
    {
      "cell_type": "code",
      "execution_count": null,
      "metadata": {
        "colab": {
          "base_uri": "https://localhost:8080/",
          "height": 472
        },
        "id": "RE1tz6VI_TSX",
        "outputId": "2b52caed-29cb-4a1d-8dae-33dc07fb81be"
      },
      "outputs": [
        {
          "data": {
            "image/png": "[encoded data removed]",
            "text/plain": [
              "<Figure size 640x480 with 1 Axes>"
            ]
          },
          "metadata": {},
          "output_type": "display_data"
        }
      ],
      "source": [
        "# Plot the loss curves\n",
        "plt.plot(epoch_count, train_loss_values, label=\"Train loss\")\n",
        "plt.plot(epoch_count, test_loss_values, label=\"Test loss\")\n",
        "plt.title(\"Training and test loss curves\")\n",
        "plt.ylabel(\"Loss\")\n",
        "plt.xlabel(\"Epochs\")\n",
        "plt.legend();"
      ]
    },
    {
      "cell_type": "code",
      "execution_count": null,
      "metadata": {
        "colab": {
          "base_uri": "https://localhost:8080/"
        },
        "collapsed": true,
        "id": "vIm-ncUA_cUX",
        "outputId": "b57ae813-20ba-42d8-9161-f75e29cf825c"
      },
      "outputs": [
        {
          "name": "stdout",
          "output_type": "stream",
          "text": [
            "The model learned the following values for weights and bias:\n",
            "OrderedDict([('linear.weight', tensor([[1.2246]], device='cuda:0')), ('linear.bias', tensor([-3.9293], device='cuda:0'))])\n"
          ]
        }
      ],
      "source": [
        "# Find our model's learned parameters\n",
        "print(\"The model learned the following values for weights and bias:\")\n",
        "print(model_0.state_dict())"
      ]
    },
    {
      "cell_type": "markdown",
      "metadata": {
        "id": "rdEzYvLkluu5"
      },
      "source": [
        "4. Making predictions with a trained PyTorch model (inference)"
      ]
    },
    {
      "cell_type": "code",
      "execution_count": null,
      "metadata": {
        "id": "dPITGXi1_9H8"
      },
      "outputs": [],
      "source": [
        "X_train=torch.from_numpy(train_data).float().to(device)\n",
        "y_train=torch.from_numpy(train_targets).float().to(device)\n",
        "X_test=torch.from_numpy(test_data).float().to(device)\n",
        "y_test=torch.from_numpy(test_targets).float().to(device)"
      ]
    },
    {
      "cell_type": "code",
      "execution_count": null,
      "metadata": {
        "id": "YjY1mdoclvay"
      },
      "outputs": [],
      "source": [
        "# 1. Set the model in evaluation mode\n",
        "model_0.eval()\n",
        "# 2. Setup the inference mode context manager\n",
        "with torch.inference_mode():\n",
        "  model_0.to(device)\n",
        "  y_preds = model_0(X_train)"
      ]
    },
    {
      "cell_type": "code",
      "execution_count": null,
      "metadata": {
        "colab": {
          "base_uri": "https://localhost:8080/",
          "height": 713
        },
        "id": "49HHQZsYrcm_",
        "outputId": "4167fae9-aa49-45a9-d3bf-57c15f0f6226"
      },
      "outputs": [
        {
          "data": {
            "text/plain": [
              "[<matplotlib.lines.Line2D at 0x7b5ed57226b0>]"
            ]
          },
          "execution_count": 34,
          "metadata": {},
          "output_type": "execute_result"
        },
        {
          "data": {
            "image/png": "[encoded data removed]",
            "text/plain": [
              "<Figure size 1200x800 with 1 Axes>"
            ]
          },
          "metadata": {},
          "output_type": "display_data"
        }
      ],
      "source": [
        "plt.figure(figsize=(12,8))\n",
        "plt.scatter(df.Population,df.Profit)\n",
        "plt.xlabel('Population of Area in 10,000')\n",
        "plt.ylabel('Profit of Appolo Pharmacy in 10,000')\n",
        "plt.plot(train_data,y_preds.cpu(),'r-')"
      ]
    },
    {
      "cell_type": "markdown",
      "metadata": {
        "id": "POUbW-1u0IOx"
      },
      "source": [
        "### CustomDataset class and Batch Processing"
      ]
    },
    {
      "cell_type": "markdown",
      "metadata": {
        "id": "LVv5afux1jvj"
      },
      "source": [
        "### Defining Data_Class called 'CustomDataset' for building our own custom dataset compatible with dataloader."
      ]
    },
    {
      "cell_type": "code",
      "execution_count": null,
      "metadata": {
        "colab": {
          "base_uri": "https://localhost:8080/"
        },
        "id": "8vNBQHKOolwQ",
        "outputId": "7b76dcac-7964-4f3e-92eb-b7a0c6071b0a"
      },
      "outputs": [
        {
          "name": "stdout",
          "output_type": "stream",
          "text": [
            "[1, 2, 3, 4, 5, 6, 7, 8, 9]\n"
          ]
        },
        {
          "data": {
            "text/plain": [
              "9"
            ]
          },
          "execution_count": 35,
          "metadata": {},
          "output_type": "execute_result"
        }
      ],
      "source": [
        "alist=[1,2,3,4,5,6,7,8,9]\n",
        "print(alist)\n",
        "len(alist)"
      ]
    },
    {
      "cell_type": "code",
      "execution_count": null,
      "metadata": {
        "colab": {
          "base_uri": "https://localhost:8080/"
        },
        "id": "om1d29rrouSu",
        "outputId": "e928c58e-6a63-4d98-a556-6e94a0611a87"
      },
      "outputs": [
        {
          "data": {
            "text/plain": [
              "[3, 4]"
            ]
          },
          "execution_count": 36,
          "metadata": {},
          "output_type": "execute_result"
        }
      ],
      "source": [
        "alist[2:4] # slicing operation [ ]"
      ]
    },
    {
      "cell_type": "code",
      "execution_count": null,
      "metadata": {
        "colab": {
          "base_uri": "https://localhost:8080/"
        },
        "id": "Wpklq4MTo75y",
        "outputId": "74ee84bf-1ce4-42ae-dbe7-4982c587b40a"
      },
      "outputs": [
        {
          "data": {
            "text/plain": [
              "4"
            ]
          },
          "execution_count": 37,
          "metadata": {},
          "output_type": "execute_result"
        }
      ],
      "source": [
        "alist[3]"
      ]
    },
    {
      "cell_type": "code",
      "execution_count": null,
      "metadata": {
        "id": "kIYDn9Dh-WEN"
      },
      "outputs": [],
      "source": [
        "class CustomDataset:\n",
        "\n",
        "  def __init__(self,data,targets):\n",
        "    self.data=data\n",
        "    self.targets=targets\n",
        "\n",
        "  def __len__(self):\n",
        "     return self.data.shape[0] #len(self.data)\n",
        "\n",
        "  def __getitem__(self,idx):\n",
        "    sliced_sample=self.data[idx,:]\n",
        "    sliced_target=self.targets[idx]\n",
        "    return {\"sample\" :torch.tensor(sliced_sample, dtype=torch.float),\n",
        "            \"target\" : torch.tensor(sliced_target, dtype=torch.float)\n",
        "            }"
      ]
    },
    {
      "cell_type": "markdown",
      "metadata": {
        "id": "AUxMCCqbCU4M"
      },
      "source": [
        "### Testing of Above Data Class"
      ]
    },
    {
      "cell_type": "code",
      "execution_count": null,
      "metadata": {
        "collapsed": true,
        "id": "CSB1Je7rqIu-"
      },
      "outputs": [],
      "source": [
        "df.Population.values[:,np.newaxis]"
      ]
    },
    {
      "cell_type": "code",
      "execution_count": null,
      "metadata": {
        "id": "rXwTIDI_6HfV"
      },
      "outputs": [],
      "source": [
        "data,  targets=  df.Population.values[:,np.newaxis],   df.Profit.values[:,np.newaxis]"
      ]
    },
    {
      "cell_type": "code",
      "execution_count": null,
      "metadata": {
        "colab": {
          "base_uri": "https://localhost:8080/"
        },
        "id": "O7TJydBUqXRz",
        "outputId": "84308e63-281c-4de4-c4ca-2086a8f678e1"
      },
      "outputs": [
        {
          "data": {
            "text/plain": [
              "(97, 1)"
            ]
          },
          "execution_count": 41,
          "metadata": {},
          "output_type": "execute_result"
        }
      ],
      "source": [
        "data.shape"
      ]
    },
    {
      "cell_type": "code",
      "execution_count": null,
      "metadata": {
        "colab": {
          "base_uri": "https://localhost:8080/"
        },
        "id": "GscKr_jTzgxp",
        "outputId": "f632f418-8816-4870-f411-b078d0e4a60a"
      },
      "outputs": [
        {
          "data": {
            "text/plain": [
              "array([6.1101])"
            ]
          },
          "execution_count": 42,
          "metadata": {},
          "output_type": "execute_result"
        }
      ],
      "source": [
        "data[0]"
      ]
    },
    {
      "cell_type": "code",
      "execution_count": null,
      "metadata": {
        "colab": {
          "base_uri": "https://localhost:8080/"
        },
        "id": "t-qnrr4Hyjnl",
        "outputId": "666bdd91-d6f2-435d-851f-c3932b308399"
      },
      "outputs": [
        {
          "data": {
            "text/plain": [
              "array([17.592])"
            ]
          },
          "execution_count": 43,
          "metadata": {},
          "output_type": "execute_result"
        }
      ],
      "source": [
        "targets[0]"
      ]
    },
    {
      "cell_type": "code",
      "execution_count": null,
      "metadata": {
        "id": "JsjuyCxbBFQe"
      },
      "outputs": [],
      "source": [
        "custom_dataset  = CustomDataset (data=data, targets=targets)"
      ]
    },
    {
      "cell_type": "code",
      "execution_count": null,
      "metadata": {
        "colab": {
          "base_uri": "https://localhost:8080/"
        },
        "id": "CQh1Eo6NBUId",
        "outputId": "068d6194-7d56-4326-eb2a-6c5304abb7dd"
      },
      "outputs": [
        {
          "data": {
            "text/plain": [
              "97"
            ]
          },
          "execution_count": 45,
          "metadata": {},
          "output_type": "execute_result"
        }
      ],
      "source": [
        "len(custom_dataset)"
      ]
    },
    {
      "cell_type": "code",
      "execution_count": null,
      "metadata": {
        "colab": {
          "base_uri": "https://localhost:8080/"
        },
        "id": "04wOVT_HrFHv",
        "outputId": "a16970ef-f998-461d-b1b6-1c3cab64d1fc"
      },
      "outputs": [
        {
          "data": {
            "text/plain": [
              "{'sample': tensor([6.1101]), 'target': tensor([17.5920])}"
            ]
          },
          "execution_count": 46,
          "metadata": {},
          "output_type": "execute_result"
        }
      ],
      "source": [
        "custom_dataset[0]"
      ]
    },
    {
      "cell_type": "code",
      "execution_count": null,
      "metadata": {
        "colab": {
          "base_uri": "https://localhost:8080/"
        },
        "id": "-edVNmPRBeUC",
        "outputId": "02e6227c-e3b3-45af-c2ea-76fa435886b5"
      },
      "outputs": [
        {
          "data": {
            "text/plain": [
              "{'sample': tensor([[6.1101],\n",
              "         [5.5277],\n",
              "         [8.5186]]),\n",
              " 'target': tensor([[17.5920],\n",
              "         [ 9.1302],\n",
              "         [13.6620]])}"
            ]
          },
          "execution_count": 47,
          "metadata": {},
          "output_type": "execute_result"
        }
      ],
      "source": [
        "custom_dataset[[0,1,2]]"
      ]
    },
    {
      "cell_type": "code",
      "execution_count": null,
      "metadata": {
        "colab": {
          "base_uri": "https://localhost:8080/"
        },
        "id": "5dxd8WPnCXDB",
        "outputId": "b44746ca-d693-42c6-94b2-07648c4e0cbc"
      },
      "outputs": [
        {
          "data": {
            "text/plain": [
              "tensor([6.1101])"
            ]
          },
          "execution_count": 50,
          "metadata": {},
          "output_type": "execute_result"
        }
      ],
      "source": [
        "custom_dataset[0]['sample']"
      ]
    },
    {
      "cell_type": "code",
      "execution_count": null,
      "metadata": {
        "colab": {
          "base_uri": "https://localhost:8080/"
        },
        "id": "u9dGBVwXCiyZ",
        "outputId": "3070b4e8-ae03-4c6e-eddd-2bf9bd623cf3"
      },
      "outputs": [
        {
          "data": {
            "text/plain": [
              "tensor([17.5920])"
            ]
          },
          "execution_count": 49,
          "metadata": {},
          "output_type": "execute_result"
        }
      ],
      "source": [
        "custom_dataset[0]['target']"
      ]
    },
    {
      "cell_type": "code",
      "execution_count": null,
      "metadata": {
        "colab": {
          "base_uri": "https://localhost:8080/"
        },
        "id": "fF_q7y5J4hIZ",
        "outputId": "7e999406-6655-46b0-d2f9-5c4e6951a23a"
      },
      "outputs": [
        {
          "name": "stdout",
          "output_type": "stream",
          "text": [
            "{'sample': tensor([6.1101]), 'target': tensor([17.5920])}\n",
            "{'sample': tensor([5.5277]), 'target': tensor([9.1302])}\n",
            "{'sample': tensor([8.5186]), 'target': tensor([13.6620])}\n",
            "{'sample': tensor([7.0032]), 'target': tensor([11.8540])}\n",
            "{'sample': tensor([5.8598]), 'target': tensor([6.8233])}\n",
            "{'sample': tensor([8.3829]), 'target': tensor([11.8860])}\n",
            "{'sample': tensor([7.4764]), 'target': tensor([4.3483])}\n"
          ]
        }
      ],
      "source": [
        "for idx in range(len(custom_dataset)):\n",
        "  print(custom_dataset[idx])\n",
        "  if idx >5:\n",
        "    break"
      ]
    },
    {
      "cell_type": "markdown",
      "metadata": {
        "id": "4uwm78VU00Uf"
      },
      "source": [
        "### Train-Test Split"
      ]
    },
    {
      "cell_type": "code",
      "execution_count": null,
      "metadata": {
        "id": "BUzgI2ON00Uf"
      },
      "outputs": [],
      "source": [
        "train_data,test_data,train_targets,test_targets=train_test_split(data,targets)"
      ]
    },
    {
      "cell_type": "code",
      "execution_count": null,
      "metadata": {
        "colab": {
          "base_uri": "https://localhost:8080/"
        },
        "id": "hilLbXnf00Uf",
        "outputId": "17f82c73-bbb4-4aba-e121-a904e41efd3d"
      },
      "outputs": [
        {
          "data": {
            "text/plain": [
              "(72, 1)"
            ]
          },
          "execution_count": 53,
          "metadata": {},
          "output_type": "execute_result"
        }
      ],
      "source": [
        "train_data.shape"
      ]
    },
    {
      "cell_type": "code",
      "execution_count": null,
      "metadata": {
        "colab": {
          "base_uri": "https://localhost:8080/"
        },
        "id": "FkpU3n4g00Ug",
        "outputId": "a4515762-9a30-4624-dfb4-698f475e03ad"
      },
      "outputs": [
        {
          "data": {
            "text/plain": [
              "(25, 1)"
            ]
          },
          "execution_count": 54,
          "metadata": {},
          "output_type": "execute_result"
        }
      ],
      "source": [
        "test_data.shape"
      ]
    },
    {
      "cell_type": "markdown",
      "metadata": {
        "id": "LkEzDc74AQcp"
      },
      "source": [
        "### Making train and test data by using CustomDataset class"
      ]
    },
    {
      "cell_type": "code",
      "execution_count": null,
      "metadata": {
        "id": "tNrKL8yr5ayZ"
      },
      "outputs": [],
      "source": [
        "train_dataset = CustomDataset(train_data,train_targets)\n",
        "\n",
        "test_dataset = CustomDataset(test_data,test_targets)"
      ]
    },
    {
      "cell_type": "markdown",
      "metadata": {
        "id": "g7bQ8gT25iIU"
      },
      "source": [
        "### Data Loader\n",
        "\n",
        "We will use same data class and dataset created previously ."
      ]
    },
    {
      "cell_type": "code",
      "execution_count": null,
      "metadata": {
        "id": "0KYi7-5D4_X1"
      },
      "outputs": [],
      "source": [
        "train_loader = torch.utils.data.DataLoader(train_dataset,batch_size=12)#, num_workers=2)\n",
        "\n",
        "test_loader = torch.utils.data.DataLoader(test_dataset,batch_size=25)#,num_workers=2)"
      ]
    },
    {
      "cell_type": "code",
      "execution_count": null,
      "metadata": {
        "colab": {
          "base_uri": "https://localhost:8080/"
        },
        "id": "UTb6MzR47E-9",
        "outputId": "ef2294d5-8339-4367-e9c1-555dff461256"
      },
      "outputs": [
        {
          "data": {
            "text/plain": [
              "<torch.utils.data.dataloader.DataLoader at 0x7b5ed52173a0>"
            ]
          },
          "execution_count": 66,
          "metadata": {},
          "output_type": "execute_result"
        }
      ],
      "source": [
        "train_loader"
      ]
    },
    {
      "cell_type": "code",
      "execution_count": null,
      "metadata": {
        "colab": {
          "base_uri": "https://localhost:8080/"
        },
        "id": "w9_9H59a7X7m",
        "outputId": "d4cd31aa-9389-468c-b89b-f85a46ba218a"
      },
      "outputs": [
        {
          "name": "stdout",
          "output_type": "stream",
          "text": [
            "torch.Size([12, 1])\n",
            "torch.Size([12, 1])\n",
            "{'sample': tensor([[ 9.7687],\n",
            "        [ 5.0594],\n",
            "        [10.2740],\n",
            "        [ 5.1301],\n",
            "        [ 5.4069],\n",
            "        [ 5.7737],\n",
            "        [ 8.2111],\n",
            "        [ 5.6407],\n",
            "        [ 5.3077],\n",
            "        [18.9450],\n",
            "        [13.1760],\n",
            "        [ 5.7340]]), 'target': tensor([[ 7.5435],\n",
            "        [ 2.8214],\n",
            "        [ 6.7526],\n",
            "        [ 0.5608],\n",
            "        [ 0.5566],\n",
            "        [ 2.4406],\n",
            "        [ 6.5426],\n",
            "        [ 0.7162],\n",
            "        [ 1.8396],\n",
            "        [22.6380],\n",
            "        [14.6920],\n",
            "        [ 3.1551]])}\n",
            "torch.Size([12, 1])\n",
            "torch.Size([12, 1])\n",
            "{'sample': tensor([[ 7.2259],\n",
            "        [ 5.1884],\n",
            "        [10.2360],\n",
            "        [11.7000],\n",
            "        [ 5.1077],\n",
            "        [ 7.9334],\n",
            "        [ 9.1802],\n",
            "        [ 6.5894],\n",
            "        [18.9590],\n",
            "        [ 5.0702],\n",
            "        [ 5.1793],\n",
            "        [ 5.4369]]), 'target': tensor([[ 3.3411],\n",
            "        [ 0.2042],\n",
            "        [ 7.7754],\n",
            "        [ 8.0043],\n",
            "        [ 2.0576],\n",
            "        [ 4.5623],\n",
            "        [ 6.7981],\n",
            "        [ 5.9966],\n",
            "        [17.0540],\n",
            "        [ 5.1337],\n",
            "        [-0.7428],\n",
            "        [ 0.6170]])}\n",
            "torch.Size([12, 1])\n",
            "torch.Size([12, 1])\n",
            "{'sample': tensor([[10.9570],\n",
            "        [ 6.2742],\n",
            "        [ 5.0546],\n",
            "        [10.1360],\n",
            "        [ 8.2951],\n",
            "        [ 6.5159],\n",
            "        [ 7.0708],\n",
            "        [ 7.8247],\n",
            "        [ 6.4296],\n",
            "        [ 6.3654],\n",
            "        [ 5.0365],\n",
            "        [ 6.0020]]), 'target': tensor([[7.0467],\n",
            "        [2.4756],\n",
            "        [3.8166],\n",
            "        [6.6799],\n",
            "        [5.7442],\n",
            "        [5.3436],\n",
            "        [5.3893],\n",
            "        [6.7318],\n",
            "        [3.6518],\n",
            "        [5.3048],\n",
            "        [5.7014],\n",
            "        [0.9269]])}\n",
            "torch.Size([12, 1])\n",
            "torch.Size([12, 1])\n",
            "{'sample': tensor([[ 5.5204],\n",
            "        [ 5.2524],\n",
            "        [ 6.4862],\n",
            "        [ 5.7077],\n",
            "        [ 5.8918],\n",
            "        [ 6.1101],\n",
            "        [ 5.6397],\n",
            "        [ 5.4994],\n",
            "        [ 7.0931],\n",
            "        [ 5.6063],\n",
            "        [12.8360],\n",
            "        [20.3410]]), 'target': tensor([[ 0.1520],\n",
            "        [-1.2200],\n",
            "        [ 6.5987],\n",
            "        [ 1.8451],\n",
            "        [ 1.8495],\n",
            "        [17.5920],\n",
            "        [ 4.6042],\n",
            "        [ 1.0173],\n",
            "        [ 1.0463],\n",
            "        [ 3.3928],\n",
            "        [10.1170],\n",
            "        [20.9920]])}\n",
            "torch.Size([12, 1])\n",
            "torch.Size([12, 1])\n",
            "{'sample': tensor([[ 6.8825],\n",
            "        [ 8.3829],\n",
            "        [ 5.3054],\n",
            "        [ 9.4536],\n",
            "        [ 6.3261],\n",
            "        [11.7080],\n",
            "        [ 6.0062],\n",
            "        [ 7.5402],\n",
            "        [14.9080],\n",
            "        [ 8.5172],\n",
            "        [22.2030],\n",
            "        [ 5.4901]]), 'target': tensor([[ 3.9115],\n",
            "        [11.8860],\n",
            "        [ 1.9869],\n",
            "        [ 5.4141],\n",
            "        [ 5.1875],\n",
            "        [ 5.3854],\n",
            "        [ 1.2784],\n",
            "        [ 6.7504],\n",
            "        [12.0540],\n",
            "        [ 4.2415],\n",
            "        [24.1470],\n",
            "        [ 4.2630]])}\n",
            "torch.Size([12, 1])\n",
            "torch.Size([12, 1])\n",
            "{'sample': tensor([[21.2790],\n",
            "        [ 5.8598],\n",
            "        [ 5.8707],\n",
            "        [ 6.3328],\n",
            "        [ 8.5186],\n",
            "        [ 5.7292],\n",
            "        [ 8.2934],\n",
            "        [ 6.3534],\n",
            "        [ 5.5277],\n",
            "        [ 7.4764],\n",
            "        [ 9.3102],\n",
            "        [ 7.6366]]), 'target': tensor([[17.9290],\n",
            "        [ 6.8233],\n",
            "        [ 7.2029],\n",
            "        [ 1.4233],\n",
            "        [13.6620],\n",
            "        [ 0.4795],\n",
            "        [ 0.1445],\n",
            "        [ 5.4974],\n",
            "        [ 9.1302],\n",
            "        [ 4.3483],\n",
            "        [ 3.9624],\n",
            "        [ 4.2959]])}\n"
          ]
        }
      ],
      "source": [
        "for data in train_loader:\n",
        "  print(data[\"sample\"].shape)\n",
        "  print(data[\"target\"].shape)\n",
        "  print(data)"
      ]
    },
    {
      "cell_type": "markdown",
      "metadata": {
        "id": "zGYK46jt00Uh"
      },
      "source": [
        "### **Model**"
      ]
    },
    {
      "cell_type": "code",
      "execution_count": null,
      "metadata": {
        "id": "9JoWeD6yuOmF"
      },
      "outputs": [],
      "source": [
        "# Define the Linear Regression model\n",
        "class LinearRegressionModel(nn.Module):\n",
        "    def __init__(self):\n",
        "        super(LinearRegressionModel, self).__init__()\n",
        "        self.linear = nn.Linear(1, 1)\n",
        "\n",
        "    def forward(self, x):\n",
        "        return self.linear(x)"
      ]
    },
    {
      "cell_type": "markdown",
      "metadata": {
        "id": "i4p_Yvjv00Ui"
      },
      "source": [
        "Checking the contents of a PyTorch model:\n",
        "\n",
        "Let's create a model instance with the class we've made and check its parameters using .parameters().\n",
        "\n"
      ]
    },
    {
      "cell_type": "code",
      "execution_count": null,
      "metadata": {
        "colab": {
          "base_uri": "https://localhost:8080/"
        },
        "id": "Gx13xTa000Ui",
        "outputId": "98da6be7-c123-4064-b3af-80ebbce9b10d"
      },
      "outputs": [
        {
          "data": {
            "text/plain": [
              "[Parameter containing:\n",
              " tensor([[0.7645]], device='cuda:0', requires_grad=True),\n",
              " Parameter containing:\n",
              " tensor([0.8300], device='cuda:0', requires_grad=True)]"
            ]
          },
          "execution_count": 75,
          "metadata": {},
          "output_type": "execute_result"
        }
      ],
      "source": [
        "# Set manual seed since nn.Parameter are randomly initialzied\n",
        "torch.manual_seed(42)\n",
        "\n",
        "# Create an instance of the model (this is a subclass of nn.Module that contains nn.Parameter(s))\n",
        "model_1 = LinearRegressionModel().to(device)\n",
        "\n",
        "# Check the nn.Parameter(s) within the nn.Module subclass we created\n",
        "list(model_1.parameters())"
      ]
    },
    {
      "cell_type": "markdown",
      "metadata": {
        "id": "5ny_o4p800Ui"
      },
      "source": [
        "We can also get the state (what the model contains) of the model using .state_dict()."
      ]
    },
    {
      "cell_type": "code",
      "execution_count": null,
      "metadata": {
        "colab": {
          "base_uri": "https://localhost:8080/"
        },
        "id": "P2uP8_rP00Ui",
        "outputId": "12ea68cd-4f8a-4b56-9838-c905419eaed5"
      },
      "outputs": [
        {
          "data": {
            "text/plain": [
              "OrderedDict([('linear.weight', tensor([[0.7645]], device='cuda:0')),\n",
              "             ('linear.bias', tensor([0.8300], device='cuda:0'))])"
            ]
          },
          "execution_count": 61,
          "metadata": {},
          "output_type": "execute_result"
        }
      ],
      "source": [
        "# List named parameters\n",
        "model_1.state_dict()"
      ]
    },
    {
      "cell_type": "markdown",
      "metadata": {
        "id": "HYaaYc8K00Uj"
      },
      "source": [
        "Making predictions using torch.inference_mode()\n",
        "\n",
        "To check this we can pass it the test data X_test to see how closely it predicts y_test.\n",
        "\n",
        "When we pass data to our model, it'll go through the model's forward() method and produce a result using the computation we've defined.\n",
        "\n",
        "Let's make some predictions."
      ]
    },
    {
      "cell_type": "code",
      "execution_count": null,
      "metadata": {
        "id": "74RYQElx2x-y"
      },
      "outputs": [],
      "source": [
        "xtest=[ data['sample'] for data in test_loader]"
      ]
    },
    {
      "cell_type": "code",
      "execution_count": null,
      "metadata": {
        "colab": {
          "base_uri": "https://localhost:8080/"
        },
        "id": "j0x3RJuN281y",
        "outputId": "c41cea76-6ad4-4fca-f688-c7c1466e7465"
      },
      "outputs": [
        {
          "data": {
            "text/plain": [
              "[tensor([[ 9.2482],\n",
              "         [ 7.5386],\n",
              "         [ 5.5416],\n",
              "         [ 7.0032],\n",
              "         [ 7.6031],\n",
              "         [12.8280],\n",
              "         [13.3940],\n",
              "         [ 6.3557],\n",
              "         [ 7.3345],\n",
              "         [ 8.0959],\n",
              "         [20.2700],\n",
              "         [ 8.8254],\n",
              "         [ 5.7107],\n",
              "         [ 6.1891],\n",
              "         [14.1640],\n",
              "         [ 5.5649],\n",
              "         [ 5.8014],\n",
              "         [ 8.5781],\n",
              "         [ 5.0269],\n",
              "         [ 8.4084],\n",
              "         [ 6.3589],\n",
              "         [ 5.3794],\n",
              "         [ 7.4239],\n",
              "         [ 6.5479],\n",
              "         [ 7.2182]])]"
            ]
          },
          "execution_count": 63,
          "metadata": {},
          "output_type": "execute_result"
        }
      ],
      "source": [
        "xtest"
      ]
    },
    {
      "cell_type": "code",
      "execution_count": null,
      "metadata": {
        "id": "6UESRm6H00Uj"
      },
      "outputs": [],
      "source": [
        "# Make predictions with model\n",
        "with torch.inference_mode():\n",
        "    y_preds = model_1(xtest[0].to(device))\n",
        "\n",
        "# Note: in older PyTorch code you might also see torch.no_grad()\n",
        "# with torch.no_grad():\n",
        "#   y_preds = model_1(xtest)"
      ]
    },
    {
      "cell_type": "markdown",
      "metadata": {
        "id": "x3zTSq7Q00Uj"
      },
      "source": [
        "* **torch.inference_mode()** : Turns off gradient tracking (necessary for training but not for inference) to make forward-passes (data going through the forward() method faster.\n",
        "\n",
        "* Note: In older PyTorch code, you may also see **torch.no_grad()** being used for inference. While torch.inference_mode() and torch.no_grad() do similar things,\n",
        "torch.inference_mode() is newer, potentially faster and preferred."
      ]
    },
    {
      "cell_type": "code",
      "execution_count": null,
      "metadata": {
        "colab": {
          "base_uri": "https://localhost:8080/"
        },
        "id": "mfnORp8p00Uj",
        "outputId": "91e7c19c-273a-4a64-a7a5-e84609c96903"
      },
      "outputs": [
        {
          "name": "stdout",
          "output_type": "stream",
          "text": [
            "Number of testing samples: 25\n",
            "Number of predictions made: 25\n",
            "Predicted values:\n",
            "tensor([[ 7.9006],\n",
            "        [ 6.5936],\n",
            "        [ 5.0668],\n",
            "        [ 6.1842],\n",
            "        [ 6.6429],\n",
            "        [10.6375],\n",
            "        [11.0702],\n",
            "        [ 5.6892],\n",
            "        [ 6.4375],\n",
            "        [ 7.0196],\n",
            "        [16.3272],\n",
            "        [ 7.5774],\n",
            "        [ 5.1961],\n",
            "        [ 5.5618],\n",
            "        [11.6589],\n",
            "        [ 5.0846],\n",
            "        [ 5.2654],\n",
            "        [ 7.3883],\n",
            "        [ 4.6733],\n",
            "        [ 7.2586],\n",
            "        [ 5.6916],\n",
            "        [ 4.9428],\n",
            "        [ 6.5059],\n",
            "        [ 5.8361],\n",
            "        [ 6.3486]], device='cuda:0')\n"
          ]
        }
      ],
      "source": [
        "# Check the predictions\n",
        "print(f\"Number of testing samples: {len(xtest[0])}\")\n",
        "print(f\"Number of predictions made: {len(y_preds)}\")\n",
        "print(f\"Predicted values:\\n{y_preds}\")"
      ]
    },
    {
      "cell_type": "markdown",
      "metadata": {
        "id": "pgRHklah00Uj"
      },
      "source": [
        "### **Train model**\n",
        "\n",
        "#### Defining loss function and optimizer"
      ]
    },
    {
      "cell_type": "code",
      "execution_count": null,
      "metadata": {
        "id": "pzoWq_Fe00Uj"
      },
      "outputs": [],
      "source": [
        "# Create the loss function\n",
        "loss_fn = nn.MSELoss().to(device) # MSE loss\n",
        "# Create the optimizer\n",
        "optimizer = torch.optim.SGD(params=model_1.parameters(), lr=0.01) # parameters of the model to optimize,  learning rate"
      ]
    },
    {
      "cell_type": "markdown",
      "metadata": {
        "id": "uTdG6Knx00Uj"
      },
      "source": [
        "#### Train and Test loop"
      ]
    },
    {
      "cell_type": "code",
      "execution_count": null,
      "metadata": {
        "colab": {
          "base_uri": "https://localhost:8080/"
        },
        "id": "_x34M1qr00Uj",
        "outputId": "69cf7ecd-326e-4448-c07e-2c3163940fb2"
      },
      "outputs": [
        {
          "name": "stdout",
          "output_type": "stream",
          "text": [
            "Epoch: 0 | Train Loss: 4.842889785766602 | Test Loss: 29.08269691467285 \n",
            "Epoch: 10 | Train Loss: 4.7602362632751465 | Test Loss: 26.38590431213379 \n",
            "Epoch: 20 | Train Loss: 4.75128173828125 | Test Loss: 24.457719802856445 \n",
            "Epoch: 30 | Train Loss: 4.7793803215026855 | Test Loss: 23.06581687927246 \n",
            "Epoch: 40 | Train Loss: 4.824410438537598 | Test Loss: 22.04869270324707 \n",
            "Epoch: 50 | Train Loss: 4.874855041503906 | Test Loss: 21.29668426513672 \n",
            "Epoch: 60 | Train Loss: 4.924434185028076 | Test Loss: 20.734560012817383 \n",
            "Epoch: 70 | Train Loss: 4.969991683959961 | Test Loss: 20.31013298034668 \n",
            "Epoch: 80 | Train Loss: 5.0102081298828125 | Test Loss: 19.986766815185547 \n",
            "Epoch: 90 | Train Loss: 5.044790744781494 | Test Loss: 19.738433837890625 \n",
            "Epoch: 100 | Train Loss: 5.073996543884277 | Test Loss: 19.54640007019043 \n",
            "Epoch: 110 | Train Loss: 5.098343849182129 | Test Loss: 19.39702796936035 \n",
            "Epoch: 120 | Train Loss: 5.118451118469238 | Test Loss: 19.280248641967773 \n",
            "Epoch: 130 | Train Loss: 5.134937286376953 | Test Loss: 19.188573837280273 \n",
            "Epoch: 140 | Train Loss: 5.148382186889648 | Test Loss: 19.11635398864746 \n",
            "Epoch: 150 | Train Loss: 5.1593017578125 | Test Loss: 19.059295654296875 \n",
            "Epoch: 160 | Train Loss: 5.1681413650512695 | Test Loss: 19.01411247253418 \n",
            "Epoch: 170 | Train Loss: 5.175279140472412 | Test Loss: 18.97825813293457 \n",
            "Epoch: 180 | Train Loss: 5.181031227111816 | Test Loss: 18.949771881103516 \n",
            "Epoch: 190 | Train Loss: 5.1856608390808105 | Test Loss: 18.927099227905273 \n"
          ]
        }
      ],
      "source": [
        "torch.manual_seed(42)\n",
        "\n",
        "# Set the number of epochs (how many times the model will pass over the training data)\n",
        "epochs = 200\n",
        "\n",
        "# Create empty loss lists to track values\n",
        "train_loss_values = []\n",
        "test_loss_values = []\n",
        "epoch_count = []\n",
        "\n",
        "for epoch in range(epochs):\n",
        "    ### Training\n",
        "\n",
        "    # Put model in training mode (this is the default state of a model)\n",
        "    model_1.train()\n",
        "\n",
        "    # 1. Forward pass on train data using the forward() method inside\n",
        "    for batch_idx, data in enumerate(train_loader):\n",
        "      xtrain, ytrain = data[\"sample\"].to(device), data[\"target\"].to(device)\n",
        "      y_pred = model_1(xtrain)\n",
        "      # print(y_pred)\n",
        "      # 2. Calculate the loss (how different are our models predictions to the ground truth)\n",
        "      loss = loss_fn(y_pred, ytrain)\n",
        "      loss=loss+loss.item()\n",
        "      # 3. Zero grad of the optimizer\n",
        "      optimizer.zero_grad()\n",
        "      # 4. Loss backwards\n",
        "      loss.backward()\n",
        "      # 5. Progress the optimizer\n",
        "      optimizer.step()\n",
        "\n",
        "      ### Testing\n",
        "\n",
        "      # Put the model in evaluation mode\n",
        "      model_1.eval()\n",
        "\n",
        "      with torch.inference_mode():\n",
        "        # 1. Forward pass on test data\n",
        "        for batch_idx, data in enumerate(test_loader):\n",
        "          xtest, ytest = data[\"sample\"].to(device), data[\"target\"].to(device)\n",
        "          test_pred = model_1(xtest)\n",
        "\n",
        "          # 2. Caculate loss on test data\n",
        "          test_loss = loss_fn(test_pred, ytest.type(torch.float)) # predictions come in torch.float datatype, so comparisons need to be done with tensors of the same type\n",
        "          test_loss=test_loss+test_loss.item()\n",
        "        test_loss=test_loss/len(test_loader)\n",
        "    loss=loss/len(train_loader)\n",
        "    # Print out what's happening\n",
        "    if epoch % 10 == 0:\n",
        "          epoch_count.append(epoch)\n",
        "          train_loss_values.append(loss.detach().cpu().numpy())\n",
        "          test_loss_values.append(test_loss.detach().cpu().numpy())\n",
        "          print(f\"Epoch: {epoch} | Train Loss: {loss} | Test Loss: {test_loss} \")"
      ]
    },
    {
      "cell_type": "code",
      "execution_count": null,
      "metadata": {
        "colab": {
          "base_uri": "https://localhost:8080/",
          "height": 472
        },
        "id": "Kj0kDmbkNF1a",
        "outputId": "80edc9dc-2501-4f50-a1d4-385d1302e600"
      },
      "outputs": [
        {
          "data": {
            "image/png": "[encoded data removed]",
            "text/plain": [
              "<Figure size 640x480 with 1 Axes>"
            ]
          },
          "metadata": {},
          "output_type": "display_data"
        }
      ],
      "source": [
        "# Plot the loss curves\n",
        "plt.plot(epoch_count, train_loss_values, label=\"Train loss\")\n",
        "plt.plot(epoch_count, test_loss_values, label=\"Test loss\")\n",
        "plt.title(\"Training and test loss curves\")\n",
        "plt.ylabel(\"Loss\")\n",
        "plt.xlabel(\"Epochs\")\n",
        "plt.legend();"
      ]
    },
    {
      "cell_type": "code",
      "execution_count": null,
      "metadata": {
        "colab": {
          "base_uri": "https://localhost:8080/"
        },
        "id": "uDt0HTLPllkZ",
        "outputId": "5020b1d0-6c7b-4a85-9b32-2b152e4cb103"
      },
      "outputs": [
        {
          "name": "stdout",
          "output_type": "stream",
          "text": [
            "The model learned the following values for weights and bias:\n",
            "OrderedDict([('linear.weight', tensor([[1.2246]], device='cuda:0')), ('linear.bias', tensor([-3.9293], device='cuda:0'))])\n"
          ]
        }
      ],
      "source": [
        "# Find our model's learned parameters\n",
        "print(\"The model learned the following values for weights and bias:\")\n",
        "print(model_0.state_dict())"
      ]
    },
    {
      "cell_type": "markdown",
      "metadata": {
        "id": "jyvSEe5j00Uk"
      },
      "source": [
        "#### Making predictions with a trained PyTorch model (inference)"
      ]
    },
    {
      "cell_type": "code",
      "execution_count": null,
      "metadata": {
        "id": "aIGTeTV800Uk"
      },
      "outputs": [],
      "source": [
        "# 1. Set the model in evaluation mode\n",
        "model_0.eval()\n",
        "y_pred=[]\n",
        "y_gt=[]\n",
        "\n",
        "# 2. Setup the inference mode context manager\n",
        "with torch.inference_mode():\n",
        "  model_0.to(device)\n",
        "  for data in train_loader:\n",
        "    xtrain=data['sample']\n",
        "    ytrain=data['target']\n",
        "\n",
        "    y_preds = model_0(xtrain.to(device))\n",
        "    y_gt.append(ytrain)\n",
        "    y_pred.append(y_preds )"
      ]
    },
    {
      "cell_type": "code",
      "execution_count": null,
      "metadata": {
        "id": "f4gYQv2wrcm-"
      },
      "outputs": [],
      "source": [
        "Y_pred= torch.cat(y_pred).view(-1)\n",
        "Y_label= torch.cat(y_gt).view(-1)"
      ]
    },
    {
      "cell_type": "code",
      "execution_count": null,
      "metadata": {
        "colab": {
          "base_uri": "https://localhost:8080/",
          "height": 713
        },
        "id": "YPuMAXRT00Uk",
        "outputId": "4b0c785a-3b39-490e-c04b-ec6c3b750720"
      },
      "outputs": [
        {
          "data": {
            "text/plain": [
              "[<matplotlib.lines.Line2D at 0x7b5ed555ef50>]"
            ]
          },
          "execution_count": 83,
          "metadata": {},
          "output_type": "execute_result"
        },
        {
          "data": {
            "image/png": "[encoded data removed]",
            "text/plain": [
              "<Figure size 1200x800 with 1 Axes>"
            ]
          },
          "metadata": {},
          "output_type": "display_data"
        }
      ],
      "source": [
        "plt.figure(figsize=(12,8))\n",
        "plt.scatter(df.Population,df.Profit)\n",
        "plt.xlabel('Population of Area in 10,000')\n",
        "plt.ylabel('Profit of Appolo Pharmacy in 10,000')\n",
        "plt.plot(train_data,Y_pred.cpu(),'r-')"
      ]
    }
  ],
  "metadata": {
    "accelerator": "GPU",
    "colab": {
      "gpuType": "T4",
      "provenance": [],
      "include_colab_link": true
    },
    "kernelspec": {
      "display_name": "Python 3",
      "name": "python3"
    },
    "language_info": {
      "name": "python"
    }
  },
  "nbformat": 4,
  "nbformat_minor": 0
}