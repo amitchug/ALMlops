{
  "nbformat": 4,
  "nbformat_minor": 0,
  "metadata": {
    "colab": {
      "provenance": [],
      "gpuType": "T4",
      "include_colab_link": true
    },
    "kernelspec": {
      "name": "python3",
      "display_name": "Python 3"
    },
    "language_info": {
      "name": "python"
    },
    "widgets": {
      "application/vnd.jupyter.widget-state+json": {
        "c2a850ac507843c7b9d787ed3bf91aed": {
          "model_module": "@jupyter-widgets/controls",
          "model_name": "HBoxModel",
          "model_module_version": "1.5.0",
          "state": {
            "_dom_classes": [],
            "_model_module": "@jupyter-widgets/controls",
            "_model_module_version": "1.5.0",
            "_model_name": "HBoxModel",
            "_view_count": null,
            "_view_module": "@jupyter-widgets/controls",
            "_view_module_version": "1.5.0",
            "_view_name": "HBoxView",
            "box_style": "",
            "children": [
              "IPY_MODEL_bf00cb63f80e4e05b926b5535d4cfd99",
              "IPY_MODEL_5413b38927c04e65b7523b822da00ed1",
              "IPY_MODEL_cf1edd01279f4b5ca2795537e0b5fbe1"
            ],
            "layout": "IPY_MODEL_66cf4b59c37642aaa54e82a658b653f4"
          }
        },
        "bf00cb63f80e4e05b926b5535d4cfd99": {
          "model_module": "@jupyter-widgets/controls",
          "model_name": "HTMLModel",
          "model_module_version": "1.5.0",
          "state": {
            "_dom_classes": [],
            "_model_module": "@jupyter-widgets/controls",
            "_model_module_version": "1.5.0",
            "_model_name": "HTMLModel",
            "_view_count": null,
            "_view_module": "@jupyter-widgets/controls",
            "_view_module_version": "1.5.0",
            "_view_name": "HTMLView",
            "description": "",
            "description_tooltip": null,
            "layout": "IPY_MODEL_d412f7500b364718be572203ebcf495f",
            "placeholder": "​",
            "style": "IPY_MODEL_6b4d9868a29f45c58f78620e21f44fc2",
            "value": "tokenizer_config.json: 100%"
          }
        },
        "5413b38927c04e65b7523b822da00ed1": {
          "model_module": "@jupyter-widgets/controls",
          "model_name": "FloatProgressModel",
          "model_module_version": "1.5.0",
          "state": {
            "_dom_classes": [],
            "_model_module": "@jupyter-widgets/controls",
            "_model_module_version": "1.5.0",
            "_model_name": "FloatProgressModel",
            "_view_count": null,
            "_view_module": "@jupyter-widgets/controls",
            "_view_module_version": "1.5.0",
            "_view_name": "ProgressView",
            "bar_style": "success",
            "description": "",
            "description_tooltip": null,
            "layout": "IPY_MODEL_396fe758d1654856996465b708f4bc81",
            "max": 48,
            "min": 0,
            "orientation": "horizontal",
            "style": "IPY_MODEL_0a05b304562f4a3ab2b0ac7cdf231e3d",
            "value": 48
          }
        },
        "cf1edd01279f4b5ca2795537e0b5fbe1": {
          "model_module": "@jupyter-widgets/controls",
          "model_name": "HTMLModel",
          "model_module_version": "1.5.0",
          "state": {
            "_dom_classes": [],
            "_model_module": "@jupyter-widgets/controls",
            "_model_module_version": "1.5.0",
            "_model_name": "HTMLModel",
            "_view_count": null,
            "_view_module": "@jupyter-widgets/controls",
            "_view_module_version": "1.5.0",
            "_view_name": "HTMLView",
            "description": "",
            "description_tooltip": null,
            "layout": "IPY_MODEL_2f2900ff16ed438094fd4977c73cf406",
            "placeholder": "​",
            "style": "IPY_MODEL_af29e0b8173349cbba483fc5f0652220",
            "value": " 48.0/48.0 [00:00&lt;00:00, 2.30kB/s]"
          }
        },
        "66cf4b59c37642aaa54e82a658b653f4": {
          "model_module": "@jupyter-widgets/base",
          "model_name": "LayoutModel",
          "model_module_version": "1.2.0",
          "state": {
            "_model_module": "@jupyter-widgets/base",
            "_model_module_version": "1.2.0",
            "_model_name": "LayoutModel",
            "_view_count": null,
            "_view_module": "@jupyter-widgets/base",
            "_view_module_version": "1.2.0",
            "_view_name": "LayoutView",
            "align_content": null,
            "align_items": null,
            "align_self": null,
            "border": null,
            "bottom": null,
            "display": null,
            "flex": null,
            "flex_flow": null,
            "grid_area": null,
            "grid_auto_columns": null,
            "grid_auto_flow": null,
            "grid_auto_rows": null,
            "grid_column": null,
            "grid_gap": null,
            "grid_row": null,
            "grid_template_areas": null,
            "grid_template_columns": null,
            "grid_template_rows": null,
            "height": null,
            "justify_content": null,
            "justify_items": null,
            "left": null,
            "margin": null,
            "max_height": null,
            "max_width": null,
            "min_height": null,
            "min_width": null,
            "object_fit": null,
            "object_position": null,
            "order": null,
            "overflow": null,
            "overflow_x": null,
            "overflow_y": null,
            "padding": null,
            "right": null,
            "top": null,
            "visibility": null,
            "width": null
          }
        },
        "d412f7500b364718be572203ebcf495f": {
          "model_module": "@jupyter-widgets/base",
          "model_name": "LayoutModel",
          "model_module_version": "1.2.0",
          "state": {
            "_model_module": "@jupyter-widgets/base",
            "_model_module_version": "1.2.0",
            "_model_name": "LayoutModel",
            "_view_count": null,
            "_view_module": "@jupyter-widgets/base",
            "_view_module_version": "1.2.0",
            "_view_name": "LayoutView",
            "align_content": null,
            "align_items": null,
            "align_self": null,
            "border": null,
            "bottom": null,
            "display": null,
            "flex": null,
            "flex_flow": null,
            "grid_area": null,
            "grid_auto_columns": null,
            "grid_auto_flow": null,
            "grid_auto_rows": null,
            "grid_column": null,
            "grid_gap": null,
            "grid_row": null,
            "grid_template_areas": null,
            "grid_template_columns": null,
            "grid_template_rows": null,
            "height": null,
            "justify_content": null,
            "justify_items": null,
            "left": null,
            "margin": null,
            "max_height": null,
            "max_width": null,
            "min_height": null,
            "min_width": null,
            "object_fit": null,
            "object_position": null,
            "order": null,
            "overflow": null,
            "overflow_x": null,
            "overflow_y": null,
            "padding": null,
            "right": null,
            "top": null,
            "visibility": null,
            "width": null
          }
        },
        "6b4d9868a29f45c58f78620e21f44fc2": {
          "model_module": "@jupyter-widgets/controls",
          "model_name": "DescriptionStyleModel",
          "model_module_version": "1.5.0",
          "state": {
            "_model_module": "@jupyter-widgets/controls",
            "_model_module_version": "1.5.0",
            "_model_name": "DescriptionStyleModel",
            "_view_count": null,
            "_view_module": "@jupyter-widgets/base",
            "_view_module_version": "1.2.0",
            "_view_name": "StyleView",
            "description_width": ""
          }
        },
        "396fe758d1654856996465b708f4bc81": {
          "model_module": "@jupyter-widgets/base",
          "model_name": "LayoutModel",
          "model_module_version": "1.2.0",
          "state": {
            "_model_module": "@jupyter-widgets/base",
            "_model_module_version": "1.2.0",
            "_model_name": "LayoutModel",
            "_view_count": null,
            "_view_module": "@jupyter-widgets/base",
            "_view_module_version": "1.2.0",
            "_view_name": "LayoutView",
            "align_content": null,
            "align_items": null,
            "align_self": null,
            "border": null,
            "bottom": null,
            "display": null,
            "flex": null,
            "flex_flow": null,
            "grid_area": null,
            "grid_auto_columns": null,
            "grid_auto_flow": null,
            "grid_auto_rows": null,
            "grid_column": null,
            "grid_gap": null,
            "grid_row": null,
            "grid_template_areas": null,
            "grid_template_columns": null,
            "grid_template_rows": null,
            "height": null,
            "justify_content": null,
            "justify_items": null,
            "left": null,
            "margin": null,
            "max_height": null,
            "max_width": null,
            "min_height": null,
            "min_width": null,
            "object_fit": null,
            "object_position": null,
            "order": null,
            "overflow": null,
            "overflow_x": null,
            "overflow_y": null,
            "padding": null,
            "right": null,
            "top": null,
            "visibility": null,
            "width": null
          }
        },
        "0a05b304562f4a3ab2b0ac7cdf231e3d": {
          "model_module": "@jupyter-widgets/controls",
          "model_name": "ProgressStyleModel",
          "model_module_version": "1.5.0",
          "state": {
            "_model_module": "@jupyter-widgets/controls",
            "_model_module_version": "1.5.0",
            "_model_name": "ProgressStyleModel",
            "_view_count": null,
            "_view_module": "@jupyter-widgets/base",
            "_view_module_version": "1.2.0",
            "_view_name": "StyleView",
            "bar_color": null,
            "description_width": ""
          }
        },
        "2f2900ff16ed438094fd4977c73cf406": {
          "model_module": "@jupyter-widgets/base",
          "model_name": "LayoutModel",
          "model_module_version": "1.2.0",
          "state": {
            "_model_module": "@jupyter-widgets/base",
            "_model_module_version": "1.2.0",
            "_model_name": "LayoutModel",
            "_view_count": null,
            "_view_module": "@jupyter-widgets/base",
            "_view_module_version": "1.2.0",
            "_view_name": "LayoutView",
            "align_content": null,
            "align_items": null,
            "align_self": null,
            "border": null,
            "bottom": null,
            "display": null,
            "flex": null,
            "flex_flow": null,
            "grid_area": null,
            "grid_auto_columns": null,
            "grid_auto_flow": null,
            "grid_auto_rows": null,
            "grid_column": null,
            "grid_gap": null,
            "grid_row": null,
            "grid_template_areas": null,
            "grid_template_columns": null,
            "grid_template_rows": null,
            "height": null,
            "justify_content": null,
            "justify_items": null,
            "left": null,
            "margin": null,
            "max_height": null,
            "max_width": null,
            "min_height": null,
            "min_width": null,
            "object_fit": null,
            "object_position": null,
            "order": null,
            "overflow": null,
            "overflow_x": null,
            "overflow_y": null,
            "padding": null,
            "right": null,
            "top": null,
            "visibility": null,
            "width": null
          }
        },
        "af29e0b8173349cbba483fc5f0652220": {
          "model_module": "@jupyter-widgets/controls",
          "model_name": "DescriptionStyleModel",
          "model_module_version": "1.5.0",
          "state": {
            "_model_module": "@jupyter-widgets/controls",
            "_model_module_version": "1.5.0",
            "_model_name": "DescriptionStyleModel",
            "_view_count": null,
            "_view_module": "@jupyter-widgets/base",
            "_view_module_version": "1.2.0",
            "_view_name": "StyleView",
            "description_width": ""
          }
        },
        "4f5d7a119291493f906f5822bf54c21c": {
          "model_module": "@jupyter-widgets/controls",
          "model_name": "HBoxModel",
          "model_module_version": "1.5.0",
          "state": {
            "_dom_classes": [],
            "_model_module": "@jupyter-widgets/controls",
            "_model_module_version": "1.5.0",
            "_model_name": "HBoxModel",
            "_view_count": null,
            "_view_module": "@jupyter-widgets/controls",
            "_view_module_version": "1.5.0",
            "_view_name": "HBoxView",
            "box_style": "",
            "children": [
              "IPY_MODEL_51837e4e46ec4feaa315fd5b04c344d7",
              "IPY_MODEL_a3651b881b3b45a2b0fff7ebd032660e",
              "IPY_MODEL_a504313682924817b77b36d9c77aa955"
            ],
            "layout": "IPY_MODEL_6fc009da29cc4f22bb86c966a10117f1"
          }
        },
        "51837e4e46ec4feaa315fd5b04c344d7": {
          "model_module": "@jupyter-widgets/controls",
          "model_name": "HTMLModel",
          "model_module_version": "1.5.0",
          "state": {
            "_dom_classes": [],
            "_model_module": "@jupyter-widgets/controls",
            "_model_module_version": "1.5.0",
            "_model_name": "HTMLModel",
            "_view_count": null,
            "_view_module": "@jupyter-widgets/controls",
            "_view_module_version": "1.5.0",
            "_view_name": "HTMLView",
            "description": "",
            "description_tooltip": null,
            "layout": "IPY_MODEL_82e667543de54069a2fff608a24c1c5a",
            "placeholder": "​",
            "style": "IPY_MODEL_a089eb4ea53c4250bdba0e2264d3b13c",
            "value": "config.json: 100%"
          }
        },
        "a3651b881b3b45a2b0fff7ebd032660e": {
          "model_module": "@jupyter-widgets/controls",
          "model_name": "FloatProgressModel",
          "model_module_version": "1.5.0",
          "state": {
            "_dom_classes": [],
            "_model_module": "@jupyter-widgets/controls",
            "_model_module_version": "1.5.0",
            "_model_name": "FloatProgressModel",
            "_view_count": null,
            "_view_module": "@jupyter-widgets/controls",
            "_view_module_version": "1.5.0",
            "_view_name": "ProgressView",
            "bar_style": "success",
            "description": "",
            "description_tooltip": null,
            "layout": "IPY_MODEL_2eb556a84cf14ac3b36b0e70bb170931",
            "max": 483,
            "min": 0,
            "orientation": "horizontal",
            "style": "IPY_MODEL_300f9c16aa8d495ab5498786ff26ad81",
            "value": 483
          }
        },
        "a504313682924817b77b36d9c77aa955": {
          "model_module": "@jupyter-widgets/controls",
          "model_name": "HTMLModel",
          "model_module_version": "1.5.0",
          "state": {
            "_dom_classes": [],
            "_model_module": "@jupyter-widgets/controls",
            "_model_module_version": "1.5.0",
            "_model_name": "HTMLModel",
            "_view_count": null,
            "_view_module": "@jupyter-widgets/controls",
            "_view_module_version": "1.5.0",
            "_view_name": "HTMLView",
            "description": "",
            "description_tooltip": null,
            "layout": "IPY_MODEL_5cae9a08add34be6b77adee67d9ff026",
            "placeholder": "​",
            "style": "IPY_MODEL_72510a97894e43f38fd356d7b638fe82",
            "value": " 483/483 [00:00&lt;00:00, 9.71kB/s]"
          }
        },
        "6fc009da29cc4f22bb86c966a10117f1": {
          "model_module": "@jupyter-widgets/base",
          "model_name": "LayoutModel",
          "model_module_version": "1.2.0",
          "state": {
            "_model_module": "@jupyter-widgets/base",
            "_model_module_version": "1.2.0",
            "_model_name": "LayoutModel",
            "_view_count": null,
            "_view_module": "@jupyter-widgets/base",
            "_view_module_version": "1.2.0",
            "_view_name": "LayoutView",
            "align_content": null,
            "align_items": null,
            "align_self": null,
            "border": null,
            "bottom": null,
            "display": null,
            "flex": null,
            "flex_flow": null,
            "grid_area": null,
            "grid_auto_columns": null,
            "grid_auto_flow": null,
            "grid_auto_rows": null,
            "grid_column": null,
            "grid_gap": null,
            "grid_row": null,
            "grid_template_areas": null,
            "grid_template_columns": null,
            "grid_template_rows": null,
            "height": null,
            "justify_content": null,
            "justify_items": null,
            "left": null,
            "margin": null,
            "max_height": null,
            "max_width": null,
            "min_height": null,
            "min_width": null,
            "object_fit": null,
            "object_position": null,
            "order": null,
            "overflow": null,
            "overflow_x": null,
            "overflow_y": null,
            "padding": null,
            "right": null,
            "top": null,
            "visibility": null,
            "width": null
          }
        },
        "82e667543de54069a2fff608a24c1c5a": {
          "model_module": "@jupyter-widgets/base",
          "model_name": "LayoutModel",
          "model_module_version": "1.2.0",
          "state": {
            "_model_module": "@jupyter-widgets/base",
            "_model_module_version": "1.2.0",
            "_model_name": "LayoutModel",
            "_view_count": null,
            "_view_module": "@jupyter-widgets/base",
            "_view_module_version": "1.2.0",
            "_view_name": "LayoutView",
            "align_content": null,
            "align_items": null,
            "align_self": null,
            "border": null,
            "bottom": null,
            "display": null,
            "flex": null,
            "flex_flow": null,
            "grid_area": null,
            "grid_auto_columns": null,
            "grid_auto_flow": null,
            "grid_auto_rows": null,
            "grid_column": null,
            "grid_gap": null,
            "grid_row": null,
            "grid_template_areas": null,
            "grid_template_columns": null,
            "grid_template_rows": null,
            "height": null,
            "justify_content": null,
            "justify_items": null,
            "left": null,
            "margin": null,
            "max_height": null,
            "max_width": null,
            "min_height": null,
            "min_width": null,
            "object_fit": null,
            "object_position": null,
            "order": null,
            "overflow": null,
            "overflow_x": null,
            "overflow_y": null,
            "padding": null,
            "right": null,
            "top": null,
            "visibility": null,
            "width": null
          }
        },
        "a089eb4ea53c4250bdba0e2264d3b13c": {
          "model_module": "@jupyter-widgets/controls",
          "model_name": "DescriptionStyleModel",
          "model_module_version": "1.5.0",
          "state": {
            "_model_module": "@jupyter-widgets/controls",
            "_model_module_version": "1.5.0",
            "_model_name": "DescriptionStyleModel",
            "_view_count": null,
            "_view_module": "@jupyter-widgets/base",
            "_view_module_version": "1.2.0",
            "_view_name": "StyleView",
            "description_width": ""
          }
        },
        "2eb556a84cf14ac3b36b0e70bb170931": {
          "model_module": "@jupyter-widgets/base",
          "model_name": "LayoutModel",
          "model_module_version": "1.2.0",
          "state": {
            "_model_module": "@jupyter-widgets/base",
            "_model_module_version": "1.2.0",
            "_model_name": "LayoutModel",
            "_view_count": null,
            "_view_module": "@jupyter-widgets/base",
            "_view_module_version": "1.2.0",
            "_view_name": "LayoutView",
            "align_content": null,
            "align_items": null,
            "align_self": null,
            "border": null,
            "bottom": null,
            "display": null,
            "flex": null,
            "flex_flow": null,
            "grid_area": null,
            "grid_auto_columns": null,
            "grid_auto_flow": null,
            "grid_auto_rows": null,
            "grid_column": null,
            "grid_gap": null,
            "grid_row": null,
            "grid_template_areas": null,
            "grid_template_columns": null,
            "grid_template_rows": null,
            "height": null,
            "justify_content": null,
            "justify_items": null,
            "left": null,
            "margin": null,
            "max_height": null,
            "max_width": null,
            "min_height": null,
            "min_width": null,
            "object_fit": null,
            "object_position": null,
            "order": null,
            "overflow": null,
            "overflow_x": null,
            "overflow_y": null,
            "padding": null,
            "right": null,
            "top": null,
            "visibility": null,
            "width": null
          }
        },
        "300f9c16aa8d495ab5498786ff26ad81": {
          "model_module": "@jupyter-widgets/controls",
          "model_name": "ProgressStyleModel",
          "model_module_version": "1.5.0",
          "state": {
            "_model_module": "@jupyter-widgets/controls",
            "_model_module_version": "1.5.0",
            "_model_name": "ProgressStyleModel",
            "_view_count": null,
            "_view_module": "@jupyter-widgets/base",
            "_view_module_version": "1.2.0",
            "_view_name": "StyleView",
            "bar_color": null,
            "description_width": ""
          }
        },
        "5cae9a08add34be6b77adee67d9ff026": {
          "model_module": "@jupyter-widgets/base",
          "model_name": "LayoutModel",
          "model_module_version": "1.2.0",
          "state": {
            "_model_module": "@jupyter-widgets/base",
            "_model_module_version": "1.2.0",
            "_model_name": "LayoutModel",
            "_view_count": null,
            "_view_module": "@jupyter-widgets/base",
            "_view_module_version": "1.2.0",
            "_view_name": "LayoutView",
            "align_content": null,
            "align_items": null,
            "align_self": null,
            "border": null,
            "bottom": null,
            "display": null,
            "flex": null,
            "flex_flow": null,
            "grid_area": null,
            "grid_auto_columns": null,
            "grid_auto_flow": null,
            "grid_auto_rows": null,
            "grid_column": null,
            "grid_gap": null,
            "grid_row": null,
            "grid_template_areas": null,
            "grid_template_columns": null,
            "grid_template_rows": null,
            "height": null,
            "justify_content": null,
            "justify_items": null,
            "left": null,
            "margin": null,
            "max_height": null,
            "max_width": null,
            "min_height": null,
            "min_width": null,
            "object_fit": null,
            "object_position": null,
            "order": null,
            "overflow": null,
            "overflow_x": null,
            "overflow_y": null,
            "padding": null,
            "right": null,
            "top": null,
            "visibility": null,
            "width": null
          }
        },
        "72510a97894e43f38fd356d7b638fe82": {
          "model_module": "@jupyter-widgets/controls",
          "model_name": "DescriptionStyleModel",
          "model_module_version": "1.5.0",
          "state": {
            "_model_module": "@jupyter-widgets/controls",
            "_model_module_version": "1.5.0",
            "_model_name": "DescriptionStyleModel",
            "_view_count": null,
            "_view_module": "@jupyter-widgets/base",
            "_view_module_version": "1.2.0",
            "_view_name": "StyleView",
            "description_width": ""
          }
        },
        "0be651669d364cd99df3df2ef938c8dd": {
          "model_module": "@jupyter-widgets/controls",
          "model_name": "HBoxModel",
          "model_module_version": "1.5.0",
          "state": {
            "_dom_classes": [],
            "_model_module": "@jupyter-widgets/controls",
            "_model_module_version": "1.5.0",
            "_model_name": "HBoxModel",
            "_view_count": null,
            "_view_module": "@jupyter-widgets/controls",
            "_view_module_version": "1.5.0",
            "_view_name": "HBoxView",
            "box_style": "",
            "children": [
              "IPY_MODEL_456fbcf50e534286b02c086cde426b3d",
              "IPY_MODEL_bd17d5393add4f759d1be92d4becbae5",
              "IPY_MODEL_a30a73a1ad41440c8010287988707039"
            ],
            "layout": "IPY_MODEL_ffcc9b04c62f496ba8bcecbc5498ba8b"
          }
        },
        "456fbcf50e534286b02c086cde426b3d": {
          "model_module": "@jupyter-widgets/controls",
          "model_name": "HTMLModel",
          "model_module_version": "1.5.0",
          "state": {
            "_dom_classes": [],
            "_model_module": "@jupyter-widgets/controls",
            "_model_module_version": "1.5.0",
            "_model_name": "HTMLModel",
            "_view_count": null,
            "_view_module": "@jupyter-widgets/controls",
            "_view_module_version": "1.5.0",
            "_view_name": "HTMLView",
            "description": "",
            "description_tooltip": null,
            "layout": "IPY_MODEL_95bcdc7674fe43e9b37193eac13c633a",
            "placeholder": "​",
            "style": "IPY_MODEL_ee49bfb778a94a7e80ba9cedc61d7ce5",
            "value": "vocab.txt: 100%"
          }
        },
        "bd17d5393add4f759d1be92d4becbae5": {
          "model_module": "@jupyter-widgets/controls",
          "model_name": "FloatProgressModel",
          "model_module_version": "1.5.0",
          "state": {
            "_dom_classes": [],
            "_model_module": "@jupyter-widgets/controls",
            "_model_module_version": "1.5.0",
            "_model_name": "FloatProgressModel",
            "_view_count": null,
            "_view_module": "@jupyter-widgets/controls",
            "_view_module_version": "1.5.0",
            "_view_name": "ProgressView",
            "bar_style": "success",
            "description": "",
            "description_tooltip": null,
            "layout": "IPY_MODEL_da02202ab4e84ae19c081b647db5c0e1",
            "max": 231508,
            "min": 0,
            "orientation": "horizontal",
            "style": "IPY_MODEL_5038806d07b54a8ca78d1a2bb1d7f5bf",
            "value": 231508
          }
        },
        "a30a73a1ad41440c8010287988707039": {
          "model_module": "@jupyter-widgets/controls",
          "model_name": "HTMLModel",
          "model_module_version": "1.5.0",
          "state": {
            "_dom_classes": [],
            "_model_module": "@jupyter-widgets/controls",
            "_model_module_version": "1.5.0",
            "_model_name": "HTMLModel",
            "_view_count": null,
            "_view_module": "@jupyter-widgets/controls",
            "_view_module_version": "1.5.0",
            "_view_name": "HTMLView",
            "description": "",
            "description_tooltip": null,
            "layout": "IPY_MODEL_1af61435d7fc47df9731784c1aefa640",
            "placeholder": "​",
            "style": "IPY_MODEL_6f388612d845420ea22c6134b63bb9c9",
            "value": " 232k/232k [00:00&lt;00:00, 3.83MB/s]"
          }
        },
        "ffcc9b04c62f496ba8bcecbc5498ba8b": {
          "model_module": "@jupyter-widgets/base",
          "model_name": "LayoutModel",
          "model_module_version": "1.2.0",
          "state": {
            "_model_module": "@jupyter-widgets/base",
            "_model_module_version": "1.2.0",
            "_model_name": "LayoutModel",
            "_view_count": null,
            "_view_module": "@jupyter-widgets/base",
            "_view_module_version": "1.2.0",
            "_view_name": "LayoutView",
            "align_content": null,
            "align_items": null,
            "align_self": null,
            "border": null,
            "bottom": null,
            "display": null,
            "flex": null,
            "flex_flow": null,
            "grid_area": null,
            "grid_auto_columns": null,
            "grid_auto_flow": null,
            "grid_auto_rows": null,
            "grid_column": null,
            "grid_gap": null,
            "grid_row": null,
            "grid_template_areas": null,
            "grid_template_columns": null,
            "grid_template_rows": null,
            "height": null,
            "justify_content": null,
            "justify_items": null,
            "left": null,
            "margin": null,
            "max_height": null,
            "max_width": null,
            "min_height": null,
            "min_width": null,
            "object_fit": null,
            "object_position": null,
            "order": null,
            "overflow": null,
            "overflow_x": null,
            "overflow_y": null,
            "padding": null,
            "right": null,
            "top": null,
            "visibility": null,
            "width": null
          }
        },
        "95bcdc7674fe43e9b37193eac13c633a": {
          "model_module": "@jupyter-widgets/base",
          "model_name": "LayoutModel",
          "model_module_version": "1.2.0",
          "state": {
            "_model_module": "@jupyter-widgets/base",
            "_model_module_version": "1.2.0",
            "_model_name": "LayoutModel",
            "_view_count": null,
            "_view_module": "@jupyter-widgets/base",
            "_view_module_version": "1.2.0",
            "_view_name": "LayoutView",
            "align_content": null,
            "align_items": null,
            "align_self": null,
            "border": null,
            "bottom": null,
            "display": null,
            "flex": null,
            "flex_flow": null,
            "grid_area": null,
            "grid_auto_columns": null,
            "grid_auto_flow": null,
            "grid_auto_rows": null,
            "grid_column": null,
            "grid_gap": null,
            "grid_row": null,
            "grid_template_areas": null,
            "grid_template_columns": null,
            "grid_template_rows": null,
            "height": null,
            "justify_content": null,
            "justify_items": null,
            "left": null,
            "margin": null,
            "max_height": null,
            "max_width": null,
            "min_height": null,
            "min_width": null,
            "object_fit": null,
            "object_position": null,
            "order": null,
            "overflow": null,
            "overflow_x": null,
            "overflow_y": null,
            "padding": null,
            "right": null,
            "top": null,
            "visibility": null,
            "width": null
          }
        },
        "ee49bfb778a94a7e80ba9cedc61d7ce5": {
          "model_module": "@jupyter-widgets/controls",
          "model_name": "DescriptionStyleModel",
          "model_module_version": "1.5.0",
          "state": {
            "_model_module": "@jupyter-widgets/controls",
            "_model_module_version": "1.5.0",
            "_model_name": "DescriptionStyleModel",
            "_view_count": null,
            "_view_module": "@jupyter-widgets/base",
            "_view_module_version": "1.2.0",
            "_view_name": "StyleView",
            "description_width": ""
          }
        },
        "da02202ab4e84ae19c081b647db5c0e1": {
          "model_module": "@jupyter-widgets/base",
          "model_name": "LayoutModel",
          "model_module_version": "1.2.0",
          "state": {
            "_model_module": "@jupyter-widgets/base",
            "_model_module_version": "1.2.0",
            "_model_name": "LayoutModel",
            "_view_count": null,
            "_view_module": "@jupyter-widgets/base",
            "_view_module_version": "1.2.0",
            "_view_name": "LayoutView",
            "align_content": null,
            "align_items": null,
            "align_self": null,
            "border": null,
            "bottom": null,
            "display": null,
            "flex": null,
            "flex_flow": null,
            "grid_area": null,
            "grid_auto_columns": null,
            "grid_auto_flow": null,
            "grid_auto_rows": null,
            "grid_column": null,
            "grid_gap": null,
            "grid_row": null,
            "grid_template_areas": null,
            "grid_template_columns": null,
            "grid_template_rows": null,
            "height": null,
            "justify_content": null,
            "justify_items": null,
            "left": null,
            "margin": null,
            "max_height": null,
            "max_width": null,
            "min_height": null,
            "min_width": null,
            "object_fit": null,
            "object_position": null,
            "order": null,
            "overflow": null,
            "overflow_x": null,
            "overflow_y": null,
            "padding": null,
            "right": null,
            "top": null,
            "visibility": null,
            "width": null
          }
        },
        "5038806d07b54a8ca78d1a2bb1d7f5bf": {
          "model_module": "@jupyter-widgets/controls",
          "model_name": "ProgressStyleModel",
          "model_module_version": "1.5.0",
          "state": {
            "_model_module": "@jupyter-widgets/controls",
            "_model_module_version": "1.5.0",
            "_model_name": "ProgressStyleModel",
            "_view_count": null,
            "_view_module": "@jupyter-widgets/base",
            "_view_module_version": "1.2.0",
            "_view_name": "StyleView",
            "bar_color": null,
            "description_width": ""
          }
        },
        "1af61435d7fc47df9731784c1aefa640": {
          "model_module": "@jupyter-widgets/base",
          "model_name": "LayoutModel",
          "model_module_version": "1.2.0",
          "state": {
            "_model_module": "@jupyter-widgets/base",
            "_model_module_version": "1.2.0",
            "_model_name": "LayoutModel",
            "_view_count": null,
            "_view_module": "@jupyter-widgets/base",
            "_view_module_version": "1.2.0",
            "_view_name": "LayoutView",
            "align_content": null,
            "align_items": null,
            "align_self": null,
            "border": null,
            "bottom": null,
            "display": null,
            "flex": null,
            "flex_flow": null,
            "grid_area": null,
            "grid_auto_columns": null,
            "grid_auto_flow": null,
            "grid_auto_rows": null,
            "grid_column": null,
            "grid_gap": null,
            "grid_row": null,
            "grid_template_areas": null,
            "grid_template_columns": null,
            "grid_template_rows": null,
            "height": null,
            "justify_content": null,
            "justify_items": null,
            "left": null,
            "margin": null,
            "max_height": null,
            "max_width": null,
            "min_height": null,
            "min_width": null,
            "object_fit": null,
            "object_position": null,
            "order": null,
            "overflow": null,
            "overflow_x": null,
            "overflow_y": null,
            "padding": null,
            "right": null,
            "top": null,
            "visibility": null,
            "width": null
          }
        },
        "6f388612d845420ea22c6134b63bb9c9": {
          "model_module": "@jupyter-widgets/controls",
          "model_name": "DescriptionStyleModel",
          "model_module_version": "1.5.0",
          "state": {
            "_model_module": "@jupyter-widgets/controls",
            "_model_module_version": "1.5.0",
            "_model_name": "DescriptionStyleModel",
            "_view_count": null,
            "_view_module": "@jupyter-widgets/base",
            "_view_module_version": "1.2.0",
            "_view_name": "StyleView",
            "description_width": ""
          }
        },
        "8b8ab01b4e124e62a7034f93cd2d0325": {
          "model_module": "@jupyter-widgets/controls",
          "model_name": "HBoxModel",
          "model_module_version": "1.5.0",
          "state": {
            "_dom_classes": [],
            "_model_module": "@jupyter-widgets/controls",
            "_model_module_version": "1.5.0",
            "_model_name": "HBoxModel",
            "_view_count": null,
            "_view_module": "@jupyter-widgets/controls",
            "_view_module_version": "1.5.0",
            "_view_name": "HBoxView",
            "box_style": "",
            "children": [
              "IPY_MODEL_69d8270910ca4db7a33824b634035d98",
              "IPY_MODEL_0e7d98a8628e488184eef11b763dc4c9",
              "IPY_MODEL_a2a833ed3016437e8bf75535bbe667bf"
            ],
            "layout": "IPY_MODEL_35e6237a0b514916a9410108f1355ad3"
          }
        },
        "69d8270910ca4db7a33824b634035d98": {
          "model_module": "@jupyter-widgets/controls",
          "model_name": "HTMLModel",
          "model_module_version": "1.5.0",
          "state": {
            "_dom_classes": [],
            "_model_module": "@jupyter-widgets/controls",
            "_model_module_version": "1.5.0",
            "_model_name": "HTMLModel",
            "_view_count": null,
            "_view_module": "@jupyter-widgets/controls",
            "_view_module_version": "1.5.0",
            "_view_name": "HTMLView",
            "description": "",
            "description_tooltip": null,
            "layout": "IPY_MODEL_6e7f207f97504a1280362046f16ee643",
            "placeholder": "​",
            "style": "IPY_MODEL_cb0c4a96070f4f9fbe42d1290950d618",
            "value": "tokenizer.json: 100%"
          }
        },
        "0e7d98a8628e488184eef11b763dc4c9": {
          "model_module": "@jupyter-widgets/controls",
          "model_name": "FloatProgressModel",
          "model_module_version": "1.5.0",
          "state": {
            "_dom_classes": [],
            "_model_module": "@jupyter-widgets/controls",
            "_model_module_version": "1.5.0",
            "_model_name": "FloatProgressModel",
            "_view_count": null,
            "_view_module": "@jupyter-widgets/controls",
            "_view_module_version": "1.5.0",
            "_view_name": "ProgressView",
            "bar_style": "success",
            "description": "",
            "description_tooltip": null,
            "layout": "IPY_MODEL_e989823fff0e4f76a5099812a9a47e1e",
            "max": 466062,
            "min": 0,
            "orientation": "horizontal",
            "style": "IPY_MODEL_f496daf6241d4c57b34077f85f13e30e",
            "value": 466062
          }
        },
        "a2a833ed3016437e8bf75535bbe667bf": {
          "model_module": "@jupyter-widgets/controls",
          "model_name": "HTMLModel",
          "model_module_version": "1.5.0",
          "state": {
            "_dom_classes": [],
            "_model_module": "@jupyter-widgets/controls",
            "_model_module_version": "1.5.0",
            "_model_name": "HTMLModel",
            "_view_count": null,
            "_view_module": "@jupyter-widgets/controls",
            "_view_module_version": "1.5.0",
            "_view_name": "HTMLView",
            "description": "",
            "description_tooltip": null,
            "layout": "IPY_MODEL_d0a13ce3baeb40a4ae5149fbb6822549",
            "placeholder": "​",
            "style": "IPY_MODEL_fbf6331a6b284633baecde2ca07a3138",
            "value": " 466k/466k [00:00&lt;00:00, 3.54MB/s]"
          }
        },
        "35e6237a0b514916a9410108f1355ad3": {
          "model_module": "@jupyter-widgets/base",
          "model_name": "LayoutModel",
          "model_module_version": "1.2.0",
          "state": {
            "_model_module": "@jupyter-widgets/base",
            "_model_module_version": "1.2.0",
            "_model_name": "LayoutModel",
            "_view_count": null,
            "_view_module": "@jupyter-widgets/base",
            "_view_module_version": "1.2.0",
            "_view_name": "LayoutView",
            "align_content": null,
            "align_items": null,
            "align_self": null,
            "border": null,
            "bottom": null,
            "display": null,
            "flex": null,
            "flex_flow": null,
            "grid_area": null,
            "grid_auto_columns": null,
            "grid_auto_flow": null,
            "grid_auto_rows": null,
            "grid_column": null,
            "grid_gap": null,
            "grid_row": null,
            "grid_template_areas": null,
            "grid_template_columns": null,
            "grid_template_rows": null,
            "height": null,
            "justify_content": null,
            "justify_items": null,
            "left": null,
            "margin": null,
            "max_height": null,
            "max_width": null,
            "min_height": null,
            "min_width": null,
            "object_fit": null,
            "object_position": null,
            "order": null,
            "overflow": null,
            "overflow_x": null,
            "overflow_y": null,
            "padding": null,
            "right": null,
            "top": null,
            "visibility": null,
            "width": null
          }
        },
        "6e7f207f97504a1280362046f16ee643": {
          "model_module": "@jupyter-widgets/base",
          "model_name": "LayoutModel",
          "model_module_version": "1.2.0",
          "state": {
            "_model_module": "@jupyter-widgets/base",
            "_model_module_version": "1.2.0",
            "_model_name": "LayoutModel",
            "_view_count": null,
            "_view_module": "@jupyter-widgets/base",
            "_view_module_version": "1.2.0",
            "_view_name": "LayoutView",
            "align_content": null,
            "align_items": null,
            "align_self": null,
            "border": null,
            "bottom": null,
            "display": null,
            "flex": null,
            "flex_flow": null,
            "grid_area": null,
            "grid_auto_columns": null,
            "grid_auto_flow": null,
            "grid_auto_rows": null,
            "grid_column": null,
            "grid_gap": null,
            "grid_row": null,
            "grid_template_areas": null,
            "grid_template_columns": null,
            "grid_template_rows": null,
            "height": null,
            "justify_content": null,
            "justify_items": null,
            "left": null,
            "margin": null,
            "max_height": null,
            "max_width": null,
            "min_height": null,
            "min_width": null,
            "object_fit": null,
            "object_position": null,
            "order": null,
            "overflow": null,
            "overflow_x": null,
            "overflow_y": null,
            "padding": null,
            "right": null,
            "top": null,
            "visibility": null,
            "width": null
          }
        },
        "cb0c4a96070f4f9fbe42d1290950d618": {
          "model_module": "@jupyter-widgets/controls",
          "model_name": "DescriptionStyleModel",
          "model_module_version": "1.5.0",
          "state": {
            "_model_module": "@jupyter-widgets/controls",
            "_model_module_version": "1.5.0",
            "_model_name": "DescriptionStyleModel",
            "_view_count": null,
            "_view_module": "@jupyter-widgets/base",
            "_view_module_version": "1.2.0",
            "_view_name": "StyleView",
            "description_width": ""
          }
        },
        "e989823fff0e4f76a5099812a9a47e1e": {
          "model_module": "@jupyter-widgets/base",
          "model_name": "LayoutModel",
          "model_module_version": "1.2.0",
          "state": {
            "_model_module": "@jupyter-widgets/base",
            "_model_module_version": "1.2.0",
            "_model_name": "LayoutModel",
            "_view_count": null,
            "_view_module": "@jupyter-widgets/base",
            "_view_module_version": "1.2.0",
            "_view_name": "LayoutView",
            "align_content": null,
            "align_items": null,
            "align_self": null,
            "border": null,
            "bottom": null,
            "display": null,
            "flex": null,
            "flex_flow": null,
            "grid_area": null,
            "grid_auto_columns": null,
            "grid_auto_flow": null,
            "grid_auto_rows": null,
            "grid_column": null,
            "grid_gap": null,
            "grid_row": null,
            "grid_template_areas": null,
            "grid_template_columns": null,
            "grid_template_rows": null,
            "height": null,
            "justify_content": null,
            "justify_items": null,
            "left": null,
            "margin": null,
            "max_height": null,
            "max_width": null,
            "min_height": null,
            "min_width": null,
            "object_fit": null,
            "object_position": null,
            "order": null,
            "overflow": null,
            "overflow_x": null,
            "overflow_y": null,
            "padding": null,
            "right": null,
            "top": null,
            "visibility": null,
            "width": null
          }
        },
        "f496daf6241d4c57b34077f85f13e30e": {
          "model_module": "@jupyter-widgets/controls",
          "model_name": "ProgressStyleModel",
          "model_module_version": "1.5.0",
          "state": {
            "_model_module": "@jupyter-widgets/controls",
            "_model_module_version": "1.5.0",
            "_model_name": "ProgressStyleModel",
            "_view_count": null,
            "_view_module": "@jupyter-widgets/base",
            "_view_module_version": "1.2.0",
            "_view_name": "StyleView",
            "bar_color": null,
            "description_width": ""
          }
        },
        "d0a13ce3baeb40a4ae5149fbb6822549": {
          "model_module": "@jupyter-widgets/base",
          "model_name": "LayoutModel",
          "model_module_version": "1.2.0",
          "state": {
            "_model_module": "@jupyter-widgets/base",
            "_model_module_version": "1.2.0",
            "_model_name": "LayoutModel",
            "_view_count": null,
            "_view_module": "@jupyter-widgets/base",
            "_view_module_version": "1.2.0",
            "_view_name": "LayoutView",
            "align_content": null,
            "align_items": null,
            "align_self": null,
            "border": null,
            "bottom": null,
            "display": null,
            "flex": null,
            "flex_flow": null,
            "grid_area": null,
            "grid_auto_columns": null,
            "grid_auto_flow": null,
            "grid_auto_rows": null,
            "grid_column": null,
            "grid_gap": null,
            "grid_row": null,
            "grid_template_areas": null,
            "grid_template_columns": null,
            "grid_template_rows": null,
            "height": null,
            "justify_content": null,
            "justify_items": null,
            "left": null,
            "margin": null,
            "max_height": null,
            "max_width": null,
            "min_height": null,
            "min_width": null,
            "object_fit": null,
            "object_position": null,
            "order": null,
            "overflow": null,
            "overflow_x": null,
            "overflow_y": null,
            "padding": null,
            "right": null,
            "top": null,
            "visibility": null,
            "width": null
          }
        },
        "fbf6331a6b284633baecde2ca07a3138": {
          "model_module": "@jupyter-widgets/controls",
          "model_name": "DescriptionStyleModel",
          "model_module_version": "1.5.0",
          "state": {
            "_model_module": "@jupyter-widgets/controls",
            "_model_module_version": "1.5.0",
            "_model_name": "DescriptionStyleModel",
            "_view_count": null,
            "_view_module": "@jupyter-widgets/base",
            "_view_module_version": "1.2.0",
            "_view_name": "StyleView",
            "description_width": ""
          }
        },
        "929bc7e8306241d4af30a0b29c325e43": {
          "model_module": "@jupyter-widgets/controls",
          "model_name": "HBoxModel",
          "model_module_version": "1.5.0",
          "state": {
            "_dom_classes": [],
            "_model_module": "@jupyter-widgets/controls",
            "_model_module_version": "1.5.0",
            "_model_name": "HBoxModel",
            "_view_count": null,
            "_view_module": "@jupyter-widgets/controls",
            "_view_module_version": "1.5.0",
            "_view_name": "HBoxView",
            "box_style": "",
            "children": [
              "IPY_MODEL_27af73ad581d484c94b4fd4ef242616f",
              "IPY_MODEL_300d758f8f304c2f9935c5b9c1385e3b",
              "IPY_MODEL_2b879aaf91f3440794a47dd69375ff82"
            ],
            "layout": "IPY_MODEL_1d9e47b34e4246f097ef237e4973b1c1"
          }
        },
        "27af73ad581d484c94b4fd4ef242616f": {
          "model_module": "@jupyter-widgets/controls",
          "model_name": "HTMLModel",
          "model_module_version": "1.5.0",
          "state": {
            "_dom_classes": [],
            "_model_module": "@jupyter-widgets/controls",
            "_model_module_version": "1.5.0",
            "_model_name": "HTMLModel",
            "_view_count": null,
            "_view_module": "@jupyter-widgets/controls",
            "_view_module_version": "1.5.0",
            "_view_name": "HTMLView",
            "description": "",
            "description_tooltip": null,
            "layout": "IPY_MODEL_f29ae263878e4d6994008b8d7c0681fb",
            "placeholder": "​",
            "style": "IPY_MODEL_bbc19ac636d84945913fe6c69c0b92aa",
            "value": "Map: 100%"
          }
        },
        "300d758f8f304c2f9935c5b9c1385e3b": {
          "model_module": "@jupyter-widgets/controls",
          "model_name": "FloatProgressModel",
          "model_module_version": "1.5.0",
          "state": {
            "_dom_classes": [],
            "_model_module": "@jupyter-widgets/controls",
            "_model_module_version": "1.5.0",
            "_model_name": "FloatProgressModel",
            "_view_count": null,
            "_view_module": "@jupyter-widgets/controls",
            "_view_module_version": "1.5.0",
            "_view_name": "ProgressView",
            "bar_style": "success",
            "description": "",
            "description_tooltip": null,
            "layout": "IPY_MODEL_324cdbd9d9954c0d80c64de231ccdcce",
            "max": 744,
            "min": 0,
            "orientation": "horizontal",
            "style": "IPY_MODEL_f8e4eb1c2c3a423bab60559f81fa953b",
            "value": 744
          }
        },
        "2b879aaf91f3440794a47dd69375ff82": {
          "model_module": "@jupyter-widgets/controls",
          "model_name": "HTMLModel",
          "model_module_version": "1.5.0",
          "state": {
            "_dom_classes": [],
            "_model_module": "@jupyter-widgets/controls",
            "_model_module_version": "1.5.0",
            "_model_name": "HTMLModel",
            "_view_count": null,
            "_view_module": "@jupyter-widgets/controls",
            "_view_module_version": "1.5.0",
            "_view_name": "HTMLView",
            "description": "",
            "description_tooltip": null,
            "layout": "IPY_MODEL_8647044c35344ca397fdbbeb334f58b6",
            "placeholder": "​",
            "style": "IPY_MODEL_02510045e84047ac878ef1c8505b8efd",
            "value": " 744/744 [00:02&lt;00:00, 361.04 examples/s]"
          }
        },
        "1d9e47b34e4246f097ef237e4973b1c1": {
          "model_module": "@jupyter-widgets/base",
          "model_name": "LayoutModel",
          "model_module_version": "1.2.0",
          "state": {
            "_model_module": "@jupyter-widgets/base",
            "_model_module_version": "1.2.0",
            "_model_name": "LayoutModel",
            "_view_count": null,
            "_view_module": "@jupyter-widgets/base",
            "_view_module_version": "1.2.0",
            "_view_name": "LayoutView",
            "align_content": null,
            "align_items": null,
            "align_self": null,
            "border": null,
            "bottom": null,
            "display": null,
            "flex": null,
            "flex_flow": null,
            "grid_area": null,
            "grid_auto_columns": null,
            "grid_auto_flow": null,
            "grid_auto_rows": null,
            "grid_column": null,
            "grid_gap": null,
            "grid_row": null,
            "grid_template_areas": null,
            "grid_template_columns": null,
            "grid_template_rows": null,
            "height": null,
            "justify_content": null,
            "justify_items": null,
            "left": null,
            "margin": null,
            "max_height": null,
            "max_width": null,
            "min_height": null,
            "min_width": null,
            "object_fit": null,
            "object_position": null,
            "order": null,
            "overflow": null,
            "overflow_x": null,
            "overflow_y": null,
            "padding": null,
            "right": null,
            "top": null,
            "visibility": null,
            "width": null
          }
        },
        "f29ae263878e4d6994008b8d7c0681fb": {
          "model_module": "@jupyter-widgets/base",
          "model_name": "LayoutModel",
          "model_module_version": "1.2.0",
          "state": {
            "_model_module": "@jupyter-widgets/base",
            "_model_module_version": "1.2.0",
            "_model_name": "LayoutModel",
            "_view_count": null,
            "_view_module": "@jupyter-widgets/base",
            "_view_module_version": "1.2.0",
            "_view_name": "LayoutView",
            "align_content": null,
            "align_items": null,
            "align_self": null,
            "border": null,
            "bottom": null,
            "display": null,
            "flex": null,
            "flex_flow": null,
            "grid_area": null,
            "grid_auto_columns": null,
            "grid_auto_flow": null,
            "grid_auto_rows": null,
            "grid_column": null,
            "grid_gap": null,
            "grid_row": null,
            "grid_template_areas": null,
            "grid_template_columns": null,
            "grid_template_rows": null,
            "height": null,
            "justify_content": null,
            "justify_items": null,
            "left": null,
            "margin": null,
            "max_height": null,
            "max_width": null,
            "min_height": null,
            "min_width": null,
            "object_fit": null,
            "object_position": null,
            "order": null,
            "overflow": null,
            "overflow_x": null,
            "overflow_y": null,
            "padding": null,
            "right": null,
            "top": null,
            "visibility": null,
            "width": null
          }
        },
        "bbc19ac636d84945913fe6c69c0b92aa": {
          "model_module": "@jupyter-widgets/controls",
          "model_name": "DescriptionStyleModel",
          "model_module_version": "1.5.0",
          "state": {
            "_model_module": "@jupyter-widgets/controls",
            "_model_module_version": "1.5.0",
            "_model_name": "DescriptionStyleModel",
            "_view_count": null,
            "_view_module": "@jupyter-widgets/base",
            "_view_module_version": "1.2.0",
            "_view_name": "StyleView",
            "description_width": ""
          }
        },
        "324cdbd9d9954c0d80c64de231ccdcce": {
          "model_module": "@jupyter-widgets/base",
          "model_name": "LayoutModel",
          "model_module_version": "1.2.0",
          "state": {
            "_model_module": "@jupyter-widgets/base",
            "_model_module_version": "1.2.0",
            "_model_name": "LayoutModel",
            "_view_count": null,
            "_view_module": "@jupyter-widgets/base",
            "_view_module_version": "1.2.0",
            "_view_name": "LayoutView",
            "align_content": null,
            "align_items": null,
            "align_self": null,
            "border": null,
            "bottom": null,
            "display": null,
            "flex": null,
            "flex_flow": null,
            "grid_area": null,
            "grid_auto_columns": null,
            "grid_auto_flow": null,
            "grid_auto_rows": null,
            "grid_column": null,
            "grid_gap": null,
            "grid_row": null,
            "grid_template_areas": null,
            "grid_template_columns": null,
            "grid_template_rows": null,
            "height": null,
            "justify_content": null,
            "justify_items": null,
            "left": null,
            "margin": null,
            "max_height": null,
            "max_width": null,
            "min_height": null,
            "min_width": null,
            "object_fit": null,
            "object_position": null,
            "order": null,
            "overflow": null,
            "overflow_x": null,
            "overflow_y": null,
            "padding": null,
            "right": null,
            "top": null,
            "visibility": null,
            "width": null
          }
        },
        "f8e4eb1c2c3a423bab60559f81fa953b": {
          "model_module": "@jupyter-widgets/controls",
          "model_name": "ProgressStyleModel",
          "model_module_version": "1.5.0",
          "state": {
            "_model_module": "@jupyter-widgets/controls",
            "_model_module_version": "1.5.0",
            "_model_name": "ProgressStyleModel",
            "_view_count": null,
            "_view_module": "@jupyter-widgets/base",
            "_view_module_version": "1.2.0",
            "_view_name": "StyleView",
            "bar_color": null,
            "description_width": ""
          }
        },
        "8647044c35344ca397fdbbeb334f58b6": {
          "model_module": "@jupyter-widgets/base",
          "model_name": "LayoutModel",
          "model_module_version": "1.2.0",
          "state": {
            "_model_module": "@jupyter-widgets/base",
            "_model_module_version": "1.2.0",
            "_model_name": "LayoutModel",
            "_view_count": null,
            "_view_module": "@jupyter-widgets/base",
            "_view_module_version": "1.2.0",
            "_view_name": "LayoutView",
            "align_content": null,
            "align_items": null,
            "align_self": null,
            "border": null,
            "bottom": null,
            "display": null,
            "flex": null,
            "flex_flow": null,
            "grid_area": null,
            "grid_auto_columns": null,
            "grid_auto_flow": null,
            "grid_auto_rows": null,
            "grid_column": null,
            "grid_gap": null,
            "grid_row": null,
            "grid_template_areas": null,
            "grid_template_columns": null,
            "grid_template_rows": null,
            "height": null,
            "justify_content": null,
            "justify_items": null,
            "left": null,
            "margin": null,
            "max_height": null,
            "max_width": null,
            "min_height": null,
            "min_width": null,
            "object_fit": null,
            "object_position": null,
            "order": null,
            "overflow": null,
            "overflow_x": null,
            "overflow_y": null,
            "padding": null,
            "right": null,
            "top": null,
            "visibility": null,
            "width": null
          }
        },
        "02510045e84047ac878ef1c8505b8efd": {
          "model_module": "@jupyter-widgets/controls",
          "model_name": "DescriptionStyleModel",
          "model_module_version": "1.5.0",
          "state": {
            "_model_module": "@jupyter-widgets/controls",
            "_model_module_version": "1.5.0",
            "_model_name": "DescriptionStyleModel",
            "_view_count": null,
            "_view_module": "@jupyter-widgets/base",
            "_view_module_version": "1.2.0",
            "_view_name": "StyleView",
            "description_width": ""
          }
        },
        "7c8c84654a674d1b9a7783504628c9e1": {
          "model_module": "@jupyter-widgets/controls",
          "model_name": "HBoxModel",
          "model_module_version": "1.5.0",
          "state": {
            "_dom_classes": [],
            "_model_module": "@jupyter-widgets/controls",
            "_model_module_version": "1.5.0",
            "_model_name": "HBoxModel",
            "_view_count": null,
            "_view_module": "@jupyter-widgets/controls",
            "_view_module_version": "1.5.0",
            "_view_name": "HBoxView",
            "box_style": "",
            "children": [
              "IPY_MODEL_6fc2343f8e8045cc8dc8d0befbae92f3",
              "IPY_MODEL_3df3f5faa15c4f648c993d6d281283f3",
              "IPY_MODEL_cb5a4ee3f85e4cebac7a29bc44b685c8"
            ],
            "layout": "IPY_MODEL_b0df506e1ffe41e78e991d7039f16f28"
          }
        },
        "6fc2343f8e8045cc8dc8d0befbae92f3": {
          "model_module": "@jupyter-widgets/controls",
          "model_name": "HTMLModel",
          "model_module_version": "1.5.0",
          "state": {
            "_dom_classes": [],
            "_model_module": "@jupyter-widgets/controls",
            "_model_module_version": "1.5.0",
            "_model_name": "HTMLModel",
            "_view_count": null,
            "_view_module": "@jupyter-widgets/controls",
            "_view_module_version": "1.5.0",
            "_view_name": "HTMLView",
            "description": "",
            "description_tooltip": null,
            "layout": "IPY_MODEL_10b745d78627416aaf5c9d2fd4694570",
            "placeholder": "​",
            "style": "IPY_MODEL_1a7f751b7e274643b9fdc37b4759eba8",
            "value": "Map: 100%"
          }
        },
        "3df3f5faa15c4f648c993d6d281283f3": {
          "model_module": "@jupyter-widgets/controls",
          "model_name": "FloatProgressModel",
          "model_module_version": "1.5.0",
          "state": {
            "_dom_classes": [],
            "_model_module": "@jupyter-widgets/controls",
            "_model_module_version": "1.5.0",
            "_model_name": "FloatProgressModel",
            "_view_count": null,
            "_view_module": "@jupyter-widgets/controls",
            "_view_module_version": "1.5.0",
            "_view_name": "ProgressView",
            "bar_style": "success",
            "description": "",
            "description_tooltip": null,
            "layout": "IPY_MODEL_063137e3d94e451598937550d1f1ff29",
            "max": 193,
            "min": 0,
            "orientation": "horizontal",
            "style": "IPY_MODEL_0b7d3c0e9b574035a8adc4a610b6ec46",
            "value": 193
          }
        },
        "cb5a4ee3f85e4cebac7a29bc44b685c8": {
          "model_module": "@jupyter-widgets/controls",
          "model_name": "HTMLModel",
          "model_module_version": "1.5.0",
          "state": {
            "_dom_classes": [],
            "_model_module": "@jupyter-widgets/controls",
            "_model_module_version": "1.5.0",
            "_model_name": "HTMLModel",
            "_view_count": null,
            "_view_module": "@jupyter-widgets/controls",
            "_view_module_version": "1.5.0",
            "_view_name": "HTMLView",
            "description": "",
            "description_tooltip": null,
            "layout": "IPY_MODEL_1c9391d9c1ea486ebe07039cf640daee",
            "placeholder": "​",
            "style": "IPY_MODEL_ebda631925dd4d74a7d170b27bb609cd",
            "value": " 193/193 [00:00&lt;00:00, 222.28 examples/s]"
          }
        },
        "b0df506e1ffe41e78e991d7039f16f28": {
          "model_module": "@jupyter-widgets/base",
          "model_name": "LayoutModel",
          "model_module_version": "1.2.0",
          "state": {
            "_model_module": "@jupyter-widgets/base",
            "_model_module_version": "1.2.0",
            "_model_name": "LayoutModel",
            "_view_count": null,
            "_view_module": "@jupyter-widgets/base",
            "_view_module_version": "1.2.0",
            "_view_name": "LayoutView",
            "align_content": null,
            "align_items": null,
            "align_self": null,
            "border": null,
            "bottom": null,
            "display": null,
            "flex": null,
            "flex_flow": null,
            "grid_area": null,
            "grid_auto_columns": null,
            "grid_auto_flow": null,
            "grid_auto_rows": null,
            "grid_column": null,
            "grid_gap": null,
            "grid_row": null,
            "grid_template_areas": null,
            "grid_template_columns": null,
            "grid_template_rows": null,
            "height": null,
            "justify_content": null,
            "justify_items": null,
            "left": null,
            "margin": null,
            "max_height": null,
            "max_width": null,
            "min_height": null,
            "min_width": null,
            "object_fit": null,
            "object_position": null,
            "order": null,
            "overflow": null,
            "overflow_x": null,
            "overflow_y": null,
            "padding": null,
            "right": null,
            "top": null,
            "visibility": null,
            "width": null
          }
        },
        "10b745d78627416aaf5c9d2fd4694570": {
          "model_module": "@jupyter-widgets/base",
          "model_name": "LayoutModel",
          "model_module_version": "1.2.0",
          "state": {
            "_model_module": "@jupyter-widgets/base",
            "_model_module_version": "1.2.0",
            "_model_name": "LayoutModel",
            "_view_count": null,
            "_view_module": "@jupyter-widgets/base",
            "_view_module_version": "1.2.0",
            "_view_name": "LayoutView",
            "align_content": null,
            "align_items": null,
            "align_self": null,
            "border": null,
            "bottom": null,
            "display": null,
            "flex": null,
            "flex_flow": null,
            "grid_area": null,
            "grid_auto_columns": null,
            "grid_auto_flow": null,
            "grid_auto_rows": null,
            "grid_column": null,
            "grid_gap": null,
            "grid_row": null,
            "grid_template_areas": null,
            "grid_template_columns": null,
            "grid_template_rows": null,
            "height": null,
            "justify_content": null,
            "justify_items": null,
            "left": null,
            "margin": null,
            "max_height": null,
            "max_width": null,
            "min_height": null,
            "min_width": null,
            "object_fit": null,
            "object_position": null,
            "order": null,
            "overflow": null,
            "overflow_x": null,
            "overflow_y": null,
            "padding": null,
            "right": null,
            "top": null,
            "visibility": null,
            "width": null
          }
        },
        "1a7f751b7e274643b9fdc37b4759eba8": {
          "model_module": "@jupyter-widgets/controls",
          "model_name": "DescriptionStyleModel",
          "model_module_version": "1.5.0",
          "state": {
            "_model_module": "@jupyter-widgets/controls",
            "_model_module_version": "1.5.0",
            "_model_name": "DescriptionStyleModel",
            "_view_count": null,
            "_view_module": "@jupyter-widgets/base",
            "_view_module_version": "1.2.0",
            "_view_name": "StyleView",
            "description_width": ""
          }
        },
        "063137e3d94e451598937550d1f1ff29": {
          "model_module": "@jupyter-widgets/base",
          "model_name": "LayoutModel",
          "model_module_version": "1.2.0",
          "state": {
            "_model_module": "@jupyter-widgets/base",
            "_model_module_version": "1.2.0",
            "_model_name": "LayoutModel",
            "_view_count": null,
            "_view_module": "@jupyter-widgets/base",
            "_view_module_version": "1.2.0",
            "_view_name": "LayoutView",
            "align_content": null,
            "align_items": null,
            "align_self": null,
            "border": null,
            "bottom": null,
            "display": null,
            "flex": null,
            "flex_flow": null,
            "grid_area": null,
            "grid_auto_columns": null,
            "grid_auto_flow": null,
            "grid_auto_rows": null,
            "grid_column": null,
            "grid_gap": null,
            "grid_row": null,
            "grid_template_areas": null,
            "grid_template_columns": null,
            "grid_template_rows": null,
            "height": null,
            "justify_content": null,
            "justify_items": null,
            "left": null,
            "margin": null,
            "max_height": null,
            "max_width": null,
            "min_height": null,
            "min_width": null,
            "object_fit": null,
            "object_position": null,
            "order": null,
            "overflow": null,
            "overflow_x": null,
            "overflow_y": null,
            "padding": null,
            "right": null,
            "top": null,
            "visibility": null,
            "width": null
          }
        },
        "0b7d3c0e9b574035a8adc4a610b6ec46": {
          "model_module": "@jupyter-widgets/controls",
          "model_name": "ProgressStyleModel",
          "model_module_version": "1.5.0",
          "state": {
            "_model_module": "@jupyter-widgets/controls",
            "_model_module_version": "1.5.0",
            "_model_name": "ProgressStyleModel",
            "_view_count": null,
            "_view_module": "@jupyter-widgets/base",
            "_view_module_version": "1.2.0",
            "_view_name": "StyleView",
            "bar_color": null,
            "description_width": ""
          }
        },
        "1c9391d9c1ea486ebe07039cf640daee": {
          "model_module": "@jupyter-widgets/base",
          "model_name": "LayoutModel",
          "model_module_version": "1.2.0",
          "state": {
            "_model_module": "@jupyter-widgets/base",
            "_model_module_version": "1.2.0",
            "_model_name": "LayoutModel",
            "_view_count": null,
            "_view_module": "@jupyter-widgets/base",
            "_view_module_version": "1.2.0",
            "_view_name": "LayoutView",
            "align_content": null,
            "align_items": null,
            "align_self": null,
            "border": null,
            "bottom": null,
            "display": null,
            "flex": null,
            "flex_flow": null,
            "grid_area": null,
            "grid_auto_columns": null,
            "grid_auto_flow": null,
            "grid_auto_rows": null,
            "grid_column": null,
            "grid_gap": null,
            "grid_row": null,
            "grid_template_areas": null,
            "grid_template_columns": null,
            "grid_template_rows": null,
            "height": null,
            "justify_content": null,
            "justify_items": null,
            "left": null,
            "margin": null,
            "max_height": null,
            "max_width": null,
            "min_height": null,
            "min_width": null,
            "object_fit": null,
            "object_position": null,
            "order": null,
            "overflow": null,
            "overflow_x": null,
            "overflow_y": null,
            "padding": null,
            "right": null,
            "top": null,
            "visibility": null,
            "width": null
          }
        },
        "ebda631925dd4d74a7d170b27bb609cd": {
          "model_module": "@jupyter-widgets/controls",
          "model_name": "DescriptionStyleModel",
          "model_module_version": "1.5.0",
          "state": {
            "_model_module": "@jupyter-widgets/controls",
            "_model_module_version": "1.5.0",
            "_model_name": "DescriptionStyleModel",
            "_view_count": null,
            "_view_module": "@jupyter-widgets/base",
            "_view_module_version": "1.2.0",
            "_view_name": "StyleView",
            "description_width": ""
          }
        },
        "5a6754bbd87a4f07b4567ae77f3b4069": {
          "model_module": "@jupyter-widgets/controls",
          "model_name": "HBoxModel",
          "model_module_version": "1.5.0",
          "state": {
            "_dom_classes": [],
            "_model_module": "@jupyter-widgets/controls",
            "_model_module_version": "1.5.0",
            "_model_name": "HBoxModel",
            "_view_count": null,
            "_view_module": "@jupyter-widgets/controls",
            "_view_module_version": "1.5.0",
            "_view_name": "HBoxView",
            "box_style": "",
            "children": [
              "IPY_MODEL_5819dc683db647f384303484e1ac85d5",
              "IPY_MODEL_17faee70e6d9425d88105f71b9934afc",
              "IPY_MODEL_c8df233446034f6c91dba73f1d56f869"
            ],
            "layout": "IPY_MODEL_42bbbf060bd8400ebd96099547cff30c"
          }
        },
        "5819dc683db647f384303484e1ac85d5": {
          "model_module": "@jupyter-widgets/controls",
          "model_name": "HTMLModel",
          "model_module_version": "1.5.0",
          "state": {
            "_dom_classes": [],
            "_model_module": "@jupyter-widgets/controls",
            "_model_module_version": "1.5.0",
            "_model_name": "HTMLModel",
            "_view_count": null,
            "_view_module": "@jupyter-widgets/controls",
            "_view_module_version": "1.5.0",
            "_view_name": "HTMLView",
            "description": "",
            "description_tooltip": null,
            "layout": "IPY_MODEL_793403fe0b50458aabdc802ac8f5f6ff",
            "placeholder": "​",
            "style": "IPY_MODEL_a56e51fe9e7e4c8c8a9331543e8699c8",
            "value": "Map: 100%"
          }
        },
        "17faee70e6d9425d88105f71b9934afc": {
          "model_module": "@jupyter-widgets/controls",
          "model_name": "FloatProgressModel",
          "model_module_version": "1.5.0",
          "state": {
            "_dom_classes": [],
            "_model_module": "@jupyter-widgets/controls",
            "_model_module_version": "1.5.0",
            "_model_name": "FloatProgressModel",
            "_view_count": null,
            "_view_module": "@jupyter-widgets/controls",
            "_view_module_version": "1.5.0",
            "_view_name": "ProgressView",
            "bar_style": "success",
            "description": "",
            "description_tooltip": null,
            "layout": "IPY_MODEL_c4851e926cbe45bf9dda7739343ac520",
            "max": 25,
            "min": 0,
            "orientation": "horizontal",
            "style": "IPY_MODEL_f2c13e903a8c4b8cbf070b85c7ebaefe",
            "value": 25
          }
        },
        "c8df233446034f6c91dba73f1d56f869": {
          "model_module": "@jupyter-widgets/controls",
          "model_name": "HTMLModel",
          "model_module_version": "1.5.0",
          "state": {
            "_dom_classes": [],
            "_model_module": "@jupyter-widgets/controls",
            "_model_module_version": "1.5.0",
            "_model_name": "HTMLModel",
            "_view_count": null,
            "_view_module": "@jupyter-widgets/controls",
            "_view_module_version": "1.5.0",
            "_view_name": "HTMLView",
            "description": "",
            "description_tooltip": null,
            "layout": "IPY_MODEL_f22c871d00904fad89ffd4125c90e5a5",
            "placeholder": "​",
            "style": "IPY_MODEL_b5645990e5854b7089b190a0350536f7",
            "value": " 25/25 [00:00&lt;00:00, 218.26 examples/s]"
          }
        },
        "42bbbf060bd8400ebd96099547cff30c": {
          "model_module": "@jupyter-widgets/base",
          "model_name": "LayoutModel",
          "model_module_version": "1.2.0",
          "state": {
            "_model_module": "@jupyter-widgets/base",
            "_model_module_version": "1.2.0",
            "_model_name": "LayoutModel",
            "_view_count": null,
            "_view_module": "@jupyter-widgets/base",
            "_view_module_version": "1.2.0",
            "_view_name": "LayoutView",
            "align_content": null,
            "align_items": null,
            "align_self": null,
            "border": null,
            "bottom": null,
            "display": null,
            "flex": null,
            "flex_flow": null,
            "grid_area": null,
            "grid_auto_columns": null,
            "grid_auto_flow": null,
            "grid_auto_rows": null,
            "grid_column": null,
            "grid_gap": null,
            "grid_row": null,
            "grid_template_areas": null,
            "grid_template_columns": null,
            "grid_template_rows": null,
            "height": null,
            "justify_content": null,
            "justify_items": null,
            "left": null,
            "margin": null,
            "max_height": null,
            "max_width": null,
            "min_height": null,
            "min_width": null,
            "object_fit": null,
            "object_position": null,
            "order": null,
            "overflow": null,
            "overflow_x": null,
            "overflow_y": null,
            "padding": null,
            "right": null,
            "top": null,
            "visibility": null,
            "width": null
          }
        },
        "793403fe0b50458aabdc802ac8f5f6ff": {
          "model_module": "@jupyter-widgets/base",
          "model_name": "LayoutModel",
          "model_module_version": "1.2.0",
          "state": {
            "_model_module": "@jupyter-widgets/base",
            "_model_module_version": "1.2.0",
            "_model_name": "LayoutModel",
            "_view_count": null,
            "_view_module": "@jupyter-widgets/base",
            "_view_module_version": "1.2.0",
            "_view_name": "LayoutView",
            "align_content": null,
            "align_items": null,
            "align_self": null,
            "border": null,
            "bottom": null,
            "display": null,
            "flex": null,
            "flex_flow": null,
            "grid_area": null,
            "grid_auto_columns": null,
            "grid_auto_flow": null,
            "grid_auto_rows": null,
            "grid_column": null,
            "grid_gap": null,
            "grid_row": null,
            "grid_template_areas": null,
            "grid_template_columns": null,
            "grid_template_rows": null,
            "height": null,
            "justify_content": null,
            "justify_items": null,
            "left": null,
            "margin": null,
            "max_height": null,
            "max_width": null,
            "min_height": null,
            "min_width": null,
            "object_fit": null,
            "object_position": null,
            "order": null,
            "overflow": null,
            "overflow_x": null,
            "overflow_y": null,
            "padding": null,
            "right": null,
            "top": null,
            "visibility": null,
            "width": null
          }
        },
        "a56e51fe9e7e4c8c8a9331543e8699c8": {
          "model_module": "@jupyter-widgets/controls",
          "model_name": "DescriptionStyleModel",
          "model_module_version": "1.5.0",
          "state": {
            "_model_module": "@jupyter-widgets/controls",
            "_model_module_version": "1.5.0",
            "_model_name": "DescriptionStyleModel",
            "_view_count": null,
            "_view_module": "@jupyter-widgets/base",
            "_view_module_version": "1.2.0",
            "_view_name": "StyleView",
            "description_width": ""
          }
        },
        "c4851e926cbe45bf9dda7739343ac520": {
          "model_module": "@jupyter-widgets/base",
          "model_name": "LayoutModel",
          "model_module_version": "1.2.0",
          "state": {
            "_model_module": "@jupyter-widgets/base",
            "_model_module_version": "1.2.0",
            "_model_name": "LayoutModel",
            "_view_count": null,
            "_view_module": "@jupyter-widgets/base",
            "_view_module_version": "1.2.0",
            "_view_name": "LayoutView",
            "align_content": null,
            "align_items": null,
            "align_self": null,
            "border": null,
            "bottom": null,
            "display": null,
            "flex": null,
            "flex_flow": null,
            "grid_area": null,
            "grid_auto_columns": null,
            "grid_auto_flow": null,
            "grid_auto_rows": null,
            "grid_column": null,
            "grid_gap": null,
            "grid_row": null,
            "grid_template_areas": null,
            "grid_template_columns": null,
            "grid_template_rows": null,
            "height": null,
            "justify_content": null,
            "justify_items": null,
            "left": null,
            "margin": null,
            "max_height": null,
            "max_width": null,
            "min_height": null,
            "min_width": null,
            "object_fit": null,
            "object_position": null,
            "order": null,
            "overflow": null,
            "overflow_x": null,
            "overflow_y": null,
            "padding": null,
            "right": null,
            "top": null,
            "visibility": null,
            "width": null
          }
        },
        "f2c13e903a8c4b8cbf070b85c7ebaefe": {
          "model_module": "@jupyter-widgets/controls",
          "model_name": "ProgressStyleModel",
          "model_module_version": "1.5.0",
          "state": {
            "_model_module": "@jupyter-widgets/controls",
            "_model_module_version": "1.5.0",
            "_model_name": "ProgressStyleModel",
            "_view_count": null,
            "_view_module": "@jupyter-widgets/base",
            "_view_module_version": "1.2.0",
            "_view_name": "StyleView",
            "bar_color": null,
            "description_width": ""
          }
        },
        "f22c871d00904fad89ffd4125c90e5a5": {
          "model_module": "@jupyter-widgets/base",
          "model_name": "LayoutModel",
          "model_module_version": "1.2.0",
          "state": {
            "_model_module": "@jupyter-widgets/base",
            "_model_module_version": "1.2.0",
            "_model_name": "LayoutModel",
            "_view_count": null,
            "_view_module": "@jupyter-widgets/base",
            "_view_module_version": "1.2.0",
            "_view_name": "LayoutView",
            "align_content": null,
            "align_items": null,
            "align_self": null,
            "border": null,
            "bottom": null,
            "display": null,
            "flex": null,
            "flex_flow": null,
            "grid_area": null,
            "grid_auto_columns": null,
            "grid_auto_flow": null,
            "grid_auto_rows": null,
            "grid_column": null,
            "grid_gap": null,
            "grid_row": null,
            "grid_template_areas": null,
            "grid_template_columns": null,
            "grid_template_rows": null,
            "height": null,
            "justify_content": null,
            "justify_items": null,
            "left": null,
            "margin": null,
            "max_height": null,
            "max_width": null,
            "min_height": null,
            "min_width": null,
            "object_fit": null,
            "object_position": null,
            "order": null,
            "overflow": null,
            "overflow_x": null,
            "overflow_y": null,
            "padding": null,
            "right": null,
            "top": null,
            "visibility": null,
            "width": null
          }
        },
        "b5645990e5854b7089b190a0350536f7": {
          "model_module": "@jupyter-widgets/controls",
          "model_name": "DescriptionStyleModel",
          "model_module_version": "1.5.0",
          "state": {
            "_model_module": "@jupyter-widgets/controls",
            "_model_module_version": "1.5.0",
            "_model_name": "DescriptionStyleModel",
            "_view_count": null,
            "_view_module": "@jupyter-widgets/base",
            "_view_module_version": "1.2.0",
            "_view_name": "StyleView",
            "description_width": ""
          }
        },
        "90d48e99717743b0a50a9f7450b5010c": {
          "model_module": "@jupyter-widgets/controls",
          "model_name": "HBoxModel",
          "model_module_version": "1.5.0",
          "state": {
            "_dom_classes": [],
            "_model_module": "@jupyter-widgets/controls",
            "_model_module_version": "1.5.0",
            "_model_name": "HBoxModel",
            "_view_count": null,
            "_view_module": "@jupyter-widgets/controls",
            "_view_module_version": "1.5.0",
            "_view_name": "HBoxView",
            "box_style": "",
            "children": [
              "IPY_MODEL_75cd3f29cbe34be9ae48fb068420008f",
              "IPY_MODEL_2423e6c5aafd47c795dde2f6ab854b0c",
              "IPY_MODEL_8b1f8848b5824d5bb1a7529440d871d0"
            ],
            "layout": "IPY_MODEL_7883f98869ea438bb517bc840bcaf67e"
          }
        },
        "75cd3f29cbe34be9ae48fb068420008f": {
          "model_module": "@jupyter-widgets/controls",
          "model_name": "HTMLModel",
          "model_module_version": "1.5.0",
          "state": {
            "_dom_classes": [],
            "_model_module": "@jupyter-widgets/controls",
            "_model_module_version": "1.5.0",
            "_model_name": "HTMLModel",
            "_view_count": null,
            "_view_module": "@jupyter-widgets/controls",
            "_view_module_version": "1.5.0",
            "_view_name": "HTMLView",
            "description": "",
            "description_tooltip": null,
            "layout": "IPY_MODEL_a213422c1a0e430fb7c30115e2dd93a2",
            "placeholder": "​",
            "style": "IPY_MODEL_b7b07a6f94514706a0abc82ac434cf78",
            "value": "model.safetensors: 100%"
          }
        },
        "2423e6c5aafd47c795dde2f6ab854b0c": {
          "model_module": "@jupyter-widgets/controls",
          "model_name": "FloatProgressModel",
          "model_module_version": "1.5.0",
          "state": {
            "_dom_classes": [],
            "_model_module": "@jupyter-widgets/controls",
            "_model_module_version": "1.5.0",
            "_model_name": "FloatProgressModel",
            "_view_count": null,
            "_view_module": "@jupyter-widgets/controls",
            "_view_module_version": "1.5.0",
            "_view_name": "ProgressView",
            "bar_style": "success",
            "description": "",
            "description_tooltip": null,
            "layout": "IPY_MODEL_f6007f9a72374a3f813d07f18c2d8444",
            "max": 267954768,
            "min": 0,
            "orientation": "horizontal",
            "style": "IPY_MODEL_ebf5b3b06e6345cf9c201dcd03c11a31",
            "value": 267954768
          }
        },
        "8b1f8848b5824d5bb1a7529440d871d0": {
          "model_module": "@jupyter-widgets/controls",
          "model_name": "HTMLModel",
          "model_module_version": "1.5.0",
          "state": {
            "_dom_classes": [],
            "_model_module": "@jupyter-widgets/controls",
            "_model_module_version": "1.5.0",
            "_model_name": "HTMLModel",
            "_view_count": null,
            "_view_module": "@jupyter-widgets/controls",
            "_view_module_version": "1.5.0",
            "_view_name": "HTMLView",
            "description": "",
            "description_tooltip": null,
            "layout": "IPY_MODEL_3fae8555b9af4d04ae0c94e48c832dfd",
            "placeholder": "​",
            "style": "IPY_MODEL_d286a41be64e473db7af63727a628dc6",
            "value": " 268M/268M [00:02&lt;00:00, 115MB/s]"
          }
        },
        "7883f98869ea438bb517bc840bcaf67e": {
          "model_module": "@jupyter-widgets/base",
          "model_name": "LayoutModel",
          "model_module_version": "1.2.0",
          "state": {
            "_model_module": "@jupyter-widgets/base",
            "_model_module_version": "1.2.0",
            "_model_name": "LayoutModel",
            "_view_count": null,
            "_view_module": "@jupyter-widgets/base",
            "_view_module_version": "1.2.0",
            "_view_name": "LayoutView",
            "align_content": null,
            "align_items": null,
            "align_self": null,
            "border": null,
            "bottom": null,
            "display": null,
            "flex": null,
            "flex_flow": null,
            "grid_area": null,
            "grid_auto_columns": null,
            "grid_auto_flow": null,
            "grid_auto_rows": null,
            "grid_column": null,
            "grid_gap": null,
            "grid_row": null,
            "grid_template_areas": null,
            "grid_template_columns": null,
            "grid_template_rows": null,
            "height": null,
            "justify_content": null,
            "justify_items": null,
            "left": null,
            "margin": null,
            "max_height": null,
            "max_width": null,
            "min_height": null,
            "min_width": null,
            "object_fit": null,
            "object_position": null,
            "order": null,
            "overflow": null,
            "overflow_x": null,
            "overflow_y": null,
            "padding": null,
            "right": null,
            "top": null,
            "visibility": null,
            "width": null
          }
        },
        "a213422c1a0e430fb7c30115e2dd93a2": {
          "model_module": "@jupyter-widgets/base",
          "model_name": "LayoutModel",
          "model_module_version": "1.2.0",
          "state": {
            "_model_module": "@jupyter-widgets/base",
            "_model_module_version": "1.2.0",
            "_model_name": "LayoutModel",
            "_view_count": null,
            "_view_module": "@jupyter-widgets/base",
            "_view_module_version": "1.2.0",
            "_view_name": "LayoutView",
            "align_content": null,
            "align_items": null,
            "align_self": null,
            "border": null,
            "bottom": null,
            "display": null,
            "flex": null,
            "flex_flow": null,
            "grid_area": null,
            "grid_auto_columns": null,
            "grid_auto_flow": null,
            "grid_auto_rows": null,
            "grid_column": null,
            "grid_gap": null,
            "grid_row": null,
            "grid_template_areas": null,
            "grid_template_columns": null,
            "grid_template_rows": null,
            "height": null,
            "justify_content": null,
            "justify_items": null,
            "left": null,
            "margin": null,
            "max_height": null,
            "max_width": null,
            "min_height": null,
            "min_width": null,
            "object_fit": null,
            "object_position": null,
            "order": null,
            "overflow": null,
            "overflow_x": null,
            "overflow_y": null,
            "padding": null,
            "right": null,
            "top": null,
            "visibility": null,
            "width": null
          }
        },
        "b7b07a6f94514706a0abc82ac434cf78": {
          "model_module": "@jupyter-widgets/controls",
          "model_name": "DescriptionStyleModel",
          "model_module_version": "1.5.0",
          "state": {
            "_model_module": "@jupyter-widgets/controls",
            "_model_module_version": "1.5.0",
            "_model_name": "DescriptionStyleModel",
            "_view_count": null,
            "_view_module": "@jupyter-widgets/base",
            "_view_module_version": "1.2.0",
            "_view_name": "StyleView",
            "description_width": ""
          }
        },
        "f6007f9a72374a3f813d07f18c2d8444": {
          "model_module": "@jupyter-widgets/base",
          "model_name": "LayoutModel",
          "model_module_version": "1.2.0",
          "state": {
            "_model_module": "@jupyter-widgets/base",
            "_model_module_version": "1.2.0",
            "_model_name": "LayoutModel",
            "_view_count": null,
            "_view_module": "@jupyter-widgets/base",
            "_view_module_version": "1.2.0",
            "_view_name": "LayoutView",
            "align_content": null,
            "align_items": null,
            "align_self": null,
            "border": null,
            "bottom": null,
            "display": null,
            "flex": null,
            "flex_flow": null,
            "grid_area": null,
            "grid_auto_columns": null,
            "grid_auto_flow": null,
            "grid_auto_rows": null,
            "grid_column": null,
            "grid_gap": null,
            "grid_row": null,
            "grid_template_areas": null,
            "grid_template_columns": null,
            "grid_template_rows": null,
            "height": null,
            "justify_content": null,
            "justify_items": null,
            "left": null,
            "margin": null,
            "max_height": null,
            "max_width": null,
            "min_height": null,
            "min_width": null,
            "object_fit": null,
            "object_position": null,
            "order": null,
            "overflow": null,
            "overflow_x": null,
            "overflow_y": null,
            "padding": null,
            "right": null,
            "top": null,
            "visibility": null,
            "width": null
          }
        },
        "ebf5b3b06e6345cf9c201dcd03c11a31": {
          "model_module": "@jupyter-widgets/controls",
          "model_name": "ProgressStyleModel",
          "model_module_version": "1.5.0",
          "state": {
            "_model_module": "@jupyter-widgets/controls",
            "_model_module_version": "1.5.0",
            "_model_name": "ProgressStyleModel",
            "_view_count": null,
            "_view_module": "@jupyter-widgets/base",
            "_view_module_version": "1.2.0",
            "_view_name": "StyleView",
            "bar_color": null,
            "description_width": ""
          }
        },
        "3fae8555b9af4d04ae0c94e48c832dfd": {
          "model_module": "@jupyter-widgets/base",
          "model_name": "LayoutModel",
          "model_module_version": "1.2.0",
          "state": {
            "_model_module": "@jupyter-widgets/base",
            "_model_module_version": "1.2.0",
            "_model_name": "LayoutModel",
            "_view_count": null,
            "_view_module": "@jupyter-widgets/base",
            "_view_module_version": "1.2.0",
            "_view_name": "LayoutView",
            "align_content": null,
            "align_items": null,
            "align_self": null,
            "border": null,
            "bottom": null,
            "display": null,
            "flex": null,
            "flex_flow": null,
            "grid_area": null,
            "grid_auto_columns": null,
            "grid_auto_flow": null,
            "grid_auto_rows": null,
            "grid_column": null,
            "grid_gap": null,
            "grid_row": null,
            "grid_template_areas": null,
            "grid_template_columns": null,
            "grid_template_rows": null,
            "height": null,
            "justify_content": null,
            "justify_items": null,
            "left": null,
            "margin": null,
            "max_height": null,
            "max_width": null,
            "min_height": null,
            "min_width": null,
            "object_fit": null,
            "object_position": null,
            "order": null,
            "overflow": null,
            "overflow_x": null,
            "overflow_y": null,
            "padding": null,
            "right": null,
            "top": null,
            "visibility": null,
            "width": null
          }
        },
        "d286a41be64e473db7af63727a628dc6": {
          "model_module": "@jupyter-widgets/controls",
          "model_name": "DescriptionStyleModel",
          "model_module_version": "1.5.0",
          "state": {
            "_model_module": "@jupyter-widgets/controls",
            "_model_module_version": "1.5.0",
            "_model_name": "DescriptionStyleModel",
            "_view_count": null,
            "_view_module": "@jupyter-widgets/base",
            "_view_module_version": "1.2.0",
            "_view_name": "StyleView",
            "description_width": ""
          }
        }
      }
    },
    "accelerator": "GPU"
  },
  "cells": [
    {
      "cell_type": "markdown",
      "metadata": {
        "id": "view-in-github",
        "colab_type": "text"
      },
      "source": [
        "<a href=\"https://colab.research.google.com/github/amitchug/ALMlops/blob/main/M3_SNB_MiniProject_1_ResumeClassification_Using_Bert.ipynb\" target=\"_parent\"><img src=\"https://colab.research.google.com/assets/colab-badge.svg\" alt=\"Open In Colab\"/></a>"
      ]
    },
    {
      "cell_type": "markdown",
      "metadata": {
        "id": "gOQv69UdcrIK"
      },
      "source": [
        "# Advanced Certification Programme in AI and MLOps\n",
        "## A programme by IISc and TalentSprint\n",
        "### Mini-Project 1: Resume Classification"
      ]
    },
    {
      "cell_type": "markdown",
      "metadata": {
        "id": "n-kxaHhwXEp9"
      },
      "source": [
        "**DISCLAIMER:** THIS NOTEBOOK IS PROVIDED ONLY AS A REFERENCE SOLUTION NOTEBOOK FOR THE MINI-PROJECT. THERE MAY BE OTHER POSSIBLE APPROACHES/METHODS TO ACHIEVE THE SAME RESULTS."
      ]
    },
    {
      "cell_type": "markdown",
      "metadata": {
        "id": "sNCzT95pcrIN"
      },
      "source": [
        "## Learning Objectives"
      ]
    },
    {
      "cell_type": "markdown",
      "metadata": {
        "id": "IMBrLtAtcrIO"
      },
      "source": [
        "At the end of the mini-project, you will be able to :\n",
        "\n",
        "* perform data preprocessing, EDA on the resume dataset\n",
        "* fine-tune Bert model for resume classification"
      ]
    },
    {
      "cell_type": "markdown",
      "metadata": {
        "id": "v6Xda9CM9el9"
      },
      "source": [
        "## Dataset Description"
      ]
    },
    {
      "cell_type": "markdown",
      "metadata": {
        "id": "VeRfk4Sb9h0r"
      },
      "source": [
        "The data is in CSV format, with two features: Category, and Resume.\n",
        "\n",
        "**Category** -  Industry sector to which the resume belongs to, and\n",
        "\n",
        "**Resume** - The complete CV (text) of the candidate."
      ]
    },
    {
      "cell_type": "markdown",
      "metadata": {
        "id": "R7ZV5ryMP07f"
      },
      "source": [
        "##  Grading = 10 Points"
      ]
    },
    {
      "cell_type": "markdown",
      "metadata": {
        "id": "4Pped-3NPaDV"
      },
      "source": [
        "## Information"
      ]
    },
    {
      "cell_type": "markdown",
      "metadata": {
        "id": "QuxYf07d62Oo"
      },
      "source": [
        "Companies often receive thousands of resumes for each job posting and employ dedicated screening officers to screen qualified candidates. Finding suitable candidates for an open role from a database of 1000s of resumes can be a tough task. Automated resume categorization can speeden the candidate selection process. Such automation can really ease the tedious process of fair screening and shortlisting the right candidates and aid quick decisionmaking.\n",
        "\n",
        "To learn more about this, click [here](https://www.sciencedirect.com/science/article/pii/S187705092030750X)."
      ]
    },
    {
      "cell_type": "markdown",
      "source": [
        "**Problem Statement:** Fine-tune a pre-trained Bert model for resume classification.\n",
        "\n",
        "*For fine-tuning Bert, refer to the HuggingFace platform session held on 17 Aug.*"
      ],
      "metadata": {
        "id": "Jqt_yoAhlkFa"
      }
    },
    {
      "cell_type": "markdown",
      "source": [
        "### Install dependencies\n",
        "\n",
        "After installing the below dependencies ***Restart the session/runtime***."
      ],
      "metadata": {
        "id": "lNKEGvMEIK5f"
      }
    },
    {
      "cell_type": "code",
      "source": [
        "!pip -q uninstall pyarrow -y\n",
        "!pip -q install pyarrow==15.0.2\n",
        "!pip -q install datasets\n",
        "!pip -q install accelerate\n",
        "!pip -q install transformers\n",
        "\n",
        "# Ignore the Error/Warning showing after running this cell"
      ],
      "metadata": {
        "colab": {
          "base_uri": "https://localhost:8080/"
        },
        "id": "ejNC4T4_A0GN",
        "outputId": "d6eed8a0-a05e-4741-ed3c-3c905e64af94"
      },
      "execution_count": null,
      "outputs": [
        {
          "output_type": "stream",
          "name": "stdout",
          "text": [
            "\u001b[2K   \u001b[90m━━━━━━━━━━━━━━━━━━━━━━━━━━━━━━━━━━━━━━━━\u001b[0m \u001b[32m38.3/38.3 MB\u001b[0m \u001b[31m9.6 MB/s\u001b[0m eta \u001b[36m0:00:00\u001b[0m\n",
            "\u001b[2K   \u001b[90m━━━━━━━━━━━━━━━━━━━━━━━━━━━━━━━━━━━━━━━━\u001b[0m \u001b[32m480.6/480.6 kB\u001b[0m \u001b[31m14.1 MB/s\u001b[0m eta \u001b[36m0:00:00\u001b[0m\n",
            "\u001b[2K   \u001b[90m━━━━━━━━━━━━━━━━━━━━━━━━━━━━━━━━━━━━━━━━\u001b[0m \u001b[32m116.3/116.3 kB\u001b[0m \u001b[31m7.1 MB/s\u001b[0m eta \u001b[36m0:00:00\u001b[0m\n",
            "\u001b[2K   \u001b[90m━━━━━━━━━━━━━━━━━━━━━━━━━━━━━━━━━━━━━━━━\u001b[0m \u001b[32m179.3/179.3 kB\u001b[0m \u001b[31m6.9 MB/s\u001b[0m eta \u001b[36m0:00:00\u001b[0m\n",
            "\u001b[2K   \u001b[90m━━━━━━━━━━━━━━━━━━━━━━━━━━━━━━━━━━━━━━━━\u001b[0m \u001b[32m134.8/134.8 kB\u001b[0m \u001b[31m10.6 MB/s\u001b[0m eta \u001b[36m0:00:00\u001b[0m\n",
            "\u001b[2K   \u001b[90m━━━━━━━━━━━━━━━━━━━━━━━━━━━━━━━━━━━━━━━━\u001b[0m \u001b[32m194.1/194.1 kB\u001b[0m \u001b[31m13.0 MB/s\u001b[0m eta \u001b[36m0:00:00\u001b[0m\n",
            "\u001b[?25h\u001b[31mERROR: pip's dependency resolver does not currently take into account all the packages that are installed. This behaviour is the source of the following dependency conflicts.\n",
            "gcsfs 2024.10.0 requires fsspec==2024.10.0, but you have fsspec 2024.9.0 which is incompatible.\u001b[0m\u001b[31m\n",
            "\u001b[0m"
          ]
        }
      ]
    },
    {
      "cell_type": "markdown",
      "source": [
        "### <font color=\"#990000\">Restart Session/Runtime</font>"
      ],
      "metadata": {
        "id": "sTBUGx6zfgsJ"
      }
    },
    {
      "cell_type": "markdown",
      "source": [
        "### Import required packages"
      ],
      "metadata": {
        "id": "HdoX5Go6IhCE"
      }
    },
    {
      "cell_type": "code",
      "metadata": {
        "id": "5t0FQjPs8o4s",
        "colab": {
          "base_uri": "https://localhost:8080/"
        },
        "outputId": "9bbffb94-ce4c-4531-f3ae-fe33de668cfc"
      },
      "source": [
        "from datasets import Dataset, DatasetDict\n",
        "\n",
        "from transformers import AutoTokenizer\n",
        "from transformers import AutoModelForSequenceClassification\n",
        "from transformers import TrainingArguments\n",
        "from transformers import Trainer\n",
        "from transformers import pipeline\n",
        "\n",
        "import numpy as np\n",
        "import pandas as pd\n",
        "import seaborn as sns\n",
        "import matplotlib.pyplot as plt\n",
        "from matplotlib.gridspec import GridSpec\n",
        "\n",
        "from sklearn.model_selection import train_test_split\n",
        "from sklearn.preprocessing import LabelEncoder\n",
        "\n",
        "import nltk\n",
        "nltk.download('stopwords')\n",
        "nltk.download('punkt')\n",
        "from nltk.corpus import stopwords\n",
        "\n",
        "import warnings\n",
        "warnings.filterwarnings('ignore')"
      ],
      "execution_count": null,
      "outputs": [
        {
          "output_type": "stream",
          "name": "stderr",
          "text": [
            "[nltk_data] Downloading package stopwords to /root/nltk_data...\n",
            "[nltk_data]   Unzipping corpora/stopwords.zip.\n",
            "[nltk_data] Downloading package punkt to /root/nltk_data...\n",
            "[nltk_data]   Unzipping tokenizers/punkt.zip.\n"
          ]
        }
      ]
    },
    {
      "cell_type": "markdown",
      "metadata": {
        "id": "standing-zimbabwe"
      },
      "source": [
        "### Downloading the data"
      ]
    },
    {
      "cell_type": "code",
      "metadata": {
        "id": "universal-jonathan",
        "scrolled": true,
        "colab": {
          "base_uri": "https://localhost:8080/"
        },
        "outputId": "9ad107ac-2e20-48f3-ec31-89000bc0f1b7"
      },
      "source": [
        "#@title Download the data\n",
        "!wget -qq https://cdn.iisc.talentsprint.com/CDS/Datasets/UpdatedResumeDataSet.csv\n",
        "!ls | grep '.csv'"
      ],
      "execution_count": null,
      "outputs": [
        {
          "output_type": "stream",
          "name": "stdout",
          "text": [
            "UpdatedResumeDataSet.csv\n"
          ]
        }
      ]
    },
    {
      "cell_type": "markdown",
      "metadata": {
        "id": "T3FkLI6wcaat"
      },
      "source": [
        "**Exercise 1: Read the UpdatedResumeDataset.csv dataset [0.5 Mark]**\n",
        "\n",
        "**Hint:** pd.read_csv( , encoding='utf-8')"
      ]
    },
    {
      "cell_type": "code",
      "metadata": {
        "id": "eIu-AOsB9GfD",
        "colab": {
          "base_uri": "https://localhost:8080/",
          "height": 206
        },
        "outputId": "d2725384-9069-4b24-e1f9-8bf1fdbcf120"
      },
      "source": [
        "df = pd.read_csv('UpdatedResumeDataSet.csv', encoding='utf-8')\n",
        "df.head()"
      ],
      "execution_count": null,
      "outputs": [
        {
          "output_type": "execute_result",
          "data": {
            "text/plain": [
              "       Category                                             Resume\n",
              "0  Data Science  Skills * Programming Languages: Python (pandas...\n",
              "1  Data Science  Education Details \\r\\nMay 2013 to May 2017 B.E...\n",
              "2  Data Science  Areas of Interest Deep Learning, Control Syste...\n",
              "3  Data Science  Skills â¢ R â¢ Python â¢ SAP HANA â¢ Table...\n",
              "4  Data Science  Education Details \\r\\n MCA   YMCAUST,  Faridab..."
            ],
            "text/html": [
              "\n",
              "  <div id=\"df-ee6a670e-9d52-4deb-9deb-3b9865267ca7\" class=\"colab-df-container\">\n",
              "    <div>\n",
              "<style scoped>\n",
              "    .dataframe tbody tr th:only-of-type {\n",
              "        vertical-align: middle;\n",
              "    }\n",
              "\n",
              "    .dataframe tbody tr th {\n",
              "        vertical-align: top;\n",
              "    }\n",
              "\n",
              "    .dataframe thead th {\n",
              "        text-align: right;\n",
              "    }\n",
              "</style>\n",
              "<table border=\"1\" class=\"dataframe\">\n",
              "  <thead>\n",
              "    <tr style=\"text-align: right;\">\n",
              "      <th></th>\n",
              "      <th>Category</th>\n",
              "      <th>Resume</th>\n",
              "    </tr>\n",
              "  </thead>\n",
              "  <tbody>\n",
              "    <tr>\n",
              "      <th>0</th>\n",
              "      <td>Data Science</td>\n",
              "      <td>Skills * Programming Languages: Python (pandas...</td>\n",
              "    </tr>\n",
              "    <tr>\n",
              "      <th>1</th>\n",
              "      <td>Data Science</td>\n",
              "      <td>Education Details \\r\\nMay 2013 to May 2017 B.E...</td>\n",
              "    </tr>\n",
              "    <tr>\n",
              "      <th>2</th>\n",
              "      <td>Data Science</td>\n",
              "      <td>Areas of Interest Deep Learning, Control Syste...</td>\n",
              "    </tr>\n",
              "    <tr>\n",
              "      <th>3</th>\n",
              "      <td>Data Science</td>\n",
              "      <td>Skills â¢ R â¢ Python â¢ SAP HANA â¢ Table...</td>\n",
              "    </tr>\n",
              "    <tr>\n",
              "      <th>4</th>\n",
              "      <td>Data Science</td>\n",
              "      <td>Education Details \\r\\n MCA   YMCAUST,  Faridab...</td>\n",
              "    </tr>\n",
              "  </tbody>\n",
              "</table>\n",
              "</div>\n",
              "    <div class=\"colab-df-buttons\">\n",
              "\n",
              "  <div class=\"colab-df-container\">\n",
              "    <button class=\"colab-df-convert\" onclick=\"convertToInteractive('df-ee6a670e-9d52-4deb-9deb-3b9865267ca7')\"\n",
              "            title=\"Convert this dataframe to an interactive table.\"\n",
              "            style=\"display:none;\">\n",
              "\n",
              "  <svg xmlns=\"http://www.w3.org/2000/svg\" height=\"24px\" viewBox=\"0 -960 960 960\">\n",
              "    <path d=\"M120-120v-720h720v720H120Zm60-500h600v-160H180v160Zm220 220h160v-160H400v160Zm0 220h160v-160H400v160ZM180-400h160v-160H180v160Zm440 0h160v-160H620v160ZM180-180h160v-160H180v160Zm440 0h160v-160H620v160Z\"/>\n",
              "  </svg>\n",
              "    </button>\n",
              "\n",
              "  <style>\n",
              "    .colab-df-container {\n",
              "      display:flex;\n",
              "      gap: 12px;\n",
              "    }\n",
              "\n",
              "    .colab-df-convert {\n",
              "      background-color: #E8F0FE;\n",
              "      border: none;\n",
              "      border-radius: 50%;\n",
              "      cursor: pointer;\n",
              "      display: none;\n",
              "      fill: #1967D2;\n",
              "      height: 32px;\n",
              "      padding: 0 0 0 0;\n",
              "      width: 32px;\n",
              "    }\n",
              "\n",
              "    .colab-df-convert:hover {\n",
              "      background-color: #E2EBFA;\n",
              "      box-shadow: 0px 1px 2px rgba(60, 64, 67, 0.3), 0px 1px 3px 1px rgba(60, 64, 67, 0.15);\n",
              "      fill: #174EA6;\n",
              "    }\n",
              "\n",
              "    .colab-df-buttons div {\n",
              "      margin-bottom: 4px;\n",
              "    }\n",
              "\n",
              "    [theme=dark] .colab-df-convert {\n",
              "      background-color: #3B4455;\n",
              "      fill: #D2E3FC;\n",
              "    }\n",
              "\n",
              "    [theme=dark] .colab-df-convert:hover {\n",
              "      background-color: #434B5C;\n",
              "      box-shadow: 0px 1px 3px 1px rgba(0, 0, 0, 0.15);\n",
              "      filter: drop-shadow(0px 1px 2px rgba(0, 0, 0, 0.3));\n",
              "      fill: #FFFFFF;\n",
              "    }\n",
              "  </style>\n",
              "\n",
              "    <script>\n",
              "      const buttonEl =\n",
              "        document.querySelector('#df-ee6a670e-9d52-4deb-9deb-3b9865267ca7 button.colab-df-convert');\n",
              "      buttonEl.style.display =\n",
              "        google.colab.kernel.accessAllowed ? 'block' : 'none';\n",
              "\n",
              "      async function convertToInteractive(key) {\n",
              "        const element = document.querySelector('#df-ee6a670e-9d52-4deb-9deb-3b9865267ca7');\n",
              "        const dataTable =\n",
              "          await google.colab.kernel.invokeFunction('convertToInteractive',\n",
              "                                                    [key], {});\n",
              "        if (!dataTable) return;\n",
              "\n",
              "        const docLinkHtml = 'Like what you see? Visit the ' +\n",
              "          '<a target=\"_blank\" href=https://colab.research.google.com/notebooks/data_table.ipynb>data table notebook</a>'\n",
              "          + ' to learn more about interactive tables.';\n",
              "        element.innerHTML = '';\n",
              "        dataTable['output_type'] = 'display_data';\n",
              "        await google.colab.output.renderOutput(dataTable, element);\n",
              "        const docLink = document.createElement('div');\n",
              "        docLink.innerHTML = docLinkHtml;\n",
              "        element.appendChild(docLink);\n",
              "      }\n",
              "    </script>\n",
              "  </div>\n",
              "\n",
              "\n",
              "<div id=\"df-237d757a-5722-40e7-8824-3037075412ad\">\n",
              "  <button class=\"colab-df-quickchart\" onclick=\"quickchart('df-237d757a-5722-40e7-8824-3037075412ad')\"\n",
              "            title=\"Suggest charts\"\n",
              "            style=\"display:none;\">\n",
              "\n",
              "<svg xmlns=\"http://www.w3.org/2000/svg\" height=\"24px\"viewBox=\"0 0 24 24\"\n",
              "     width=\"24px\">\n",
              "    <g>\n",
              "        <path d=\"M19 3H5c-1.1 0-2 .9-2 2v14c0 1.1.9 2 2 2h14c1.1 0 2-.9 2-2V5c0-1.1-.9-2-2-2zM9 17H7v-7h2v7zm4 0h-2V7h2v10zm4 0h-2v-4h2v4z\"/>\n",
              "    </g>\n",
              "</svg>\n",
              "  </button>\n",
              "\n",
              "<style>\n",
              "  .colab-df-quickchart {\n",
              "      --bg-color: #E8F0FE;\n",
              "      --fill-color: #1967D2;\n",
              "      --hover-bg-color: #E2EBFA;\n",
              "      --hover-fill-color: #174EA6;\n",
              "      --disabled-fill-color: #AAA;\n",
              "      --disabled-bg-color: #DDD;\n",
              "  }\n",
              "\n",
              "  [theme=dark] .colab-df-quickchart {\n",
              "      --bg-color: #3B4455;\n",
              "      --fill-color: #D2E3FC;\n",
              "      --hover-bg-color: #434B5C;\n",
              "      --hover-fill-color: #FFFFFF;\n",
              "      --disabled-bg-color: #3B4455;\n",
              "      --disabled-fill-color: #666;\n",
              "  }\n",
              "\n",
              "  .colab-df-quickchart {\n",
              "    background-color: var(--bg-color);\n",
              "    border: none;\n",
              "    border-radius: 50%;\n",
              "    cursor: pointer;\n",
              "    display: none;\n",
              "    fill: var(--fill-color);\n",
              "    height: 32px;\n",
              "    padding: 0;\n",
              "    width: 32px;\n",
              "  }\n",
              "\n",
              "  .colab-df-quickchart:hover {\n",
              "    background-color: var(--hover-bg-color);\n",
              "    box-shadow: 0 1px 2px rgba(60, 64, 67, 0.3), 0 1px 3px 1px rgba(60, 64, 67, 0.15);\n",
              "    fill: var(--button-hover-fill-color);\n",
              "  }\n",
              "\n",
              "  .colab-df-quickchart-complete:disabled,\n",
              "  .colab-df-quickchart-complete:disabled:hover {\n",
              "    background-color: var(--disabled-bg-color);\n",
              "    fill: var(--disabled-fill-color);\n",
              "    box-shadow: none;\n",
              "  }\n",
              "\n",
              "  .colab-df-spinner {\n",
              "    border: 2px solid var(--fill-color);\n",
              "    border-color: transparent;\n",
              "    border-bottom-color: var(--fill-color);\n",
              "    animation:\n",
              "      spin 1s steps(1) infinite;\n",
              "  }\n",
              "\n",
              "  @keyframes spin {\n",
              "    0% {\n",
              "      border-color: transparent;\n",
              "      border-bottom-color: var(--fill-color);\n",
              "      border-left-color: var(--fill-color);\n",
              "    }\n",
              "    20% {\n",
              "      border-color: transparent;\n",
              "      border-left-color: var(--fill-color);\n",
              "      border-top-color: var(--fill-color);\n",
              "    }\n",
              "    30% {\n",
              "      border-color: transparent;\n",
              "      border-left-color: var(--fill-color);\n",
              "      border-top-color: var(--fill-color);\n",
              "      border-right-color: var(--fill-color);\n",
              "    }\n",
              "    40% {\n",
              "      border-color: transparent;\n",
              "      border-right-color: var(--fill-color);\n",
              "      border-top-color: var(--fill-color);\n",
              "    }\n",
              "    60% {\n",
              "      border-color: transparent;\n",
              "      border-right-color: var(--fill-color);\n",
              "    }\n",
              "    80% {\n",
              "      border-color: transparent;\n",
              "      border-right-color: var(--fill-color);\n",
              "      border-bottom-color: var(--fill-color);\n",
              "    }\n",
              "    90% {\n",
              "      border-color: transparent;\n",
              "      border-bottom-color: var(--fill-color);\n",
              "    }\n",
              "  }\n",
              "</style>\n",
              "\n",
              "  <script>\n",
              "    async function quickchart(key) {\n",
              "      const quickchartButtonEl =\n",
              "        document.querySelector('#' + key + ' button');\n",
              "      quickchartButtonEl.disabled = true;  // To prevent multiple clicks.\n",
              "      quickchartButtonEl.classList.add('colab-df-spinner');\n",
              "      try {\n",
              "        const charts = await google.colab.kernel.invokeFunction(\n",
              "            'suggestCharts', [key], {});\n",
              "      } catch (error) {\n",
              "        console.error('Error during call to suggestCharts:', error);\n",
              "      }\n",
              "      quickchartButtonEl.classList.remove('colab-df-spinner');\n",
              "      quickchartButtonEl.classList.add('colab-df-quickchart-complete');\n",
              "    }\n",
              "    (() => {\n",
              "      let quickchartButtonEl =\n",
              "        document.querySelector('#df-237d757a-5722-40e7-8824-3037075412ad button');\n",
              "      quickchartButtonEl.style.display =\n",
              "        google.colab.kernel.accessAllowed ? 'block' : 'none';\n",
              "    })();\n",
              "  </script>\n",
              "</div>\n",
              "\n",
              "    </div>\n",
              "  </div>\n"
            ],
            "application/vnd.google.colaboratory.intrinsic+json": {
              "type": "dataframe",
              "variable_name": "df",
              "summary": "{\n  \"name\": \"df\",\n  \"rows\": 962,\n  \"fields\": [\n    {\n      \"column\": \"Category\",\n      \"properties\": {\n        \"dtype\": \"category\",\n        \"num_unique_values\": 25,\n        \"samples\": [\n          \"Civil Engineer\",\n          \"DevOps Engineer\",\n          \"Data Science\"\n        ],\n        \"semantic_type\": \"\",\n        \"description\": \"\"\n      }\n    },\n    {\n      \"column\": \"Resume\",\n      \"properties\": {\n        \"dtype\": \"category\",\n        \"num_unique_values\": 166,\n        \"samples\": [\n          \"KEY COMPETENCIES \\u00e2\\u009c\\u00b6Multi - Operations Management\\u00e2\\u009c\\u00b6People Management \\u00e2\\u009c\\u00b6Customer Services - Emails \\u00e2\\u009c\\u00b6 MIS \\u00e2\\u009c\\u00b6Vendor & Client Services Management\\u00e2\\u009c\\u00b6Cross Functional Coordination\\u00e2\\u009c\\u00b6Banking & Financial Services\\u00e2\\u009c\\u00b6 Transaction Monitoring * ATM Operations \\u00e2\\u009c\\u00b6 & Prepaid Card Operations (Pre-Issuance & Post-Issuance) \\u00e2\\u009c\\u00b6 POS Operations * JOB PROFILE & SKILLS: \\u00e2\\u0080\\u00a2 An effective communicator with excellent relationship building & interpersonal skills. Strong analytical, problem solving & organizational abilities. \\u00e2\\u0080\\u00a2 Extensive experience in managing operations with demonstrated leadership qualities & organisational skills during the tenure. \\u00e2\\u0080\\u00a2 Managing customer centric operations & ensuring customer satisfaction by achieving service quality norms. \\u00e2\\u0080\\u00a2 Analyzing of all operational problems, customer complaints and take preventive and corrective actions to resolve the same. \\u00e2\\u0080\\u00a2 Receive and respond to Key customer inquiries in an effective manner and provide relevant and timely information. \\u00e2\\u0080\\u00a2 Deft in steering banking back-end operations, analyzing risks and managing delinquencies with dexterity across applying techniques for maximizing recoveries and minimizing credit losses. \\u00e2\\u0080\\u00a2 Analyzed & identified training needs of the team members and developing, organizing and conducting training programs and manage bottom quartile team to improve their performance. \\u00e2\\u0080\\u00a2 Preparing and maintaining daily MIS reports to evaluate the performance and efficiency of the process relate to various verticals. \\u00e2\\u0080\\u00a2 Measuring the performance of the processes in terms of efficiency and effectiveness matrix and ensuring adherence to SLA. \\u00e2\\u0080\\u00a2 Major Activities Define processes for Field Services were monitored and necessary checks were executed and controlled. Also measured Vendor SLA by analyzing the TAT of vendors & the Client SLA provided to us. \\u00e2\\u0080\\u00a2 As per company procedures, handling & ensuring vendor's payment issues to be sorted out &payments are processed on quarterly basis. \\u00e2\\u0080\\u00a2 Appropriately plan and execute each skill of operations in accordance with the department's policies and procedures. \\u00e2\\u0080\\u00a2 Manage relationships with business team, software development team and other services to achieve project objectives. Different software Worked till now: - a. CTL prime - Axis Bank Credit Cards b. Insight - For POS Machine technical operations for Amex (MID & TID Generation- ATOS (Venture Infotek) c. Ticket Management System - TATA Communications Private Services Ltd (ATM - NOC Operations) d. Branch Portal (Yalamanchili Software Exports Ltd) - Prepaid Cards (SBI Bank & Zaggle Prepaid Oceans Services Ltd) Zaggle Prepaid Ocean Services Pvt Ltd Oct, 2017 to Till Date Designation: Manager - Operations (Payment Industry - Prepaid Cards - INR) Education Details \\r\\n  Commerce Mumbai, Maharashtra Mumbai University\\r\\nOperations Manager \\r\\n\\r\\nService Manager - Operations (Payment Industry - Prepaid Cards - INR & FTC)\\r\\nSkill Details \\r\\nOPERATIONS- Exprience - 73 months\\r\\nSATISFACTION- Exprience - 48 months\\r\\nTRAINING- Exprience - 24 months\\r\\nNOC- Exprience - 23 months\\r\\nPOINT OF SALE- Exprience - 20 monthsCompany Details \\r\\ncompany - Zaggle Prepaid Ocean Services Pvt Ltd\\r\\ndescription - Card Operations\\r\\ncompany - Yalamanchili Software Exports Ltd\\r\\ndescription - 24*7 Operations Pvt Ltd) Dec 2015 to Feb 2017\\r\\n\\r\\nDesignation: Service Manager - Operations (Payment Industry - Prepaid Cards - INR & FTC)\\r\\n\\r\\nKey Contributions: \\u00e2\\u0080\\u00a2 A result-oriented business professional in planning, executing& managing processes, improving efficiency of operations, team building and detailing process information to determine effective result into operations.\\r\\n\\u00e2\\u0080\\u00a2 Ensuring PINs generation (SLA) is maintained and chargeback cases are raised in perfect timeframe.\\r\\n\\u00e2\\u0080\\u00a2 Managing email customer services properly and ensuring the emails are replied properly. Also, ensuring transaction monitoring is properly managed 24/7.\\r\\n\\u00e2\\u0080\\u00a2 Assisting Bankers (SBI & Associated Banks) for their BCP plans by getting executed in the system with the help of DR-PR plans & vice versa or any other business requirements.\\r\\n\\u00e2\\u0080\\u00a2 Expertise in maintaining highest level of quality in operations; ensuring adherence to all the quality parameters and procedures as per the stringent norms.\\r\\n\\u00e2\\u0080\\u00a2 Lead, manage and supervise the execution of external audit engagements and responsible for presenting the findings & developing a quality reports to the senior Management and Clients.\\r\\n\\u00e2\\u0080\\u00a2 Coach/mentor (20) team members to perform at a higher level by giving opportunities, providing timely continuous feedback and working with staff to improve their communication, time management, decision making, organization, and analytical skills.\\r\\n\\u00e2\\u0080\\u00a2 Providing the solutions and services to the client in their own premises with aforesaid count of team members.\\r\\n\\u00e2\\u0080\\u00a2 Also ensuring end to end process of PR & DR as per client requirements (PR- DR & DR -PR) by interacting with internal & external stakeholders.\\r\\n\\u00e2\\u0080\\u00a2 Determining process gaps and designing & conducting training programs to enhance operational efficiency and retain talent by providing optimum opportunities for personal and professional growth.\\r\\ncompany - Credit Cards\\r\\ndescription - Ensured highest standard of customer satisfaction and quality service; developing new policies and procedures to improve based on customer feedback and resolving customer queries via correspondence, inbound calls & email channels with the strength of (12-16) Team members.\\r\\ncompany - AGS Transact Technologies Limited\\r\\ndescription - Key Contributions: Lead - SPOC to Banks\\r\\ncompany - TATA Communications Payment Solutions Ltd\\r\\ndescription - To make ATMs operational within TAT by analyzing the issue is technical or non-technical and also by interacting with internal & external stakeholders.\\r\\ncompany - Vertex Customer Solutions India Private Ltd\\r\\ndescription - Key Contributions: \\u00e2\\u0080\\u00a2 Build positive working relationship with all team members and clients by keeping Management informed   of KYC document collection & con-current audit progress, responding timely to Management inquiries, understanding the business and conducting self professionally.\\r\\ncompany - Financial Inclusion Network & Operations Limited\\r\\ndescription - Key Contributions: POS-Operations \\u00e2\\u0080\\u00a2 Cascading the adherence of process is strictly followed by team members & training them to reduce the downtime.\\r\\n\\u00e2\\u0080\\u00a2 Managing Stock of EDC Terminals \\u00e2\\u0080\\u00a2 Managing Deployments of terminals through Multiple teams \\u00e2\\u0080\\u00a2 Would have worked with multiple terminal make & model \\u00e2\\u0080\\u00a2 Managing Inward, Outward & QC of applications installed in the POS machines.\\r\\ncompany - Venture Infotek Private Ltd\\r\\ndescription - Key Contributions: POS-Operations\\r\\ncompany - Axis Bank Ltd - Customer Services\\r\\ndescription - Aug 2006 to Oct 2009 (Ma-Foi&I- smart)\\r\\n\\r\\nDesignation: Team Leader/Executive - Emails, Phone Banking & Correspondence Unit (Snail Mails)\",\n          \"Skill Set: Hadoop, Map Reduce, HDFS, Hive, Sqoop, java. Duration: 2016 to 2017. Role: Hadoop Developer Rplus offers an quick, simple and powerful cloud based Solution, Demand Sense to accurately predict demand for your product in all your markets which Combines Enterprise and External Data to predict demand more accurately through Uses Social Conversation and Sentiments to derive demand and Identifies significant drivers of sale out of hordes of factors that Selects the best suited model out of multiple forecasting models for each product. Responsibilities: \\u00e2\\u0080\\u00a2 Involved in deploying the product for customers, gathering requirements and algorithm optimization at backend of the product. \\u00e2\\u0080\\u00a2 Load and transform Large Datasets of structured semi structured. \\u00e2\\u0080\\u00a2 Responsible to manage data coming from different sources and application \\u00e2\\u0080\\u00a2 Supported Map Reduce Programs those are running on the cluster \\u00e2\\u0080\\u00a2 Involved in creating Hive tables, loading with data and writing hive queries which will run internally in map reduce way.Education Details \\r\\n\\r\\nHadoop Developer \\r\\n\\r\\nHadoop Developer - Braindatawire\\r\\nSkill Details \\r\\nAPACHE HADOOP HDFS- Exprience - 49 months\\r\\nAPACHE HADOOP SQOOP- Exprience - 49 months\\r\\nHadoop- Exprience - 49 months\\r\\nHADOOP- Exprience - 49 months\\r\\nHADOOP DISTRIBUTED FILE SYSTEM- Exprience - 49 monthsCompany Details \\r\\ncompany - Braindatawire\\r\\ndescription - Technical Skills:\\r\\n\\u00e2\\u0080\\u00a2   Programming: Core Java, Map Reduce, Scala\\r\\n\\u00e2\\u0080\\u00a2   Hadoop Tools: HDFS, Spark, Map Reduce, Sqoop, Hive, Hbase\\r\\n\\u00e2\\u0080\\u00a2   Database: MySQL, Oracle\\r\\n\\u00e2\\u0080\\u00a2   Scripting: Shell Scripting\\r\\n\\u00e2\\u0080\\u00a2   IDE: Eclipse\\r\\n\\u00e2\\u0080\\u00a2   Operating Systems: Linux (CentOS), Windows\\r\\n\\u00e2\\u0080\\u00a2   Source Control: Git (Github)\",\n          \"IT Skills: Area Exposure Modeling Tool: Bizagi, MS Visio Prototyping Tool: Indigo Studio. Documentation: MS Office (MS Word, MS Excel, MS Power Point) Testing Proficiency: Smoke, Sanity, Integration, Functional, Acceptance and UI Methodology implemented: Waterfall, Agile (Scrum) Database: SQL Testing Tool: HPQC Business Exposure Education Details \\r\\n Bachelor Of Computer Engineering Computer Engineering Mumbai, Maharashtra Thadomal Shahani Engineering college\\r\\n Diploma Computer Engineering Ulhasnagar, Maharashtra Institute of Technology\\r\\n Secondary School Certificate  Ulhasnagar, Maharashtra New English High School\\r\\nSenior Business Analyst - RPA \\r\\n\\r\\nSenior Business Analyst - RPA - Hexaware Technologies\\r\\nSkill Details \\r\\nDOCUMENTATION- Exprience - 47 months\\r\\nTESTING- Exprience - 29 months\\r\\nINTEGRATION- Exprience - 25 months\\r\\nINTEGRATOR- Exprience - 25 months\\r\\nPROTOTYPE- Exprience - 13 monthsCompany Details \\r\\ncompany - Hexaware Technologies\\r\\ndescription - Working as a RPA Business Analyst\\r\\ncompany - BBH- Brown Brothers Harriman & Co\\r\\ndescription - is a private bank that provides commercial banking, investment management, brokerage, and trust services to private companies and individuals. It also performs merger advisory, foreign exchange, custody services, commercial banking, and corporate financing services.\\r\\n\\r\\nResponsibilities: \\u00e2\\u0080\\u00a2 Performed Automation Assessment of various Processes and identified processes which can be candidates of RPA.\\r\\n\\u00e2\\u0080\\u00a2 Conducting Assessment that involves an initial Understanding of the Existing System, their technology, processes, Usage of the tools, Feasibility of tool with automation tool along with automation ROI analysis.\\r\\n\\u00e2\\u0080\\u00a2 Preparing the Automation Potential Sheet which describes the steps in the process, the volume and frequency of the transaction, the AHT taken by SME to perform the process and depending on the steps that could be automated, Automation potential and the manual efforts that will be saved are calculated.\\r\\nCalculating the complexity of the Process which is considered for automation and depending on all these factors Number of Bots and Number of Automation tool Licenses are determined.\\r\\n\\u00e2\\u0080\\u00a2 Implementing a Proof of Concept (POC) to Validate Feasibility by executing the selected critical use cases for conducting a POC which will helps to identify financial and operational benefits and provide recommendations regarding the actual need for complete automation.\\r\\n\\u00e2\\u0080\\u00a2 Gathering business requirements by conducting detailed interviews with business users, stakeholders, and Subject Matter Experts (SME's) \\u00e2\\u0080\\u00a2 Preparing Business Requirement Document and then converted Business requirements into Functional Requirements Specification.\\r\\n \\u00e2\\u0080\\u00a2 Constructing prototype early toward a design acceptable to the customer and feasible.\\r\\n\\u00e2\\u0080\\u00a2 Assisting in designing test plans, test scenarios and test cases for integration, regression, and user acceptance testing (UAT) to improve the overall quality of the Automation.\\r\\n\\u00e2\\u0080\\u00a2 Participating regularly in Walkthroughs and Review meetings with Project Manager, QA Engineers, and Development team.\\r\\n\\u00e2\\u0080\\u00a2 Regularly interacting with offshore and onshore development teams.\\r\\ncompany - FADV - First Advantage\\r\\ndescription - is a criminal background check company that delivers global solutions ranging from employment screenings to background checks.\\r\\nThe following are the processes which were covered:\\r\\nEmail Process, Research Process, Review Process.\\r\\n\\r\\nResponsibilities: \\u00e2\\u0080\\u00a2 Requirement Gathering through conducting Interviews & Brainstorming sessions with stakeholders \\u00e2\\u0080\\u00a2 To develop decision models and execute those rules as per the use case specifications.\\r\\n\\u00e2\\u0080\\u00a2 To Test/validate the decision models against document test data.\\r\\n\\u00e2\\u0080\\u00a2 To maintain and enhance the decision models for changes in regulations as per use case specifications.\\r\\n\\u00e2\\u0080\\u00a2 Responsible for performing the business research that will make a business growth.\\r\\n\\u00e2\\u0080\\u00a2 Developing a clear understanding of existing business functions and processes.\\r\\n\\u00e2\\u0080\\u00a2 Effectively communicate with the onsite clients for the queries, suggestions, and update.\\r\\n\\u00e2\\u0080\\u00a2 Giving suggestions to enhance the current processes.\\r\\n\\u00e2\\u0080\\u00a2 Identifying areas for process improvement.\\r\\n\\u00e2\\u0080\\u00a2 Flagging up potential problems at an early stage.\\r\\n\\u00e2\\u0080\\u00a2 Preparing PowerPoint presentations and documents for business meetings.\\r\\n\\u00e2\\u0080\\u00a2 Using any information gathered to write up detailed reports.\\r\\n\\u00e2\\u0080\\u00a2 Highlighting risks and issues that could impact project delivery.\\r\\n\\u00e2\\u0080\\u00a2 Able to work accurately.\\r\\n\\u00e2\\u0080\\u00a2 To develop and maintain documentation for internal team training and client end user operations.\\r\\n\\u00e2\\u0080\\u00a2 To work efficiently with team members and across teams.\\r\\n\\u00e2\\u0080\\u00a2 To mentor and train junior team members.\\r\\ncompany - Clinical Testing, Lab Work and Diagnostic Testing\\r\\ndescription - IQVIA provides services to its customers this includes: Clinical Testing, Lab Work and Diagnostic Testing under clinical trial. These customers need to pay to IQVIA and aging details and invoices are generated for the same.\\r\\nThe following are the processes which were covered:\\r\\n\\r\\nTracking Payments, Automated Real Time Metrics Reporting (Dashboard), Past Due Notifications, AR Statements, Credit/Rebill.\\r\\nResponsibilities: \\u00e2\\u0080\\u00a2 Conducting meetings with clients and key stakeholders to gather requirements, analyze, finalize and have formal sign-offs from approvers Gather and perform analysis of the business requirements \\u00e2\\u0080\\u00a2 Translating the business requirements into the Business Requirement Document [BRD], Functional Requirement Document [FRD].\\r\\n\\u00e2\\u0080\\u00a2 Facilitating meetings with the appropriate subject matter experts in both business and technology teams \\u00e2\\u0080\\u00a2 Coordinating with business user community for the execution of user acceptance test as well as tracking issues \\u00e2\\u0080\\u00a2 Working, collaborating and coordinating with Offshore and Onsite team members to fulfill the BA responsibilities from project initiation to Post-Implementation \\u00e2\\u0080\\u00a2 Reviewing the test scripts with business users as well as technology team. Execute test scripts with expected results for the System Integration Test (SIT) and User Acceptance Test (UAT) \\u00e2\\u0080\\u00a2 Coordinating and conducting the Production Acceptance Testing (PAT) with the business users \\u00e2\\u0080\\u00a2 Creating flow diagrams, structure charts, and other types of system or process representations \\u00e2\\u0080\\u00a2 Managing changes to requirements and baseline through a change control process \\u00e2\\u0080\\u00a2 Utilizing standard methods, design and testing tools throughout project development life cycle \\u00e2\\u0080\\u00a2 Work closely with the operational functional teams, operations management, and personnel, and various technology teams to facilitate a shared understanding of requirements and priorities across all areas\\r\\ncompany - Eduavenir IT Solution\\r\\ndescription - Project: M.B.M.S\\r\\n\\r\\nM.B.M.S. - is an Inventory management application that allows user to manage inventory details of different warehouses, having different products located at various locations and help extract what goods have been procured, sold or returned by customers. It generates automated invoicesalong withcustomized reports. It also managescustomer complaint and resolution system implementation along with automated MIS on monthly basis.Sales and forecastingis also developed on MIS System and the streamlining of process of warehousing and dispatch along with online proof of delivery management system (POD documentation) is generated.\\r\\n\\r\\nResponsibilities: \\u00e2\\u0080\\u00a2 Participate in requirement gathering discussion with client to understand the flow of business processes \\u00e2\\u0080\\u00a2 Analyze the requirements and determine the core processes, develop Process Documentation and ensure to stay up-to-date in conjunction with on-going changes \\u00e2\\u0080\\u00a2 Participate in process flow analysis and preparing BRD, SRS.\\r\\n\\u00e2\\u0080\\u00a2 Coordinating with developers, designers & operations teams for various nuances of the project, communicate the stakeholder requirements from requirement /enhancement to implementation and finally deliver the same within estimated timeframe.\\r\\n\\u00e2\\u0080\\u00a2 Support UAT by reviewing test cases, manage version control of documents, software builds.\\r\\n\\u00e2\\u0080\\u00a2 Coordinate with the stakeholders for UAT sign off and coordinate internally for production movement till Golive stage of the application.\\r\\n\\u00e2\\u0080\\u00a2 Provide demo and training to internal and end user using PowerPoint presentation.\\r\\n\\u00e2\\u0080\\u00a2 Resolving project functional &technical issues during UAT.\\r\\n\\u00e2\\u0080\\u00a2 Prioritizing the Production bugs and resolving the same within the estimated timeframe.\\r\\n\\u00e2\\u0080\\u00a2 Preparing Project Status Report and Production Bugs Status to all the stakeholders.\\r\\n\\u00e2\\u0080\\u00a2 Promoting and Networking for online trading platform.\\r\\n\\u00e2\\u0080\\u00a2 Designing query sheet for obtaining and comparison of quotes from various vendors.\\r\\n\\u00e2\\u0080\\u00a2 Development of product codes / material codes for inventory management (Master Data Management)\\r\\ncompany - CAPGEMINI Head Office\\r\\ndescription - Type: Mobile and Device Testing.       Duration: January 2014 - August 2014\\r\\n\\r\\nFollet - An application which takes an electronic request from the user for the books he requires from a particular follet store. This detailed information about books that will include the name of the book, its price, the date of the transaction and the parties involved which will then be sent to follet stores. User then create request for one or more books for a given date. This request is then processed further and user gets a mail of the date when he will be provided with that book.\\r\\n\\r\\nResponsibilities: \\u00e2\\u0080\\u00a2 Understanding the needs and business requirements.\\r\\n\\u00e2\\u0080\\u00a2 Preparing BRD, SRS by eliciting all the requirements from the client and SMEs \\u00e2\\u0080\\u00a2 Understanding the dependency of the modules in the system \\u00e2\\u0080\\u00a2 Preparation of test plan for Unit level and Integration level.\\r\\n\\u00e2\\u0080\\u00a2 Preparation and execution of test cases.\\r\\n\\u00e2\\u0080\\u00a2 Defect tracking, Issue Resolution, Risk Monitoring, Status Tracking, Reporting and Follow-up.\\r\\n\\u00e2\\u0080\\u00a2 Preparation of Test Completion report.\\r\\ncompany - CAPGEMINI Head Office\\r\\ndescription - \\r\\ncompany - CAPGEMINI Head Office\\r\\ndescription - Humana is a health care insurance project of U.S. which deals with supplying various medicines to citizens as per the doctor's reference and patient's insurance policy. This application keeps track of all the medicines user has consumed in the past and generates a patient history. A citizen is given a drug only after the doctor's reference so the doctor's information is also linked with the patient's history.\\r\\n\\r\\nResponsibilities: \\u00e2\\u0080\\u00a2 Understanding the requirements and getting clarifications from client.\\r\\n\\u00e2\\u0080\\u00a2 Involved in writing test cases based on test scenarios and execute them.\\r\\n\\u00e2\\u0080\\u00a2 Ensuring Test Coverage using Requirement Traceability Matrix (RTM) \\u00e2\\u0080\\u00a2 Preparation of Test Completion report.\\r\\ncompany - CAPGEMINI Head Office\\r\\ndescription - Testing Trends WQR (World Quality Report) is an application which allows the users to take a survey on different methods and technologies used for testing. Users can choose to answer any type of questions under three different categories. Users have a facility to search, view and export the data to excel. Also, users get daily and weekly reports through email about the new trends in testing implemented around the globe. Testing Trends WQR app is available on Android and IOS platforms.\\r\\n\\r\\nResponsibilities: \\u00e2\\u0080\\u00a2 Understanding the requirements and getting clarifications from client.\\r\\n\\u00e2\\u0080\\u00a2 Writing test cases based on test scenarios and executed them.\\r\\n\\u00e2\\u0080\\u00a2 Performing different types of testing such as Functional, Integration, System, and UAT.\\r\\n\\u00e2\\u0080\\u00a2 Defect resolution and maintenance of the application.\"\n        ],\n        \"semantic_type\": \"\",\n        \"description\": \"\"\n      }\n    }\n  ]\n}"
            }
          },
          "metadata": {},
          "execution_count": 4
        }
      ]
    },
    {
      "cell_type": "markdown",
      "metadata": {
        "id": "QvddL7X69NiB"
      },
      "source": [
        "### Pre-processing and EDA"
      ]
    },
    {
      "cell_type": "markdown",
      "metadata": {
        "id": "EA1d25HrzTGW"
      },
      "source": [
        "**Exercise 2: Display  all the categories of resumes and their counts in the dataset [0.5 Mark]**\n",
        "\n"
      ]
    },
    {
      "cell_type": "code",
      "metadata": {
        "id": "C92ji6ZV9MWs",
        "colab": {
          "base_uri": "https://localhost:8080/"
        },
        "outputId": "d380efa1-29e9-4e0f-a0b8-c891bc2ca04a"
      },
      "source": [
        "# Displaying the distinct categories of resume\n",
        "print(df['Category'].unique())"
      ],
      "execution_count": null,
      "outputs": [
        {
          "output_type": "stream",
          "name": "stdout",
          "text": [
            "['Data Science' 'HR' 'Advocate' 'Arts' 'Web Designing'\n",
            " 'Mechanical Engineer' 'Sales' 'Health and fitness' 'Civil Engineer'\n",
            " 'Java Developer' 'Business Analyst' 'SAP Developer' 'Automation Testing'\n",
            " 'Electrical Engineering' 'Operations Manager' 'Python Developer'\n",
            " 'DevOps Engineer' 'Network Security Engineer' 'PMO' 'Database' 'Hadoop'\n",
            " 'ETL Developer' 'DotNet Developer' 'Blockchain' 'Testing']\n"
          ]
        }
      ]
    },
    {
      "cell_type": "code",
      "source": [
        "# Displaying the number of distinct categories of resume\n",
        "print(df['Category'].nunique())"
      ],
      "metadata": {
        "colab": {
          "base_uri": "https://localhost:8080/"
        },
        "id": "hcvr3-nQn1PN",
        "outputId": "40438714-5998-47a9-8e7a-6d035a59b4bd"
      },
      "execution_count": null,
      "outputs": [
        {
          "output_type": "stream",
          "name": "stdout",
          "text": [
            "25\n"
          ]
        }
      ]
    },
    {
      "cell_type": "code",
      "metadata": {
        "id": "YtIjY7ji9va5",
        "colab": {
          "base_uri": "https://localhost:8080/"
        },
        "outputId": "4765e1e5-437c-4a9e-e1db-cb0dda65586e"
      },
      "source": [
        "# Displaying the distinct categories of resume and the number of records belonging to each category\n",
        "print(df['Category'].value_counts())"
      ],
      "execution_count": null,
      "outputs": [
        {
          "output_type": "stream",
          "name": "stdout",
          "text": [
            "Category\n",
            "Java Developer               84\n",
            "Testing                      70\n",
            "DevOps Engineer              55\n",
            "Python Developer             48\n",
            "Web Designing                45\n",
            "HR                           44\n",
            "Hadoop                       42\n",
            "Sales                        40\n",
            "Data Science                 40\n",
            "Mechanical Engineer          40\n",
            "ETL Developer                40\n",
            "Blockchain                   40\n",
            "Operations Manager           40\n",
            "Arts                         36\n",
            "Database                     33\n",
            "Health and fitness           30\n",
            "PMO                          30\n",
            "Electrical Engineering       30\n",
            "Business Analyst             28\n",
            "DotNet Developer             28\n",
            "Automation Testing           26\n",
            "Network Security Engineer    25\n",
            "Civil Engineer               24\n",
            "SAP Developer                24\n",
            "Advocate                     20\n",
            "Name: count, dtype: int64\n"
          ]
        }
      ]
    },
    {
      "cell_type": "markdown",
      "metadata": {
        "id": "kpHv50ojzvO5"
      },
      "source": [
        "**Exercise 3: Create the count plot of different categories [0.5 Mark]**\n",
        "\n",
        "**Hint:** Use `sns.countplot()`"
      ]
    },
    {
      "cell_type": "code",
      "metadata": {
        "id": "zYwrK_5f93gP",
        "colab": {
          "base_uri": "https://localhost:8080/",
          "height": 884
        },
        "outputId": "f0c76d41-4a3d-4d8a-d0ad-825bd3c130e2"
      },
      "source": [
        "plt.figure(figsize=(15,15))\n",
        "plt.xticks(rotation=90)\n",
        "sns.countplot(y=\"Category\", data=df)"
      ],
      "execution_count": null,
      "outputs": [
        {
          "output_type": "execute_result",
          "data": {
            "text/plain": [
              "<Axes: xlabel='count', ylabel='Category'>"
            ]
          },
          "metadata": {},
          "execution_count": 8
        },
        {
          "output_type": "display_data",
          "data": {
            "text/plain": [
              "<Figure size 1500x1500 with 1 Axes>"
            ],
            "image/png": "[encoded data removed]"
          },
          "metadata": {}
        }
      ]
    },
    {
      "cell_type": "markdown",
      "metadata": {
        "id": "VyXtz0Mr0NVB"
      },
      "source": [
        "**Exercise 4: Create a pie plot depicting the percentage of resume distributions category-wise. [0.5 mark]**\n",
        "\n",
        "**Hint:** Use [plt.pie()](https://matplotlib.org/stable/api/_as_gen/matplotlib.pyplot.pie.html) and [plt.get_cmap](https://matplotlib.org/stable/tutorials/colors/colormaps.html) for color mapping the pie chart."
      ]
    },
    {
      "cell_type": "code",
      "metadata": {
        "id": "qrpJDoGx-CuF",
        "colab": {
          "base_uri": "https://localhost:8080/",
          "height": 853
        },
        "outputId": "1331d911-0683-4e38-fd41-1dbaa508a889"
      },
      "source": [
        "targetCounts = df['Category'].value_counts()\n",
        "targetLabels  = targetCounts.index\n",
        "# Make square figures and axes\n",
        "plt.figure(1, figsize=(25,25))\n",
        "the_grid = GridSpec(2, 2)\n",
        "\n",
        "\n",
        "cmap = plt.get_cmap('coolwarm')\n",
        "colors = [cmap(i) for i in np.linspace(0, 1)]\n",
        "plt.subplot(the_grid[0, 1], aspect=1, title='RESUME CATEGORY DISTRIBUTION')\n",
        "\n",
        "source_pie = plt.pie(targetCounts, labels=targetLabels, autopct='%1.1f%%', shadow=True, colors=colors)\n",
        "plt.show()"
      ],
      "execution_count": null,
      "outputs": [
        {
          "output_type": "display_data",
          "data": {
            "text/plain": [
              "<Figure size 2500x2500 with 1 Axes>"
            ],
            "image/png": "[encoded data removed]"
          },
          "metadata": {}
        }
      ]
    },
    {
      "cell_type": "markdown",
      "metadata": {
        "id": "KJaznteJ1xr4"
      },
      "source": [
        "**Exercise 5: Convert all the `Resume` text to lower case and remove trailing spaces [0.5 Mark]**\n",
        "\n",
        "\n"
      ]
    },
    {
      "cell_type": "code",
      "metadata": {
        "id": "tf1wNRqb-Om2",
        "colab": {
          "base_uri": "https://localhost:8080/"
        },
        "outputId": "7360e38e-1ce3-4f68-c1e0-8224d2591076"
      },
      "source": [
        "# Convert all characters to lowercase and remove trailing spaces\n",
        "df['Resume'] = df['Resume'].str.lower()\n",
        "df['Resume'] = df['Resume'].str.strip()\n",
        "print(df['Resume'])"
      ],
      "execution_count": null,
      "outputs": [
        {
          "output_type": "stream",
          "name": "stdout",
          "text": [
            "0      skills * programming languages: python (pandas...\n",
            "1      education details \\r\\nmay 2013 to may 2017 b.e...\n",
            "2      areas of interest deep learning, control syste...\n",
            "3      skills â¢ r â¢ python â¢ sap hana â¢ table...\n",
            "4      education details \\r\\n mca   ymcaust,  faridab...\n",
            "                             ...                        \n",
            "957    computer skills: â¢ proficient in ms office (...\n",
            "958    â willingness to accept the challenges. â ...\n",
            "959    personal skills â¢ quick learner, â¢ eagerne...\n",
            "960    computer skills & software knowledge ms-power ...\n",
            "961    skill set os windows xp/7/8/8.1/10 database my...\n",
            "Name: Resume, Length: 962, dtype: object\n"
          ]
        }
      ]
    },
    {
      "cell_type": "markdown",
      "metadata": {
        "id": "8cBXmdXpDIQJ"
      },
      "source": [
        "### Cleaning Resume"
      ]
    },
    {
      "cell_type": "markdown",
      "metadata": {
        "id": "yvkRbRnM3ap7"
      },
      "source": [
        "**Exercise 6: Define a function to clean the resume text [2 Mark]**\n",
        "\n",
        "In the text there are special characters, urls, hashtags, mentions, etc. You need to remove for the following:  \n",
        "\n",
        "* URLs: For reference click [here](https://stackoverflow.com/questions/11331982/how-to-remove-any-url-within-a-string-in-python)\n",
        "* RT | cc: For reference click [here](https://www.machinelearningplus.com/python/python-regex-tutorial-examples/)\n",
        "* Hashtags, # and Mentions, @\n",
        "* punctuations\n",
        "* extra whitespace\n",
        "\n",
        "PS: Use the provided reference similarly for removing any other such elements.\n",
        "\n",
        "After cleaning as above, store the Resume Text in a separate column (New Feature say `Cleaned_Resume`).\n"
      ]
    },
    {
      "cell_type": "code",
      "metadata": {
        "id": "k9Z-Oois_LWE"
      },
      "source": [
        "import re\n",
        "\n",
        "def cleanResume(resumeText):\n",
        "    resumeText = re.sub('http\\S+\\s*', ' ', resumeText)  # remove URLs\n",
        "    resumeText = re.sub('RT|cc', ' ', resumeText)       # remove RT and cc\n",
        "    resumeText = re.sub('#\\S+', '', resumeText)         # remove hashtags\n",
        "    resumeText = re.sub('@\\S+', '  ', resumeText)       # remove mentions\n",
        "    resumeText = re.sub('[%s]' % re.escape(\"\"\"!\"#$%&'()*+,-./:;<=>?@[\\]^_`{|}~\"\"\"), ' ', resumeText)    # remove punctuations\n",
        "    resumeText = re.sub(r'[^\\x00-\\x7f]',r' ', resumeText)\n",
        "    resumeText = re.sub('\\s+', ' ', resumeText)         # remove extra whitespace\n",
        "    return resumeText\n"
      ],
      "execution_count": null,
      "outputs": []
    },
    {
      "cell_type": "code",
      "metadata": {
        "id": "0O2tR_IjDNWr",
        "colab": {
          "base_uri": "https://localhost:8080/"
        },
        "outputId": "ccc3f107-ce8e-4604-d560-8fc889a6bc5c"
      },
      "source": [
        "df['Cleaned_Resume'] = df['Resume'].apply(lambda x: cleanResume(x))\n",
        "print(df['Cleaned_Resume'][31])"
      ],
      "execution_count": null,
      "outputs": [
        {
          "output_type": "stream",
          "name": "stdout",
          "text": [
            "education details may 2013 to may 2017 b e uit rgpv data scientist data scientist matelabs skill details python exprience less than 1 year months statsmodels exprience 12 months aws exprience less than 1 year months machine learning exprience less than 1 year months sklearn exprience less than 1 year months scipy exprience less than 1 year months keras exprience less than 1 year monthscompany details company matelabs description ml platform for business professionals dummies and enthusiasts 60 a koramangala 5th block achievements tasks behind sukh sagar bengaluru india developed and deployed auto preprocessing steps of machine learning mainly missing value treatment outlier detection encoding scaling feature selection and dimensionality reduction deployed automated classification and regression model linkedin com in aditya rathore b4600b146 reasearch and deployed the time series forecasting model arima sarimax holt winter and prophet worked on meta feature extracting problem github com rathorology implemented a state of the art research paper on outlier detection for mixed attributes company matelabs description \n"
          ]
        }
      ]
    },
    {
      "cell_type": "code",
      "metadata": {
        "id": "BXb37CNsIv1x",
        "colab": {
          "base_uri": "https://localhost:8080/",
          "height": 206
        },
        "outputId": "1ac424d9-991e-410d-f05a-1d00ea013b3d"
      },
      "source": [
        "df.head()    # data after cleaning the resume"
      ],
      "execution_count": null,
      "outputs": [
        {
          "output_type": "execute_result",
          "data": {
            "text/plain": [
              "       Category                                             Resume  \\\n",
              "0  Data Science  skills * programming languages: python (pandas...   \n",
              "1  Data Science  education details \\r\\nmay 2013 to may 2017 b.e...   \n",
              "2  Data Science  areas of interest deep learning, control syste...   \n",
              "3  Data Science  skills â¢ r â¢ python â¢ sap hana â¢ table...   \n",
              "4  Data Science  education details \\r\\n mca   ymcaust,  faridab...   \n",
              "\n",
              "                                      Cleaned_Resume  \n",
              "0  skills programming languages python pandas num...  \n",
              "1  education details may 2013 to may 2017 b e uit...  \n",
              "2  areas of interest deep learning control system...  \n",
              "3  skills r python sap hana tableau sap hana sql ...  \n",
              "4  education details mca ymcaust faridabad haryan...  "
            ],
            "text/html": [
              "\n",
              "  <div id=\"df-021ae80d-6bb6-422f-bca5-f6416c94eeed\" class=\"colab-df-container\">\n",
              "    <div>\n",
              "<style scoped>\n",
              "    .dataframe tbody tr th:only-of-type {\n",
              "        vertical-align: middle;\n",
              "    }\n",
              "\n",
              "    .dataframe tbody tr th {\n",
              "        vertical-align: top;\n",
              "    }\n",
              "\n",
              "    .dataframe thead th {\n",
              "        text-align: right;\n",
              "    }\n",
              "</style>\n",
              "<table border=\"1\" class=\"dataframe\">\n",
              "  <thead>\n",
              "    <tr style=\"text-align: right;\">\n",
              "      <th></th>\n",
              "      <th>Category</th>\n",
              "      <th>Resume</th>\n",
              "      <th>Cleaned_Resume</th>\n",
              "    </tr>\n",
              "  </thead>\n",
              "  <tbody>\n",
              "    <tr>\n",
              "      <th>0</th>\n",
              "      <td>Data Science</td>\n",
              "      <td>skills * programming languages: python (pandas...</td>\n",
              "      <td>skills programming languages python pandas num...</td>\n",
              "    </tr>\n",
              "    <tr>\n",
              "      <th>1</th>\n",
              "      <td>Data Science</td>\n",
              "      <td>education details \\r\\nmay 2013 to may 2017 b.e...</td>\n",
              "      <td>education details may 2013 to may 2017 b e uit...</td>\n",
              "    </tr>\n",
              "    <tr>\n",
              "      <th>2</th>\n",
              "      <td>Data Science</td>\n",
              "      <td>areas of interest deep learning, control syste...</td>\n",
              "      <td>areas of interest deep learning control system...</td>\n",
              "    </tr>\n",
              "    <tr>\n",
              "      <th>3</th>\n",
              "      <td>Data Science</td>\n",
              "      <td>skills â¢ r â¢ python â¢ sap hana â¢ table...</td>\n",
              "      <td>skills r python sap hana tableau sap hana sql ...</td>\n",
              "    </tr>\n",
              "    <tr>\n",
              "      <th>4</th>\n",
              "      <td>Data Science</td>\n",
              "      <td>education details \\r\\n mca   ymcaust,  faridab...</td>\n",
              "      <td>education details mca ymcaust faridabad haryan...</td>\n",
              "    </tr>\n",
              "  </tbody>\n",
              "</table>\n",
              "</div>\n",
              "    <div class=\"colab-df-buttons\">\n",
              "\n",
              "  <div class=\"colab-df-container\">\n",
              "    <button class=\"colab-df-convert\" onclick=\"convertToInteractive('df-021ae80d-6bb6-422f-bca5-f6416c94eeed')\"\n",
              "            title=\"Convert this dataframe to an interactive table.\"\n",
              "            style=\"display:none;\">\n",
              "\n",
              "  <svg xmlns=\"http://www.w3.org/2000/svg\" height=\"24px\" viewBox=\"0 -960 960 960\">\n",
              "    <path d=\"M120-120v-720h720v720H120Zm60-500h600v-160H180v160Zm220 220h160v-160H400v160Zm0 220h160v-160H400v160ZM180-400h160v-160H180v160Zm440 0h160v-160H620v160ZM180-180h160v-160H180v160Zm440 0h160v-160H620v160Z\"/>\n",
              "  </svg>\n",
              "    </button>\n",
              "\n",
              "  <style>\n",
              "    .colab-df-container {\n",
              "      display:flex;\n",
              "      gap: 12px;\n",
              "    }\n",
              "\n",
              "    .colab-df-convert {\n",
              "      background-color: #E8F0FE;\n",
              "      border: none;\n",
              "      border-radius: 50%;\n",
              "      cursor: pointer;\n",
              "      display: none;\n",
              "      fill: #1967D2;\n",
              "      height: 32px;\n",
              "      padding: 0 0 0 0;\n",
              "      width: 32px;\n",
              "    }\n",
              "\n",
              "    .colab-df-convert:hover {\n",
              "      background-color: #E2EBFA;\n",
              "      box-shadow: 0px 1px 2px rgba(60, 64, 67, 0.3), 0px 1px 3px 1px rgba(60, 64, 67, 0.15);\n",
              "      fill: #174EA6;\n",
              "    }\n",
              "\n",
              "    .colab-df-buttons div {\n",
              "      margin-bottom: 4px;\n",
              "    }\n",
              "\n",
              "    [theme=dark] .colab-df-convert {\n",
              "      background-color: #3B4455;\n",
              "      fill: #D2E3FC;\n",
              "    }\n",
              "\n",
              "    [theme=dark] .colab-df-convert:hover {\n",
              "      background-color: #434B5C;\n",
              "      box-shadow: 0px 1px 3px 1px rgba(0, 0, 0, 0.15);\n",
              "      filter: drop-shadow(0px 1px 2px rgba(0, 0, 0, 0.3));\n",
              "      fill: #FFFFFF;\n",
              "    }\n",
              "  </style>\n",
              "\n",
              "    <script>\n",
              "      const buttonEl =\n",
              "        document.querySelector('#df-021ae80d-6bb6-422f-bca5-f6416c94eeed button.colab-df-convert');\n",
              "      buttonEl.style.display =\n",
              "        google.colab.kernel.accessAllowed ? 'block' : 'none';\n",
              "\n",
              "      async function convertToInteractive(key) {\n",
              "        const element = document.querySelector('#df-021ae80d-6bb6-422f-bca5-f6416c94eeed');\n",
              "        const dataTable =\n",
              "          await google.colab.kernel.invokeFunction('convertToInteractive',\n",
              "                                                    [key], {});\n",
              "        if (!dataTable) return;\n",
              "\n",
              "        const docLinkHtml = 'Like what you see? Visit the ' +\n",
              "          '<a target=\"_blank\" href=https://colab.research.google.com/notebooks/data_table.ipynb>data table notebook</a>'\n",
              "          + ' to learn more about interactive tables.';\n",
              "        element.innerHTML = '';\n",
              "        dataTable['output_type'] = 'display_data';\n",
              "        await google.colab.output.renderOutput(dataTable, element);\n",
              "        const docLink = document.createElement('div');\n",
              "        docLink.innerHTML = docLinkHtml;\n",
              "        element.appendChild(docLink);\n",
              "      }\n",
              "    </script>\n",
              "  </div>\n",
              "\n",
              "\n",
              "<div id=\"df-ce35e85a-18cf-451d-8c96-79f84ca1f2bb\">\n",
              "  <button class=\"colab-df-quickchart\" onclick=\"quickchart('df-ce35e85a-18cf-451d-8c96-79f84ca1f2bb')\"\n",
              "            title=\"Suggest charts\"\n",
              "            style=\"display:none;\">\n",
              "\n",
              "<svg xmlns=\"http://www.w3.org/2000/svg\" height=\"24px\"viewBox=\"0 0 24 24\"\n",
              "     width=\"24px\">\n",
              "    <g>\n",
              "        <path d=\"M19 3H5c-1.1 0-2 .9-2 2v14c0 1.1.9 2 2 2h14c1.1 0 2-.9 2-2V5c0-1.1-.9-2-2-2zM9 17H7v-7h2v7zm4 0h-2V7h2v10zm4 0h-2v-4h2v4z\"/>\n",
              "    </g>\n",
              "</svg>\n",
              "  </button>\n",
              "\n",
              "<style>\n",
              "  .colab-df-quickchart {\n",
              "      --bg-color: #E8F0FE;\n",
              "      --fill-color: #1967D2;\n",
              "      --hover-bg-color: #E2EBFA;\n",
              "      --hover-fill-color: #174EA6;\n",
              "      --disabled-fill-color: #AAA;\n",
              "      --disabled-bg-color: #DDD;\n",
              "  }\n",
              "\n",
              "  [theme=dark] .colab-df-quickchart {\n",
              "      --bg-color: #3B4455;\n",
              "      --fill-color: #D2E3FC;\n",
              "      --hover-bg-color: #434B5C;\n",
              "      --hover-fill-color: #FFFFFF;\n",
              "      --disabled-bg-color: #3B4455;\n",
              "      --disabled-fill-color: #666;\n",
              "  }\n",
              "\n",
              "  .colab-df-quickchart {\n",
              "    background-color: var(--bg-color);\n",
              "    border: none;\n",
              "    border-radius: 50%;\n",
              "    cursor: pointer;\n",
              "    display: none;\n",
              "    fill: var(--fill-color);\n",
              "    height: 32px;\n",
              "    padding: 0;\n",
              "    width: 32px;\n",
              "  }\n",
              "\n",
              "  .colab-df-quickchart:hover {\n",
              "    background-color: var(--hover-bg-color);\n",
              "    box-shadow: 0 1px 2px rgba(60, 64, 67, 0.3), 0 1px 3px 1px rgba(60, 64, 67, 0.15);\n",
              "    fill: var(--button-hover-fill-color);\n",
              "  }\n",
              "\n",
              "  .colab-df-quickchart-complete:disabled,\n",
              "  .colab-df-quickchart-complete:disabled:hover {\n",
              "    background-color: var(--disabled-bg-color);\n",
              "    fill: var(--disabled-fill-color);\n",
              "    box-shadow: none;\n",
              "  }\n",
              "\n",
              "  .colab-df-spinner {\n",
              "    border: 2px solid var(--fill-color);\n",
              "    border-color: transparent;\n",
              "    border-bottom-color: var(--fill-color);\n",
              "    animation:\n",
              "      spin 1s steps(1) infinite;\n",
              "  }\n",
              "\n",
              "  @keyframes spin {\n",
              "    0% {\n",
              "      border-color: transparent;\n",
              "      border-bottom-color: var(--fill-color);\n",
              "      border-left-color: var(--fill-color);\n",
              "    }\n",
              "    20% {\n",
              "      border-color: transparent;\n",
              "      border-left-color: var(--fill-color);\n",
              "      border-top-color: var(--fill-color);\n",
              "    }\n",
              "    30% {\n",
              "      border-color: transparent;\n",
              "      border-left-color: var(--fill-color);\n",
              "      border-top-color: var(--fill-color);\n",
              "      border-right-color: var(--fill-color);\n",
              "    }\n",
              "    40% {\n",
              "      border-color: transparent;\n",
              "      border-right-color: var(--fill-color);\n",
              "      border-top-color: var(--fill-color);\n",
              "    }\n",
              "    60% {\n",
              "      border-color: transparent;\n",
              "      border-right-color: var(--fill-color);\n",
              "    }\n",
              "    80% {\n",
              "      border-color: transparent;\n",
              "      border-right-color: var(--fill-color);\n",
              "      border-bottom-color: var(--fill-color);\n",
              "    }\n",
              "    90% {\n",
              "      border-color: transparent;\n",
              "      border-bottom-color: var(--fill-color);\n",
              "    }\n",
              "  }\n",
              "</style>\n",
              "\n",
              "  <script>\n",
              "    async function quickchart(key) {\n",
              "      const quickchartButtonEl =\n",
              "        document.querySelector('#' + key + ' button');\n",
              "      quickchartButtonEl.disabled = true;  // To prevent multiple clicks.\n",
              "      quickchartButtonEl.classList.add('colab-df-spinner');\n",
              "      try {\n",
              "        const charts = await google.colab.kernel.invokeFunction(\n",
              "            'suggestCharts', [key], {});\n",
              "      } catch (error) {\n",
              "        console.error('Error during call to suggestCharts:', error);\n",
              "      }\n",
              "      quickchartButtonEl.classList.remove('colab-df-spinner');\n",
              "      quickchartButtonEl.classList.add('colab-df-quickchart-complete');\n",
              "    }\n",
              "    (() => {\n",
              "      let quickchartButtonEl =\n",
              "        document.querySelector('#df-ce35e85a-18cf-451d-8c96-79f84ca1f2bb button');\n",
              "      quickchartButtonEl.style.display =\n",
              "        google.colab.kernel.accessAllowed ? 'block' : 'none';\n",
              "    })();\n",
              "  </script>\n",
              "</div>\n",
              "\n",
              "    </div>\n",
              "  </div>\n"
            ],
            "application/vnd.google.colaboratory.intrinsic+json": {
              "type": "dataframe",
              "variable_name": "df",
              "summary": "{\n  \"name\": \"df\",\n  \"rows\": 962,\n  \"fields\": [\n    {\n      \"column\": \"Category\",\n      \"properties\": {\n        \"dtype\": \"category\",\n        \"num_unique_values\": 25,\n        \"samples\": [\n          \"Civil Engineer\",\n          \"DevOps Engineer\",\n          \"Data Science\"\n        ],\n        \"semantic_type\": \"\",\n        \"description\": \"\"\n      }\n    },\n    {\n      \"column\": \"Resume\",\n      \"properties\": {\n        \"dtype\": \"category\",\n        \"num_unique_values\": 166,\n        \"samples\": [\n          \"key competencies \\u00e2\\u009c\\u00b6multi - operations management\\u00e2\\u009c\\u00b6people management \\u00e2\\u009c\\u00b6customer services - emails \\u00e2\\u009c\\u00b6 mis \\u00e2\\u009c\\u00b6vendor & client services management\\u00e2\\u009c\\u00b6cross functional coordination\\u00e2\\u009c\\u00b6banking & financial services\\u00e2\\u009c\\u00b6 transaction monitoring * atm operations \\u00e2\\u009c\\u00b6 & prepaid card operations (pre-issuance & post-issuance) \\u00e2\\u009c\\u00b6 pos operations * job profile & skills: \\u00e2\\u0080\\u00a2 an effective communicator with excellent relationship building & interpersonal skills. strong analytical, problem solving & organizational abilities. \\u00e2\\u0080\\u00a2 extensive experience in managing operations with demonstrated leadership qualities & organisational skills during the tenure. \\u00e2\\u0080\\u00a2 managing customer centric operations & ensuring customer satisfaction by achieving service quality norms. \\u00e2\\u0080\\u00a2 analyzing of all operational problems, customer complaints and take preventive and corrective actions to resolve the same. \\u00e2\\u0080\\u00a2 receive and respond to key customer inquiries in an effective manner and provide relevant and timely information. \\u00e2\\u0080\\u00a2 deft in steering banking back-end operations, analyzing risks and managing delinquencies with dexterity across applying techniques for maximizing recoveries and minimizing credit losses. \\u00e2\\u0080\\u00a2 analyzed & identified training needs of the team members and developing, organizing and conducting training programs and manage bottom quartile team to improve their performance. \\u00e2\\u0080\\u00a2 preparing and maintaining daily mis reports to evaluate the performance and efficiency of the process relate to various verticals. \\u00e2\\u0080\\u00a2 measuring the performance of the processes in terms of efficiency and effectiveness matrix and ensuring adherence to sla. \\u00e2\\u0080\\u00a2 major activities define processes for field services were monitored and necessary checks were executed and controlled. also measured vendor sla by analyzing the tat of vendors & the client sla provided to us. \\u00e2\\u0080\\u00a2 as per company procedures, handling & ensuring vendor's payment issues to be sorted out &payments are processed on quarterly basis. \\u00e2\\u0080\\u00a2 appropriately plan and execute each skill of operations in accordance with the department's policies and procedures. \\u00e2\\u0080\\u00a2 manage relationships with business team, software development team and other services to achieve project objectives. different software worked till now: - a. ctl prime - axis bank credit cards b. insight - for pos machine technical operations for amex (mid & tid generation- atos (venture infotek) c. ticket management system - tata communications private services ltd (atm - noc operations) d. branch portal (yalamanchili software exports ltd) - prepaid cards (sbi bank & zaggle prepaid oceans services ltd) zaggle prepaid ocean services pvt ltd oct, 2017 to till date designation: manager - operations (payment industry - prepaid cards - inr) education details \\r\\n  commerce mumbai, maharashtra mumbai university\\r\\noperations manager \\r\\n\\r\\nservice manager - operations (payment industry - prepaid cards - inr & ftc)\\r\\nskill details \\r\\noperations- exprience - 73 months\\r\\nsatisfaction- exprience - 48 months\\r\\ntraining- exprience - 24 months\\r\\nnoc- exprience - 23 months\\r\\npoint of sale- exprience - 20 monthscompany details \\r\\ncompany - zaggle prepaid ocean services pvt ltd\\r\\ndescription - card operations\\r\\ncompany - yalamanchili software exports ltd\\r\\ndescription - 24*7 operations pvt ltd) dec 2015 to feb 2017\\r\\n\\r\\ndesignation: service manager - operations (payment industry - prepaid cards - inr & ftc)\\r\\n\\r\\nkey contributions: \\u00e2\\u0080\\u00a2 a result-oriented business professional in planning, executing& managing processes, improving efficiency of operations, team building and detailing process information to determine effective result into operations.\\r\\n\\u00e2\\u0080\\u00a2 ensuring pins generation (sla) is maintained and chargeback cases are raised in perfect timeframe.\\r\\n\\u00e2\\u0080\\u00a2 managing email customer services properly and ensuring the emails are replied properly. also, ensuring transaction monitoring is properly managed 24/7.\\r\\n\\u00e2\\u0080\\u00a2 assisting bankers (sbi & associated banks) for their bcp plans by getting executed in the system with the help of dr-pr plans & vice versa or any other business requirements.\\r\\n\\u00e2\\u0080\\u00a2 expertise in maintaining highest level of quality in operations; ensuring adherence to all the quality parameters and procedures as per the stringent norms.\\r\\n\\u00e2\\u0080\\u00a2 lead, manage and supervise the execution of external audit engagements and responsible for presenting the findings & developing a quality reports to the senior management and clients.\\r\\n\\u00e2\\u0080\\u00a2 coach/mentor (20) team members to perform at a higher level by giving opportunities, providing timely continuous feedback and working with staff to improve their communication, time management, decision making, organization, and analytical skills.\\r\\n\\u00e2\\u0080\\u00a2 providing the solutions and services to the client in their own premises with aforesaid count of team members.\\r\\n\\u00e2\\u0080\\u00a2 also ensuring end to end process of pr & dr as per client requirements (pr- dr & dr -pr) by interacting with internal & external stakeholders.\\r\\n\\u00e2\\u0080\\u00a2 determining process gaps and designing & conducting training programs to enhance operational efficiency and retain talent by providing optimum opportunities for personal and professional growth.\\r\\ncompany - credit cards\\r\\ndescription - ensured highest standard of customer satisfaction and quality service; developing new policies and procedures to improve based on customer feedback and resolving customer queries via correspondence, inbound calls & email channels with the strength of (12-16) team members.\\r\\ncompany - ags transact technologies limited\\r\\ndescription - key contributions: lead - spoc to banks\\r\\ncompany - tata communications payment solutions ltd\\r\\ndescription - to make atms operational within tat by analyzing the issue is technical or non-technical and also by interacting with internal & external stakeholders.\\r\\ncompany - vertex customer solutions india private ltd\\r\\ndescription - key contributions: \\u00e2\\u0080\\u00a2 build positive working relationship with all team members and clients by keeping management informed   of kyc document collection & con-current audit progress, responding timely to management inquiries, understanding the business and conducting self professionally.\\r\\ncompany - financial inclusion network & operations limited\\r\\ndescription - key contributions: pos-operations \\u00e2\\u0080\\u00a2 cascading the adherence of process is strictly followed by team members & training them to reduce the downtime.\\r\\n\\u00e2\\u0080\\u00a2 managing stock of edc terminals \\u00e2\\u0080\\u00a2 managing deployments of terminals through multiple teams \\u00e2\\u0080\\u00a2 would have worked with multiple terminal make & model \\u00e2\\u0080\\u00a2 managing inward, outward & qc of applications installed in the pos machines.\\r\\ncompany - venture infotek private ltd\\r\\ndescription - key contributions: pos-operations\\r\\ncompany - axis bank ltd - customer services\\r\\ndescription - aug 2006 to oct 2009 (ma-foi&i- smart)\\r\\n\\r\\ndesignation: team leader/executive - emails, phone banking & correspondence unit (snail mails)\",\n          \"skill set: hadoop, map reduce, hdfs, hive, sqoop, java. duration: 2016 to 2017. role: hadoop developer rplus offers an quick, simple and powerful cloud based solution, demand sense to accurately predict demand for your product in all your markets which combines enterprise and external data to predict demand more accurately through uses social conversation and sentiments to derive demand and identifies significant drivers of sale out of hordes of factors that selects the best suited model out of multiple forecasting models for each product. responsibilities: \\u00e2\\u0080\\u00a2 involved in deploying the product for customers, gathering requirements and algorithm optimization at backend of the product. \\u00e2\\u0080\\u00a2 load and transform large datasets of structured semi structured. \\u00e2\\u0080\\u00a2 responsible to manage data coming from different sources and application \\u00e2\\u0080\\u00a2 supported map reduce programs those are running on the cluster \\u00e2\\u0080\\u00a2 involved in creating hive tables, loading with data and writing hive queries which will run internally in map reduce way.education details \\r\\n\\r\\nhadoop developer \\r\\n\\r\\nhadoop developer - braindatawire\\r\\nskill details \\r\\napache hadoop hdfs- exprience - 49 months\\r\\napache hadoop sqoop- exprience - 49 months\\r\\nhadoop- exprience - 49 months\\r\\nhadoop- exprience - 49 months\\r\\nhadoop distributed file system- exprience - 49 monthscompany details \\r\\ncompany - braindatawire\\r\\ndescription - technical skills:\\r\\n\\u00e2\\u0080\\u00a2   programming: core java, map reduce, scala\\r\\n\\u00e2\\u0080\\u00a2   hadoop tools: hdfs, spark, map reduce, sqoop, hive, hbase\\r\\n\\u00e2\\u0080\\u00a2   database: mysql, oracle\\r\\n\\u00e2\\u0080\\u00a2   scripting: shell scripting\\r\\n\\u00e2\\u0080\\u00a2   ide: eclipse\\r\\n\\u00e2\\u0080\\u00a2   operating systems: linux (centos), windows\\r\\n\\u00e2\\u0080\\u00a2   source control: git (github)\",\n          \"it skills: area exposure modeling tool: bizagi, ms visio prototyping tool: indigo studio. documentation: ms office (ms word, ms excel, ms power point) testing proficiency: smoke, sanity, integration, functional, acceptance and ui methodology implemented: waterfall, agile (scrum) database: sql testing tool: hpqc business exposure education details \\r\\n bachelor of computer engineering computer engineering mumbai, maharashtra thadomal shahani engineering college\\r\\n diploma computer engineering ulhasnagar, maharashtra institute of technology\\r\\n secondary school certificate  ulhasnagar, maharashtra new english high school\\r\\nsenior business analyst - rpa \\r\\n\\r\\nsenior business analyst - rpa - hexaware technologies\\r\\nskill details \\r\\ndocumentation- exprience - 47 months\\r\\ntesting- exprience - 29 months\\r\\nintegration- exprience - 25 months\\r\\nintegrator- exprience - 25 months\\r\\nprototype- exprience - 13 monthscompany details \\r\\ncompany - hexaware technologies\\r\\ndescription - working as a rpa business analyst\\r\\ncompany - bbh- brown brothers harriman & co\\r\\ndescription - is a private bank that provides commercial banking, investment management, brokerage, and trust services to private companies and individuals. it also performs merger advisory, foreign exchange, custody services, commercial banking, and corporate financing services.\\r\\n\\r\\nresponsibilities: \\u00e2\\u0080\\u00a2 performed automation assessment of various processes and identified processes which can be candidates of rpa.\\r\\n\\u00e2\\u0080\\u00a2 conducting assessment that involves an initial understanding of the existing system, their technology, processes, usage of the tools, feasibility of tool with automation tool along with automation roi analysis.\\r\\n\\u00e2\\u0080\\u00a2 preparing the automation potential sheet which describes the steps in the process, the volume and frequency of the transaction, the aht taken by sme to perform the process and depending on the steps that could be automated, automation potential and the manual efforts that will be saved are calculated.\\r\\ncalculating the complexity of the process which is considered for automation and depending on all these factors number of bots and number of automation tool licenses are determined.\\r\\n\\u00e2\\u0080\\u00a2 implementing a proof of concept (poc) to validate feasibility by executing the selected critical use cases for conducting a poc which will helps to identify financial and operational benefits and provide recommendations regarding the actual need for complete automation.\\r\\n\\u00e2\\u0080\\u00a2 gathering business requirements by conducting detailed interviews with business users, stakeholders, and subject matter experts (sme's) \\u00e2\\u0080\\u00a2 preparing business requirement document and then converted business requirements into functional requirements specification.\\r\\n \\u00e2\\u0080\\u00a2 constructing prototype early toward a design acceptable to the customer and feasible.\\r\\n\\u00e2\\u0080\\u00a2 assisting in designing test plans, test scenarios and test cases for integration, regression, and user acceptance testing (uat) to improve the overall quality of the automation.\\r\\n\\u00e2\\u0080\\u00a2 participating regularly in walkthroughs and review meetings with project manager, qa engineers, and development team.\\r\\n\\u00e2\\u0080\\u00a2 regularly interacting with offshore and onshore development teams.\\r\\ncompany - fadv - first advantage\\r\\ndescription - is a criminal background check company that delivers global solutions ranging from employment screenings to background checks.\\r\\nthe following are the processes which were covered:\\r\\nemail process, research process, review process.\\r\\n\\r\\nresponsibilities: \\u00e2\\u0080\\u00a2 requirement gathering through conducting interviews & brainstorming sessions with stakeholders \\u00e2\\u0080\\u00a2 to develop decision models and execute those rules as per the use case specifications.\\r\\n\\u00e2\\u0080\\u00a2 to test/validate the decision models against document test data.\\r\\n\\u00e2\\u0080\\u00a2 to maintain and enhance the decision models for changes in regulations as per use case specifications.\\r\\n\\u00e2\\u0080\\u00a2 responsible for performing the business research that will make a business growth.\\r\\n\\u00e2\\u0080\\u00a2 developing a clear understanding of existing business functions and processes.\\r\\n\\u00e2\\u0080\\u00a2 effectively communicate with the onsite clients for the queries, suggestions, and update.\\r\\n\\u00e2\\u0080\\u00a2 giving suggestions to enhance the current processes.\\r\\n\\u00e2\\u0080\\u00a2 identifying areas for process improvement.\\r\\n\\u00e2\\u0080\\u00a2 flagging up potential problems at an early stage.\\r\\n\\u00e2\\u0080\\u00a2 preparing powerpoint presentations and documents for business meetings.\\r\\n\\u00e2\\u0080\\u00a2 using any information gathered to write up detailed reports.\\r\\n\\u00e2\\u0080\\u00a2 highlighting risks and issues that could impact project delivery.\\r\\n\\u00e2\\u0080\\u00a2 able to work accurately.\\r\\n\\u00e2\\u0080\\u00a2 to develop and maintain documentation for internal team training and client end user operations.\\r\\n\\u00e2\\u0080\\u00a2 to work efficiently with team members and across teams.\\r\\n\\u00e2\\u0080\\u00a2 to mentor and train junior team members.\\r\\ncompany - clinical testing, lab work and diagnostic testing\\r\\ndescription - iqvia provides services to its customers this includes: clinical testing, lab work and diagnostic testing under clinical trial. these customers need to pay to iqvia and aging details and invoices are generated for the same.\\r\\nthe following are the processes which were covered:\\r\\n\\r\\ntracking payments, automated real time metrics reporting (dashboard), past due notifications, ar statements, credit/rebill.\\r\\nresponsibilities: \\u00e2\\u0080\\u00a2 conducting meetings with clients and key stakeholders to gather requirements, analyze, finalize and have formal sign-offs from approvers gather and perform analysis of the business requirements \\u00e2\\u0080\\u00a2 translating the business requirements into the business requirement document [brd], functional requirement document [frd].\\r\\n\\u00e2\\u0080\\u00a2 facilitating meetings with the appropriate subject matter experts in both business and technology teams \\u00e2\\u0080\\u00a2 coordinating with business user community for the execution of user acceptance test as well as tracking issues \\u00e2\\u0080\\u00a2 working, collaborating and coordinating with offshore and onsite team members to fulfill the ba responsibilities from project initiation to post-implementation \\u00e2\\u0080\\u00a2 reviewing the test scripts with business users as well as technology team. execute test scripts with expected results for the system integration test (sit) and user acceptance test (uat) \\u00e2\\u0080\\u00a2 coordinating and conducting the production acceptance testing (pat) with the business users \\u00e2\\u0080\\u00a2 creating flow diagrams, structure charts, and other types of system or process representations \\u00e2\\u0080\\u00a2 managing changes to requirements and baseline through a change control process \\u00e2\\u0080\\u00a2 utilizing standard methods, design and testing tools throughout project development life cycle \\u00e2\\u0080\\u00a2 work closely with the operational functional teams, operations management, and personnel, and various technology teams to facilitate a shared understanding of requirements and priorities across all areas\\r\\ncompany - eduavenir it solution\\r\\ndescription - project: m.b.m.s\\r\\n\\r\\nm.b.m.s. - is an inventory management application that allows user to manage inventory details of different warehouses, having different products located at various locations and help extract what goods have been procured, sold or returned by customers. it generates automated invoicesalong withcustomized reports. it also managescustomer complaint and resolution system implementation along with automated mis on monthly basis.sales and forecastingis also developed on mis system and the streamlining of process of warehousing and dispatch along with online proof of delivery management system (pod documentation) is generated.\\r\\n\\r\\nresponsibilities: \\u00e2\\u0080\\u00a2 participate in requirement gathering discussion with client to understand the flow of business processes \\u00e2\\u0080\\u00a2 analyze the requirements and determine the core processes, develop process documentation and ensure to stay up-to-date in conjunction with on-going changes \\u00e2\\u0080\\u00a2 participate in process flow analysis and preparing brd, srs.\\r\\n\\u00e2\\u0080\\u00a2 coordinating with developers, designers & operations teams for various nuances of the project, communicate the stakeholder requirements from requirement /enhancement to implementation and finally deliver the same within estimated timeframe.\\r\\n\\u00e2\\u0080\\u00a2 support uat by reviewing test cases, manage version control of documents, software builds.\\r\\n\\u00e2\\u0080\\u00a2 coordinate with the stakeholders for uat sign off and coordinate internally for production movement till golive stage of the application.\\r\\n\\u00e2\\u0080\\u00a2 provide demo and training to internal and end user using powerpoint presentation.\\r\\n\\u00e2\\u0080\\u00a2 resolving project functional &technical issues during uat.\\r\\n\\u00e2\\u0080\\u00a2 prioritizing the production bugs and resolving the same within the estimated timeframe.\\r\\n\\u00e2\\u0080\\u00a2 preparing project status report and production bugs status to all the stakeholders.\\r\\n\\u00e2\\u0080\\u00a2 promoting and networking for online trading platform.\\r\\n\\u00e2\\u0080\\u00a2 designing query sheet for obtaining and comparison of quotes from various vendors.\\r\\n\\u00e2\\u0080\\u00a2 development of product codes / material codes for inventory management (master data management)\\r\\ncompany - capgemini head office\\r\\ndescription - type: mobile and device testing.       duration: january 2014 - august 2014\\r\\n\\r\\nfollet - an application which takes an electronic request from the user for the books he requires from a particular follet store. this detailed information about books that will include the name of the book, its price, the date of the transaction and the parties involved which will then be sent to follet stores. user then create request for one or more books for a given date. this request is then processed further and user gets a mail of the date when he will be provided with that book.\\r\\n\\r\\nresponsibilities: \\u00e2\\u0080\\u00a2 understanding the needs and business requirements.\\r\\n\\u00e2\\u0080\\u00a2 preparing brd, srs by eliciting all the requirements from the client and smes \\u00e2\\u0080\\u00a2 understanding the dependency of the modules in the system \\u00e2\\u0080\\u00a2 preparation of test plan for unit level and integration level.\\r\\n\\u00e2\\u0080\\u00a2 preparation and execution of test cases.\\r\\n\\u00e2\\u0080\\u00a2 defect tracking, issue resolution, risk monitoring, status tracking, reporting and follow-up.\\r\\n\\u00e2\\u0080\\u00a2 preparation of test completion report.\\r\\ncompany - capgemini head office\\r\\ndescription - \\r\\ncompany - capgemini head office\\r\\ndescription - humana is a health care insurance project of u.s. which deals with supplying various medicines to citizens as per the doctor's reference and patient's insurance policy. this application keeps track of all the medicines user has consumed in the past and generates a patient history. a citizen is given a drug only after the doctor's reference so the doctor's information is also linked with the patient's history.\\r\\n\\r\\nresponsibilities: \\u00e2\\u0080\\u00a2 understanding the requirements and getting clarifications from client.\\r\\n\\u00e2\\u0080\\u00a2 involved in writing test cases based on test scenarios and execute them.\\r\\n\\u00e2\\u0080\\u00a2 ensuring test coverage using requirement traceability matrix (rtm) \\u00e2\\u0080\\u00a2 preparation of test completion report.\\r\\ncompany - capgemini head office\\r\\ndescription - testing trends wqr (world quality report) is an application which allows the users to take a survey on different methods and technologies used for testing. users can choose to answer any type of questions under three different categories. users have a facility to search, view and export the data to excel. also, users get daily and weekly reports through email about the new trends in testing implemented around the globe. testing trends wqr app is available on android and ios platforms.\\r\\n\\r\\nresponsibilities: \\u00e2\\u0080\\u00a2 understanding the requirements and getting clarifications from client.\\r\\n\\u00e2\\u0080\\u00a2 writing test cases based on test scenarios and executed them.\\r\\n\\u00e2\\u0080\\u00a2 performing different types of testing such as functional, integration, system, and uat.\\r\\n\\u00e2\\u0080\\u00a2 defect resolution and maintenance of the application.\"\n        ],\n        \"semantic_type\": \"\",\n        \"description\": \"\"\n      }\n    },\n    {\n      \"column\": \"Cleaned_Resume\",\n      \"properties\": {\n        \"dtype\": \"category\",\n        \"num_unique_values\": 166,\n        \"samples\": [\n          \"key competencies multi operations management people management customer services emails mis vendor client services management cross functional coordination banking financial services transaction monitoring atm operations prepaid card operations pre issuance post issuance pos operations job profile skills an effective communicator with excellent relationship building interpersonal skills strong analytical problem solving organizational abilities extensive experience in managing operations with demonstrated leadership qualities organisational skills during the tenure managing customer centric operations ensuring customer satisfaction by achieving service quality norms analyzing of all operational problems customer complaints and take preventive and corrective actions to resolve the same receive and respond to key customer inquiries in an effective manner and provide relevant and timely information deft in steering banking back end operations analyzing risks and managing delinquencies with dexterity across applying techniques for maximizing recoveries and minimizing credit losses analyzed identified training needs of the team members and developing organizing and conducting training programs and manage bottom quartile team to improve their performance preparing and maintaining daily mis reports to evaluate the performance and efficiency of the process relate to various verticals measuring the performance of the processes in terms of efficiency and effectiveness matrix and ensuring adherence to sla major activities define processes for field services were monitored and necessary checks were executed and controlled also measured vendor sla by analyzing the tat of vendors the client sla provided to us as per company procedures handling ensuring vendor s payment issues to be sorted out payments are processed on quarterly basis appropriately plan and execute each skill of operations in a ordance with the department s policies and procedures manage relationships with business team software development team and other services to achieve project objectives different software worked till now a ctl prime axis bank credit cards b insight for pos machine technical operations for amex mid tid generation atos venture infotek c ticket management system tata communications private services ltd atm noc operations d branch portal yalamanchili software exports ltd prepaid cards sbi bank zaggle prepaid oceans services ltd zaggle prepaid ocean services pvt ltd oct 2017 to till date designation manager operations payment industry prepaid cards inr education details commerce mumbai maharashtra mumbai university operations manager service manager operations payment industry prepaid cards inr ftc skill details operations exprience 73 months satisfaction exprience 48 months training exprience 24 months noc exprience 23 months point of sale exprience 20 monthscompany details company zaggle prepaid ocean services pvt ltd description card operations company yalamanchili software exports ltd description 24 7 operations pvt ltd dec 2015 to feb 2017 designation service manager operations payment industry prepaid cards inr ftc key contributions a result oriented business professional in planning executing managing processes improving efficiency of operations team building and detailing process information to determine effective result into operations ensuring pins generation sla is maintained and chargeback cases are raised in perfect timeframe managing email customer services properly and ensuring the emails are replied properly also ensuring transaction monitoring is properly managed 24 7 assisting bankers sbi associated banks for their bcp plans by getting executed in the system with the help of dr pr plans vice versa or any other business requirements expertise in maintaining highest level of quality in operations ensuring adherence to all the quality parameters and procedures as per the stringent norms lead manage and supervise the execution of external audit engagements and responsible for presenting the findings developing a quality reports to the senior management and clients coach mentor 20 team members to perform at a higher level by giving opportunities providing timely continuous feedback and working with staff to improve their communication time management decision making organization and analytical skills providing the solutions and services to the client in their own premises with aforesaid count of team members also ensuring end to end process of pr dr as per client requirements pr dr dr pr by interacting with internal external stakeholders determining process gaps and designing conducting training programs to enhance operational efficiency and retain talent by providing optimum opportunities for personal and professional growth company credit cards description ensured highest standard of customer satisfaction and quality service developing new policies and procedures to improve based on customer feedback and resolving customer queries via correspondence inbound calls email channels with the strength of 12 16 team members company ags transact technologies limited description key contributions lead spoc to banks company tata communications payment solutions ltd description to make atms operational within tat by analyzing the issue is technical or non technical and also by interacting with internal external stakeholders company vertex customer solutions india private ltd description key contributions build positive working relationship with all team members and clients by keeping management informed of kyc document collection con current audit progress responding timely to management inquiries understanding the business and conducting self professionally company financial inclusion network operations limited description key contributions pos operations cascading the adherence of process is strictly followed by team members training them to reduce the downtime managing stock of edc terminals managing deployments of terminals through multiple teams would have worked with multiple terminal make model managing inward outward qc of applications installed in the pos machines company venture infotek private ltd description key contributions pos operations company axis bank ltd customer services description aug 2006 to oct 2009 ma foi i smart designation team leader executive emails phone banking correspondence unit snail mails \",\n          \"skill set hadoop map reduce hdfs hive sqoop java duration 2016 to 2017 role hadoop developer rplus offers an quick simple and powerful cloud based solution demand sense to a urately predict demand for your product in all your markets which combines enterprise and external data to predict demand more a urately through uses social conversation and sentiments to derive demand and identifies significant drivers of sale out of hordes of factors that selects the best suited model out of multiple forecasting models for each product responsibilities involved in deploying the product for customers gathering requirements and algorithm optimization at backend of the product load and transform large datasets of structured semi structured responsible to manage data coming from different sources and application supported map reduce programs those are running on the cluster involved in creating hive tables loading with data and writing hive queries which will run internally in map reduce way education details hadoop developer hadoop developer braindatawire skill details apache hadoop hdfs exprience 49 months apache hadoop sqoop exprience 49 months hadoop exprience 49 months hadoop exprience 49 months hadoop distributed file system exprience 49 monthscompany details company braindatawire description technical skills programming core java map reduce scala hadoop tools hdfs spark map reduce sqoop hive hbase database mysql oracle scripting shell scripting ide eclipse operating systems linux centos windows source control git github \",\n          \"it skills area exposure modeling tool bizagi ms visio prototyping tool indigo studio documentation ms office ms word ms excel ms power point testing proficiency smoke sanity integration functional a eptance and ui methodology implemented waterfall agile scrum database sql testing tool hpqc business exposure education details bachelor of computer engineering computer engineering mumbai maharashtra thadomal shahani engineering college diploma computer engineering ulhasnagar maharashtra institute of technology secondary school certificate ulhasnagar maharashtra new english high school senior business analyst rpa senior business analyst rpa hexaware technologies skill details documentation exprience 47 months testing exprience 29 months integration exprience 25 months integrator exprience 25 months prototype exprience 13 monthscompany details company hexaware technologies description working as a rpa business analyst company bbh brown brothers harriman co description is a private bank that provides commercial banking investment management brokerage and trust services to private companies and individuals it also performs merger advisory foreign exchange custody services commercial banking and corporate financing services responsibilities performed automation assessment of various processes and identified processes which can be candidates of rpa conducting assessment that involves an initial understanding of the existing system their technology processes usage of the tools feasibility of tool with automation tool along with automation roi analysis preparing the automation potential sheet which describes the steps in the process the volume and frequency of the transaction the aht taken by sme to perform the process and depending on the steps that could be automated automation potential and the manual efforts that will be saved are calculated calculating the complexity of the process which is considered for automation and depending on all these factors number of bots and number of automation tool licenses are determined implementing a proof of concept poc to validate feasibility by executing the selected critical use cases for conducting a poc which will helps to identify financial and operational benefits and provide recommendations regarding the actual need for complete automation gathering business requirements by conducting detailed interviews with business users stakeholders and subject matter experts sme s preparing business requirement document and then converted business requirements into functional requirements specification constructing prototype early toward a design a eptable to the customer and feasible assisting in designing test plans test scenarios and test cases for integration regression and user a eptance testing uat to improve the overall quality of the automation participating regularly in walkthroughs and review meetings with project manager qa engineers and development team regularly interacting with offshore and onshore development teams company fadv first advantage description is a criminal background check company that delivers global solutions ranging from employment screenings to background checks the following are the processes which were covered email process research process review process responsibilities requirement gathering through conducting interviews brainstorming sessions with stakeholders to develop decision models and execute those rules as per the use case specifications to test validate the decision models against document test data to maintain and enhance the decision models for changes in regulations as per use case specifications responsible for performing the business research that will make a business growth developing a clear understanding of existing business functions and processes effectively communicate with the onsite clients for the queries suggestions and update giving suggestions to enhance the current processes identifying areas for process improvement flagging up potential problems at an early stage preparing powerpoint presentations and documents for business meetings using any information gathered to write up detailed reports highlighting risks and issues that could impact project delivery able to work a urately to develop and maintain documentation for internal team training and client end user operations to work efficiently with team members and across teams to mentor and train junior team members company clinical testing lab work and diagnostic testing description iqvia provides services to its customers this includes clinical testing lab work and diagnostic testing under clinical trial these customers need to pay to iqvia and aging details and invoices are generated for the same the following are the processes which were covered tracking payments automated real time metrics reporting dashboard past due notifications ar statements credit rebill responsibilities conducting meetings with clients and key stakeholders to gather requirements analyze finalize and have formal sign offs from approvers gather and perform analysis of the business requirements translating the business requirements into the business requirement document brd functional requirement document frd facilitating meetings with the appropriate subject matter experts in both business and technology teams coordinating with business user community for the execution of user a eptance test as well as tracking issues working collaborating and coordinating with offshore and onsite team members to fulfill the ba responsibilities from project initiation to post implementation reviewing the test scripts with business users as well as technology team execute test scripts with expected results for the system integration test sit and user a eptance test uat coordinating and conducting the production a eptance testing pat with the business users creating flow diagrams structure charts and other types of system or process representations managing changes to requirements and baseline through a change control process utilizing standard methods design and testing tools throughout project development life cycle work closely with the operational functional teams operations management and personnel and various technology teams to facilitate a shared understanding of requirements and priorities across all areas company eduavenir it solution description project m b m s m b m s is an inventory management application that allows user to manage inventory details of different warehouses having different products located at various locations and help extract what goods have been procured sold or returned by customers it generates automated invoicesalong withcustomized reports it also managescustomer complaint and resolution system implementation along with automated mis on monthly basis sales and forecastingis also developed on mis system and the streamlining of process of warehousing and dispatch along with online proof of delivery management system pod documentation is generated responsibilities participate in requirement gathering discussion with client to understand the flow of business processes analyze the requirements and determine the core processes develop process documentation and ensure to stay up to date in conjunction with on going changes participate in process flow analysis and preparing brd srs coordinating with developers designers operations teams for various nuances of the project communicate the stakeholder requirements from requirement enhancement to implementation and finally deliver the same within estimated timeframe support uat by reviewing test cases manage version control of documents software builds coordinate with the stakeholders for uat sign off and coordinate internally for production movement till golive stage of the application provide demo and training to internal and end user using powerpoint presentation resolving project functional technical issues during uat prioritizing the production bugs and resolving the same within the estimated timeframe preparing project status report and production bugs status to all the stakeholders promoting and networking for online trading platform designing query sheet for obtaining and comparison of quotes from various vendors development of product codes material codes for inventory management master data management company capgemini head office description type mobile and device testing duration january 2014 august 2014 follet an application which takes an electronic request from the user for the books he requires from a particular follet store this detailed information about books that will include the name of the book its price the date of the transaction and the parties involved which will then be sent to follet stores user then create request for one or more books for a given date this request is then processed further and user gets a mail of the date when he will be provided with that book responsibilities understanding the needs and business requirements preparing brd srs by eliciting all the requirements from the client and smes understanding the dependency of the modules in the system preparation of test plan for unit level and integration level preparation and execution of test cases defect tracking issue resolution risk monitoring status tracking reporting and follow up preparation of test completion report company capgemini head office description company capgemini head office description humana is a health care insurance project of u s which deals with supplying various medicines to citizens as per the doctor s reference and patient s insurance policy this application keeps track of all the medicines user has consumed in the past and generates a patient history a citizen is given a drug only after the doctor s reference so the doctor s information is also linked with the patient s history responsibilities understanding the requirements and getting clarifications from client involved in writing test cases based on test scenarios and execute them ensuring test coverage using requirement traceability matrix rtm preparation of test completion report company capgemini head office description testing trends wqr world quality report is an application which allows the users to take a survey on different methods and technologies used for testing users can choose to answer any type of questions under three different categories users have a facility to search view and export the data to excel also users get daily and weekly reports through email about the new trends in testing implemented around the globe testing trends wqr app is available on android and ios platforms responsibilities understanding the requirements and getting clarifications from client writing test cases based on test scenarios and executed them performing different types of testing such as functional integration system and uat defect resolution and maintenance of the application \"\n        ],\n        \"semantic_type\": \"\",\n        \"description\": \"\"\n      }\n    }\n  ]\n}"
            }
          },
          "metadata": {},
          "execution_count": 13
        }
      ]
    },
    {
      "cell_type": "code",
      "metadata": {
        "id": "S7BXiN6NJMc6",
        "colab": {
          "base_uri": "https://localhost:8080/"
        },
        "outputId": "0827e2d7-1057-4ae9-9fe1-92424a2466bd"
      },
      "source": [
        "df[\"Resume\"][100] ,  df[\"Cleaned_Resume\"][100]"
      ],
      "execution_count": null,
      "outputs": [
        {
          "output_type": "execute_result",
          "data": {
            "text/plain": [
              "('skills: natural languages: proficient in english, hindi and marathi. computer skills: proficient with ms-office, internet operation.education details \\r\\njanuary 2015 to january 2018 llb law mumbai, maharashtra mumbai university\\r\\njanuary 2015 b.m.m  mumbai, maharashtra s.k.somaiya college, mumbai university\\r\\n h.s.c   asmita girls junior college, maharashtra board\\r\\n s.s.c vidya bhawan  maharashtra board\\r\\nadvocate \\r\\n\\r\\nllb student and journalist\\r\\nskill details \\r\\ncompany details \\r\\ncompany - criminal lawyer (law firm)\\r\\ndescription -',\n",
              " 'skills natural languages proficient in english hindi and marathi computer skills proficient with ms office internet operation education details january 2015 to january 2018 llb law mumbai maharashtra mumbai university january 2015 b m m mumbai maharashtra s k somaiya college mumbai university h s c asmita girls junior college maharashtra board s s c vidya bhawan maharashtra board advocate llb student and journalist skill details company details company criminal lawyer law firm description ')"
            ]
          },
          "metadata": {},
          "execution_count": 14
        }
      ]
    },
    {
      "cell_type": "markdown",
      "metadata": {
        "id": "2pBLoWMxAf64"
      },
      "source": [
        "**Exercise 7: Convert the categorical variable `Category` to a numerical feature and make a different column <font color=\"#990000\">`label`</font>, which can be treated as the target variable [0.5 Mark]**\n",
        "\n",
        "**Hint:** Use [`sklearn.preprocessing.LabelEncoder()`](https://scikit-learn.org/stable/modules/generated/sklearn.preprocessing.LabelEncoder.html) method"
      ]
    },
    {
      "cell_type": "code",
      "metadata": {
        "id": "kg4QNr7DYSJ5",
        "colab": {
          "base_uri": "https://localhost:8080/",
          "height": 206
        },
        "outputId": "6bb1f382-eff6-496a-a854-2aaf6d4c340b"
      },
      "source": [
        "labelencoder = LabelEncoder()\n",
        "df[\"label\"] = labelencoder.fit_transform(df[\"Category\"])\n",
        "\n",
        "df.head()"
      ],
      "execution_count": null,
      "outputs": [
        {
          "output_type": "execute_result",
          "data": {
            "text/plain": [
              "       Category                                             Resume  \\\n",
              "0  Data Science  skills * programming languages: python (pandas...   \n",
              "1  Data Science  education details \\r\\nmay 2013 to may 2017 b.e...   \n",
              "2  Data Science  areas of interest deep learning, control syste...   \n",
              "3  Data Science  skills â¢ r â¢ python â¢ sap hana â¢ table...   \n",
              "4  Data Science  education details \\r\\n mca   ymcaust,  faridab...   \n",
              "\n",
              "                                      Cleaned_Resume  label  \n",
              "0  skills programming languages python pandas num...      6  \n",
              "1  education details may 2013 to may 2017 b e uit...      6  \n",
              "2  areas of interest deep learning control system...      6  \n",
              "3  skills r python sap hana tableau sap hana sql ...      6  \n",
              "4  education details mca ymcaust faridabad haryan...      6  "
            ],
            "text/html": [
              "\n",
              "  <div id=\"df-c9df7c45-f957-42fc-aa57-62351ff52a4e\" class=\"colab-df-container\">\n",
              "    <div>\n",
              "<style scoped>\n",
              "    .dataframe tbody tr th:only-of-type {\n",
              "        vertical-align: middle;\n",
              "    }\n",
              "\n",
              "    .dataframe tbody tr th {\n",
              "        vertical-align: top;\n",
              "    }\n",
              "\n",
              "    .dataframe thead th {\n",
              "        text-align: right;\n",
              "    }\n",
              "</style>\n",
              "<table border=\"1\" class=\"dataframe\">\n",
              "  <thead>\n",
              "    <tr style=\"text-align: right;\">\n",
              "      <th></th>\n",
              "      <th>Category</th>\n",
              "      <th>Resume</th>\n",
              "      <th>Cleaned_Resume</th>\n",
              "      <th>label</th>\n",
              "    </tr>\n",
              "  </thead>\n",
              "  <tbody>\n",
              "    <tr>\n",
              "      <th>0</th>\n",
              "      <td>Data Science</td>\n",
              "      <td>skills * programming languages: python (pandas...</td>\n",
              "      <td>skills programming languages python pandas num...</td>\n",
              "      <td>6</td>\n",
              "    </tr>\n",
              "    <tr>\n",
              "      <th>1</th>\n",
              "      <td>Data Science</td>\n",
              "      <td>education details \\r\\nmay 2013 to may 2017 b.e...</td>\n",
              "      <td>education details may 2013 to may 2017 b e uit...</td>\n",
              "      <td>6</td>\n",
              "    </tr>\n",
              "    <tr>\n",
              "      <th>2</th>\n",
              "      <td>Data Science</td>\n",
              "      <td>areas of interest deep learning, control syste...</td>\n",
              "      <td>areas of interest deep learning control system...</td>\n",
              "      <td>6</td>\n",
              "    </tr>\n",
              "    <tr>\n",
              "      <th>3</th>\n",
              "      <td>Data Science</td>\n",
              "      <td>skills â¢ r â¢ python â¢ sap hana â¢ table...</td>\n",
              "      <td>skills r python sap hana tableau sap hana sql ...</td>\n",
              "      <td>6</td>\n",
              "    </tr>\n",
              "    <tr>\n",
              "      <th>4</th>\n",
              "      <td>Data Science</td>\n",
              "      <td>education details \\r\\n mca   ymcaust,  faridab...</td>\n",
              "      <td>education details mca ymcaust faridabad haryan...</td>\n",
              "      <td>6</td>\n",
              "    </tr>\n",
              "  </tbody>\n",
              "</table>\n",
              "</div>\n",
              "    <div class=\"colab-df-buttons\">\n",
              "\n",
              "  <div class=\"colab-df-container\">\n",
              "    <button class=\"colab-df-convert\" onclick=\"convertToInteractive('df-c9df7c45-f957-42fc-aa57-62351ff52a4e')\"\n",
              "            title=\"Convert this dataframe to an interactive table.\"\n",
              "            style=\"display:none;\">\n",
              "\n",
              "  <svg xmlns=\"http://www.w3.org/2000/svg\" height=\"24px\" viewBox=\"0 -960 960 960\">\n",
              "    <path d=\"M120-120v-720h720v720H120Zm60-500h600v-160H180v160Zm220 220h160v-160H400v160Zm0 220h160v-160H400v160ZM180-400h160v-160H180v160Zm440 0h160v-160H620v160ZM180-180h160v-160H180v160Zm440 0h160v-160H620v160Z\"/>\n",
              "  </svg>\n",
              "    </button>\n",
              "\n",
              "  <style>\n",
              "    .colab-df-container {\n",
              "      display:flex;\n",
              "      gap: 12px;\n",
              "    }\n",
              "\n",
              "    .colab-df-convert {\n",
              "      background-color: #E8F0FE;\n",
              "      border: none;\n",
              "      border-radius: 50%;\n",
              "      cursor: pointer;\n",
              "      display: none;\n",
              "      fill: #1967D2;\n",
              "      height: 32px;\n",
              "      padding: 0 0 0 0;\n",
              "      width: 32px;\n",
              "    }\n",
              "\n",
              "    .colab-df-convert:hover {\n",
              "      background-color: #E2EBFA;\n",
              "      box-shadow: 0px 1px 2px rgba(60, 64, 67, 0.3), 0px 1px 3px 1px rgba(60, 64, 67, 0.15);\n",
              "      fill: #174EA6;\n",
              "    }\n",
              "\n",
              "    .colab-df-buttons div {\n",
              "      margin-bottom: 4px;\n",
              "    }\n",
              "\n",
              "    [theme=dark] .colab-df-convert {\n",
              "      background-color: #3B4455;\n",
              "      fill: #D2E3FC;\n",
              "    }\n",
              "\n",
              "    [theme=dark] .colab-df-convert:hover {\n",
              "      background-color: #434B5C;\n",
              "      box-shadow: 0px 1px 3px 1px rgba(0, 0, 0, 0.15);\n",
              "      filter: drop-shadow(0px 1px 2px rgba(0, 0, 0, 0.3));\n",
              "      fill: #FFFFFF;\n",
              "    }\n",
              "  </style>\n",
              "\n",
              "    <script>\n",
              "      const buttonEl =\n",
              "        document.querySelector('#df-c9df7c45-f957-42fc-aa57-62351ff52a4e button.colab-df-convert');\n",
              "      buttonEl.style.display =\n",
              "        google.colab.kernel.accessAllowed ? 'block' : 'none';\n",
              "\n",
              "      async function convertToInteractive(key) {\n",
              "        const element = document.querySelector('#df-c9df7c45-f957-42fc-aa57-62351ff52a4e');\n",
              "        const dataTable =\n",
              "          await google.colab.kernel.invokeFunction('convertToInteractive',\n",
              "                                                    [key], {});\n",
              "        if (!dataTable) return;\n",
              "\n",
              "        const docLinkHtml = 'Like what you see? Visit the ' +\n",
              "          '<a target=\"_blank\" href=https://colab.research.google.com/notebooks/data_table.ipynb>data table notebook</a>'\n",
              "          + ' to learn more about interactive tables.';\n",
              "        element.innerHTML = '';\n",
              "        dataTable['output_type'] = 'display_data';\n",
              "        await google.colab.output.renderOutput(dataTable, element);\n",
              "        const docLink = document.createElement('div');\n",
              "        docLink.innerHTML = docLinkHtml;\n",
              "        element.appendChild(docLink);\n",
              "      }\n",
              "    </script>\n",
              "  </div>\n",
              "\n",
              "\n",
              "<div id=\"df-57fe82a2-abab-461e-a550-c3e61bcc6420\">\n",
              "  <button class=\"colab-df-quickchart\" onclick=\"quickchart('df-57fe82a2-abab-461e-a550-c3e61bcc6420')\"\n",
              "            title=\"Suggest charts\"\n",
              "            style=\"display:none;\">\n",
              "\n",
              "<svg xmlns=\"http://www.w3.org/2000/svg\" height=\"24px\"viewBox=\"0 0 24 24\"\n",
              "     width=\"24px\">\n",
              "    <g>\n",
              "        <path d=\"M19 3H5c-1.1 0-2 .9-2 2v14c0 1.1.9 2 2 2h14c1.1 0 2-.9 2-2V5c0-1.1-.9-2-2-2zM9 17H7v-7h2v7zm4 0h-2V7h2v10zm4 0h-2v-4h2v4z\"/>\n",
              "    </g>\n",
              "</svg>\n",
              "  </button>\n",
              "\n",
              "<style>\n",
              "  .colab-df-quickchart {\n",
              "      --bg-color: #E8F0FE;\n",
              "      --fill-color: #1967D2;\n",
              "      --hover-bg-color: #E2EBFA;\n",
              "      --hover-fill-color: #174EA6;\n",
              "      --disabled-fill-color: #AAA;\n",
              "      --disabled-bg-color: #DDD;\n",
              "  }\n",
              "\n",
              "  [theme=dark] .colab-df-quickchart {\n",
              "      --bg-color: #3B4455;\n",
              "      --fill-color: #D2E3FC;\n",
              "      --hover-bg-color: #434B5C;\n",
              "      --hover-fill-color: #FFFFFF;\n",
              "      --disabled-bg-color: #3B4455;\n",
              "      --disabled-fill-color: #666;\n",
              "  }\n",
              "\n",
              "  .colab-df-quickchart {\n",
              "    background-color: var(--bg-color);\n",
              "    border: none;\n",
              "    border-radius: 50%;\n",
              "    cursor: pointer;\n",
              "    display: none;\n",
              "    fill: var(--fill-color);\n",
              "    height: 32px;\n",
              "    padding: 0;\n",
              "    width: 32px;\n",
              "  }\n",
              "\n",
              "  .colab-df-quickchart:hover {\n",
              "    background-color: var(--hover-bg-color);\n",
              "    box-shadow: 0 1px 2px rgba(60, 64, 67, 0.3), 0 1px 3px 1px rgba(60, 64, 67, 0.15);\n",
              "    fill: var(--button-hover-fill-color);\n",
              "  }\n",
              "\n",
              "  .colab-df-quickchart-complete:disabled,\n",
              "  .colab-df-quickchart-complete:disabled:hover {\n",
              "    background-color: var(--disabled-bg-color);\n",
              "    fill: var(--disabled-fill-color);\n",
              "    box-shadow: none;\n",
              "  }\n",
              "\n",
              "  .colab-df-spinner {\n",
              "    border: 2px solid var(--fill-color);\n",
              "    border-color: transparent;\n",
              "    border-bottom-color: var(--fill-color);\n",
              "    animation:\n",
              "      spin 1s steps(1) infinite;\n",
              "  }\n",
              "\n",
              "  @keyframes spin {\n",
              "    0% {\n",
              "      border-color: transparent;\n",
              "      border-bottom-color: var(--fill-color);\n",
              "      border-left-color: var(--fill-color);\n",
              "    }\n",
              "    20% {\n",
              "      border-color: transparent;\n",
              "      border-left-color: var(--fill-color);\n",
              "      border-top-color: var(--fill-color);\n",
              "    }\n",
              "    30% {\n",
              "      border-color: transparent;\n",
              "      border-left-color: var(--fill-color);\n",
              "      border-top-color: var(--fill-color);\n",
              "      border-right-color: var(--fill-color);\n",
              "    }\n",
              "    40% {\n",
              "      border-color: transparent;\n",
              "      border-right-color: var(--fill-color);\n",
              "      border-top-color: var(--fill-color);\n",
              "    }\n",
              "    60% {\n",
              "      border-color: transparent;\n",
              "      border-right-color: var(--fill-color);\n",
              "    }\n",
              "    80% {\n",
              "      border-color: transparent;\n",
              "      border-right-color: var(--fill-color);\n",
              "      border-bottom-color: var(--fill-color);\n",
              "    }\n",
              "    90% {\n",
              "      border-color: transparent;\n",
              "      border-bottom-color: var(--fill-color);\n",
              "    }\n",
              "  }\n",
              "</style>\n",
              "\n",
              "  <script>\n",
              "    async function quickchart(key) {\n",
              "      const quickchartButtonEl =\n",
              "        document.querySelector('#' + key + ' button');\n",
              "      quickchartButtonEl.disabled = true;  // To prevent multiple clicks.\n",
              "      quickchartButtonEl.classList.add('colab-df-spinner');\n",
              "      try {\n",
              "        const charts = await google.colab.kernel.invokeFunction(\n",
              "            'suggestCharts', [key], {});\n",
              "      } catch (error) {\n",
              "        console.error('Error during call to suggestCharts:', error);\n",
              "      }\n",
              "      quickchartButtonEl.classList.remove('colab-df-spinner');\n",
              "      quickchartButtonEl.classList.add('colab-df-quickchart-complete');\n",
              "    }\n",
              "    (() => {\n",
              "      let quickchartButtonEl =\n",
              "        document.querySelector('#df-57fe82a2-abab-461e-a550-c3e61bcc6420 button');\n",
              "      quickchartButtonEl.style.display =\n",
              "        google.colab.kernel.accessAllowed ? 'block' : 'none';\n",
              "    })();\n",
              "  </script>\n",
              "</div>\n",
              "\n",
              "    </div>\n",
              "  </div>\n"
            ],
            "application/vnd.google.colaboratory.intrinsic+json": {
              "type": "dataframe",
              "variable_name": "df",
              "summary": "{\n  \"name\": \"df\",\n  \"rows\": 962,\n  \"fields\": [\n    {\n      \"column\": \"Category\",\n      \"properties\": {\n        \"dtype\": \"category\",\n        \"num_unique_values\": 25,\n        \"samples\": [\n          \"Civil Engineer\",\n          \"DevOps Engineer\",\n          \"Data Science\"\n        ],\n        \"semantic_type\": \"\",\n        \"description\": \"\"\n      }\n    },\n    {\n      \"column\": \"Resume\",\n      \"properties\": {\n        \"dtype\": \"category\",\n        \"num_unique_values\": 166,\n        \"samples\": [\n          \"key competencies \\u00e2\\u009c\\u00b6multi - operations management\\u00e2\\u009c\\u00b6people management \\u00e2\\u009c\\u00b6customer services - emails \\u00e2\\u009c\\u00b6 mis \\u00e2\\u009c\\u00b6vendor & client services management\\u00e2\\u009c\\u00b6cross functional coordination\\u00e2\\u009c\\u00b6banking & financial services\\u00e2\\u009c\\u00b6 transaction monitoring * atm operations \\u00e2\\u009c\\u00b6 & prepaid card operations (pre-issuance & post-issuance) \\u00e2\\u009c\\u00b6 pos operations * job profile & skills: \\u00e2\\u0080\\u00a2 an effective communicator with excellent relationship building & interpersonal skills. strong analytical, problem solving & organizational abilities. \\u00e2\\u0080\\u00a2 extensive experience in managing operations with demonstrated leadership qualities & organisational skills during the tenure. \\u00e2\\u0080\\u00a2 managing customer centric operations & ensuring customer satisfaction by achieving service quality norms. \\u00e2\\u0080\\u00a2 analyzing of all operational problems, customer complaints and take preventive and corrective actions to resolve the same. \\u00e2\\u0080\\u00a2 receive and respond to key customer inquiries in an effective manner and provide relevant and timely information. \\u00e2\\u0080\\u00a2 deft in steering banking back-end operations, analyzing risks and managing delinquencies with dexterity across applying techniques for maximizing recoveries and minimizing credit losses. \\u00e2\\u0080\\u00a2 analyzed & identified training needs of the team members and developing, organizing and conducting training programs and manage bottom quartile team to improve their performance. \\u00e2\\u0080\\u00a2 preparing and maintaining daily mis reports to evaluate the performance and efficiency of the process relate to various verticals. \\u00e2\\u0080\\u00a2 measuring the performance of the processes in terms of efficiency and effectiveness matrix and ensuring adherence to sla. \\u00e2\\u0080\\u00a2 major activities define processes for field services were monitored and necessary checks were executed and controlled. also measured vendor sla by analyzing the tat of vendors & the client sla provided to us. \\u00e2\\u0080\\u00a2 as per company procedures, handling & ensuring vendor's payment issues to be sorted out &payments are processed on quarterly basis. \\u00e2\\u0080\\u00a2 appropriately plan and execute each skill of operations in accordance with the department's policies and procedures. \\u00e2\\u0080\\u00a2 manage relationships with business team, software development team and other services to achieve project objectives. different software worked till now: - a. ctl prime - axis bank credit cards b. insight - for pos machine technical operations for amex (mid & tid generation- atos (venture infotek) c. ticket management system - tata communications private services ltd (atm - noc operations) d. branch portal (yalamanchili software exports ltd) - prepaid cards (sbi bank & zaggle prepaid oceans services ltd) zaggle prepaid ocean services pvt ltd oct, 2017 to till date designation: manager - operations (payment industry - prepaid cards - inr) education details \\r\\n  commerce mumbai, maharashtra mumbai university\\r\\noperations manager \\r\\n\\r\\nservice manager - operations (payment industry - prepaid cards - inr & ftc)\\r\\nskill details \\r\\noperations- exprience - 73 months\\r\\nsatisfaction- exprience - 48 months\\r\\ntraining- exprience - 24 months\\r\\nnoc- exprience - 23 months\\r\\npoint of sale- exprience - 20 monthscompany details \\r\\ncompany - zaggle prepaid ocean services pvt ltd\\r\\ndescription - card operations\\r\\ncompany - yalamanchili software exports ltd\\r\\ndescription - 24*7 operations pvt ltd) dec 2015 to feb 2017\\r\\n\\r\\ndesignation: service manager - operations (payment industry - prepaid cards - inr & ftc)\\r\\n\\r\\nkey contributions: \\u00e2\\u0080\\u00a2 a result-oriented business professional in planning, executing& managing processes, improving efficiency of operations, team building and detailing process information to determine effective result into operations.\\r\\n\\u00e2\\u0080\\u00a2 ensuring pins generation (sla) is maintained and chargeback cases are raised in perfect timeframe.\\r\\n\\u00e2\\u0080\\u00a2 managing email customer services properly and ensuring the emails are replied properly. also, ensuring transaction monitoring is properly managed 24/7.\\r\\n\\u00e2\\u0080\\u00a2 assisting bankers (sbi & associated banks) for their bcp plans by getting executed in the system with the help of dr-pr plans & vice versa or any other business requirements.\\r\\n\\u00e2\\u0080\\u00a2 expertise in maintaining highest level of quality in operations; ensuring adherence to all the quality parameters and procedures as per the stringent norms.\\r\\n\\u00e2\\u0080\\u00a2 lead, manage and supervise the execution of external audit engagements and responsible for presenting the findings & developing a quality reports to the senior management and clients.\\r\\n\\u00e2\\u0080\\u00a2 coach/mentor (20) team members to perform at a higher level by giving opportunities, providing timely continuous feedback and working with staff to improve their communication, time management, decision making, organization, and analytical skills.\\r\\n\\u00e2\\u0080\\u00a2 providing the solutions and services to the client in their own premises with aforesaid count of team members.\\r\\n\\u00e2\\u0080\\u00a2 also ensuring end to end process of pr & dr as per client requirements (pr- dr & dr -pr) by interacting with internal & external stakeholders.\\r\\n\\u00e2\\u0080\\u00a2 determining process gaps and designing & conducting training programs to enhance operational efficiency and retain talent by providing optimum opportunities for personal and professional growth.\\r\\ncompany - credit cards\\r\\ndescription - ensured highest standard of customer satisfaction and quality service; developing new policies and procedures to improve based on customer feedback and resolving customer queries via correspondence, inbound calls & email channels with the strength of (12-16) team members.\\r\\ncompany - ags transact technologies limited\\r\\ndescription - key contributions: lead - spoc to banks\\r\\ncompany - tata communications payment solutions ltd\\r\\ndescription - to make atms operational within tat by analyzing the issue is technical or non-technical and also by interacting with internal & external stakeholders.\\r\\ncompany - vertex customer solutions india private ltd\\r\\ndescription - key contributions: \\u00e2\\u0080\\u00a2 build positive working relationship with all team members and clients by keeping management informed   of kyc document collection & con-current audit progress, responding timely to management inquiries, understanding the business and conducting self professionally.\\r\\ncompany - financial inclusion network & operations limited\\r\\ndescription - key contributions: pos-operations \\u00e2\\u0080\\u00a2 cascading the adherence of process is strictly followed by team members & training them to reduce the downtime.\\r\\n\\u00e2\\u0080\\u00a2 managing stock of edc terminals \\u00e2\\u0080\\u00a2 managing deployments of terminals through multiple teams \\u00e2\\u0080\\u00a2 would have worked with multiple terminal make & model \\u00e2\\u0080\\u00a2 managing inward, outward & qc of applications installed in the pos machines.\\r\\ncompany - venture infotek private ltd\\r\\ndescription - key contributions: pos-operations\\r\\ncompany - axis bank ltd - customer services\\r\\ndescription - aug 2006 to oct 2009 (ma-foi&i- smart)\\r\\n\\r\\ndesignation: team leader/executive - emails, phone banking & correspondence unit (snail mails)\",\n          \"skill set: hadoop, map reduce, hdfs, hive, sqoop, java. duration: 2016 to 2017. role: hadoop developer rplus offers an quick, simple and powerful cloud based solution, demand sense to accurately predict demand for your product in all your markets which combines enterprise and external data to predict demand more accurately through uses social conversation and sentiments to derive demand and identifies significant drivers of sale out of hordes of factors that selects the best suited model out of multiple forecasting models for each product. responsibilities: \\u00e2\\u0080\\u00a2 involved in deploying the product for customers, gathering requirements and algorithm optimization at backend of the product. \\u00e2\\u0080\\u00a2 load and transform large datasets of structured semi structured. \\u00e2\\u0080\\u00a2 responsible to manage data coming from different sources and application \\u00e2\\u0080\\u00a2 supported map reduce programs those are running on the cluster \\u00e2\\u0080\\u00a2 involved in creating hive tables, loading with data and writing hive queries which will run internally in map reduce way.education details \\r\\n\\r\\nhadoop developer \\r\\n\\r\\nhadoop developer - braindatawire\\r\\nskill details \\r\\napache hadoop hdfs- exprience - 49 months\\r\\napache hadoop sqoop- exprience - 49 months\\r\\nhadoop- exprience - 49 months\\r\\nhadoop- exprience - 49 months\\r\\nhadoop distributed file system- exprience - 49 monthscompany details \\r\\ncompany - braindatawire\\r\\ndescription - technical skills:\\r\\n\\u00e2\\u0080\\u00a2   programming: core java, map reduce, scala\\r\\n\\u00e2\\u0080\\u00a2   hadoop tools: hdfs, spark, map reduce, sqoop, hive, hbase\\r\\n\\u00e2\\u0080\\u00a2   database: mysql, oracle\\r\\n\\u00e2\\u0080\\u00a2   scripting: shell scripting\\r\\n\\u00e2\\u0080\\u00a2   ide: eclipse\\r\\n\\u00e2\\u0080\\u00a2   operating systems: linux (centos), windows\\r\\n\\u00e2\\u0080\\u00a2   source control: git (github)\",\n          \"it skills: area exposure modeling tool: bizagi, ms visio prototyping tool: indigo studio. documentation: ms office (ms word, ms excel, ms power point) testing proficiency: smoke, sanity, integration, functional, acceptance and ui methodology implemented: waterfall, agile (scrum) database: sql testing tool: hpqc business exposure education details \\r\\n bachelor of computer engineering computer engineering mumbai, maharashtra thadomal shahani engineering college\\r\\n diploma computer engineering ulhasnagar, maharashtra institute of technology\\r\\n secondary school certificate  ulhasnagar, maharashtra new english high school\\r\\nsenior business analyst - rpa \\r\\n\\r\\nsenior business analyst - rpa - hexaware technologies\\r\\nskill details \\r\\ndocumentation- exprience - 47 months\\r\\ntesting- exprience - 29 months\\r\\nintegration- exprience - 25 months\\r\\nintegrator- exprience - 25 months\\r\\nprototype- exprience - 13 monthscompany details \\r\\ncompany - hexaware technologies\\r\\ndescription - working as a rpa business analyst\\r\\ncompany - bbh- brown brothers harriman & co\\r\\ndescription - is a private bank that provides commercial banking, investment management, brokerage, and trust services to private companies and individuals. it also performs merger advisory, foreign exchange, custody services, commercial banking, and corporate financing services.\\r\\n\\r\\nresponsibilities: \\u00e2\\u0080\\u00a2 performed automation assessment of various processes and identified processes which can be candidates of rpa.\\r\\n\\u00e2\\u0080\\u00a2 conducting assessment that involves an initial understanding of the existing system, their technology, processes, usage of the tools, feasibility of tool with automation tool along with automation roi analysis.\\r\\n\\u00e2\\u0080\\u00a2 preparing the automation potential sheet which describes the steps in the process, the volume and frequency of the transaction, the aht taken by sme to perform the process and depending on the steps that could be automated, automation potential and the manual efforts that will be saved are calculated.\\r\\ncalculating the complexity of the process which is considered for automation and depending on all these factors number of bots and number of automation tool licenses are determined.\\r\\n\\u00e2\\u0080\\u00a2 implementing a proof of concept (poc) to validate feasibility by executing the selected critical use cases for conducting a poc which will helps to identify financial and operational benefits and provide recommendations regarding the actual need for complete automation.\\r\\n\\u00e2\\u0080\\u00a2 gathering business requirements by conducting detailed interviews with business users, stakeholders, and subject matter experts (sme's) \\u00e2\\u0080\\u00a2 preparing business requirement document and then converted business requirements into functional requirements specification.\\r\\n \\u00e2\\u0080\\u00a2 constructing prototype early toward a design acceptable to the customer and feasible.\\r\\n\\u00e2\\u0080\\u00a2 assisting in designing test plans, test scenarios and test cases for integration, regression, and user acceptance testing (uat) to improve the overall quality of the automation.\\r\\n\\u00e2\\u0080\\u00a2 participating regularly in walkthroughs and review meetings with project manager, qa engineers, and development team.\\r\\n\\u00e2\\u0080\\u00a2 regularly interacting with offshore and onshore development teams.\\r\\ncompany - fadv - first advantage\\r\\ndescription - is a criminal background check company that delivers global solutions ranging from employment screenings to background checks.\\r\\nthe following are the processes which were covered:\\r\\nemail process, research process, review process.\\r\\n\\r\\nresponsibilities: \\u00e2\\u0080\\u00a2 requirement gathering through conducting interviews & brainstorming sessions with stakeholders \\u00e2\\u0080\\u00a2 to develop decision models and execute those rules as per the use case specifications.\\r\\n\\u00e2\\u0080\\u00a2 to test/validate the decision models against document test data.\\r\\n\\u00e2\\u0080\\u00a2 to maintain and enhance the decision models for changes in regulations as per use case specifications.\\r\\n\\u00e2\\u0080\\u00a2 responsible for performing the business research that will make a business growth.\\r\\n\\u00e2\\u0080\\u00a2 developing a clear understanding of existing business functions and processes.\\r\\n\\u00e2\\u0080\\u00a2 effectively communicate with the onsite clients for the queries, suggestions, and update.\\r\\n\\u00e2\\u0080\\u00a2 giving suggestions to enhance the current processes.\\r\\n\\u00e2\\u0080\\u00a2 identifying areas for process improvement.\\r\\n\\u00e2\\u0080\\u00a2 flagging up potential problems at an early stage.\\r\\n\\u00e2\\u0080\\u00a2 preparing powerpoint presentations and documents for business meetings.\\r\\n\\u00e2\\u0080\\u00a2 using any information gathered to write up detailed reports.\\r\\n\\u00e2\\u0080\\u00a2 highlighting risks and issues that could impact project delivery.\\r\\n\\u00e2\\u0080\\u00a2 able to work accurately.\\r\\n\\u00e2\\u0080\\u00a2 to develop and maintain documentation for internal team training and client end user operations.\\r\\n\\u00e2\\u0080\\u00a2 to work efficiently with team members and across teams.\\r\\n\\u00e2\\u0080\\u00a2 to mentor and train junior team members.\\r\\ncompany - clinical testing, lab work and diagnostic testing\\r\\ndescription - iqvia provides services to its customers this includes: clinical testing, lab work and diagnostic testing under clinical trial. these customers need to pay to iqvia and aging details and invoices are generated for the same.\\r\\nthe following are the processes which were covered:\\r\\n\\r\\ntracking payments, automated real time metrics reporting (dashboard), past due notifications, ar statements, credit/rebill.\\r\\nresponsibilities: \\u00e2\\u0080\\u00a2 conducting meetings with clients and key stakeholders to gather requirements, analyze, finalize and have formal sign-offs from approvers gather and perform analysis of the business requirements \\u00e2\\u0080\\u00a2 translating the business requirements into the business requirement document [brd], functional requirement document [frd].\\r\\n\\u00e2\\u0080\\u00a2 facilitating meetings with the appropriate subject matter experts in both business and technology teams \\u00e2\\u0080\\u00a2 coordinating with business user community for the execution of user acceptance test as well as tracking issues \\u00e2\\u0080\\u00a2 working, collaborating and coordinating with offshore and onsite team members to fulfill the ba responsibilities from project initiation to post-implementation \\u00e2\\u0080\\u00a2 reviewing the test scripts with business users as well as technology team. execute test scripts with expected results for the system integration test (sit) and user acceptance test (uat) \\u00e2\\u0080\\u00a2 coordinating and conducting the production acceptance testing (pat) with the business users \\u00e2\\u0080\\u00a2 creating flow diagrams, structure charts, and other types of system or process representations \\u00e2\\u0080\\u00a2 managing changes to requirements and baseline through a change control process \\u00e2\\u0080\\u00a2 utilizing standard methods, design and testing tools throughout project development life cycle \\u00e2\\u0080\\u00a2 work closely with the operational functional teams, operations management, and personnel, and various technology teams to facilitate a shared understanding of requirements and priorities across all areas\\r\\ncompany - eduavenir it solution\\r\\ndescription - project: m.b.m.s\\r\\n\\r\\nm.b.m.s. - is an inventory management application that allows user to manage inventory details of different warehouses, having different products located at various locations and help extract what goods have been procured, sold or returned by customers. it generates automated invoicesalong withcustomized reports. it also managescustomer complaint and resolution system implementation along with automated mis on monthly basis.sales and forecastingis also developed on mis system and the streamlining of process of warehousing and dispatch along with online proof of delivery management system (pod documentation) is generated.\\r\\n\\r\\nresponsibilities: \\u00e2\\u0080\\u00a2 participate in requirement gathering discussion with client to understand the flow of business processes \\u00e2\\u0080\\u00a2 analyze the requirements and determine the core processes, develop process documentation and ensure to stay up-to-date in conjunction with on-going changes \\u00e2\\u0080\\u00a2 participate in process flow analysis and preparing brd, srs.\\r\\n\\u00e2\\u0080\\u00a2 coordinating with developers, designers & operations teams for various nuances of the project, communicate the stakeholder requirements from requirement /enhancement to implementation and finally deliver the same within estimated timeframe.\\r\\n\\u00e2\\u0080\\u00a2 support uat by reviewing test cases, manage version control of documents, software builds.\\r\\n\\u00e2\\u0080\\u00a2 coordinate with the stakeholders for uat sign off and coordinate internally for production movement till golive stage of the application.\\r\\n\\u00e2\\u0080\\u00a2 provide demo and training to internal and end user using powerpoint presentation.\\r\\n\\u00e2\\u0080\\u00a2 resolving project functional &technical issues during uat.\\r\\n\\u00e2\\u0080\\u00a2 prioritizing the production bugs and resolving the same within the estimated timeframe.\\r\\n\\u00e2\\u0080\\u00a2 preparing project status report and production bugs status to all the stakeholders.\\r\\n\\u00e2\\u0080\\u00a2 promoting and networking for online trading platform.\\r\\n\\u00e2\\u0080\\u00a2 designing query sheet for obtaining and comparison of quotes from various vendors.\\r\\n\\u00e2\\u0080\\u00a2 development of product codes / material codes for inventory management (master data management)\\r\\ncompany - capgemini head office\\r\\ndescription - type: mobile and device testing.       duration: january 2014 - august 2014\\r\\n\\r\\nfollet - an application which takes an electronic request from the user for the books he requires from a particular follet store. this detailed information about books that will include the name of the book, its price, the date of the transaction and the parties involved which will then be sent to follet stores. user then create request for one or more books for a given date. this request is then processed further and user gets a mail of the date when he will be provided with that book.\\r\\n\\r\\nresponsibilities: \\u00e2\\u0080\\u00a2 understanding the needs and business requirements.\\r\\n\\u00e2\\u0080\\u00a2 preparing brd, srs by eliciting all the requirements from the client and smes \\u00e2\\u0080\\u00a2 understanding the dependency of the modules in the system \\u00e2\\u0080\\u00a2 preparation of test plan for unit level and integration level.\\r\\n\\u00e2\\u0080\\u00a2 preparation and execution of test cases.\\r\\n\\u00e2\\u0080\\u00a2 defect tracking, issue resolution, risk monitoring, status tracking, reporting and follow-up.\\r\\n\\u00e2\\u0080\\u00a2 preparation of test completion report.\\r\\ncompany - capgemini head office\\r\\ndescription - \\r\\ncompany - capgemini head office\\r\\ndescription - humana is a health care insurance project of u.s. which deals with supplying various medicines to citizens as per the doctor's reference and patient's insurance policy. this application keeps track of all the medicines user has consumed in the past and generates a patient history. a citizen is given a drug only after the doctor's reference so the doctor's information is also linked with the patient's history.\\r\\n\\r\\nresponsibilities: \\u00e2\\u0080\\u00a2 understanding the requirements and getting clarifications from client.\\r\\n\\u00e2\\u0080\\u00a2 involved in writing test cases based on test scenarios and execute them.\\r\\n\\u00e2\\u0080\\u00a2 ensuring test coverage using requirement traceability matrix (rtm) \\u00e2\\u0080\\u00a2 preparation of test completion report.\\r\\ncompany - capgemini head office\\r\\ndescription - testing trends wqr (world quality report) is an application which allows the users to take a survey on different methods and technologies used for testing. users can choose to answer any type of questions under three different categories. users have a facility to search, view and export the data to excel. also, users get daily and weekly reports through email about the new trends in testing implemented around the globe. testing trends wqr app is available on android and ios platforms.\\r\\n\\r\\nresponsibilities: \\u00e2\\u0080\\u00a2 understanding the requirements and getting clarifications from client.\\r\\n\\u00e2\\u0080\\u00a2 writing test cases based on test scenarios and executed them.\\r\\n\\u00e2\\u0080\\u00a2 performing different types of testing such as functional, integration, system, and uat.\\r\\n\\u00e2\\u0080\\u00a2 defect resolution and maintenance of the application.\"\n        ],\n        \"semantic_type\": \"\",\n        \"description\": \"\"\n      }\n    },\n    {\n      \"column\": \"Cleaned_Resume\",\n      \"properties\": {\n        \"dtype\": \"category\",\n        \"num_unique_values\": 166,\n        \"samples\": [\n          \"key competencies multi operations management people management customer services emails mis vendor client services management cross functional coordination banking financial services transaction monitoring atm operations prepaid card operations pre issuance post issuance pos operations job profile skills an effective communicator with excellent relationship building interpersonal skills strong analytical problem solving organizational abilities extensive experience in managing operations with demonstrated leadership qualities organisational skills during the tenure managing customer centric operations ensuring customer satisfaction by achieving service quality norms analyzing of all operational problems customer complaints and take preventive and corrective actions to resolve the same receive and respond to key customer inquiries in an effective manner and provide relevant and timely information deft in steering banking back end operations analyzing risks and managing delinquencies with dexterity across applying techniques for maximizing recoveries and minimizing credit losses analyzed identified training needs of the team members and developing organizing and conducting training programs and manage bottom quartile team to improve their performance preparing and maintaining daily mis reports to evaluate the performance and efficiency of the process relate to various verticals measuring the performance of the processes in terms of efficiency and effectiveness matrix and ensuring adherence to sla major activities define processes for field services were monitored and necessary checks were executed and controlled also measured vendor sla by analyzing the tat of vendors the client sla provided to us as per company procedures handling ensuring vendor s payment issues to be sorted out payments are processed on quarterly basis appropriately plan and execute each skill of operations in a ordance with the department s policies and procedures manage relationships with business team software development team and other services to achieve project objectives different software worked till now a ctl prime axis bank credit cards b insight for pos machine technical operations for amex mid tid generation atos venture infotek c ticket management system tata communications private services ltd atm noc operations d branch portal yalamanchili software exports ltd prepaid cards sbi bank zaggle prepaid oceans services ltd zaggle prepaid ocean services pvt ltd oct 2017 to till date designation manager operations payment industry prepaid cards inr education details commerce mumbai maharashtra mumbai university operations manager service manager operations payment industry prepaid cards inr ftc skill details operations exprience 73 months satisfaction exprience 48 months training exprience 24 months noc exprience 23 months point of sale exprience 20 monthscompany details company zaggle prepaid ocean services pvt ltd description card operations company yalamanchili software exports ltd description 24 7 operations pvt ltd dec 2015 to feb 2017 designation service manager operations payment industry prepaid cards inr ftc key contributions a result oriented business professional in planning executing managing processes improving efficiency of operations team building and detailing process information to determine effective result into operations ensuring pins generation sla is maintained and chargeback cases are raised in perfect timeframe managing email customer services properly and ensuring the emails are replied properly also ensuring transaction monitoring is properly managed 24 7 assisting bankers sbi associated banks for their bcp plans by getting executed in the system with the help of dr pr plans vice versa or any other business requirements expertise in maintaining highest level of quality in operations ensuring adherence to all the quality parameters and procedures as per the stringent norms lead manage and supervise the execution of external audit engagements and responsible for presenting the findings developing a quality reports to the senior management and clients coach mentor 20 team members to perform at a higher level by giving opportunities providing timely continuous feedback and working with staff to improve their communication time management decision making organization and analytical skills providing the solutions and services to the client in their own premises with aforesaid count of team members also ensuring end to end process of pr dr as per client requirements pr dr dr pr by interacting with internal external stakeholders determining process gaps and designing conducting training programs to enhance operational efficiency and retain talent by providing optimum opportunities for personal and professional growth company credit cards description ensured highest standard of customer satisfaction and quality service developing new policies and procedures to improve based on customer feedback and resolving customer queries via correspondence inbound calls email channels with the strength of 12 16 team members company ags transact technologies limited description key contributions lead spoc to banks company tata communications payment solutions ltd description to make atms operational within tat by analyzing the issue is technical or non technical and also by interacting with internal external stakeholders company vertex customer solutions india private ltd description key contributions build positive working relationship with all team members and clients by keeping management informed of kyc document collection con current audit progress responding timely to management inquiries understanding the business and conducting self professionally company financial inclusion network operations limited description key contributions pos operations cascading the adherence of process is strictly followed by team members training them to reduce the downtime managing stock of edc terminals managing deployments of terminals through multiple teams would have worked with multiple terminal make model managing inward outward qc of applications installed in the pos machines company venture infotek private ltd description key contributions pos operations company axis bank ltd customer services description aug 2006 to oct 2009 ma foi i smart designation team leader executive emails phone banking correspondence unit snail mails \",\n          \"skill set hadoop map reduce hdfs hive sqoop java duration 2016 to 2017 role hadoop developer rplus offers an quick simple and powerful cloud based solution demand sense to a urately predict demand for your product in all your markets which combines enterprise and external data to predict demand more a urately through uses social conversation and sentiments to derive demand and identifies significant drivers of sale out of hordes of factors that selects the best suited model out of multiple forecasting models for each product responsibilities involved in deploying the product for customers gathering requirements and algorithm optimization at backend of the product load and transform large datasets of structured semi structured responsible to manage data coming from different sources and application supported map reduce programs those are running on the cluster involved in creating hive tables loading with data and writing hive queries which will run internally in map reduce way education details hadoop developer hadoop developer braindatawire skill details apache hadoop hdfs exprience 49 months apache hadoop sqoop exprience 49 months hadoop exprience 49 months hadoop exprience 49 months hadoop distributed file system exprience 49 monthscompany details company braindatawire description technical skills programming core java map reduce scala hadoop tools hdfs spark map reduce sqoop hive hbase database mysql oracle scripting shell scripting ide eclipse operating systems linux centos windows source control git github \",\n          \"it skills area exposure modeling tool bizagi ms visio prototyping tool indigo studio documentation ms office ms word ms excel ms power point testing proficiency smoke sanity integration functional a eptance and ui methodology implemented waterfall agile scrum database sql testing tool hpqc business exposure education details bachelor of computer engineering computer engineering mumbai maharashtra thadomal shahani engineering college diploma computer engineering ulhasnagar maharashtra institute of technology secondary school certificate ulhasnagar maharashtra new english high school senior business analyst rpa senior business analyst rpa hexaware technologies skill details documentation exprience 47 months testing exprience 29 months integration exprience 25 months integrator exprience 25 months prototype exprience 13 monthscompany details company hexaware technologies description working as a rpa business analyst company bbh brown brothers harriman co description is a private bank that provides commercial banking investment management brokerage and trust services to private companies and individuals it also performs merger advisory foreign exchange custody services commercial banking and corporate financing services responsibilities performed automation assessment of various processes and identified processes which can be candidates of rpa conducting assessment that involves an initial understanding of the existing system their technology processes usage of the tools feasibility of tool with automation tool along with automation roi analysis preparing the automation potential sheet which describes the steps in the process the volume and frequency of the transaction the aht taken by sme to perform the process and depending on the steps that could be automated automation potential and the manual efforts that will be saved are calculated calculating the complexity of the process which is considered for automation and depending on all these factors number of bots and number of automation tool licenses are determined implementing a proof of concept poc to validate feasibility by executing the selected critical use cases for conducting a poc which will helps to identify financial and operational benefits and provide recommendations regarding the actual need for complete automation gathering business requirements by conducting detailed interviews with business users stakeholders and subject matter experts sme s preparing business requirement document and then converted business requirements into functional requirements specification constructing prototype early toward a design a eptable to the customer and feasible assisting in designing test plans test scenarios and test cases for integration regression and user a eptance testing uat to improve the overall quality of the automation participating regularly in walkthroughs and review meetings with project manager qa engineers and development team regularly interacting with offshore and onshore development teams company fadv first advantage description is a criminal background check company that delivers global solutions ranging from employment screenings to background checks the following are the processes which were covered email process research process review process responsibilities requirement gathering through conducting interviews brainstorming sessions with stakeholders to develop decision models and execute those rules as per the use case specifications to test validate the decision models against document test data to maintain and enhance the decision models for changes in regulations as per use case specifications responsible for performing the business research that will make a business growth developing a clear understanding of existing business functions and processes effectively communicate with the onsite clients for the queries suggestions and update giving suggestions to enhance the current processes identifying areas for process improvement flagging up potential problems at an early stage preparing powerpoint presentations and documents for business meetings using any information gathered to write up detailed reports highlighting risks and issues that could impact project delivery able to work a urately to develop and maintain documentation for internal team training and client end user operations to work efficiently with team members and across teams to mentor and train junior team members company clinical testing lab work and diagnostic testing description iqvia provides services to its customers this includes clinical testing lab work and diagnostic testing under clinical trial these customers need to pay to iqvia and aging details and invoices are generated for the same the following are the processes which were covered tracking payments automated real time metrics reporting dashboard past due notifications ar statements credit rebill responsibilities conducting meetings with clients and key stakeholders to gather requirements analyze finalize and have formal sign offs from approvers gather and perform analysis of the business requirements translating the business requirements into the business requirement document brd functional requirement document frd facilitating meetings with the appropriate subject matter experts in both business and technology teams coordinating with business user community for the execution of user a eptance test as well as tracking issues working collaborating and coordinating with offshore and onsite team members to fulfill the ba responsibilities from project initiation to post implementation reviewing the test scripts with business users as well as technology team execute test scripts with expected results for the system integration test sit and user a eptance test uat coordinating and conducting the production a eptance testing pat with the business users creating flow diagrams structure charts and other types of system or process representations managing changes to requirements and baseline through a change control process utilizing standard methods design and testing tools throughout project development life cycle work closely with the operational functional teams operations management and personnel and various technology teams to facilitate a shared understanding of requirements and priorities across all areas company eduavenir it solution description project m b m s m b m s is an inventory management application that allows user to manage inventory details of different warehouses having different products located at various locations and help extract what goods have been procured sold or returned by customers it generates automated invoicesalong withcustomized reports it also managescustomer complaint and resolution system implementation along with automated mis on monthly basis sales and forecastingis also developed on mis system and the streamlining of process of warehousing and dispatch along with online proof of delivery management system pod documentation is generated responsibilities participate in requirement gathering discussion with client to understand the flow of business processes analyze the requirements and determine the core processes develop process documentation and ensure to stay up to date in conjunction with on going changes participate in process flow analysis and preparing brd srs coordinating with developers designers operations teams for various nuances of the project communicate the stakeholder requirements from requirement enhancement to implementation and finally deliver the same within estimated timeframe support uat by reviewing test cases manage version control of documents software builds coordinate with the stakeholders for uat sign off and coordinate internally for production movement till golive stage of the application provide demo and training to internal and end user using powerpoint presentation resolving project functional technical issues during uat prioritizing the production bugs and resolving the same within the estimated timeframe preparing project status report and production bugs status to all the stakeholders promoting and networking for online trading platform designing query sheet for obtaining and comparison of quotes from various vendors development of product codes material codes for inventory management master data management company capgemini head office description type mobile and device testing duration january 2014 august 2014 follet an application which takes an electronic request from the user for the books he requires from a particular follet store this detailed information about books that will include the name of the book its price the date of the transaction and the parties involved which will then be sent to follet stores user then create request for one or more books for a given date this request is then processed further and user gets a mail of the date when he will be provided with that book responsibilities understanding the needs and business requirements preparing brd srs by eliciting all the requirements from the client and smes understanding the dependency of the modules in the system preparation of test plan for unit level and integration level preparation and execution of test cases defect tracking issue resolution risk monitoring status tracking reporting and follow up preparation of test completion report company capgemini head office description company capgemini head office description humana is a health care insurance project of u s which deals with supplying various medicines to citizens as per the doctor s reference and patient s insurance policy this application keeps track of all the medicines user has consumed in the past and generates a patient history a citizen is given a drug only after the doctor s reference so the doctor s information is also linked with the patient s history responsibilities understanding the requirements and getting clarifications from client involved in writing test cases based on test scenarios and execute them ensuring test coverage using requirement traceability matrix rtm preparation of test completion report company capgemini head office description testing trends wqr world quality report is an application which allows the users to take a survey on different methods and technologies used for testing users can choose to answer any type of questions under three different categories users have a facility to search view and export the data to excel also users get daily and weekly reports through email about the new trends in testing implemented around the globe testing trends wqr app is available on android and ios platforms responsibilities understanding the requirements and getting clarifications from client writing test cases based on test scenarios and executed them performing different types of testing such as functional integration system and uat defect resolution and maintenance of the application \"\n        ],\n        \"semantic_type\": \"\",\n        \"description\": \"\"\n      }\n    },\n    {\n      \"column\": \"label\",\n      \"properties\": {\n        \"dtype\": \"number\",\n        \"std\": 7,\n        \"min\": 0,\n        \"max\": 24,\n        \"num_unique_values\": 25,\n        \"samples\": [\n          5,\n          8,\n          6\n        ],\n        \"semantic_type\": \"\",\n        \"description\": \"\"\n      }\n    }\n  ]\n}"
            }
          },
          "metadata": {},
          "execution_count": 15
        }
      ]
    },
    {
      "cell_type": "markdown",
      "source": [
        "**Exercise 8: Plot the histogram of words count of `Cleaned_Resume` text [0.5 Mark]**\n",
        "\n",
        "**Hint:** Use sns.distplot()"
      ],
      "metadata": {
        "id": "UWKiazN5mdyQ"
      }
    },
    {
      "cell_type": "code",
      "source": [
        "df['Count'] = df['Cleaned_Resume'].apply(lambda x: len(x.split()))"
      ],
      "metadata": {
        "id": "mieV5cpRlUAq"
      },
      "execution_count": null,
      "outputs": []
    },
    {
      "cell_type": "code",
      "source": [
        "plt.figure(figsize= (8, 8))\n",
        "\n",
        "sns.displot(df['Count'])\n",
        "\n",
        "plt.xlim(0, 1000)\n",
        "plt.xlabel('The num of words ', fontsize = 16)\n",
        "plt.title(\"The Number of Words Distribution\", fontsize = 18)\n",
        "plt.show()"
      ],
      "metadata": {
        "colab": {
          "base_uri": "https://localhost:8080/",
          "height": 557
        },
        "id": "4tK8VZkyldQx",
        "outputId": "32a87f2a-7f1d-46dd-de74-dc0d141068f1"
      },
      "execution_count": null,
      "outputs": [
        {
          "output_type": "display_data",
          "data": {
            "text/plain": [
              "<Figure size 800x800 with 0 Axes>"
            ]
          },
          "metadata": {}
        },
        {
          "output_type": "display_data",
          "data": {
            "text/plain": [
              "<Figure size 500x500 with 1 Axes>"
            ],
            "image/png": "[encoded data removed]"
          },
          "metadata": {}
        }
      ]
    },
    {
      "cell_type": "code",
      "source": [
        "df.head(2)"
      ],
      "metadata": {
        "colab": {
          "base_uri": "https://localhost:8080/",
          "height": 112
        },
        "id": "DZnGJlGRngTP",
        "outputId": "dfc13fdb-6483-46ef-a381-d19ca543fc49"
      },
      "execution_count": null,
      "outputs": [
        {
          "output_type": "execute_result",
          "data": {
            "text/plain": [
              "       Category                                             Resume  \\\n",
              "0  Data Science  skills * programming languages: python (pandas...   \n",
              "1  Data Science  education details \\r\\nmay 2013 to may 2017 b.e...   \n",
              "\n",
              "                                      Cleaned_Resume  label  Count  \n",
              "0  skills programming languages python pandas num...      6    653  \n",
              "1  education details may 2013 to may 2017 b e uit...      6    163  "
            ],
            "text/html": [
              "\n",
              "  <div id=\"df-fd156a41-ce79-4469-9a8e-2535484b93d4\" class=\"colab-df-container\">\n",
              "    <div>\n",
              "<style scoped>\n",
              "    .dataframe tbody tr th:only-of-type {\n",
              "        vertical-align: middle;\n",
              "    }\n",
              "\n",
              "    .dataframe tbody tr th {\n",
              "        vertical-align: top;\n",
              "    }\n",
              "\n",
              "    .dataframe thead th {\n",
              "        text-align: right;\n",
              "    }\n",
              "</style>\n",
              "<table border=\"1\" class=\"dataframe\">\n",
              "  <thead>\n",
              "    <tr style=\"text-align: right;\">\n",
              "      <th></th>\n",
              "      <th>Category</th>\n",
              "      <th>Resume</th>\n",
              "      <th>Cleaned_Resume</th>\n",
              "      <th>label</th>\n",
              "      <th>Count</th>\n",
              "    </tr>\n",
              "  </thead>\n",
              "  <tbody>\n",
              "    <tr>\n",
              "      <th>0</th>\n",
              "      <td>Data Science</td>\n",
              "      <td>skills * programming languages: python (pandas...</td>\n",
              "      <td>skills programming languages python pandas num...</td>\n",
              "      <td>6</td>\n",
              "      <td>653</td>\n",
              "    </tr>\n",
              "    <tr>\n",
              "      <th>1</th>\n",
              "      <td>Data Science</td>\n",
              "      <td>education details \\r\\nmay 2013 to may 2017 b.e...</td>\n",
              "      <td>education details may 2013 to may 2017 b e uit...</td>\n",
              "      <td>6</td>\n",
              "      <td>163</td>\n",
              "    </tr>\n",
              "  </tbody>\n",
              "</table>\n",
              "</div>\n",
              "    <div class=\"colab-df-buttons\">\n",
              "\n",
              "  <div class=\"colab-df-container\">\n",
              "    <button class=\"colab-df-convert\" onclick=\"convertToInteractive('df-fd156a41-ce79-4469-9a8e-2535484b93d4')\"\n",
              "            title=\"Convert this dataframe to an interactive table.\"\n",
              "            style=\"display:none;\">\n",
              "\n",
              "  <svg xmlns=\"http://www.w3.org/2000/svg\" height=\"24px\" viewBox=\"0 -960 960 960\">\n",
              "    <path d=\"M120-120v-720h720v720H120Zm60-500h600v-160H180v160Zm220 220h160v-160H400v160Zm0 220h160v-160H400v160ZM180-400h160v-160H180v160Zm440 0h160v-160H620v160ZM180-180h160v-160H180v160Zm440 0h160v-160H620v160Z\"/>\n",
              "  </svg>\n",
              "    </button>\n",
              "\n",
              "  <style>\n",
              "    .colab-df-container {\n",
              "      display:flex;\n",
              "      gap: 12px;\n",
              "    }\n",
              "\n",
              "    .colab-df-convert {\n",
              "      background-color: #E8F0FE;\n",
              "      border: none;\n",
              "      border-radius: 50%;\n",
              "      cursor: pointer;\n",
              "      display: none;\n",
              "      fill: #1967D2;\n",
              "      height: 32px;\n",
              "      padding: 0 0 0 0;\n",
              "      width: 32px;\n",
              "    }\n",
              "\n",
              "    .colab-df-convert:hover {\n",
              "      background-color: #E2EBFA;\n",
              "      box-shadow: 0px 1px 2px rgba(60, 64, 67, 0.3), 0px 1px 3px 1px rgba(60, 64, 67, 0.15);\n",
              "      fill: #174EA6;\n",
              "    }\n",
              "\n",
              "    .colab-df-buttons div {\n",
              "      margin-bottom: 4px;\n",
              "    }\n",
              "\n",
              "    [theme=dark] .colab-df-convert {\n",
              "      background-color: #3B4455;\n",
              "      fill: #D2E3FC;\n",
              "    }\n",
              "\n",
              "    [theme=dark] .colab-df-convert:hover {\n",
              "      background-color: #434B5C;\n",
              "      box-shadow: 0px 1px 3px 1px rgba(0, 0, 0, 0.15);\n",
              "      filter: drop-shadow(0px 1px 2px rgba(0, 0, 0, 0.3));\n",
              "      fill: #FFFFFF;\n",
              "    }\n",
              "  </style>\n",
              "\n",
              "    <script>\n",
              "      const buttonEl =\n",
              "        document.querySelector('#df-fd156a41-ce79-4469-9a8e-2535484b93d4 button.colab-df-convert');\n",
              "      buttonEl.style.display =\n",
              "        google.colab.kernel.accessAllowed ? 'block' : 'none';\n",
              "\n",
              "      async function convertToInteractive(key) {\n",
              "        const element = document.querySelector('#df-fd156a41-ce79-4469-9a8e-2535484b93d4');\n",
              "        const dataTable =\n",
              "          await google.colab.kernel.invokeFunction('convertToInteractive',\n",
              "                                                    [key], {});\n",
              "        if (!dataTable) return;\n",
              "\n",
              "        const docLinkHtml = 'Like what you see? Visit the ' +\n",
              "          '<a target=\"_blank\" href=https://colab.research.google.com/notebooks/data_table.ipynb>data table notebook</a>'\n",
              "          + ' to learn more about interactive tables.';\n",
              "        element.innerHTML = '';\n",
              "        dataTable['output_type'] = 'display_data';\n",
              "        await google.colab.output.renderOutput(dataTable, element);\n",
              "        const docLink = document.createElement('div');\n",
              "        docLink.innerHTML = docLinkHtml;\n",
              "        element.appendChild(docLink);\n",
              "      }\n",
              "    </script>\n",
              "  </div>\n",
              "\n",
              "\n",
              "<div id=\"df-60fc4816-960e-4748-b632-0fccc09b0443\">\n",
              "  <button class=\"colab-df-quickchart\" onclick=\"quickchart('df-60fc4816-960e-4748-b632-0fccc09b0443')\"\n",
              "            title=\"Suggest charts\"\n",
              "            style=\"display:none;\">\n",
              "\n",
              "<svg xmlns=\"http://www.w3.org/2000/svg\" height=\"24px\"viewBox=\"0 0 24 24\"\n",
              "     width=\"24px\">\n",
              "    <g>\n",
              "        <path d=\"M19 3H5c-1.1 0-2 .9-2 2v14c0 1.1.9 2 2 2h14c1.1 0 2-.9 2-2V5c0-1.1-.9-2-2-2zM9 17H7v-7h2v7zm4 0h-2V7h2v10zm4 0h-2v-4h2v4z\"/>\n",
              "    </g>\n",
              "</svg>\n",
              "  </button>\n",
              "\n",
              "<style>\n",
              "  .colab-df-quickchart {\n",
              "      --bg-color: #E8F0FE;\n",
              "      --fill-color: #1967D2;\n",
              "      --hover-bg-color: #E2EBFA;\n",
              "      --hover-fill-color: #174EA6;\n",
              "      --disabled-fill-color: #AAA;\n",
              "      --disabled-bg-color: #DDD;\n",
              "  }\n",
              "\n",
              "  [theme=dark] .colab-df-quickchart {\n",
              "      --bg-color: #3B4455;\n",
              "      --fill-color: #D2E3FC;\n",
              "      --hover-bg-color: #434B5C;\n",
              "      --hover-fill-color: #FFFFFF;\n",
              "      --disabled-bg-color: #3B4455;\n",
              "      --disabled-fill-color: #666;\n",
              "  }\n",
              "\n",
              "  .colab-df-quickchart {\n",
              "    background-color: var(--bg-color);\n",
              "    border: none;\n",
              "    border-radius: 50%;\n",
              "    cursor: pointer;\n",
              "    display: none;\n",
              "    fill: var(--fill-color);\n",
              "    height: 32px;\n",
              "    padding: 0;\n",
              "    width: 32px;\n",
              "  }\n",
              "\n",
              "  .colab-df-quickchart:hover {\n",
              "    background-color: var(--hover-bg-color);\n",
              "    box-shadow: 0 1px 2px rgba(60, 64, 67, 0.3), 0 1px 3px 1px rgba(60, 64, 67, 0.15);\n",
              "    fill: var(--button-hover-fill-color);\n",
              "  }\n",
              "\n",
              "  .colab-df-quickchart-complete:disabled,\n",
              "  .colab-df-quickchart-complete:disabled:hover {\n",
              "    background-color: var(--disabled-bg-color);\n",
              "    fill: var(--disabled-fill-color);\n",
              "    box-shadow: none;\n",
              "  }\n",
              "\n",
              "  .colab-df-spinner {\n",
              "    border: 2px solid var(--fill-color);\n",
              "    border-color: transparent;\n",
              "    border-bottom-color: var(--fill-color);\n",
              "    animation:\n",
              "      spin 1s steps(1) infinite;\n",
              "  }\n",
              "\n",
              "  @keyframes spin {\n",
              "    0% {\n",
              "      border-color: transparent;\n",
              "      border-bottom-color: var(--fill-color);\n",
              "      border-left-color: var(--fill-color);\n",
              "    }\n",
              "    20% {\n",
              "      border-color: transparent;\n",
              "      border-left-color: var(--fill-color);\n",
              "      border-top-color: var(--fill-color);\n",
              "    }\n",
              "    30% {\n",
              "      border-color: transparent;\n",
              "      border-left-color: var(--fill-color);\n",
              "      border-top-color: var(--fill-color);\n",
              "      border-right-color: var(--fill-color);\n",
              "    }\n",
              "    40% {\n",
              "      border-color: transparent;\n",
              "      border-right-color: var(--fill-color);\n",
              "      border-top-color: var(--fill-color);\n",
              "    }\n",
              "    60% {\n",
              "      border-color: transparent;\n",
              "      border-right-color: var(--fill-color);\n",
              "    }\n",
              "    80% {\n",
              "      border-color: transparent;\n",
              "      border-right-color: var(--fill-color);\n",
              "      border-bottom-color: var(--fill-color);\n",
              "    }\n",
              "    90% {\n",
              "      border-color: transparent;\n",
              "      border-bottom-color: var(--fill-color);\n",
              "    }\n",
              "  }\n",
              "</style>\n",
              "\n",
              "  <script>\n",
              "    async function quickchart(key) {\n",
              "      const quickchartButtonEl =\n",
              "        document.querySelector('#' + key + ' button');\n",
              "      quickchartButtonEl.disabled = true;  // To prevent multiple clicks.\n",
              "      quickchartButtonEl.classList.add('colab-df-spinner');\n",
              "      try {\n",
              "        const charts = await google.colab.kernel.invokeFunction(\n",
              "            'suggestCharts', [key], {});\n",
              "      } catch (error) {\n",
              "        console.error('Error during call to suggestCharts:', error);\n",
              "      }\n",
              "      quickchartButtonEl.classList.remove('colab-df-spinner');\n",
              "      quickchartButtonEl.classList.add('colab-df-quickchart-complete');\n",
              "    }\n",
              "    (() => {\n",
              "      let quickchartButtonEl =\n",
              "        document.querySelector('#df-60fc4816-960e-4748-b632-0fccc09b0443 button');\n",
              "      quickchartButtonEl.style.display =\n",
              "        google.colab.kernel.accessAllowed ? 'block' : 'none';\n",
              "    })();\n",
              "  </script>\n",
              "</div>\n",
              "\n",
              "    </div>\n",
              "  </div>\n"
            ],
            "application/vnd.google.colaboratory.intrinsic+json": {
              "type": "dataframe",
              "variable_name": "df",
              "summary": "{\n  \"name\": \"df\",\n  \"rows\": 962,\n  \"fields\": [\n    {\n      \"column\": \"Category\",\n      \"properties\": {\n        \"dtype\": \"category\",\n        \"num_unique_values\": 25,\n        \"samples\": [\n          \"Civil Engineer\",\n          \"DevOps Engineer\",\n          \"Data Science\"\n        ],\n        \"semantic_type\": \"\",\n        \"description\": \"\"\n      }\n    },\n    {\n      \"column\": \"Resume\",\n      \"properties\": {\n        \"dtype\": \"category\",\n        \"num_unique_values\": 166,\n        \"samples\": [\n          \"key competencies \\u00e2\\u009c\\u00b6multi - operations management\\u00e2\\u009c\\u00b6people management \\u00e2\\u009c\\u00b6customer services - emails \\u00e2\\u009c\\u00b6 mis \\u00e2\\u009c\\u00b6vendor & client services management\\u00e2\\u009c\\u00b6cross functional coordination\\u00e2\\u009c\\u00b6banking & financial services\\u00e2\\u009c\\u00b6 transaction monitoring * atm operations \\u00e2\\u009c\\u00b6 & prepaid card operations (pre-issuance & post-issuance) \\u00e2\\u009c\\u00b6 pos operations * job profile & skills: \\u00e2\\u0080\\u00a2 an effective communicator with excellent relationship building & interpersonal skills. strong analytical, problem solving & organizational abilities. \\u00e2\\u0080\\u00a2 extensive experience in managing operations with demonstrated leadership qualities & organisational skills during the tenure. \\u00e2\\u0080\\u00a2 managing customer centric operations & ensuring customer satisfaction by achieving service quality norms. \\u00e2\\u0080\\u00a2 analyzing of all operational problems, customer complaints and take preventive and corrective actions to resolve the same. \\u00e2\\u0080\\u00a2 receive and respond to key customer inquiries in an effective manner and provide relevant and timely information. \\u00e2\\u0080\\u00a2 deft in steering banking back-end operations, analyzing risks and managing delinquencies with dexterity across applying techniques for maximizing recoveries and minimizing credit losses. \\u00e2\\u0080\\u00a2 analyzed & identified training needs of the team members and developing, organizing and conducting training programs and manage bottom quartile team to improve their performance. \\u00e2\\u0080\\u00a2 preparing and maintaining daily mis reports to evaluate the performance and efficiency of the process relate to various verticals. \\u00e2\\u0080\\u00a2 measuring the performance of the processes in terms of efficiency and effectiveness matrix and ensuring adherence to sla. \\u00e2\\u0080\\u00a2 major activities define processes for field services were monitored and necessary checks were executed and controlled. also measured vendor sla by analyzing the tat of vendors & the client sla provided to us. \\u00e2\\u0080\\u00a2 as per company procedures, handling & ensuring vendor's payment issues to be sorted out &payments are processed on quarterly basis. \\u00e2\\u0080\\u00a2 appropriately plan and execute each skill of operations in accordance with the department's policies and procedures. \\u00e2\\u0080\\u00a2 manage relationships with business team, software development team and other services to achieve project objectives. different software worked till now: - a. ctl prime - axis bank credit cards b. insight - for pos machine technical operations for amex (mid & tid generation- atos (venture infotek) c. ticket management system - tata communications private services ltd (atm - noc operations) d. branch portal (yalamanchili software exports ltd) - prepaid cards (sbi bank & zaggle prepaid oceans services ltd) zaggle prepaid ocean services pvt ltd oct, 2017 to till date designation: manager - operations (payment industry - prepaid cards - inr) education details \\r\\n  commerce mumbai, maharashtra mumbai university\\r\\noperations manager \\r\\n\\r\\nservice manager - operations (payment industry - prepaid cards - inr & ftc)\\r\\nskill details \\r\\noperations- exprience - 73 months\\r\\nsatisfaction- exprience - 48 months\\r\\ntraining- exprience - 24 months\\r\\nnoc- exprience - 23 months\\r\\npoint of sale- exprience - 20 monthscompany details \\r\\ncompany - zaggle prepaid ocean services pvt ltd\\r\\ndescription - card operations\\r\\ncompany - yalamanchili software exports ltd\\r\\ndescription - 24*7 operations pvt ltd) dec 2015 to feb 2017\\r\\n\\r\\ndesignation: service manager - operations (payment industry - prepaid cards - inr & ftc)\\r\\n\\r\\nkey contributions: \\u00e2\\u0080\\u00a2 a result-oriented business professional in planning, executing& managing processes, improving efficiency of operations, team building and detailing process information to determine effective result into operations.\\r\\n\\u00e2\\u0080\\u00a2 ensuring pins generation (sla) is maintained and chargeback cases are raised in perfect timeframe.\\r\\n\\u00e2\\u0080\\u00a2 managing email customer services properly and ensuring the emails are replied properly. also, ensuring transaction monitoring is properly managed 24/7.\\r\\n\\u00e2\\u0080\\u00a2 assisting bankers (sbi & associated banks) for their bcp plans by getting executed in the system with the help of dr-pr plans & vice versa or any other business requirements.\\r\\n\\u00e2\\u0080\\u00a2 expertise in maintaining highest level of quality in operations; ensuring adherence to all the quality parameters and procedures as per the stringent norms.\\r\\n\\u00e2\\u0080\\u00a2 lead, manage and supervise the execution of external audit engagements and responsible for presenting the findings & developing a quality reports to the senior management and clients.\\r\\n\\u00e2\\u0080\\u00a2 coach/mentor (20) team members to perform at a higher level by giving opportunities, providing timely continuous feedback and working with staff to improve their communication, time management, decision making, organization, and analytical skills.\\r\\n\\u00e2\\u0080\\u00a2 providing the solutions and services to the client in their own premises with aforesaid count of team members.\\r\\n\\u00e2\\u0080\\u00a2 also ensuring end to end process of pr & dr as per client requirements (pr- dr & dr -pr) by interacting with internal & external stakeholders.\\r\\n\\u00e2\\u0080\\u00a2 determining process gaps and designing & conducting training programs to enhance operational efficiency and retain talent by providing optimum opportunities for personal and professional growth.\\r\\ncompany - credit cards\\r\\ndescription - ensured highest standard of customer satisfaction and quality service; developing new policies and procedures to improve based on customer feedback and resolving customer queries via correspondence, inbound calls & email channels with the strength of (12-16) team members.\\r\\ncompany - ags transact technologies limited\\r\\ndescription - key contributions: lead - spoc to banks\\r\\ncompany - tata communications payment solutions ltd\\r\\ndescription - to make atms operational within tat by analyzing the issue is technical or non-technical and also by interacting with internal & external stakeholders.\\r\\ncompany - vertex customer solutions india private ltd\\r\\ndescription - key contributions: \\u00e2\\u0080\\u00a2 build positive working relationship with all team members and clients by keeping management informed   of kyc document collection & con-current audit progress, responding timely to management inquiries, understanding the business and conducting self professionally.\\r\\ncompany - financial inclusion network & operations limited\\r\\ndescription - key contributions: pos-operations \\u00e2\\u0080\\u00a2 cascading the adherence of process is strictly followed by team members & training them to reduce the downtime.\\r\\n\\u00e2\\u0080\\u00a2 managing stock of edc terminals \\u00e2\\u0080\\u00a2 managing deployments of terminals through multiple teams \\u00e2\\u0080\\u00a2 would have worked with multiple terminal make & model \\u00e2\\u0080\\u00a2 managing inward, outward & qc of applications installed in the pos machines.\\r\\ncompany - venture infotek private ltd\\r\\ndescription - key contributions: pos-operations\\r\\ncompany - axis bank ltd - customer services\\r\\ndescription - aug 2006 to oct 2009 (ma-foi&i- smart)\\r\\n\\r\\ndesignation: team leader/executive - emails, phone banking & correspondence unit (snail mails)\",\n          \"skill set: hadoop, map reduce, hdfs, hive, sqoop, java. duration: 2016 to 2017. role: hadoop developer rplus offers an quick, simple and powerful cloud based solution, demand sense to accurately predict demand for your product in all your markets which combines enterprise and external data to predict demand more accurately through uses social conversation and sentiments to derive demand and identifies significant drivers of sale out of hordes of factors that selects the best suited model out of multiple forecasting models for each product. responsibilities: \\u00e2\\u0080\\u00a2 involved in deploying the product for customers, gathering requirements and algorithm optimization at backend of the product. \\u00e2\\u0080\\u00a2 load and transform large datasets of structured semi structured. \\u00e2\\u0080\\u00a2 responsible to manage data coming from different sources and application \\u00e2\\u0080\\u00a2 supported map reduce programs those are running on the cluster \\u00e2\\u0080\\u00a2 involved in creating hive tables, loading with data and writing hive queries which will run internally in map reduce way.education details \\r\\n\\r\\nhadoop developer \\r\\n\\r\\nhadoop developer - braindatawire\\r\\nskill details \\r\\napache hadoop hdfs- exprience - 49 months\\r\\napache hadoop sqoop- exprience - 49 months\\r\\nhadoop- exprience - 49 months\\r\\nhadoop- exprience - 49 months\\r\\nhadoop distributed file system- exprience - 49 monthscompany details \\r\\ncompany - braindatawire\\r\\ndescription - technical skills:\\r\\n\\u00e2\\u0080\\u00a2   programming: core java, map reduce, scala\\r\\n\\u00e2\\u0080\\u00a2   hadoop tools: hdfs, spark, map reduce, sqoop, hive, hbase\\r\\n\\u00e2\\u0080\\u00a2   database: mysql, oracle\\r\\n\\u00e2\\u0080\\u00a2   scripting: shell scripting\\r\\n\\u00e2\\u0080\\u00a2   ide: eclipse\\r\\n\\u00e2\\u0080\\u00a2   operating systems: linux (centos), windows\\r\\n\\u00e2\\u0080\\u00a2   source control: git (github)\",\n          \"it skills: area exposure modeling tool: bizagi, ms visio prototyping tool: indigo studio. documentation: ms office (ms word, ms excel, ms power point) testing proficiency: smoke, sanity, integration, functional, acceptance and ui methodology implemented: waterfall, agile (scrum) database: sql testing tool: hpqc business exposure education details \\r\\n bachelor of computer engineering computer engineering mumbai, maharashtra thadomal shahani engineering college\\r\\n diploma computer engineering ulhasnagar, maharashtra institute of technology\\r\\n secondary school certificate  ulhasnagar, maharashtra new english high school\\r\\nsenior business analyst - rpa \\r\\n\\r\\nsenior business analyst - rpa - hexaware technologies\\r\\nskill details \\r\\ndocumentation- exprience - 47 months\\r\\ntesting- exprience - 29 months\\r\\nintegration- exprience - 25 months\\r\\nintegrator- exprience - 25 months\\r\\nprototype- exprience - 13 monthscompany details \\r\\ncompany - hexaware technologies\\r\\ndescription - working as a rpa business analyst\\r\\ncompany - bbh- brown brothers harriman & co\\r\\ndescription - is a private bank that provides commercial banking, investment management, brokerage, and trust services to private companies and individuals. it also performs merger advisory, foreign exchange, custody services, commercial banking, and corporate financing services.\\r\\n\\r\\nresponsibilities: \\u00e2\\u0080\\u00a2 performed automation assessment of various processes and identified processes which can be candidates of rpa.\\r\\n\\u00e2\\u0080\\u00a2 conducting assessment that involves an initial understanding of the existing system, their technology, processes, usage of the tools, feasibility of tool with automation tool along with automation roi analysis.\\r\\n\\u00e2\\u0080\\u00a2 preparing the automation potential sheet which describes the steps in the process, the volume and frequency of the transaction, the aht taken by sme to perform the process and depending on the steps that could be automated, automation potential and the manual efforts that will be saved are calculated.\\r\\ncalculating the complexity of the process which is considered for automation and depending on all these factors number of bots and number of automation tool licenses are determined.\\r\\n\\u00e2\\u0080\\u00a2 implementing a proof of concept (poc) to validate feasibility by executing the selected critical use cases for conducting a poc which will helps to identify financial and operational benefits and provide recommendations regarding the actual need for complete automation.\\r\\n\\u00e2\\u0080\\u00a2 gathering business requirements by conducting detailed interviews with business users, stakeholders, and subject matter experts (sme's) \\u00e2\\u0080\\u00a2 preparing business requirement document and then converted business requirements into functional requirements specification.\\r\\n \\u00e2\\u0080\\u00a2 constructing prototype early toward a design acceptable to the customer and feasible.\\r\\n\\u00e2\\u0080\\u00a2 assisting in designing test plans, test scenarios and test cases for integration, regression, and user acceptance testing (uat) to improve the overall quality of the automation.\\r\\n\\u00e2\\u0080\\u00a2 participating regularly in walkthroughs and review meetings with project manager, qa engineers, and development team.\\r\\n\\u00e2\\u0080\\u00a2 regularly interacting with offshore and onshore development teams.\\r\\ncompany - fadv - first advantage\\r\\ndescription - is a criminal background check company that delivers global solutions ranging from employment screenings to background checks.\\r\\nthe following are the processes which were covered:\\r\\nemail process, research process, review process.\\r\\n\\r\\nresponsibilities: \\u00e2\\u0080\\u00a2 requirement gathering through conducting interviews & brainstorming sessions with stakeholders \\u00e2\\u0080\\u00a2 to develop decision models and execute those rules as per the use case specifications.\\r\\n\\u00e2\\u0080\\u00a2 to test/validate the decision models against document test data.\\r\\n\\u00e2\\u0080\\u00a2 to maintain and enhance the decision models for changes in regulations as per use case specifications.\\r\\n\\u00e2\\u0080\\u00a2 responsible for performing the business research that will make a business growth.\\r\\n\\u00e2\\u0080\\u00a2 developing a clear understanding of existing business functions and processes.\\r\\n\\u00e2\\u0080\\u00a2 effectively communicate with the onsite clients for the queries, suggestions, and update.\\r\\n\\u00e2\\u0080\\u00a2 giving suggestions to enhance the current processes.\\r\\n\\u00e2\\u0080\\u00a2 identifying areas for process improvement.\\r\\n\\u00e2\\u0080\\u00a2 flagging up potential problems at an early stage.\\r\\n\\u00e2\\u0080\\u00a2 preparing powerpoint presentations and documents for business meetings.\\r\\n\\u00e2\\u0080\\u00a2 using any information gathered to write up detailed reports.\\r\\n\\u00e2\\u0080\\u00a2 highlighting risks and issues that could impact project delivery.\\r\\n\\u00e2\\u0080\\u00a2 able to work accurately.\\r\\n\\u00e2\\u0080\\u00a2 to develop and maintain documentation for internal team training and client end user operations.\\r\\n\\u00e2\\u0080\\u00a2 to work efficiently with team members and across teams.\\r\\n\\u00e2\\u0080\\u00a2 to mentor and train junior team members.\\r\\ncompany - clinical testing, lab work and diagnostic testing\\r\\ndescription - iqvia provides services to its customers this includes: clinical testing, lab work and diagnostic testing under clinical trial. these customers need to pay to iqvia and aging details and invoices are generated for the same.\\r\\nthe following are the processes which were covered:\\r\\n\\r\\ntracking payments, automated real time metrics reporting (dashboard), past due notifications, ar statements, credit/rebill.\\r\\nresponsibilities: \\u00e2\\u0080\\u00a2 conducting meetings with clients and key stakeholders to gather requirements, analyze, finalize and have formal sign-offs from approvers gather and perform analysis of the business requirements \\u00e2\\u0080\\u00a2 translating the business requirements into the business requirement document [brd], functional requirement document [frd].\\r\\n\\u00e2\\u0080\\u00a2 facilitating meetings with the appropriate subject matter experts in both business and technology teams \\u00e2\\u0080\\u00a2 coordinating with business user community for the execution of user acceptance test as well as tracking issues \\u00e2\\u0080\\u00a2 working, collaborating and coordinating with offshore and onsite team members to fulfill the ba responsibilities from project initiation to post-implementation \\u00e2\\u0080\\u00a2 reviewing the test scripts with business users as well as technology team. execute test scripts with expected results for the system integration test (sit) and user acceptance test (uat) \\u00e2\\u0080\\u00a2 coordinating and conducting the production acceptance testing (pat) with the business users \\u00e2\\u0080\\u00a2 creating flow diagrams, structure charts, and other types of system or process representations \\u00e2\\u0080\\u00a2 managing changes to requirements and baseline through a change control process \\u00e2\\u0080\\u00a2 utilizing standard methods, design and testing tools throughout project development life cycle \\u00e2\\u0080\\u00a2 work closely with the operational functional teams, operations management, and personnel, and various technology teams to facilitate a shared understanding of requirements and priorities across all areas\\r\\ncompany - eduavenir it solution\\r\\ndescription - project: m.b.m.s\\r\\n\\r\\nm.b.m.s. - is an inventory management application that allows user to manage inventory details of different warehouses, having different products located at various locations and help extract what goods have been procured, sold or returned by customers. it generates automated invoicesalong withcustomized reports. it also managescustomer complaint and resolution system implementation along with automated mis on monthly basis.sales and forecastingis also developed on mis system and the streamlining of process of warehousing and dispatch along with online proof of delivery management system (pod documentation) is generated.\\r\\n\\r\\nresponsibilities: \\u00e2\\u0080\\u00a2 participate in requirement gathering discussion with client to understand the flow of business processes \\u00e2\\u0080\\u00a2 analyze the requirements and determine the core processes, develop process documentation and ensure to stay up-to-date in conjunction with on-going changes \\u00e2\\u0080\\u00a2 participate in process flow analysis and preparing brd, srs.\\r\\n\\u00e2\\u0080\\u00a2 coordinating with developers, designers & operations teams for various nuances of the project, communicate the stakeholder requirements from requirement /enhancement to implementation and finally deliver the same within estimated timeframe.\\r\\n\\u00e2\\u0080\\u00a2 support uat by reviewing test cases, manage version control of documents, software builds.\\r\\n\\u00e2\\u0080\\u00a2 coordinate with the stakeholders for uat sign off and coordinate internally for production movement till golive stage of the application.\\r\\n\\u00e2\\u0080\\u00a2 provide demo and training to internal and end user using powerpoint presentation.\\r\\n\\u00e2\\u0080\\u00a2 resolving project functional &technical issues during uat.\\r\\n\\u00e2\\u0080\\u00a2 prioritizing the production bugs and resolving the same within the estimated timeframe.\\r\\n\\u00e2\\u0080\\u00a2 preparing project status report and production bugs status to all the stakeholders.\\r\\n\\u00e2\\u0080\\u00a2 promoting and networking for online trading platform.\\r\\n\\u00e2\\u0080\\u00a2 designing query sheet for obtaining and comparison of quotes from various vendors.\\r\\n\\u00e2\\u0080\\u00a2 development of product codes / material codes for inventory management (master data management)\\r\\ncompany - capgemini head office\\r\\ndescription - type: mobile and device testing.       duration: january 2014 - august 2014\\r\\n\\r\\nfollet - an application which takes an electronic request from the user for the books he requires from a particular follet store. this detailed information about books that will include the name of the book, its price, the date of the transaction and the parties involved which will then be sent to follet stores. user then create request for one or more books for a given date. this request is then processed further and user gets a mail of the date when he will be provided with that book.\\r\\n\\r\\nresponsibilities: \\u00e2\\u0080\\u00a2 understanding the needs and business requirements.\\r\\n\\u00e2\\u0080\\u00a2 preparing brd, srs by eliciting all the requirements from the client and smes \\u00e2\\u0080\\u00a2 understanding the dependency of the modules in the system \\u00e2\\u0080\\u00a2 preparation of test plan for unit level and integration level.\\r\\n\\u00e2\\u0080\\u00a2 preparation and execution of test cases.\\r\\n\\u00e2\\u0080\\u00a2 defect tracking, issue resolution, risk monitoring, status tracking, reporting and follow-up.\\r\\n\\u00e2\\u0080\\u00a2 preparation of test completion report.\\r\\ncompany - capgemini head office\\r\\ndescription - \\r\\ncompany - capgemini head office\\r\\ndescription - humana is a health care insurance project of u.s. which deals with supplying various medicines to citizens as per the doctor's reference and patient's insurance policy. this application keeps track of all the medicines user has consumed in the past and generates a patient history. a citizen is given a drug only after the doctor's reference so the doctor's information is also linked with the patient's history.\\r\\n\\r\\nresponsibilities: \\u00e2\\u0080\\u00a2 understanding the requirements and getting clarifications from client.\\r\\n\\u00e2\\u0080\\u00a2 involved in writing test cases based on test scenarios and execute them.\\r\\n\\u00e2\\u0080\\u00a2 ensuring test coverage using requirement traceability matrix (rtm) \\u00e2\\u0080\\u00a2 preparation of test completion report.\\r\\ncompany - capgemini head office\\r\\ndescription - testing trends wqr (world quality report) is an application which allows the users to take a survey on different methods and technologies used for testing. users can choose to answer any type of questions under three different categories. users have a facility to search, view and export the data to excel. also, users get daily and weekly reports through email about the new trends in testing implemented around the globe. testing trends wqr app is available on android and ios platforms.\\r\\n\\r\\nresponsibilities: \\u00e2\\u0080\\u00a2 understanding the requirements and getting clarifications from client.\\r\\n\\u00e2\\u0080\\u00a2 writing test cases based on test scenarios and executed them.\\r\\n\\u00e2\\u0080\\u00a2 performing different types of testing such as functional, integration, system, and uat.\\r\\n\\u00e2\\u0080\\u00a2 defect resolution and maintenance of the application.\"\n        ],\n        \"semantic_type\": \"\",\n        \"description\": \"\"\n      }\n    },\n    {\n      \"column\": \"Cleaned_Resume\",\n      \"properties\": {\n        \"dtype\": \"category\",\n        \"num_unique_values\": 166,\n        \"samples\": [\n          \"key competencies multi operations management people management customer services emails mis vendor client services management cross functional coordination banking financial services transaction monitoring atm operations prepaid card operations pre issuance post issuance pos operations job profile skills an effective communicator with excellent relationship building interpersonal skills strong analytical problem solving organizational abilities extensive experience in managing operations with demonstrated leadership qualities organisational skills during the tenure managing customer centric operations ensuring customer satisfaction by achieving service quality norms analyzing of all operational problems customer complaints and take preventive and corrective actions to resolve the same receive and respond to key customer inquiries in an effective manner and provide relevant and timely information deft in steering banking back end operations analyzing risks and managing delinquencies with dexterity across applying techniques for maximizing recoveries and minimizing credit losses analyzed identified training needs of the team members and developing organizing and conducting training programs and manage bottom quartile team to improve their performance preparing and maintaining daily mis reports to evaluate the performance and efficiency of the process relate to various verticals measuring the performance of the processes in terms of efficiency and effectiveness matrix and ensuring adherence to sla major activities define processes for field services were monitored and necessary checks were executed and controlled also measured vendor sla by analyzing the tat of vendors the client sla provided to us as per company procedures handling ensuring vendor s payment issues to be sorted out payments are processed on quarterly basis appropriately plan and execute each skill of operations in a ordance with the department s policies and procedures manage relationships with business team software development team and other services to achieve project objectives different software worked till now a ctl prime axis bank credit cards b insight for pos machine technical operations for amex mid tid generation atos venture infotek c ticket management system tata communications private services ltd atm noc operations d branch portal yalamanchili software exports ltd prepaid cards sbi bank zaggle prepaid oceans services ltd zaggle prepaid ocean services pvt ltd oct 2017 to till date designation manager operations payment industry prepaid cards inr education details commerce mumbai maharashtra mumbai university operations manager service manager operations payment industry prepaid cards inr ftc skill details operations exprience 73 months satisfaction exprience 48 months training exprience 24 months noc exprience 23 months point of sale exprience 20 monthscompany details company zaggle prepaid ocean services pvt ltd description card operations company yalamanchili software exports ltd description 24 7 operations pvt ltd dec 2015 to feb 2017 designation service manager operations payment industry prepaid cards inr ftc key contributions a result oriented business professional in planning executing managing processes improving efficiency of operations team building and detailing process information to determine effective result into operations ensuring pins generation sla is maintained and chargeback cases are raised in perfect timeframe managing email customer services properly and ensuring the emails are replied properly also ensuring transaction monitoring is properly managed 24 7 assisting bankers sbi associated banks for their bcp plans by getting executed in the system with the help of dr pr plans vice versa or any other business requirements expertise in maintaining highest level of quality in operations ensuring adherence to all the quality parameters and procedures as per the stringent norms lead manage and supervise the execution of external audit engagements and responsible for presenting the findings developing a quality reports to the senior management and clients coach mentor 20 team members to perform at a higher level by giving opportunities providing timely continuous feedback and working with staff to improve their communication time management decision making organization and analytical skills providing the solutions and services to the client in their own premises with aforesaid count of team members also ensuring end to end process of pr dr as per client requirements pr dr dr pr by interacting with internal external stakeholders determining process gaps and designing conducting training programs to enhance operational efficiency and retain talent by providing optimum opportunities for personal and professional growth company credit cards description ensured highest standard of customer satisfaction and quality service developing new policies and procedures to improve based on customer feedback and resolving customer queries via correspondence inbound calls email channels with the strength of 12 16 team members company ags transact technologies limited description key contributions lead spoc to banks company tata communications payment solutions ltd description to make atms operational within tat by analyzing the issue is technical or non technical and also by interacting with internal external stakeholders company vertex customer solutions india private ltd description key contributions build positive working relationship with all team members and clients by keeping management informed of kyc document collection con current audit progress responding timely to management inquiries understanding the business and conducting self professionally company financial inclusion network operations limited description key contributions pos operations cascading the adherence of process is strictly followed by team members training them to reduce the downtime managing stock of edc terminals managing deployments of terminals through multiple teams would have worked with multiple terminal make model managing inward outward qc of applications installed in the pos machines company venture infotek private ltd description key contributions pos operations company axis bank ltd customer services description aug 2006 to oct 2009 ma foi i smart designation team leader executive emails phone banking correspondence unit snail mails \",\n          \"skill set hadoop map reduce hdfs hive sqoop java duration 2016 to 2017 role hadoop developer rplus offers an quick simple and powerful cloud based solution demand sense to a urately predict demand for your product in all your markets which combines enterprise and external data to predict demand more a urately through uses social conversation and sentiments to derive demand and identifies significant drivers of sale out of hordes of factors that selects the best suited model out of multiple forecasting models for each product responsibilities involved in deploying the product for customers gathering requirements and algorithm optimization at backend of the product load and transform large datasets of structured semi structured responsible to manage data coming from different sources and application supported map reduce programs those are running on the cluster involved in creating hive tables loading with data and writing hive queries which will run internally in map reduce way education details hadoop developer hadoop developer braindatawire skill details apache hadoop hdfs exprience 49 months apache hadoop sqoop exprience 49 months hadoop exprience 49 months hadoop exprience 49 months hadoop distributed file system exprience 49 monthscompany details company braindatawire description technical skills programming core java map reduce scala hadoop tools hdfs spark map reduce sqoop hive hbase database mysql oracle scripting shell scripting ide eclipse operating systems linux centos windows source control git github \",\n          \"it skills area exposure modeling tool bizagi ms visio prototyping tool indigo studio documentation ms office ms word ms excel ms power point testing proficiency smoke sanity integration functional a eptance and ui methodology implemented waterfall agile scrum database sql testing tool hpqc business exposure education details bachelor of computer engineering computer engineering mumbai maharashtra thadomal shahani engineering college diploma computer engineering ulhasnagar maharashtra institute of technology secondary school certificate ulhasnagar maharashtra new english high school senior business analyst rpa senior business analyst rpa hexaware technologies skill details documentation exprience 47 months testing exprience 29 months integration exprience 25 months integrator exprience 25 months prototype exprience 13 monthscompany details company hexaware technologies description working as a rpa business analyst company bbh brown brothers harriman co description is a private bank that provides commercial banking investment management brokerage and trust services to private companies and individuals it also performs merger advisory foreign exchange custody services commercial banking and corporate financing services responsibilities performed automation assessment of various processes and identified processes which can be candidates of rpa conducting assessment that involves an initial understanding of the existing system their technology processes usage of the tools feasibility of tool with automation tool along with automation roi analysis preparing the automation potential sheet which describes the steps in the process the volume and frequency of the transaction the aht taken by sme to perform the process and depending on the steps that could be automated automation potential and the manual efforts that will be saved are calculated calculating the complexity of the process which is considered for automation and depending on all these factors number of bots and number of automation tool licenses are determined implementing a proof of concept poc to validate feasibility by executing the selected critical use cases for conducting a poc which will helps to identify financial and operational benefits and provide recommendations regarding the actual need for complete automation gathering business requirements by conducting detailed interviews with business users stakeholders and subject matter experts sme s preparing business requirement document and then converted business requirements into functional requirements specification constructing prototype early toward a design a eptable to the customer and feasible assisting in designing test plans test scenarios and test cases for integration regression and user a eptance testing uat to improve the overall quality of the automation participating regularly in walkthroughs and review meetings with project manager qa engineers and development team regularly interacting with offshore and onshore development teams company fadv first advantage description is a criminal background check company that delivers global solutions ranging from employment screenings to background checks the following are the processes which were covered email process research process review process responsibilities requirement gathering through conducting interviews brainstorming sessions with stakeholders to develop decision models and execute those rules as per the use case specifications to test validate the decision models against document test data to maintain and enhance the decision models for changes in regulations as per use case specifications responsible for performing the business research that will make a business growth developing a clear understanding of existing business functions and processes effectively communicate with the onsite clients for the queries suggestions and update giving suggestions to enhance the current processes identifying areas for process improvement flagging up potential problems at an early stage preparing powerpoint presentations and documents for business meetings using any information gathered to write up detailed reports highlighting risks and issues that could impact project delivery able to work a urately to develop and maintain documentation for internal team training and client end user operations to work efficiently with team members and across teams to mentor and train junior team members company clinical testing lab work and diagnostic testing description iqvia provides services to its customers this includes clinical testing lab work and diagnostic testing under clinical trial these customers need to pay to iqvia and aging details and invoices are generated for the same the following are the processes which were covered tracking payments automated real time metrics reporting dashboard past due notifications ar statements credit rebill responsibilities conducting meetings with clients and key stakeholders to gather requirements analyze finalize and have formal sign offs from approvers gather and perform analysis of the business requirements translating the business requirements into the business requirement document brd functional requirement document frd facilitating meetings with the appropriate subject matter experts in both business and technology teams coordinating with business user community for the execution of user a eptance test as well as tracking issues working collaborating and coordinating with offshore and onsite team members to fulfill the ba responsibilities from project initiation to post implementation reviewing the test scripts with business users as well as technology team execute test scripts with expected results for the system integration test sit and user a eptance test uat coordinating and conducting the production a eptance testing pat with the business users creating flow diagrams structure charts and other types of system or process representations managing changes to requirements and baseline through a change control process utilizing standard methods design and testing tools throughout project development life cycle work closely with the operational functional teams operations management and personnel and various technology teams to facilitate a shared understanding of requirements and priorities across all areas company eduavenir it solution description project m b m s m b m s is an inventory management application that allows user to manage inventory details of different warehouses having different products located at various locations and help extract what goods have been procured sold or returned by customers it generates automated invoicesalong withcustomized reports it also managescustomer complaint and resolution system implementation along with automated mis on monthly basis sales and forecastingis also developed on mis system and the streamlining of process of warehousing and dispatch along with online proof of delivery management system pod documentation is generated responsibilities participate in requirement gathering discussion with client to understand the flow of business processes analyze the requirements and determine the core processes develop process documentation and ensure to stay up to date in conjunction with on going changes participate in process flow analysis and preparing brd srs coordinating with developers designers operations teams for various nuances of the project communicate the stakeholder requirements from requirement enhancement to implementation and finally deliver the same within estimated timeframe support uat by reviewing test cases manage version control of documents software builds coordinate with the stakeholders for uat sign off and coordinate internally for production movement till golive stage of the application provide demo and training to internal and end user using powerpoint presentation resolving project functional technical issues during uat prioritizing the production bugs and resolving the same within the estimated timeframe preparing project status report and production bugs status to all the stakeholders promoting and networking for online trading platform designing query sheet for obtaining and comparison of quotes from various vendors development of product codes material codes for inventory management master data management company capgemini head office description type mobile and device testing duration january 2014 august 2014 follet an application which takes an electronic request from the user for the books he requires from a particular follet store this detailed information about books that will include the name of the book its price the date of the transaction and the parties involved which will then be sent to follet stores user then create request for one or more books for a given date this request is then processed further and user gets a mail of the date when he will be provided with that book responsibilities understanding the needs and business requirements preparing brd srs by eliciting all the requirements from the client and smes understanding the dependency of the modules in the system preparation of test plan for unit level and integration level preparation and execution of test cases defect tracking issue resolution risk monitoring status tracking reporting and follow up preparation of test completion report company capgemini head office description company capgemini head office description humana is a health care insurance project of u s which deals with supplying various medicines to citizens as per the doctor s reference and patient s insurance policy this application keeps track of all the medicines user has consumed in the past and generates a patient history a citizen is given a drug only after the doctor s reference so the doctor s information is also linked with the patient s history responsibilities understanding the requirements and getting clarifications from client involved in writing test cases based on test scenarios and execute them ensuring test coverage using requirement traceability matrix rtm preparation of test completion report company capgemini head office description testing trends wqr world quality report is an application which allows the users to take a survey on different methods and technologies used for testing users can choose to answer any type of questions under three different categories users have a facility to search view and export the data to excel also users get daily and weekly reports through email about the new trends in testing implemented around the globe testing trends wqr app is available on android and ios platforms responsibilities understanding the requirements and getting clarifications from client writing test cases based on test scenarios and executed them performing different types of testing such as functional integration system and uat defect resolution and maintenance of the application \"\n        ],\n        \"semantic_type\": \"\",\n        \"description\": \"\"\n      }\n    },\n    {\n      \"column\": \"label\",\n      \"properties\": {\n        \"dtype\": \"number\",\n        \"std\": 7,\n        \"min\": 0,\n        \"max\": 24,\n        \"num_unique_values\": 25,\n        \"samples\": [\n          5,\n          8,\n          6\n        ],\n        \"semantic_type\": \"\",\n        \"description\": \"\"\n      }\n    },\n    {\n      \"column\": \"Count\",\n      \"properties\": {\n        \"dtype\": \"number\",\n        \"std\": 394,\n        \"min\": 16,\n        \"max\": 2062,\n        \"num_unique_values\": 150,\n        \"samples\": [\n          772,\n          247,\n          490\n        ],\n        \"semantic_type\": \"\",\n        \"description\": \"\"\n      }\n    }\n  ]\n}"
            }
          },
          "metadata": {},
          "execution_count": 18
        }
      ]
    },
    {
      "cell_type": "markdown",
      "metadata": {
        "id": "zK2N4kjkSEjF"
      },
      "source": [
        "### Train Test Split"
      ]
    },
    {
      "cell_type": "markdown",
      "source": [
        "**Exercise 9: Split the dataset into training, validation, and testing set [0.5 Mark]**\n",
        "\n",
        "* Do stratified splitting using `label` column"
      ],
      "metadata": {
        "id": "y6MTKhUomkzU"
      }
    },
    {
      "cell_type": "code",
      "source": [
        "train_test_df, val_df = train_test_split(df, test_size = 0.2, random_state = 42, stratify = df['label'])\n",
        "train_df, test_df = train_test_split(train_test_df, test_size = 25, random_state = 42, stratify = train_test_df['label'])\n",
        "\n",
        "len(train_df), len(val_df), len(test_df)"
      ],
      "metadata": {
        "colab": {
          "base_uri": "https://localhost:8080/"
        },
        "id": "mP2Ay3GdFU7b",
        "outputId": "6c5bafdf-7a3e-425f-8797-9612e0be9968"
      },
      "execution_count": null,
      "outputs": [
        {
          "output_type": "execute_result",
          "data": {
            "text/plain": [
              "(744, 193, 25)"
            ]
          },
          "metadata": {},
          "execution_count": 19
        }
      ]
    },
    {
      "cell_type": "code",
      "source": [
        "train_df.head(2)"
      ],
      "metadata": {
        "colab": {
          "base_uri": "https://localhost:8080/",
          "height": 112
        },
        "id": "IHuVoyE6F6ef",
        "outputId": "d1a5c420-5fae-453a-ede9-20b85111bcbd"
      },
      "execution_count": null,
      "outputs": [
        {
          "output_type": "execute_result",
          "data": {
            "text/plain": [
              "           Category                                             Resume  \\\n",
              "341  Java Developer  operating systems windows xp, 7, 10. tools/pac...   \n",
              "70               HR  training in special education (certificate cou...   \n",
              "\n",
              "                                        Cleaned_Resume  label  Count  \n",
              "341  operating systems windows xp 7 10 tools packag...     15    260  \n",
              "70   training in special education certificate cour...     12     81  "
            ],
            "text/html": [
              "\n",
              "  <div id=\"df-79f860ef-8ccd-4c0c-b46e-6a6010199592\" class=\"colab-df-container\">\n",
              "    <div>\n",
              "<style scoped>\n",
              "    .dataframe tbody tr th:only-of-type {\n",
              "        vertical-align: middle;\n",
              "    }\n",
              "\n",
              "    .dataframe tbody tr th {\n",
              "        vertical-align: top;\n",
              "    }\n",
              "\n",
              "    .dataframe thead th {\n",
              "        text-align: right;\n",
              "    }\n",
              "</style>\n",
              "<table border=\"1\" class=\"dataframe\">\n",
              "  <thead>\n",
              "    <tr style=\"text-align: right;\">\n",
              "      <th></th>\n",
              "      <th>Category</th>\n",
              "      <th>Resume</th>\n",
              "      <th>Cleaned_Resume</th>\n",
              "      <th>label</th>\n",
              "      <th>Count</th>\n",
              "    </tr>\n",
              "  </thead>\n",
              "  <tbody>\n",
              "    <tr>\n",
              "      <th>341</th>\n",
              "      <td>Java Developer</td>\n",
              "      <td>operating systems windows xp, 7, 10. tools/pac...</td>\n",
              "      <td>operating systems windows xp 7 10 tools packag...</td>\n",
              "      <td>15</td>\n",
              "      <td>260</td>\n",
              "    </tr>\n",
              "    <tr>\n",
              "      <th>70</th>\n",
              "      <td>HR</td>\n",
              "      <td>training in special education (certificate cou...</td>\n",
              "      <td>training in special education certificate cour...</td>\n",
              "      <td>12</td>\n",
              "      <td>81</td>\n",
              "    </tr>\n",
              "  </tbody>\n",
              "</table>\n",
              "</div>\n",
              "    <div class=\"colab-df-buttons\">\n",
              "\n",
              "  <div class=\"colab-df-container\">\n",
              "    <button class=\"colab-df-convert\" onclick=\"convertToInteractive('df-79f860ef-8ccd-4c0c-b46e-6a6010199592')\"\n",
              "            title=\"Convert this dataframe to an interactive table.\"\n",
              "            style=\"display:none;\">\n",
              "\n",
              "  <svg xmlns=\"http://www.w3.org/2000/svg\" height=\"24px\" viewBox=\"0 -960 960 960\">\n",
              "    <path d=\"M120-120v-720h720v720H120Zm60-500h600v-160H180v160Zm220 220h160v-160H400v160Zm0 220h160v-160H400v160ZM180-400h160v-160H180v160Zm440 0h160v-160H620v160ZM180-180h160v-160H180v160Zm440 0h160v-160H620v160Z\"/>\n",
              "  </svg>\n",
              "    </button>\n",
              "\n",
              "  <style>\n",
              "    .colab-df-container {\n",
              "      display:flex;\n",
              "      gap: 12px;\n",
              "    }\n",
              "\n",
              "    .colab-df-convert {\n",
              "      background-color: #E8F0FE;\n",
              "      border: none;\n",
              "      border-radius: 50%;\n",
              "      cursor: pointer;\n",
              "      display: none;\n",
              "      fill: #1967D2;\n",
              "      height: 32px;\n",
              "      padding: 0 0 0 0;\n",
              "      width: 32px;\n",
              "    }\n",
              "\n",
              "    .colab-df-convert:hover {\n",
              "      background-color: #E2EBFA;\n",
              "      box-shadow: 0px 1px 2px rgba(60, 64, 67, 0.3), 0px 1px 3px 1px rgba(60, 64, 67, 0.15);\n",
              "      fill: #174EA6;\n",
              "    }\n",
              "\n",
              "    .colab-df-buttons div {\n",
              "      margin-bottom: 4px;\n",
              "    }\n",
              "\n",
              "    [theme=dark] .colab-df-convert {\n",
              "      background-color: #3B4455;\n",
              "      fill: #D2E3FC;\n",
              "    }\n",
              "\n",
              "    [theme=dark] .colab-df-convert:hover {\n",
              "      background-color: #434B5C;\n",
              "      box-shadow: 0px 1px 3px 1px rgba(0, 0, 0, 0.15);\n",
              "      filter: drop-shadow(0px 1px 2px rgba(0, 0, 0, 0.3));\n",
              "      fill: #FFFFFF;\n",
              "    }\n",
              "  </style>\n",
              "\n",
              "    <script>\n",
              "      const buttonEl =\n",
              "        document.querySelector('#df-79f860ef-8ccd-4c0c-b46e-6a6010199592 button.colab-df-convert');\n",
              "      buttonEl.style.display =\n",
              "        google.colab.kernel.accessAllowed ? 'block' : 'none';\n",
              "\n",
              "      async function convertToInteractive(key) {\n",
              "        const element = document.querySelector('#df-79f860ef-8ccd-4c0c-b46e-6a6010199592');\n",
              "        const dataTable =\n",
              "          await google.colab.kernel.invokeFunction('convertToInteractive',\n",
              "                                                    [key], {});\n",
              "        if (!dataTable) return;\n",
              "\n",
              "        const docLinkHtml = 'Like what you see? Visit the ' +\n",
              "          '<a target=\"_blank\" href=https://colab.research.google.com/notebooks/data_table.ipynb>data table notebook</a>'\n",
              "          + ' to learn more about interactive tables.';\n",
              "        element.innerHTML = '';\n",
              "        dataTable['output_type'] = 'display_data';\n",
              "        await google.colab.output.renderOutput(dataTable, element);\n",
              "        const docLink = document.createElement('div');\n",
              "        docLink.innerHTML = docLinkHtml;\n",
              "        element.appendChild(docLink);\n",
              "      }\n",
              "    </script>\n",
              "  </div>\n",
              "\n",
              "\n",
              "<div id=\"df-6dcd28c7-b688-43b2-af76-7b5433ab6726\">\n",
              "  <button class=\"colab-df-quickchart\" onclick=\"quickchart('df-6dcd28c7-b688-43b2-af76-7b5433ab6726')\"\n",
              "            title=\"Suggest charts\"\n",
              "            style=\"display:none;\">\n",
              "\n",
              "<svg xmlns=\"http://www.w3.org/2000/svg\" height=\"24px\"viewBox=\"0 0 24 24\"\n",
              "     width=\"24px\">\n",
              "    <g>\n",
              "        <path d=\"M19 3H5c-1.1 0-2 .9-2 2v14c0 1.1.9 2 2 2h14c1.1 0 2-.9 2-2V5c0-1.1-.9-2-2-2zM9 17H7v-7h2v7zm4 0h-2V7h2v10zm4 0h-2v-4h2v4z\"/>\n",
              "    </g>\n",
              "</svg>\n",
              "  </button>\n",
              "\n",
              "<style>\n",
              "  .colab-df-quickchart {\n",
              "      --bg-color: #E8F0FE;\n",
              "      --fill-color: #1967D2;\n",
              "      --hover-bg-color: #E2EBFA;\n",
              "      --hover-fill-color: #174EA6;\n",
              "      --disabled-fill-color: #AAA;\n",
              "      --disabled-bg-color: #DDD;\n",
              "  }\n",
              "\n",
              "  [theme=dark] .colab-df-quickchart {\n",
              "      --bg-color: #3B4455;\n",
              "      --fill-color: #D2E3FC;\n",
              "      --hover-bg-color: #434B5C;\n",
              "      --hover-fill-color: #FFFFFF;\n",
              "      --disabled-bg-color: #3B4455;\n",
              "      --disabled-fill-color: #666;\n",
              "  }\n",
              "\n",
              "  .colab-df-quickchart {\n",
              "    background-color: var(--bg-color);\n",
              "    border: none;\n",
              "    border-radius: 50%;\n",
              "    cursor: pointer;\n",
              "    display: none;\n",
              "    fill: var(--fill-color);\n",
              "    height: 32px;\n",
              "    padding: 0;\n",
              "    width: 32px;\n",
              "  }\n",
              "\n",
              "  .colab-df-quickchart:hover {\n",
              "    background-color: var(--hover-bg-color);\n",
              "    box-shadow: 0 1px 2px rgba(60, 64, 67, 0.3), 0 1px 3px 1px rgba(60, 64, 67, 0.15);\n",
              "    fill: var(--button-hover-fill-color);\n",
              "  }\n",
              "\n",
              "  .colab-df-quickchart-complete:disabled,\n",
              "  .colab-df-quickchart-complete:disabled:hover {\n",
              "    background-color: var(--disabled-bg-color);\n",
              "    fill: var(--disabled-fill-color);\n",
              "    box-shadow: none;\n",
              "  }\n",
              "\n",
              "  .colab-df-spinner {\n",
              "    border: 2px solid var(--fill-color);\n",
              "    border-color: transparent;\n",
              "    border-bottom-color: var(--fill-color);\n",
              "    animation:\n",
              "      spin 1s steps(1) infinite;\n",
              "  }\n",
              "\n",
              "  @keyframes spin {\n",
              "    0% {\n",
              "      border-color: transparent;\n",
              "      border-bottom-color: var(--fill-color);\n",
              "      border-left-color: var(--fill-color);\n",
              "    }\n",
              "    20% {\n",
              "      border-color: transparent;\n",
              "      border-left-color: var(--fill-color);\n",
              "      border-top-color: var(--fill-color);\n",
              "    }\n",
              "    30% {\n",
              "      border-color: transparent;\n",
              "      border-left-color: var(--fill-color);\n",
              "      border-top-color: var(--fill-color);\n",
              "      border-right-color: var(--fill-color);\n",
              "    }\n",
              "    40% {\n",
              "      border-color: transparent;\n",
              "      border-right-color: var(--fill-color);\n",
              "      border-top-color: var(--fill-color);\n",
              "    }\n",
              "    60% {\n",
              "      border-color: transparent;\n",
              "      border-right-color: var(--fill-color);\n",
              "    }\n",
              "    80% {\n",
              "      border-color: transparent;\n",
              "      border-right-color: var(--fill-color);\n",
              "      border-bottom-color: var(--fill-color);\n",
              "    }\n",
              "    90% {\n",
              "      border-color: transparent;\n",
              "      border-bottom-color: var(--fill-color);\n",
              "    }\n",
              "  }\n",
              "</style>\n",
              "\n",
              "  <script>\n",
              "    async function quickchart(key) {\n",
              "      const quickchartButtonEl =\n",
              "        document.querySelector('#' + key + ' button');\n",
              "      quickchartButtonEl.disabled = true;  // To prevent multiple clicks.\n",
              "      quickchartButtonEl.classList.add('colab-df-spinner');\n",
              "      try {\n",
              "        const charts = await google.colab.kernel.invokeFunction(\n",
              "            'suggestCharts', [key], {});\n",
              "      } catch (error) {\n",
              "        console.error('Error during call to suggestCharts:', error);\n",
              "      }\n",
              "      quickchartButtonEl.classList.remove('colab-df-spinner');\n",
              "      quickchartButtonEl.classList.add('colab-df-quickchart-complete');\n",
              "    }\n",
              "    (() => {\n",
              "      let quickchartButtonEl =\n",
              "        document.querySelector('#df-6dcd28c7-b688-43b2-af76-7b5433ab6726 button');\n",
              "      quickchartButtonEl.style.display =\n",
              "        google.colab.kernel.accessAllowed ? 'block' : 'none';\n",
              "    })();\n",
              "  </script>\n",
              "</div>\n",
              "\n",
              "    </div>\n",
              "  </div>\n"
            ],
            "application/vnd.google.colaboratory.intrinsic+json": {
              "type": "dataframe",
              "variable_name": "train_df",
              "summary": "{\n  \"name\": \"train_df\",\n  \"rows\": 744,\n  \"fields\": [\n    {\n      \"column\": \"Category\",\n      \"properties\": {\n        \"dtype\": \"category\",\n        \"num_unique_values\": 25,\n        \"samples\": [\n          \"Sales\",\n          \"Arts\",\n          \"Java Developer\"\n        ],\n        \"semantic_type\": \"\",\n        \"description\": \"\"\n      }\n    },\n    {\n      \"column\": \"Resume\",\n      \"properties\": {\n        \"dtype\": \"category\",\n        \"num_unique_values\": 165,\n        \"samples\": [\n          \"computer proficiency \\u00e2\\u0080\\u00a2 basic: ms-office (powerpoint, word, outlook, excel) \\u00e2\\u0080\\u00a2 language known: basics of c, cpp, java. \\u00e2\\u0080\\u00a2 basics of networking \\u00e2\\u0080\\u00a2 basics command of linux project details minor project details: \\u00e2\\u0080\\u00a2 title: applocker for android. \\u00e2\\u0080\\u00a2 project area: android application. \\u00e2\\u0080\\u00a2 description: applocker provides the protection of the system applications as well as the third party applications installed in the android devices. the password protection is provided with the help of patterns of volume keys. hence, an extra measure of privacy is acquired. major project details: \\u00e2\\u0080\\u00a2 title: online complaint system for cyber crimes. \\u00e2\\u0080\\u00a2 project area: android application \\u00e2\\u0080\\u00a2 description: online complaint system for cyber crimes is an android application which will be in use after a person lodged a complaint in police station regarding cyber crime but no action has been taken against it within the prescribed time constraint. such person will directly use this application which will help him/her to directly lodge the complaint to commissioner office and it will get store in the commissioner's database and necessary action will be taken against it. strengths \\u00e2\\u0080\\u00a2 belief in team work both as a team member and a leader. \\u00e2\\u0080\\u00a2 hard and ethical worker.education details \\r\\njanuary 2013 to january 2016 b.e. yeshwantrao chavan nagpur, maharashtra nagpur university\\r\\n diploma aggregate  maharashtra state\\r\\n s.s.c. education nagpur, maharashtra maharashtra state\\r\\ntesting engineer \\r\\n\\r\\n\\r\\nskill details \\r\\nandroid- exprience - 6 months\\r\\ncpp- exprience - 6 months\\r\\ndatabase- exprience - 6 months\\r\\nexcel- exprience - 6 months\\r\\njava- exprience - 6 months\\r\\nselenium- exprience - 12 months\\r\\nautomation testing- exprience - 12 months\\r\\nselenium webdriver- exprience - 12 months\\r\\nmanual testing- exprience - 6 months\\r\\nregression testing- exprience - 6 monthscompany details \\r\\ncompany - maxgen technologies\\r\\ndescription - i'm a software test engineer working at maxgen technologies from past 1 year.\",\n          \"education details \\r\\n\\r\\nhadoop developer \\r\\n\\r\\nhadoop developer - infosys\\r\\nskill details \\r\\ncompany details \\r\\ncompany - infosys\\r\\ndescription - project description: the banking information had stored the data in different data ware house systems for each department but it becomes difficult for the organization to manage the data and to perform some analytics on the past data, so it is combined them into a single global repository in hadoop for analysis.\\r\\n\\r\\nresponsibilities:\\r\\n\\u00e2\\u0080\\u00a2       analyze the banking rates data set.\\r\\n\\u00e2\\u0080\\u00a2       create specification document.\\r\\n\\u00e2\\u0080\\u00a2       provide effort estimation.\\r\\n\\u00e2\\u0080\\u00a2       develop spark scala, spark sql programs using eclipse ide on windows/linux environment.\\r\\n\\u00e2\\u0080\\u00a2       create kpi's test scenarios, test cases, test result document.\\r\\n\\u00e2\\u0080\\u00a2       test the scala programs in linux spark standalone mode.\\r\\n\\u00e2\\u0080\\u00a2       setup multi cluster on aws, deploy the spark scala programs\\r\\n\\u00e2\\u0080\\u00a2       provided solution using hadoop ecosystem - hdfs, mapreduce, pig, hive, hbase, and zookeeper.\\r\\n\\u00e2\\u0080\\u00a2       provided solution using large scale server-side systems with distributed processing algorithms.\\r\\n\\u00e2\\u0080\\u00a2       created reports for the bi team using sqoop to export data into hdfs and hive.\\r\\n\\u00e2\\u0080\\u00a2       provided solution in supporting and assisting in troubleshooting and optimization of mapreduce jobs and\\r\\npig latin scripts.\\r\\n\\u00e2\\u0080\\u00a2       deep understanding of hadoop design principles, cluster connectivity, security and the factors that affect\\r\\nsystem performance.\\r\\n\\u00e2\\u0080\\u00a2       worked on importing and exporting data from different databases like oracle, teradata into hdfs and hive\\r\\nusing sqoop, tpt and connect direct.\\r\\n\\u00e2\\u0080\\u00a2       import and export the data from rdbms to hdfs/hbase\\r\\n\\u00e2\\u0080\\u00a2       wrote script and placed it in client side so that the data moved to hdfs will be stored in temporary file and then it will start loading it in hive tables.\\r\\n\\u00e2\\u0080\\u00a2       developed the sqoop scripts in order to make the interaction between pig and mysql database.\\r\\n\\u00e2\\u0080\\u00a2       involved in developing the hive reports, partitions of hive tables.\\r\\n\\u00e2\\u0080\\u00a2       created and maintained technical documentation for launching hadoop clusters and for executing hive\\r\\nqueries and pig scripts.\\r\\n\\u00e2\\u0080\\u00a2       involved in running hadoop jobs for processing millions of records of text data\\r\\n\\r\\nenvironment: java, hadoop, hdfs, map-reduce, pig, hive, sqoop, flume, oozie, hbase, spark, scala,\\r\\nlinux, nosql, storm, tomcat, putty, svn, github, ibm websphere v8.5.\\r\\n\\r\\nproject #1: telecommunications\\r\\nhadoop developer\\r\\n\\r\\ndescription to identify customers who are likely to churn and 360-degree view of the customer is created from different heterogeneous data sources. the data is brought into data lake (hdfs) from different sources and analyzed using different hadoop tools like pig and hive.\\r\\n\\r\\nresponsibilities:\\r\\n\\u00e2\\u0080\\u00a2       installed and configured apache hadoop tools like hive, pig, hbase and sqoop for application development and unit testing.\\r\\n\\u00e2\\u0080\\u00a2       wrote mapreduce jobs to discover trends in data usage by users.\\r\\n\\u00e2\\u0080\\u00a2       involved in database connection using sqoop.\\r\\n\\u00e2\\u0080\\u00a2       involved in creating hive tables, loading data and writing hive queries using the hiveql.\\r\\n\\u00e2\\u0080\\u00a2       involved in partitioning and joining hive tables for hive query optimization.\\r\\n\\u00e2\\u0080\\u00a2       experienced in sql db migration to hdfs.\\r\\n\\u00e2\\u0080\\u00a2       used nosql(hbase) for faster performance, which maintains the data in the de-normalized way for oltp.\\r\\n\\u00e2\\u0080\\u00a2       the data is collected from distributed sources into avro models. applied transformations and standardizations and loaded into hbase for further data processing.\\r\\n\\u00e2\\u0080\\u00a2       experienced in defining job flows.\\r\\n\\u00e2\\u0080\\u00a2       used oozie to orchestrate the workflow.\\r\\n\\u00e2\\u0080\\u00a2       implemented fair schedulers on the job tracker to share the resources of the cluster for the map reduce\\r\\njobs given by the users.\\r\\n\\u00e2\\u0080\\u00a2       exported the analyzed data to the relational databases using hive for visualization and to generate reports for the bi team.\\r\\n\\r\\nenvironment: hadoop, hive, linux, mapreduce, hdfs, hive, python, pig, sqoop, cloudera, shell scripting,\\r\\njava (jdk 1.6), java 6, oracle 10g, pl/sql, sql*plus\",\n          \"education details \\r\\n b.c.a bachelor computer application pune, maharashtra pune university\\r\\n h.s.c.  pune, maharashtra pune university\\r\\n s.s.c.  pune, maharashtra pune university\\r\\nweb designing and developer \\r\\n\\r\\nphp developer - exposys pvt. ltd\\r\\nskill details \\r\\ncompany details \\r\\ncompany - exposys pvt. ltd\\r\\ndescription - technical skills\\r\\nweb development: html5, css3, bootstrap, php, ajax, jquery, javascript.\\r\\ndatabase: mysql.\\r\\ndevelopment tools: notepad++, sublime text2.\\r\\nframework: codeigniter.\\r\\nserver: apache tomcat, xampp control panel.\\r\\noperating systems: windows.\\r\\ncompany - exposys pvt. ltd\\r\\ndescription - pune.\\taugest 2017 to till date\\r\\n\\r\\nproject details:\\r\\nproject-i: pragat bharat system\\r\\ntechnologies used: html, css, bootstrap, php, jquery, ajax.\\r\\ndatabase used: my sql.\\r\\nteam size: 1\\r\\nposition: software developer\\r\\nsynopsis: this project aim is specially design for people. it is used to collect information to diifernt sector.\\r\\n\\r\\nproject-ii: go ayur system\\r\\ntechnologies used: html, css, bootstrap, php, jquery, ajax.\\r\\ndatabase used: my sql.\\r\\nteam size: 2\\r\\nposition: software developer\\r\\nsynopsis: go ayurveda panchakarma center is one of most traditionally well established, professional and innovative providers of classical\\r\\nayurvedic health services and kerala panchakarma therapies.\\r\\n\\r\\nproject-iii: vitsanindia system\\r\\ntechnologies used: html, css, bootstrap, php, jquery, ajax, java script.\\r\\ndatabase used: my sql.\\r\\nteam size: 2\\r\\nposition: software developer\\r\\nsynopsis: online shooping through app. this app is user friendly because there is a option for change language. user can to find different categories products as there choice.\\r\\n\\r\\nproject-iv: mahabaleshwartours\\r\\ntechnologies used: html, css, bootstrap, php, jquery, ajax, java script.\\r\\ndatabase used: my sql.\\r\\nteam size: 1\\r\\nposition: software developer\\r\\nsynopsis: in this system is to provide online registration, tour package information, ticket booking, online payment and searching facility for customer and also generate different types of report.\\r\\n\\r\\nproject-v: cityspaceindia\\r\\ntechnologies used: html, css, bootstrap, php, jquery, ajax, java script.\\r\\ndatabase used: my sql.\\r\\nteam size: 1\\r\\nposition: software developer\\r\\nsynopsis: service provider website we provide different categories.\\r\\n\\r\\nproject-vi: fruitsbuddy\\r\\ntechnologies used: html, css, bootstrap, php, jquery, ajax, java script.\\r\\ndatabase used: my sql.\\r\\nteam size: 1\\r\\nposition: software developer\\r\\nsynopsis: fruitbuddy is to manage the details of fruits, customer, order, transaction, payment. it manages all the information about fruits, stocks, payment. the project is totally built at administrative end and thus only the administrator is guaranteed the access. the purpose of the project is to build an application program to reduce the manual work for managing the fruits, customer, stocks, order.\\r\\n\\r\\nproject-vii: totalcitee\\r\\ntechnologies used: html, css, bootstrap, php, jquery, ajax, java script.\\r\\ndatabase used: my sql.\\r\\nteam size: 1\\r\\nposition: software developer\\r\\nsynopsis: real estate web application has been created for helping you to sell properties through web based user interface. visitors on your website can view particular desired products using search engine facility.\\r\\n\\r\\nproject-viii: golchha\\r\\ntechnologies used: html, css, bootstrap, php, jquery, ajax, java script.\\r\\ndatabase used: my sql.\\r\\nteam size: 1\\r\\nposition: software developer\\r\\nsynopsis: service provider website we provide different categories.\"\n        ],\n        \"semantic_type\": \"\",\n        \"description\": \"\"\n      }\n    },\n    {\n      \"column\": \"Cleaned_Resume\",\n      \"properties\": {\n        \"dtype\": \"category\",\n        \"num_unique_values\": 165,\n        \"samples\": [\n          \"computer proficiency basic ms office powerpoint word outlook excel language known basics of c cpp java basics of networking basics command of linux project details minor project details title applocker for android project area android application description applocker provides the protection of the system applications as well as the third party applications installed in the android devices the password protection is provided with the help of patterns of volume keys hence an extra measure of privacy is acquired major project details title online complaint system for cyber crimes project area android application description online complaint system for cyber crimes is an android application which will be in use after a person lodged a complaint in police station regarding cyber crime but no action has been taken against it within the prescribed time constraint such person will directly use this application which will help him her to directly lodge the complaint to commissioner office and it will get store in the commissioner s database and necessary action will be taken against it strengths belief in team work both as a team member and a leader hard and ethical worker education details january 2013 to january 2016 b e yeshwantrao chavan nagpur maharashtra nagpur university diploma aggregate maharashtra state s s c education nagpur maharashtra maharashtra state testing engineer skill details android exprience 6 months cpp exprience 6 months database exprience 6 months excel exprience 6 months java exprience 6 months selenium exprience 12 months automation testing exprience 12 months selenium webdriver exprience 12 months manual testing exprience 6 months regression testing exprience 6 monthscompany details company maxgen technologies description i m a software test engineer working at maxgen technologies from past 1 year \",\n          \"education details hadoop developer hadoop developer infosys skill details company details company infosys description project description the banking information had stored the data in different data ware house systems for each department but it becomes difficult for the organization to manage the data and to perform some analytics on the past data so it is combined them into a single global repository in hadoop for analysis responsibilities analyze the banking rates data set create specification document provide effort estimation develop spark scala spark sql programs using eclipse ide on windows linux environment create kpi s test scenarios test cases test result document test the scala programs in linux spark standalone mode setup multi cluster on aws deploy the spark scala programs provided solution using hadoop ecosystem hdfs mapreduce pig hive hbase and zookeeper provided solution using large scale server side systems with distributed processing algorithms created reports for the bi team using sqoop to export data into hdfs and hive provided solution in supporting and assisting in troubleshooting and optimization of mapreduce jobs and pig latin scripts deep understanding of hadoop design principles cluster connectivity security and the factors that affect system performance worked on importing and exporting data from different databases like oracle teradata into hdfs and hive using sqoop tpt and connect direct import and export the data from rdbms to hdfs hbase wrote script and placed it in client side so that the data moved to hdfs will be stored in temporary file and then it will start loading it in hive tables developed the sqoop scripts in order to make the interaction between pig and mysql database involved in developing the hive reports partitions of hive tables created and maintained technical documentation for launching hadoop clusters and for executing hive queries and pig scripts involved in running hadoop jobs for processing millions of records of text data environment java hadoop hdfs map reduce pig hive sqoop flume oozie hbase spark scala linux nosql storm tomcat putty svn github ibm websphere v8 5 project telecommunications hadoop developer description to identify customers who are likely to churn and 360 degree view of the customer is created from different heterogeneous data sources the data is brought into data lake hdfs from different sources and analyzed using different hadoop tools like pig and hive responsibilities installed and configured apache hadoop tools like hive pig hbase and sqoop for application development and unit testing wrote mapreduce jobs to discover trends in data usage by users involved in database connection using sqoop involved in creating hive tables loading data and writing hive queries using the hiveql involved in partitioning and joining hive tables for hive query optimization experienced in sql db migration to hdfs used nosql hbase for faster performance which maintains the data in the de normalized way for oltp the data is collected from distributed sources into avro models applied transformations and standardizations and loaded into hbase for further data processing experienced in defining job flows used oozie to orchestrate the workflow implemented fair schedulers on the job tracker to share the resources of the cluster for the map reduce jobs given by the users exported the analyzed data to the relational databases using hive for visualization and to generate reports for the bi team environment hadoop hive linux mapreduce hdfs hive python pig sqoop cloudera shell scripting java jdk 1 6 java 6 oracle 10g pl sql sql plus\",\n          \"education details b c a bachelor computer application pune maharashtra pune university h s c pune maharashtra pune university s s c pune maharashtra pune university web designing and developer php developer exposys pvt ltd skill details company details company exposys pvt ltd description technical skills web development html5 css3 bootstrap php ajax jquery javascript database mysql development tools notepad sublime text2 framework codeigniter server apache tomcat xampp control panel operating systems windows company exposys pvt ltd description pune augest 2017 to till date project details project i pragat bharat system technologies used html css bootstrap php jquery ajax database used my sql team size 1 position software developer synopsis this project aim is specially design for people it is used to collect information to diifernt sector project ii go ayur system technologies used html css bootstrap php jquery ajax database used my sql team size 2 position software developer synopsis go ayurveda panchakarma center is one of most traditionally well established professional and innovative providers of classical ayurvedic health services and kerala panchakarma therapies project iii vitsanindia system technologies used html css bootstrap php jquery ajax java script database used my sql team size 2 position software developer synopsis online shooping through app this app is user friendly because there is a option for change language user can to find different categories products as there choice project iv mahabaleshwartours technologies used html css bootstrap php jquery ajax java script database used my sql team size 1 position software developer synopsis in this system is to provide online registration tour package information ticket booking online payment and searching facility for customer and also generate different types of report project v cityspaceindia technologies used html css bootstrap php jquery ajax java script database used my sql team size 1 position software developer synopsis service provider website we provide different categories project vi fruitsbuddy technologies used html css bootstrap php jquery ajax java script database used my sql team size 1 position software developer synopsis fruitbuddy is to manage the details of fruits customer order transaction payment it manages all the information about fruits stocks payment the project is totally built at administrative end and thus only the administrator is guaranteed the a ess the purpose of the project is to build an application program to reduce the manual work for managing the fruits customer stocks order project vii totalcitee technologies used html css bootstrap php jquery ajax java script database used my sql team size 1 position software developer synopsis real estate web application has been created for helping you to sell properties through web based user interface visitors on your website can view particular desired products using search engine facility project viii golchha technologies used html css bootstrap php jquery ajax java script database used my sql team size 1 position software developer synopsis service provider website we provide different categories \"\n        ],\n        \"semantic_type\": \"\",\n        \"description\": \"\"\n      }\n    },\n    {\n      \"column\": \"label\",\n      \"properties\": {\n        \"dtype\": \"number\",\n        \"std\": 7,\n        \"min\": 0,\n        \"max\": 24,\n        \"num_unique_values\": 25,\n        \"samples\": [\n          22,\n          1,\n          15\n        ],\n        \"semantic_type\": \"\",\n        \"description\": \"\"\n      }\n    },\n    {\n      \"column\": \"Count\",\n      \"properties\": {\n        \"dtype\": \"number\",\n        \"std\": 391,\n        \"min\": 16,\n        \"max\": 2062,\n        \"num_unique_values\": 149,\n        \"samples\": [\n          848,\n          1274,\n          1572\n        ],\n        \"semantic_type\": \"\",\n        \"description\": \"\"\n      }\n    }\n  ]\n}"
            }
          },
          "metadata": {},
          "execution_count": 20
        }
      ]
    },
    {
      "cell_type": "markdown",
      "source": [
        "### Convert to HuggingFace Dataset"
      ],
      "metadata": {
        "id": "vQNG09lz2VG6"
      }
    },
    {
      "cell_type": "markdown",
      "source": [
        "**Exercise 10: Convert Pandas dataframe to HuggingFace Dataset [1 Mark]**\n",
        "\n",
        "**Hint:**\n",
        "\n",
        "    import pandas as pd\n",
        "    from datasets import Dataset, DatasetDict\n",
        "\n",
        "    tdf = pd.DataFrame({\"a\": [1, 2, 3], \"b\": ['hello', 'ola', 'thammi']})\n",
        "    vdf = pd.DataFrame({\"a\": [4, 5, 6], \"b\": ['four', 'five', 'six']})\n",
        "    tds = Dataset.from_pandas(tdf)\n",
        "    vds = Dataset.from_pandas(vdf)\n",
        "\n",
        "    ds = DatasetDict()\n",
        "\n",
        "    ds['train'] = tds\n",
        "    ds['validation'] = vds\n",
        "\n",
        "    print(ds)"
      ],
      "metadata": {
        "id": "qEpf_GllUIbt"
      }
    },
    {
      "cell_type": "code",
      "source": [
        "from datasets import Dataset, DatasetDict\n",
        "\n",
        "train_ds = Dataset.from_pandas(train_df[['Cleaned_Resume', 'label']])\n",
        "val_ds = Dataset.from_pandas(val_df[['Cleaned_Resume', 'label']])\n",
        "test_ds = Dataset.from_pandas(test_df[['Cleaned_Resume', 'label']])\n",
        "\n",
        "ds = DatasetDict()\n",
        "\n",
        "ds['train'] = train_ds\n",
        "ds['validation'] = val_ds\n",
        "ds['test'] = test_ds"
      ],
      "metadata": {
        "id": "z_89zi9XF5J0"
      },
      "execution_count": null,
      "outputs": []
    },
    {
      "cell_type": "code",
      "source": [
        "ds"
      ],
      "metadata": {
        "colab": {
          "base_uri": "https://localhost:8080/"
        },
        "id": "SJHaAeE5GySR",
        "outputId": "7a34d058-a77d-4bf1-b35b-47e3e8290b79"
      },
      "execution_count": null,
      "outputs": [
        {
          "output_type": "execute_result",
          "data": {
            "text/plain": [
              "DatasetDict({\n",
              "    train: Dataset({\n",
              "        features: ['Cleaned_Resume', 'label', '__index_level_0__'],\n",
              "        num_rows: 744\n",
              "    })\n",
              "    validation: Dataset({\n",
              "        features: ['Cleaned_Resume', 'label', '__index_level_0__'],\n",
              "        num_rows: 193\n",
              "    })\n",
              "    test: Dataset({\n",
              "        features: ['Cleaned_Resume', 'label', '__index_level_0__'],\n",
              "        num_rows: 25\n",
              "    })\n",
              "})"
            ]
          },
          "metadata": {},
          "execution_count": 22
        }
      ]
    },
    {
      "cell_type": "code",
      "source": [
        "ds['train']"
      ],
      "metadata": {
        "colab": {
          "base_uri": "https://localhost:8080/"
        },
        "id": "bDEtA0TjHIoy",
        "outputId": "5c672113-6f53-4183-f099-0a778e897663"
      },
      "execution_count": null,
      "outputs": [
        {
          "output_type": "execute_result",
          "data": {
            "text/plain": [
              "Dataset({\n",
              "    features: ['Cleaned_Resume', 'label', '__index_level_0__'],\n",
              "    num_rows: 744\n",
              "})"
            ]
          },
          "metadata": {},
          "execution_count": 23
        }
      ]
    },
    {
      "cell_type": "code",
      "source": [
        "ds['train'].features"
      ],
      "metadata": {
        "colab": {
          "base_uri": "https://localhost:8080/"
        },
        "id": "KMv6s_nfHivP",
        "outputId": "81b62c5d-13b9-41a5-8e05-824515843cfb"
      },
      "execution_count": null,
      "outputs": [
        {
          "output_type": "execute_result",
          "data": {
            "text/plain": [
              "{'Cleaned_Resume': Value(dtype='string', id=None),\n",
              " 'label': Value(dtype='int64', id=None),\n",
              " '__index_level_0__': Value(dtype='int64', id=None)}"
            ]
          },
          "metadata": {},
          "execution_count": 24
        }
      ]
    },
    {
      "cell_type": "markdown",
      "source": [
        "### Tokenizer"
      ],
      "metadata": {
        "id": "IXsHhNqcVyUb"
      }
    },
    {
      "cell_type": "markdown",
      "source": [
        "**Exercise 11: Load tokenizer for checkpoint `distilbert-base-uncased` [0.5 Mark]**\n",
        "\n",
        "**Hint:** `AutoTokenizer`"
      ],
      "metadata": {
        "id": "EqmNgMaQVNdp"
      }
    },
    {
      "cell_type": "code",
      "source": [
        "tokenizer = AutoTokenizer.from_pretrained('distilbert-base-uncased')"
      ],
      "metadata": {
        "colab": {
          "base_uri": "https://localhost:8080/",
          "height": 145,
          "referenced_widgets": [
            "c2a850ac507843c7b9d787ed3bf91aed",
            "bf00cb63f80e4e05b926b5535d4cfd99",
            "5413b38927c04e65b7523b822da00ed1",
            "cf1edd01279f4b5ca2795537e0b5fbe1",
            "66cf4b59c37642aaa54e82a658b653f4",
            "d412f7500b364718be572203ebcf495f",
            "6b4d9868a29f45c58f78620e21f44fc2",
            "396fe758d1654856996465b708f4bc81",
            "0a05b304562f4a3ab2b0ac7cdf231e3d",
            "2f2900ff16ed438094fd4977c73cf406",
            "af29e0b8173349cbba483fc5f0652220",
            "4f5d7a119291493f906f5822bf54c21c",
            "51837e4e46ec4feaa315fd5b04c344d7",
            "a3651b881b3b45a2b0fff7ebd032660e",
            "a504313682924817b77b36d9c77aa955",
            "6fc009da29cc4f22bb86c966a10117f1",
            "82e667543de54069a2fff608a24c1c5a",
            "a089eb4ea53c4250bdba0e2264d3b13c",
            "2eb556a84cf14ac3b36b0e70bb170931",
            "300f9c16aa8d495ab5498786ff26ad81",
            "5cae9a08add34be6b77adee67d9ff026",
            "72510a97894e43f38fd356d7b638fe82",
            "0be651669d364cd99df3df2ef938c8dd",
            "456fbcf50e534286b02c086cde426b3d",
            "bd17d5393add4f759d1be92d4becbae5",
            "a30a73a1ad41440c8010287988707039",
            "ffcc9b04c62f496ba8bcecbc5498ba8b",
            "95bcdc7674fe43e9b37193eac13c633a",
            "ee49bfb778a94a7e80ba9cedc61d7ce5",
            "da02202ab4e84ae19c081b647db5c0e1",
            "5038806d07b54a8ca78d1a2bb1d7f5bf",
            "1af61435d7fc47df9731784c1aefa640",
            "6f388612d845420ea22c6134b63bb9c9",
            "8b8ab01b4e124e62a7034f93cd2d0325",
            "69d8270910ca4db7a33824b634035d98",
            "0e7d98a8628e488184eef11b763dc4c9",
            "a2a833ed3016437e8bf75535bbe667bf",
            "35e6237a0b514916a9410108f1355ad3",
            "6e7f207f97504a1280362046f16ee643",
            "cb0c4a96070f4f9fbe42d1290950d618",
            "e989823fff0e4f76a5099812a9a47e1e",
            "f496daf6241d4c57b34077f85f13e30e",
            "d0a13ce3baeb40a4ae5149fbb6822549",
            "fbf6331a6b284633baecde2ca07a3138"
          ]
        },
        "id": "iKAaBbGhq3cP",
        "outputId": "edbf1e8c-9712-44bb-df70-c3062593d50f"
      },
      "execution_count": null,
      "outputs": [
        {
          "output_type": "display_data",
          "data": {
            "text/plain": [
              "tokenizer_config.json:   0%|          | 0.00/48.0 [00:00<?, ?B/s]"
            ],
            "application/vnd.jupyter.widget-view+json": {
              "version_major": 2,
              "version_minor": 0,
              "model_id": "c2a850ac507843c7b9d787ed3bf91aed"
            }
          },
          "metadata": {}
        },
        {
          "output_type": "display_data",
          "data": {
            "text/plain": [
              "config.json:   0%|          | 0.00/483 [00:00<?, ?B/s]"
            ],
            "application/vnd.jupyter.widget-view+json": {
              "version_major": 2,
              "version_minor": 0,
              "model_id": "4f5d7a119291493f906f5822bf54c21c"
            }
          },
          "metadata": {}
        },
        {
          "output_type": "display_data",
          "data": {
            "text/plain": [
              "vocab.txt:   0%|          | 0.00/232k [00:00<?, ?B/s]"
            ],
            "application/vnd.jupyter.widget-view+json": {
              "version_major": 2,
              "version_minor": 0,
              "model_id": "0be651669d364cd99df3df2ef938c8dd"
            }
          },
          "metadata": {}
        },
        {
          "output_type": "display_data",
          "data": {
            "text/plain": [
              "tokenizer.json:   0%|          | 0.00/466k [00:00<?, ?B/s]"
            ],
            "application/vnd.jupyter.widget-view+json": {
              "version_major": 2,
              "version_minor": 0,
              "model_id": "8b8ab01b4e124e62a7034f93cd2d0325"
            }
          },
          "metadata": {}
        }
      ]
    },
    {
      "cell_type": "code",
      "source": [
        "# tokenized_sentence = tokenizer(ds['train'][0:2]['Cleaned_Resume'], truncation = True, padding = True)\n",
        "\n",
        "# from pprint import pprint\n",
        "# pprint(tokenized_sentence)"
      ],
      "metadata": {
        "id": "o78y50cVIMBE"
      },
      "execution_count": null,
      "outputs": []
    },
    {
      "cell_type": "code",
      "source": [
        "def tokenize_fn(batch):\n",
        "    return tokenizer(batch['Cleaned_Resume'], truncation=True, padding = True)"
      ],
      "metadata": {
        "id": "89dlcyQkIL-Q"
      },
      "execution_count": null,
      "outputs": []
    },
    {
      "cell_type": "code",
      "source": [
        "tokenized_datasets = ds.map(tokenize_fn, batched=True)"
      ],
      "metadata": {
        "colab": {
          "base_uri": "https://localhost:8080/",
          "height": 113,
          "referenced_widgets": [
            "929bc7e8306241d4af30a0b29c325e43",
            "27af73ad581d484c94b4fd4ef242616f",
            "300d758f8f304c2f9935c5b9c1385e3b",
            "2b879aaf91f3440794a47dd69375ff82",
            "1d9e47b34e4246f097ef237e4973b1c1",
            "f29ae263878e4d6994008b8d7c0681fb",
            "bbc19ac636d84945913fe6c69c0b92aa",
            "324cdbd9d9954c0d80c64de231ccdcce",
            "f8e4eb1c2c3a423bab60559f81fa953b",
            "8647044c35344ca397fdbbeb334f58b6",
            "02510045e84047ac878ef1c8505b8efd",
            "7c8c84654a674d1b9a7783504628c9e1",
            "6fc2343f8e8045cc8dc8d0befbae92f3",
            "3df3f5faa15c4f648c993d6d281283f3",
            "cb5a4ee3f85e4cebac7a29bc44b685c8",
            "b0df506e1ffe41e78e991d7039f16f28",
            "10b745d78627416aaf5c9d2fd4694570",
            "1a7f751b7e274643b9fdc37b4759eba8",
            "063137e3d94e451598937550d1f1ff29",
            "0b7d3c0e9b574035a8adc4a610b6ec46",
            "1c9391d9c1ea486ebe07039cf640daee",
            "ebda631925dd4d74a7d170b27bb609cd",
            "5a6754bbd87a4f07b4567ae77f3b4069",
            "5819dc683db647f384303484e1ac85d5",
            "17faee70e6d9425d88105f71b9934afc",
            "c8df233446034f6c91dba73f1d56f869",
            "42bbbf060bd8400ebd96099547cff30c",
            "793403fe0b50458aabdc802ac8f5f6ff",
            "a56e51fe9e7e4c8c8a9331543e8699c8",
            "c4851e926cbe45bf9dda7739343ac520",
            "f2c13e903a8c4b8cbf070b85c7ebaefe",
            "f22c871d00904fad89ffd4125c90e5a5",
            "b5645990e5854b7089b190a0350536f7"
          ]
        },
        "id": "Z_c7_2tYI7Nt",
        "outputId": "81e0c24a-6cd7-4ede-dc97-beb713ff2db7"
      },
      "execution_count": null,
      "outputs": [
        {
          "output_type": "display_data",
          "data": {
            "text/plain": [
              "Map:   0%|          | 0/744 [00:00<?, ? examples/s]"
            ],
            "application/vnd.jupyter.widget-view+json": {
              "version_major": 2,
              "version_minor": 0,
              "model_id": "929bc7e8306241d4af30a0b29c325e43"
            }
          },
          "metadata": {}
        },
        {
          "output_type": "display_data",
          "data": {
            "text/plain": [
              "Map:   0%|          | 0/193 [00:00<?, ? examples/s]"
            ],
            "application/vnd.jupyter.widget-view+json": {
              "version_major": 2,
              "version_minor": 0,
              "model_id": "7c8c84654a674d1b9a7783504628c9e1"
            }
          },
          "metadata": {}
        },
        {
          "output_type": "display_data",
          "data": {
            "text/plain": [
              "Map:   0%|          | 0/25 [00:00<?, ? examples/s]"
            ],
            "application/vnd.jupyter.widget-view+json": {
              "version_major": 2,
              "version_minor": 0,
              "model_id": "5a6754bbd87a4f07b4567ae77f3b4069"
            }
          },
          "metadata": {}
        }
      ]
    },
    {
      "cell_type": "code",
      "source": [
        "tokenized_datasets"
      ],
      "metadata": {
        "colab": {
          "base_uri": "https://localhost:8080/"
        },
        "id": "Ey7og_qnJFDs",
        "outputId": "d4f1179d-9795-4e75-b71b-3cd8f9980e5d"
      },
      "execution_count": null,
      "outputs": [
        {
          "output_type": "execute_result",
          "data": {
            "text/plain": [
              "DatasetDict({\n",
              "    train: Dataset({\n",
              "        features: ['Cleaned_Resume', 'label', '__index_level_0__', 'input_ids', 'attention_mask'],\n",
              "        num_rows: 744\n",
              "    })\n",
              "    validation: Dataset({\n",
              "        features: ['Cleaned_Resume', 'label', '__index_level_0__', 'input_ids', 'attention_mask'],\n",
              "        num_rows: 193\n",
              "    })\n",
              "    test: Dataset({\n",
              "        features: ['Cleaned_Resume', 'label', '__index_level_0__', 'input_ids', 'attention_mask'],\n",
              "        num_rows: 25\n",
              "    })\n",
              "})"
            ]
          },
          "metadata": {},
          "execution_count": 29
        }
      ]
    },
    {
      "cell_type": "markdown",
      "source": [
        "### Load Pre-Trained Model"
      ],
      "metadata": {
        "id": "TPXfBiYpElKx"
      }
    },
    {
      "cell_type": "markdown",
      "source": [
        "**Exercise 12: Load pre-trained Bert model with checkpoint `distilbert-base-uncased` and show model summary [0.5 Mark]**\n",
        "\n",
        "**Hint:** `AutoModelForSequenceClassification`"
      ],
      "metadata": {
        "id": "Z_14j98LV2Tg"
      }
    },
    {
      "cell_type": "code",
      "source": [
        "from transformers import AutoModelForSequenceClassification\n",
        "\n",
        "model = AutoModelForSequenceClassification.from_pretrained('distilbert-base-uncased', num_labels=25)"
      ],
      "metadata": {
        "colab": {
          "base_uri": "https://localhost:8080/",
          "height": 104,
          "referenced_widgets": [
            "90d48e99717743b0a50a9f7450b5010c",
            "75cd3f29cbe34be9ae48fb068420008f",
            "2423e6c5aafd47c795dde2f6ab854b0c",
            "8b1f8848b5824d5bb1a7529440d871d0",
            "7883f98869ea438bb517bc840bcaf67e",
            "a213422c1a0e430fb7c30115e2dd93a2",
            "b7b07a6f94514706a0abc82ac434cf78",
            "f6007f9a72374a3f813d07f18c2d8444",
            "ebf5b3b06e6345cf9c201dcd03c11a31",
            "3fae8555b9af4d04ae0c94e48c832dfd",
            "d286a41be64e473db7af63727a628dc6"
          ]
        },
        "id": "tHeD1YZu-iA9",
        "outputId": "24d8d460-70b7-48f6-a8f2-b638a1ab8651"
      },
      "execution_count": null,
      "outputs": [
        {
          "output_type": "display_data",
          "data": {
            "text/plain": [
              "model.safetensors:   0%|          | 0.00/268M [00:00<?, ?B/s]"
            ],
            "application/vnd.jupyter.widget-view+json": {
              "version_major": 2,
              "version_minor": 0,
              "model_id": "90d48e99717743b0a50a9f7450b5010c"
            }
          },
          "metadata": {}
        },
        {
          "output_type": "stream",
          "name": "stderr",
          "text": [
            "Some weights of DistilBertForSequenceClassification were not initialized from the model checkpoint at distilbert-base-uncased and are newly initialized: ['classifier.bias', 'classifier.weight', 'pre_classifier.bias', 'pre_classifier.weight']\n",
            "You should probably TRAIN this model on a down-stream task to be able to use it for predictions and inference.\n"
          ]
        }
      ]
    },
    {
      "cell_type": "code",
      "source": [
        "type(model)"
      ],
      "metadata": {
        "colab": {
          "base_uri": "https://localhost:8080/",
          "height": 186
        },
        "id": "K3Ve0NOwrrAX",
        "outputId": "e125a42a-23b1-4bcb-ac43-e3387654579c"
      },
      "execution_count": null,
      "outputs": [
        {
          "output_type": "execute_result",
          "data": {
            "text/plain": [
              "transformers.models.distilbert.modeling_distilbert.DistilBertForSequenceClassification"
            ],
            "text/html": [
              "<div style=\"max-width:800px; border: 1px solid var(--colab-border-color);\"><style>\n",
              "      pre.function-repr-contents {\n",
              "        overflow-x: auto;\n",
              "        padding: 8px 12px;\n",
              "        max-height: 500px;\n",
              "      }\n",
              "\n",
              "      pre.function-repr-contents.function-repr-contents-collapsed {\n",
              "        cursor: pointer;\n",
              "        max-height: 100px;\n",
              "      }\n",
              "    </style>\n",
              "    <pre style=\"white-space: initial; background:\n",
              "         var(--colab-secondary-surface-color); padding: 8px 12px;\n",
              "         border-bottom: 1px solid var(--colab-border-color);\"><b>transformers.models.distilbert.modeling_distilbert.DistilBertForSequenceClassification</b><br/>def _wrapped_call_impl(*args, **kwargs)</pre><pre class=\"function-repr-contents function-repr-contents-collapsed\" style=\"\"><a class=\"filepath\" style=\"display:none\" href=\"#\">/usr/local/lib/python3.10/dist-packages/transformers/models/distilbert/modeling_distilbert.py</a>DistilBert Model transformer with a sequence classification/regression head on top (a linear layer on top of the\n",
              "pooled output) e.g. for GLUE tasks.\n",
              "\n",
              "\n",
              "This model inherits from [`PreTrainedModel`]. Check the superclass documentation for the generic methods the\n",
              "library implements for all its model (such as downloading or saving, resizing the input embeddings, pruning heads\n",
              "etc.)\n",
              "\n",
              "This model is also a PyTorch [torch.nn.Module](https://pytorch.org/docs/stable/nn.html#torch.nn.Module) subclass.\n",
              "Use it as a regular PyTorch Module and refer to the PyTorch documentation for all matter related to general usage\n",
              "and behavior.\n",
              "\n",
              "Parameters:\n",
              "    config ([`DistilBertConfig`]): Model configuration class with all the parameters of the model.\n",
              "        Initializing with a config file does not load the weights associated with the model, only the\n",
              "        configuration. Check out the [`~PreTrainedModel.from_pretrained`] method to load the model weights.</pre>\n",
              "      <script>\n",
              "      if (google.colab.kernel.accessAllowed && google.colab.files && google.colab.files.view) {\n",
              "        for (const element of document.querySelectorAll('.filepath')) {\n",
              "          element.style.display = 'block'\n",
              "          element.onclick = (event) => {\n",
              "            event.preventDefault();\n",
              "            event.stopPropagation();\n",
              "            google.colab.files.view(element.textContent, 912);\n",
              "          };\n",
              "        }\n",
              "      }\n",
              "      for (const element of document.querySelectorAll('.function-repr-contents')) {\n",
              "        element.onclick = (event) => {\n",
              "          event.preventDefault();\n",
              "          event.stopPropagation();\n",
              "          element.classList.toggle('function-repr-contents-collapsed');\n",
              "        };\n",
              "      }\n",
              "      </script>\n",
              "      </div>"
            ]
          },
          "metadata": {},
          "execution_count": 31
        }
      ]
    },
    {
      "cell_type": "code",
      "source": [
        "model"
      ],
      "metadata": {
        "colab": {
          "base_uri": "https://localhost:8080/"
        },
        "id": "U5qeuc05rrvP",
        "outputId": "dc551678-e9d5-49c2-ca81-a53e85391803"
      },
      "execution_count": null,
      "outputs": [
        {
          "output_type": "execute_result",
          "data": {
            "text/plain": [
              "DistilBertForSequenceClassification(\n",
              "  (distilbert): DistilBertModel(\n",
              "    (embeddings): Embeddings(\n",
              "      (word_embeddings): Embedding(30522, 768, padding_idx=0)\n",
              "      (position_embeddings): Embedding(512, 768)\n",
              "      (LayerNorm): LayerNorm((768,), eps=1e-12, elementwise_affine=True)\n",
              "      (dropout): Dropout(p=0.1, inplace=False)\n",
              "    )\n",
              "    (transformer): Transformer(\n",
              "      (layer): ModuleList(\n",
              "        (0-5): 6 x TransformerBlock(\n",
              "          (attention): DistilBertSdpaAttention(\n",
              "            (dropout): Dropout(p=0.1, inplace=False)\n",
              "            (q_lin): Linear(in_features=768, out_features=768, bias=True)\n",
              "            (k_lin): Linear(in_features=768, out_features=768, bias=True)\n",
              "            (v_lin): Linear(in_features=768, out_features=768, bias=True)\n",
              "            (out_lin): Linear(in_features=768, out_features=768, bias=True)\n",
              "          )\n",
              "          (sa_layer_norm): LayerNorm((768,), eps=1e-12, elementwise_affine=True)\n",
              "          (ffn): FFN(\n",
              "            (dropout): Dropout(p=0.1, inplace=False)\n",
              "            (lin1): Linear(in_features=768, out_features=3072, bias=True)\n",
              "            (lin2): Linear(in_features=3072, out_features=768, bias=True)\n",
              "            (activation): GELUActivation()\n",
              "          )\n",
              "          (output_layer_norm): LayerNorm((768,), eps=1e-12, elementwise_affine=True)\n",
              "        )\n",
              "      )\n",
              "    )\n",
              "  )\n",
              "  (pre_classifier): Linear(in_features=768, out_features=768, bias=True)\n",
              "  (classifier): Linear(in_features=768, out_features=25, bias=True)\n",
              "  (dropout): Dropout(p=0.2, inplace=False)\n",
              ")"
            ]
          },
          "metadata": {},
          "execution_count": 32
        }
      ]
    },
    {
      "cell_type": "code",
      "source": [
        "!pip -q install torchinfo"
      ],
      "metadata": {
        "id": "U1wRqyvWrzkf"
      },
      "execution_count": null,
      "outputs": []
    },
    {
      "cell_type": "code",
      "source": [
        "from torchinfo import summary\n",
        "summary(model)"
      ],
      "metadata": {
        "colab": {
          "base_uri": "https://localhost:8080/"
        },
        "id": "zfZbyY6ur2i_",
        "outputId": "f3a79a2a-ce97-4f15-9ae6-099b4dafd6a5"
      },
      "execution_count": null,
      "outputs": [
        {
          "output_type": "execute_result",
          "data": {
            "text/plain": [
              "================================================================================\n",
              "Layer (type:depth-idx)                                  Param #\n",
              "================================================================================\n",
              "DistilBertForSequenceClassification                     --\n",
              "├─DistilBertModel: 1-1                                  --\n",
              "│    └─Embeddings: 2-1                                  --\n",
              "│    │    └─Embedding: 3-1                              23,440,896\n",
              "│    │    └─Embedding: 3-2                              393,216\n",
              "│    │    └─LayerNorm: 3-3                              1,536\n",
              "│    │    └─Dropout: 3-4                                --\n",
              "│    └─Transformer: 2-2                                 --\n",
              "│    │    └─ModuleList: 3-5                             42,527,232\n",
              "├─Linear: 1-2                                           590,592\n",
              "├─Linear: 1-3                                           19,225\n",
              "├─Dropout: 1-4                                          --\n",
              "================================================================================\n",
              "Total params: 66,972,697\n",
              "Trainable params: 66,972,697\n",
              "Non-trainable params: 0\n",
              "================================================================================"
            ]
          },
          "metadata": {},
          "execution_count": 34
        }
      ]
    },
    {
      "cell_type": "markdown",
      "source": [
        "**Exercise 13: Freeze/Un-Freeze different layers  [0.5 Mark]**\n",
        "\n",
        "**Hint:** Freeze layers starting with name *distilbert*\n"
      ],
      "metadata": {
        "id": "OEaFCpYAFLzC"
      }
    },
    {
      "cell_type": "code",
      "source": [
        "for name, param in model.named_parameters():\n",
        "    print(name)"
      ],
      "metadata": {
        "id": "XrMTbGJaf0fz",
        "colab": {
          "base_uri": "https://localhost:8080/"
        },
        "outputId": "011416dd-f101-4980-bbdd-2b31b6700f3a"
      },
      "execution_count": null,
      "outputs": [
        {
          "output_type": "stream",
          "name": "stdout",
          "text": [
            "distilbert.embeddings.word_embeddings.weight\n",
            "distilbert.embeddings.position_embeddings.weight\n",
            "distilbert.embeddings.LayerNorm.weight\n",
            "distilbert.embeddings.LayerNorm.bias\n",
            "distilbert.transformer.layer.0.attention.q_lin.weight\n",
            "distilbert.transformer.layer.0.attention.q_lin.bias\n",
            "distilbert.transformer.layer.0.attention.k_lin.weight\n",
            "distilbert.transformer.layer.0.attention.k_lin.bias\n",
            "distilbert.transformer.layer.0.attention.v_lin.weight\n",
            "distilbert.transformer.layer.0.attention.v_lin.bias\n",
            "distilbert.transformer.layer.0.attention.out_lin.weight\n",
            "distilbert.transformer.layer.0.attention.out_lin.bias\n",
            "distilbert.transformer.layer.0.sa_layer_norm.weight\n",
            "distilbert.transformer.layer.0.sa_layer_norm.bias\n",
            "distilbert.transformer.layer.0.ffn.lin1.weight\n",
            "distilbert.transformer.layer.0.ffn.lin1.bias\n",
            "distilbert.transformer.layer.0.ffn.lin2.weight\n",
            "distilbert.transformer.layer.0.ffn.lin2.bias\n",
            "distilbert.transformer.layer.0.output_layer_norm.weight\n",
            "distilbert.transformer.layer.0.output_layer_norm.bias\n",
            "distilbert.transformer.layer.1.attention.q_lin.weight\n",
            "distilbert.transformer.layer.1.attention.q_lin.bias\n",
            "distilbert.transformer.layer.1.attention.k_lin.weight\n",
            "distilbert.transformer.layer.1.attention.k_lin.bias\n",
            "distilbert.transformer.layer.1.attention.v_lin.weight\n",
            "distilbert.transformer.layer.1.attention.v_lin.bias\n",
            "distilbert.transformer.layer.1.attention.out_lin.weight\n",
            "distilbert.transformer.layer.1.attention.out_lin.bias\n",
            "distilbert.transformer.layer.1.sa_layer_norm.weight\n",
            "distilbert.transformer.layer.1.sa_layer_norm.bias\n",
            "distilbert.transformer.layer.1.ffn.lin1.weight\n",
            "distilbert.transformer.layer.1.ffn.lin1.bias\n",
            "distilbert.transformer.layer.1.ffn.lin2.weight\n",
            "distilbert.transformer.layer.1.ffn.lin2.bias\n",
            "distilbert.transformer.layer.1.output_layer_norm.weight\n",
            "distilbert.transformer.layer.1.output_layer_norm.bias\n",
            "distilbert.transformer.layer.2.attention.q_lin.weight\n",
            "distilbert.transformer.layer.2.attention.q_lin.bias\n",
            "distilbert.transformer.layer.2.attention.k_lin.weight\n",
            "distilbert.transformer.layer.2.attention.k_lin.bias\n",
            "distilbert.transformer.layer.2.attention.v_lin.weight\n",
            "distilbert.transformer.layer.2.attention.v_lin.bias\n",
            "distilbert.transformer.layer.2.attention.out_lin.weight\n",
            "distilbert.transformer.layer.2.attention.out_lin.bias\n",
            "distilbert.transformer.layer.2.sa_layer_norm.weight\n",
            "distilbert.transformer.layer.2.sa_layer_norm.bias\n",
            "distilbert.transformer.layer.2.ffn.lin1.weight\n",
            "distilbert.transformer.layer.2.ffn.lin1.bias\n",
            "distilbert.transformer.layer.2.ffn.lin2.weight\n",
            "distilbert.transformer.layer.2.ffn.lin2.bias\n",
            "distilbert.transformer.layer.2.output_layer_norm.weight\n",
            "distilbert.transformer.layer.2.output_layer_norm.bias\n",
            "distilbert.transformer.layer.3.attention.q_lin.weight\n",
            "distilbert.transformer.layer.3.attention.q_lin.bias\n",
            "distilbert.transformer.layer.3.attention.k_lin.weight\n",
            "distilbert.transformer.layer.3.attention.k_lin.bias\n",
            "distilbert.transformer.layer.3.attention.v_lin.weight\n",
            "distilbert.transformer.layer.3.attention.v_lin.bias\n",
            "distilbert.transformer.layer.3.attention.out_lin.weight\n",
            "distilbert.transformer.layer.3.attention.out_lin.bias\n",
            "distilbert.transformer.layer.3.sa_layer_norm.weight\n",
            "distilbert.transformer.layer.3.sa_layer_norm.bias\n",
            "distilbert.transformer.layer.3.ffn.lin1.weight\n",
            "distilbert.transformer.layer.3.ffn.lin1.bias\n",
            "distilbert.transformer.layer.3.ffn.lin2.weight\n",
            "distilbert.transformer.layer.3.ffn.lin2.bias\n",
            "distilbert.transformer.layer.3.output_layer_norm.weight\n",
            "distilbert.transformer.layer.3.output_layer_norm.bias\n",
            "distilbert.transformer.layer.4.attention.q_lin.weight\n",
            "distilbert.transformer.layer.4.attention.q_lin.bias\n",
            "distilbert.transformer.layer.4.attention.k_lin.weight\n",
            "distilbert.transformer.layer.4.attention.k_lin.bias\n",
            "distilbert.transformer.layer.4.attention.v_lin.weight\n",
            "distilbert.transformer.layer.4.attention.v_lin.bias\n",
            "distilbert.transformer.layer.4.attention.out_lin.weight\n",
            "distilbert.transformer.layer.4.attention.out_lin.bias\n",
            "distilbert.transformer.layer.4.sa_layer_norm.weight\n",
            "distilbert.transformer.layer.4.sa_layer_norm.bias\n",
            "distilbert.transformer.layer.4.ffn.lin1.weight\n",
            "distilbert.transformer.layer.4.ffn.lin1.bias\n",
            "distilbert.transformer.layer.4.ffn.lin2.weight\n",
            "distilbert.transformer.layer.4.ffn.lin2.bias\n",
            "distilbert.transformer.layer.4.output_layer_norm.weight\n",
            "distilbert.transformer.layer.4.output_layer_norm.bias\n",
            "distilbert.transformer.layer.5.attention.q_lin.weight\n",
            "distilbert.transformer.layer.5.attention.q_lin.bias\n",
            "distilbert.transformer.layer.5.attention.k_lin.weight\n",
            "distilbert.transformer.layer.5.attention.k_lin.bias\n",
            "distilbert.transformer.layer.5.attention.v_lin.weight\n",
            "distilbert.transformer.layer.5.attention.v_lin.bias\n",
            "distilbert.transformer.layer.5.attention.out_lin.weight\n",
            "distilbert.transformer.layer.5.attention.out_lin.bias\n",
            "distilbert.transformer.layer.5.sa_layer_norm.weight\n",
            "distilbert.transformer.layer.5.sa_layer_norm.bias\n",
            "distilbert.transformer.layer.5.ffn.lin1.weight\n",
            "distilbert.transformer.layer.5.ffn.lin1.bias\n",
            "distilbert.transformer.layer.5.ffn.lin2.weight\n",
            "distilbert.transformer.layer.5.ffn.lin2.bias\n",
            "distilbert.transformer.layer.5.output_layer_norm.weight\n",
            "distilbert.transformer.layer.5.output_layer_norm.bias\n",
            "pre_classifier.weight\n",
            "pre_classifier.bias\n",
            "classifier.weight\n",
            "classifier.bias\n"
          ]
        }
      ]
    },
    {
      "cell_type": "code",
      "source": [
        "# Freezing\n",
        "for name, param in model.named_parameters():\n",
        "    if name.startswith(\"distilbert\"): # choose whatever you like here\n",
        "        param.requires_grad = False"
      ],
      "metadata": {
        "id": "Vl9qw4l2IPIA"
      },
      "execution_count": null,
      "outputs": []
    },
    {
      "cell_type": "code",
      "source": [
        "# Displaying of layers gradient\n",
        "for name, param in model.named_parameters():\n",
        "    print(name, param.requires_grad)"
      ],
      "metadata": {
        "id": "-rpzN_c6HRTR",
        "colab": {
          "base_uri": "https://localhost:8080/"
        },
        "collapsed": true,
        "outputId": "1d991817-1c01-47c4-c443-b7a2b78b5001"
      },
      "execution_count": null,
      "outputs": [
        {
          "output_type": "stream",
          "name": "stdout",
          "text": [
            "distilbert.embeddings.word_embeddings.weight False\n",
            "distilbert.embeddings.position_embeddings.weight False\n",
            "distilbert.embeddings.LayerNorm.weight False\n",
            "distilbert.embeddings.LayerNorm.bias False\n",
            "distilbert.transformer.layer.0.attention.q_lin.weight False\n",
            "distilbert.transformer.layer.0.attention.q_lin.bias False\n",
            "distilbert.transformer.layer.0.attention.k_lin.weight False\n",
            "distilbert.transformer.layer.0.attention.k_lin.bias False\n",
            "distilbert.transformer.layer.0.attention.v_lin.weight False\n",
            "distilbert.transformer.layer.0.attention.v_lin.bias False\n",
            "distilbert.transformer.layer.0.attention.out_lin.weight False\n",
            "distilbert.transformer.layer.0.attention.out_lin.bias False\n",
            "distilbert.transformer.layer.0.sa_layer_norm.weight False\n",
            "distilbert.transformer.layer.0.sa_layer_norm.bias False\n",
            "distilbert.transformer.layer.0.ffn.lin1.weight False\n",
            "distilbert.transformer.layer.0.ffn.lin1.bias False\n",
            "distilbert.transformer.layer.0.ffn.lin2.weight False\n",
            "distilbert.transformer.layer.0.ffn.lin2.bias False\n",
            "distilbert.transformer.layer.0.output_layer_norm.weight False\n",
            "distilbert.transformer.layer.0.output_layer_norm.bias False\n",
            "distilbert.transformer.layer.1.attention.q_lin.weight False\n",
            "distilbert.transformer.layer.1.attention.q_lin.bias False\n",
            "distilbert.transformer.layer.1.attention.k_lin.weight False\n",
            "distilbert.transformer.layer.1.attention.k_lin.bias False\n",
            "distilbert.transformer.layer.1.attention.v_lin.weight False\n",
            "distilbert.transformer.layer.1.attention.v_lin.bias False\n",
            "distilbert.transformer.layer.1.attention.out_lin.weight False\n",
            "distilbert.transformer.layer.1.attention.out_lin.bias False\n",
            "distilbert.transformer.layer.1.sa_layer_norm.weight False\n",
            "distilbert.transformer.layer.1.sa_layer_norm.bias False\n",
            "distilbert.transformer.layer.1.ffn.lin1.weight False\n",
            "distilbert.transformer.layer.1.ffn.lin1.bias False\n",
            "distilbert.transformer.layer.1.ffn.lin2.weight False\n",
            "distilbert.transformer.layer.1.ffn.lin2.bias False\n",
            "distilbert.transformer.layer.1.output_layer_norm.weight False\n",
            "distilbert.transformer.layer.1.output_layer_norm.bias False\n",
            "distilbert.transformer.layer.2.attention.q_lin.weight False\n",
            "distilbert.transformer.layer.2.attention.q_lin.bias False\n",
            "distilbert.transformer.layer.2.attention.k_lin.weight False\n",
            "distilbert.transformer.layer.2.attention.k_lin.bias False\n",
            "distilbert.transformer.layer.2.attention.v_lin.weight False\n",
            "distilbert.transformer.layer.2.attention.v_lin.bias False\n",
            "distilbert.transformer.layer.2.attention.out_lin.weight False\n",
            "distilbert.transformer.layer.2.attention.out_lin.bias False\n",
            "distilbert.transformer.layer.2.sa_layer_norm.weight False\n",
            "distilbert.transformer.layer.2.sa_layer_norm.bias False\n",
            "distilbert.transformer.layer.2.ffn.lin1.weight False\n",
            "distilbert.transformer.layer.2.ffn.lin1.bias False\n",
            "distilbert.transformer.layer.2.ffn.lin2.weight False\n",
            "distilbert.transformer.layer.2.ffn.lin2.bias False\n",
            "distilbert.transformer.layer.2.output_layer_norm.weight False\n",
            "distilbert.transformer.layer.2.output_layer_norm.bias False\n",
            "distilbert.transformer.layer.3.attention.q_lin.weight False\n",
            "distilbert.transformer.layer.3.attention.q_lin.bias False\n",
            "distilbert.transformer.layer.3.attention.k_lin.weight False\n",
            "distilbert.transformer.layer.3.attention.k_lin.bias False\n",
            "distilbert.transformer.layer.3.attention.v_lin.weight False\n",
            "distilbert.transformer.layer.3.attention.v_lin.bias False\n",
            "distilbert.transformer.layer.3.attention.out_lin.weight False\n",
            "distilbert.transformer.layer.3.attention.out_lin.bias False\n",
            "distilbert.transformer.layer.3.sa_layer_norm.weight False\n",
            "distilbert.transformer.layer.3.sa_layer_norm.bias False\n",
            "distilbert.transformer.layer.3.ffn.lin1.weight False\n",
            "distilbert.transformer.layer.3.ffn.lin1.bias False\n",
            "distilbert.transformer.layer.3.ffn.lin2.weight False\n",
            "distilbert.transformer.layer.3.ffn.lin2.bias False\n",
            "distilbert.transformer.layer.3.output_layer_norm.weight False\n",
            "distilbert.transformer.layer.3.output_layer_norm.bias False\n",
            "distilbert.transformer.layer.4.attention.q_lin.weight False\n",
            "distilbert.transformer.layer.4.attention.q_lin.bias False\n",
            "distilbert.transformer.layer.4.attention.k_lin.weight False\n",
            "distilbert.transformer.layer.4.attention.k_lin.bias False\n",
            "distilbert.transformer.layer.4.attention.v_lin.weight False\n",
            "distilbert.transformer.layer.4.attention.v_lin.bias False\n",
            "distilbert.transformer.layer.4.attention.out_lin.weight False\n",
            "distilbert.transformer.layer.4.attention.out_lin.bias False\n",
            "distilbert.transformer.layer.4.sa_layer_norm.weight False\n",
            "distilbert.transformer.layer.4.sa_layer_norm.bias False\n",
            "distilbert.transformer.layer.4.ffn.lin1.weight False\n",
            "distilbert.transformer.layer.4.ffn.lin1.bias False\n",
            "distilbert.transformer.layer.4.ffn.lin2.weight False\n",
            "distilbert.transformer.layer.4.ffn.lin2.bias False\n",
            "distilbert.transformer.layer.4.output_layer_norm.weight False\n",
            "distilbert.transformer.layer.4.output_layer_norm.bias False\n",
            "distilbert.transformer.layer.5.attention.q_lin.weight False\n",
            "distilbert.transformer.layer.5.attention.q_lin.bias False\n",
            "distilbert.transformer.layer.5.attention.k_lin.weight False\n",
            "distilbert.transformer.layer.5.attention.k_lin.bias False\n",
            "distilbert.transformer.layer.5.attention.v_lin.weight False\n",
            "distilbert.transformer.layer.5.attention.v_lin.bias False\n",
            "distilbert.transformer.layer.5.attention.out_lin.weight False\n",
            "distilbert.transformer.layer.5.attention.out_lin.bias False\n",
            "distilbert.transformer.layer.5.sa_layer_norm.weight False\n",
            "distilbert.transformer.layer.5.sa_layer_norm.bias False\n",
            "distilbert.transformer.layer.5.ffn.lin1.weight False\n",
            "distilbert.transformer.layer.5.ffn.lin1.bias False\n",
            "distilbert.transformer.layer.5.ffn.lin2.weight False\n",
            "distilbert.transformer.layer.5.ffn.lin2.bias False\n",
            "distilbert.transformer.layer.5.output_layer_norm.weight False\n",
            "distilbert.transformer.layer.5.output_layer_norm.bias False\n",
            "pre_classifier.weight True\n",
            "pre_classifier.bias True\n",
            "classifier.weight True\n",
            "classifier.bias True\n"
          ]
        }
      ]
    },
    {
      "cell_type": "markdown",
      "source": [
        "### Metrics"
      ],
      "metadata": {
        "id": "_1fnp2FMLAbA"
      }
    },
    {
      "cell_type": "code",
      "source": [
        "tokenized_datasets['train']"
      ],
      "metadata": {
        "colab": {
          "base_uri": "https://localhost:8080/"
        },
        "id": "8sPK9GZONIW7",
        "outputId": "1ee372de-3519-4597-eff2-e2feaba85aeb"
      },
      "execution_count": null,
      "outputs": [
        {
          "output_type": "execute_result",
          "data": {
            "text/plain": [
              "Dataset({\n",
              "    features: ['Cleaned_Resume', 'label', '__index_level_0__', 'input_ids', 'attention_mask'],\n",
              "    num_rows: 744\n",
              "})"
            ]
          },
          "metadata": {},
          "execution_count": 38
        }
      ]
    },
    {
      "cell_type": "code",
      "source": [
        "from sklearn.metrics import accuracy_score, f1_score, precision_score, recall_score"
      ],
      "metadata": {
        "id": "HD4C2Z8bNuQf"
      },
      "execution_count": null,
      "outputs": []
    },
    {
      "cell_type": "code",
      "source": [
        "f1_score(y_true=[1,0,1], y_pred=[1,0,0], average='weighted')"
      ],
      "metadata": {
        "colab": {
          "base_uri": "https://localhost:8080/"
        },
        "id": "0a_pwKLaPO5h",
        "outputId": "767912e8-d994-455a-e962-b7c537251adc"
      },
      "execution_count": null,
      "outputs": [
        {
          "output_type": "execute_result",
          "data": {
            "text/plain": [
              "0.6666666666666666"
            ]
          },
          "metadata": {},
          "execution_count": 40
        }
      ]
    },
    {
      "cell_type": "code",
      "source": [
        "def compute_metrics(logits_and_labels):\n",
        "    logits, labels = logits_and_labels\n",
        "    predictions = np.argmax(logits,axis=-1)\n",
        "    return {'f1_score': f1_score(y_true=labels, y_pred=predictions, average='weighted')}\n"
      ],
      "metadata": {
        "id": "DWtXcsbnQcc-"
      },
      "execution_count": null,
      "outputs": []
    },
    {
      "cell_type": "markdown",
      "source": [
        "**Exercise 14: Fine-tune model on train dataset  [0.5 Mark]**\n",
        " * Create `TrainingArguments` class object\n",
        " * Create `Trainer` class  object\n",
        " * Train it for higher number of epochs say 40 or 50\n",
        " * Switch to GPU runtime if needed\n",
        "\n",
        "**Hint:** Check if the training code is running without any error with CPU runtime, later switch to GPU runtime for faster training. Once trained, save the model, create its zip file, and download into your system."
      ],
      "metadata": {
        "id": "lRCoqRSWLSu9"
      }
    },
    {
      "cell_type": "code",
      "source": [
        "from transformers import TrainingArguments\n",
        "from transformers import Trainer"
      ],
      "metadata": {
        "id": "p9mRRxP41j13"
      },
      "execution_count": null,
      "outputs": []
    },
    {
      "cell_type": "code",
      "source": [
        "# Set up the training arguments\n",
        "\n",
        "model_output_path = \"/content/bert_model\"\n",
        "\n",
        "training_args = TrainingArguments(\n",
        "    output_dir = model_output_path,\n",
        "    evaluation_strategy='epoch',\n",
        "    save_strategy='epoch',\n",
        "    num_train_epochs = 80,\n",
        "    )"
      ],
      "metadata": {
        "id": "DVZwc4qv2kYz"
      },
      "execution_count": null,
      "outputs": []
    },
    {
      "cell_type": "code",
      "source": [
        "# Train the model\n",
        "\n",
        "trainer = Trainer(\n",
        "    model= model,\n",
        "    args= training_args,\n",
        "    train_dataset= tokenized_datasets[\"train\"],\n",
        "    eval_dataset= tokenized_datasets[\"validation\"],\n",
        "    tokenizer= tokenizer,\n",
        "    compute_metrics=compute_metrics\n",
        ")"
      ],
      "metadata": {
        "id": "NCkulT251mCW"
      },
      "execution_count": null,
      "outputs": []
    },
    {
      "cell_type": "code",
      "source": [
        "trainer.train()"
      ],
      "metadata": {
        "colab": {
          "base_uri": "https://localhost:8080/",
          "height": 1000
        },
        "id": "_m11X5D8UESI",
        "outputId": "fad05f34-5c8d-42bd-8b78-f91afb834f3e"
      },
      "execution_count": null,
      "outputs": [
        {
          "output_type": "stream",
          "name": "stderr",
          "text": [
            "\u001b[34m\u001b[1mwandb\u001b[0m: \u001b[33mWARNING\u001b[0m The `run_name` is currently set to the same value as `TrainingArguments.output_dir`. If this was not intended, please specify a different run name by setting the `TrainingArguments.run_name` parameter.\n",
            "\u001b[34m\u001b[1mwandb\u001b[0m: Using wandb-core as the SDK backend.  Please refer to https://wandb.me/wandb-core for more information.\n"
          ]
        },
        {
          "output_type": "display_data",
          "data": {
            "text/plain": [
              "<IPython.core.display.Javascript object>"
            ],
            "application/javascript": [
              "\n",
              "        window._wandbApiKey = new Promise((resolve, reject) => {\n",
              "            function loadScript(url) {\n",
              "            return new Promise(function(resolve, reject) {\n",
              "                let newScript = document.createElement(\"script\");\n",
              "                newScript.onerror = reject;\n",
              "                newScript.onload = resolve;\n",
              "                document.body.appendChild(newScript);\n",
              "                newScript.src = url;\n",
              "            });\n",
              "            }\n",
              "            loadScript(\"https://cdn.jsdelivr.net/npm/postmate/build/postmate.min.js\").then(() => {\n",
              "            const iframe = document.createElement('iframe')\n",
              "            iframe.style.cssText = \"width:0;height:0;border:none\"\n",
              "            document.body.appendChild(iframe)\n",
              "            const handshake = new Postmate({\n",
              "                container: iframe,\n",
              "                url: 'https://wandb.ai/authorize'\n",
              "            });\n",
              "            const timeout = setTimeout(() => reject(\"Couldn't auto authenticate\"), 5000)\n",
              "            handshake.then(function(child) {\n",
              "                child.on('authorize', data => {\n",
              "                    clearTimeout(timeout)\n",
              "                    resolve(data)\n",
              "                });\n",
              "            });\n",
              "            })\n",
              "        });\n",
              "    "
            ]
          },
          "metadata": {}
        },
        {
          "output_type": "stream",
          "name": "stderr",
          "text": [
            "\u001b[34m\u001b[1mwandb\u001b[0m: Logging into wandb.ai. (Learn how to deploy a W&B server locally: https://wandb.me/wandb-server)\n",
            "\u001b[34m\u001b[1mwandb\u001b[0m: You can find your API key in your browser here: https://wandb.ai/authorize\n",
            "wandb: Paste an API key from your profile and hit enter, or press ctrl+c to quit:"
          ]
        },
        {
          "name": "stdout",
          "output_type": "stream",
          "text": [
            " ··········\n"
          ]
        },
        {
          "output_type": "stream",
          "name": "stderr",
          "text": [
            "\u001b[34m\u001b[1mwandb\u001b[0m: Appending key for api.wandb.ai to your netrc file: /root/.netrc\n"
          ]
        },
        {
          "output_type": "display_data",
          "data": {
            "text/plain": [
              "<IPython.core.display.HTML object>"
            ],
            "text/html": [
              "Tracking run with wandb version 0.19.1"
            ]
          },
          "metadata": {}
        },
        {
          "output_type": "display_data",
          "data": {
            "text/plain": [
              "<IPython.core.display.HTML object>"
            ],
            "text/html": [
              "Run data is saved locally in <code>/content/wandb/run-20250106_051214-a8g79qea</code>"
            ]
          },
          "metadata": {}
        },
        {
          "output_type": "display_data",
          "data": {
            "text/plain": [
              "<IPython.core.display.HTML object>"
            ],
            "text/html": [
              "Syncing run <strong><a href='https://wandb.ai/shlok-p-talentsprint/huggingface/runs/a8g79qea' target=\"_blank\">/content/bert_model</a></strong> to <a href='https://wandb.ai/shlok-p-talentsprint/huggingface' target=\"_blank\">Weights & Biases</a> (<a href='https://wandb.me/developer-guide' target=\"_blank\">docs</a>)<br>"
            ]
          },
          "metadata": {}
        },
        {
          "output_type": "display_data",
          "data": {
            "text/plain": [
              "<IPython.core.display.HTML object>"
            ],
            "text/html": [
              " View project at <a href='https://wandb.ai/shlok-p-talentsprint/huggingface' target=\"_blank\">https://wandb.ai/shlok-p-talentsprint/huggingface</a>"
            ]
          },
          "metadata": {}
        },
        {
          "output_type": "display_data",
          "data": {
            "text/plain": [
              "<IPython.core.display.HTML object>"
            ],
            "text/html": [
              " View run at <a href='https://wandb.ai/shlok-p-talentsprint/huggingface/runs/a8g79qea' target=\"_blank\">https://wandb.ai/shlok-p-talentsprint/huggingface/runs/a8g79qea</a>"
            ]
          },
          "metadata": {}
        },
        {
          "output_type": "display_data",
          "data": {
            "text/plain": [
              "<IPython.core.display.HTML object>"
            ],
            "text/html": [
              "\n",
              "    <div>\n",
              "      \n",
              "      <progress value='7440' max='7440' style='width:300px; height:20px; vertical-align: middle;'></progress>\n",
              "      [7440/7440 20:19, Epoch 80/80]\n",
              "    </div>\n",
              "    <table border=\"1\" class=\"dataframe\">\n",
              "  <thead>\n",
              " <tr style=\"text-align: left;\">\n",
              "      <th>Epoch</th>\n",
              "      <th>Training Loss</th>\n",
              "      <th>Validation Loss</th>\n",
              "      <th>F1 Score</th>\n",
              "    </tr>\n",
              "  </thead>\n",
              "  <tbody>\n",
              "    <tr>\n",
              "      <td>1</td>\n",
              "      <td>No log</td>\n",
              "      <td>3.112997</td>\n",
              "      <td>0.049868</td>\n",
              "    </tr>\n",
              "    <tr>\n",
              "      <td>2</td>\n",
              "      <td>No log</td>\n",
              "      <td>3.045185</td>\n",
              "      <td>0.045374</td>\n",
              "    </tr>\n",
              "    <tr>\n",
              "      <td>3</td>\n",
              "      <td>No log</td>\n",
              "      <td>2.981455</td>\n",
              "      <td>0.041694</td>\n",
              "    </tr>\n",
              "    <tr>\n",
              "      <td>4</td>\n",
              "      <td>No log</td>\n",
              "      <td>2.918260</td>\n",
              "      <td>0.096030</td>\n",
              "    </tr>\n",
              "    <tr>\n",
              "      <td>5</td>\n",
              "      <td>No log</td>\n",
              "      <td>2.848645</td>\n",
              "      <td>0.116683</td>\n",
              "    </tr>\n",
              "    <tr>\n",
              "      <td>6</td>\n",
              "      <td>3.019200</td>\n",
              "      <td>2.775455</td>\n",
              "      <td>0.162748</td>\n",
              "    </tr>\n",
              "    <tr>\n",
              "      <td>7</td>\n",
              "      <td>3.019200</td>\n",
              "      <td>2.703477</td>\n",
              "      <td>0.211304</td>\n",
              "    </tr>\n",
              "    <tr>\n",
              "      <td>8</td>\n",
              "      <td>3.019200</td>\n",
              "      <td>2.634930</td>\n",
              "      <td>0.202085</td>\n",
              "    </tr>\n",
              "    <tr>\n",
              "      <td>9</td>\n",
              "      <td>3.019200</td>\n",
              "      <td>2.567809</td>\n",
              "      <td>0.285038</td>\n",
              "    </tr>\n",
              "    <tr>\n",
              "      <td>10</td>\n",
              "      <td>3.019200</td>\n",
              "      <td>2.498675</td>\n",
              "      <td>0.276682</td>\n",
              "    </tr>\n",
              "    <tr>\n",
              "      <td>11</td>\n",
              "      <td>2.650000</td>\n",
              "      <td>2.432593</td>\n",
              "      <td>0.332014</td>\n",
              "    </tr>\n",
              "    <tr>\n",
              "      <td>12</td>\n",
              "      <td>2.650000</td>\n",
              "      <td>2.369888</td>\n",
              "      <td>0.354201</td>\n",
              "    </tr>\n",
              "    <tr>\n",
              "      <td>13</td>\n",
              "      <td>2.650000</td>\n",
              "      <td>2.309132</td>\n",
              "      <td>0.322140</td>\n",
              "    </tr>\n",
              "    <tr>\n",
              "      <td>14</td>\n",
              "      <td>2.650000</td>\n",
              "      <td>2.255729</td>\n",
              "      <td>0.390111</td>\n",
              "    </tr>\n",
              "    <tr>\n",
              "      <td>15</td>\n",
              "      <td>2.650000</td>\n",
              "      <td>2.195779</td>\n",
              "      <td>0.385446</td>\n",
              "    </tr>\n",
              "    <tr>\n",
              "      <td>16</td>\n",
              "      <td>2.650000</td>\n",
              "      <td>2.143589</td>\n",
              "      <td>0.403615</td>\n",
              "    </tr>\n",
              "    <tr>\n",
              "      <td>17</td>\n",
              "      <td>2.286500</td>\n",
              "      <td>2.094588</td>\n",
              "      <td>0.398014</td>\n",
              "    </tr>\n",
              "    <tr>\n",
              "      <td>18</td>\n",
              "      <td>2.286500</td>\n",
              "      <td>2.044650</td>\n",
              "      <td>0.413947</td>\n",
              "    </tr>\n",
              "    <tr>\n",
              "      <td>19</td>\n",
              "      <td>2.286500</td>\n",
              "      <td>1.997580</td>\n",
              "      <td>0.464476</td>\n",
              "    </tr>\n",
              "    <tr>\n",
              "      <td>20</td>\n",
              "      <td>2.286500</td>\n",
              "      <td>1.955869</td>\n",
              "      <td>0.474567</td>\n",
              "    </tr>\n",
              "    <tr>\n",
              "      <td>21</td>\n",
              "      <td>2.286500</td>\n",
              "      <td>1.909783</td>\n",
              "      <td>0.466589</td>\n",
              "    </tr>\n",
              "    <tr>\n",
              "      <td>22</td>\n",
              "      <td>2.007200</td>\n",
              "      <td>1.871183</td>\n",
              "      <td>0.516121</td>\n",
              "    </tr>\n",
              "    <tr>\n",
              "      <td>23</td>\n",
              "      <td>2.007200</td>\n",
              "      <td>1.834338</td>\n",
              "      <td>0.536431</td>\n",
              "    </tr>\n",
              "    <tr>\n",
              "      <td>24</td>\n",
              "      <td>2.007200</td>\n",
              "      <td>1.793181</td>\n",
              "      <td>0.524744</td>\n",
              "    </tr>\n",
              "    <tr>\n",
              "      <td>25</td>\n",
              "      <td>2.007200</td>\n",
              "      <td>1.755869</td>\n",
              "      <td>0.521281</td>\n",
              "    </tr>\n",
              "    <tr>\n",
              "      <td>26</td>\n",
              "      <td>2.007200</td>\n",
              "      <td>1.724510</td>\n",
              "      <td>0.523273</td>\n",
              "    </tr>\n",
              "    <tr>\n",
              "      <td>27</td>\n",
              "      <td>1.783800</td>\n",
              "      <td>1.689259</td>\n",
              "      <td>0.561918</td>\n",
              "    </tr>\n",
              "    <tr>\n",
              "      <td>28</td>\n",
              "      <td>1.783800</td>\n",
              "      <td>1.657487</td>\n",
              "      <td>0.563926</td>\n",
              "    </tr>\n",
              "    <tr>\n",
              "      <td>29</td>\n",
              "      <td>1.783800</td>\n",
              "      <td>1.627599</td>\n",
              "      <td>0.568969</td>\n",
              "    </tr>\n",
              "    <tr>\n",
              "      <td>30</td>\n",
              "      <td>1.783800</td>\n",
              "      <td>1.595345</td>\n",
              "      <td>0.614867</td>\n",
              "    </tr>\n",
              "    <tr>\n",
              "      <td>31</td>\n",
              "      <td>1.783800</td>\n",
              "      <td>1.567383</td>\n",
              "      <td>0.623249</td>\n",
              "    </tr>\n",
              "    <tr>\n",
              "      <td>32</td>\n",
              "      <td>1.783800</td>\n",
              "      <td>1.538005</td>\n",
              "      <td>0.652416</td>\n",
              "    </tr>\n",
              "    <tr>\n",
              "      <td>33</td>\n",
              "      <td>1.596400</td>\n",
              "      <td>1.511448</td>\n",
              "      <td>0.622366</td>\n",
              "    </tr>\n",
              "    <tr>\n",
              "      <td>34</td>\n",
              "      <td>1.596400</td>\n",
              "      <td>1.483283</td>\n",
              "      <td>0.668334</td>\n",
              "    </tr>\n",
              "    <tr>\n",
              "      <td>35</td>\n",
              "      <td>1.596400</td>\n",
              "      <td>1.458074</td>\n",
              "      <td>0.680753</td>\n",
              "    </tr>\n",
              "    <tr>\n",
              "      <td>36</td>\n",
              "      <td>1.596400</td>\n",
              "      <td>1.433316</td>\n",
              "      <td>0.682344</td>\n",
              "    </tr>\n",
              "    <tr>\n",
              "      <td>37</td>\n",
              "      <td>1.596400</td>\n",
              "      <td>1.409492</td>\n",
              "      <td>0.690924</td>\n",
              "    </tr>\n",
              "    <tr>\n",
              "      <td>38</td>\n",
              "      <td>1.455200</td>\n",
              "      <td>1.385162</td>\n",
              "      <td>0.707430</td>\n",
              "    </tr>\n",
              "    <tr>\n",
              "      <td>39</td>\n",
              "      <td>1.455200</td>\n",
              "      <td>1.363690</td>\n",
              "      <td>0.690681</td>\n",
              "    </tr>\n",
              "    <tr>\n",
              "      <td>40</td>\n",
              "      <td>1.455200</td>\n",
              "      <td>1.342314</td>\n",
              "      <td>0.697464</td>\n",
              "    </tr>\n",
              "    <tr>\n",
              "      <td>41</td>\n",
              "      <td>1.455200</td>\n",
              "      <td>1.320405</td>\n",
              "      <td>0.709392</td>\n",
              "    </tr>\n",
              "    <tr>\n",
              "      <td>42</td>\n",
              "      <td>1.455200</td>\n",
              "      <td>1.300990</td>\n",
              "      <td>0.717086</td>\n",
              "    </tr>\n",
              "    <tr>\n",
              "      <td>43</td>\n",
              "      <td>1.455200</td>\n",
              "      <td>1.280419</td>\n",
              "      <td>0.716395</td>\n",
              "    </tr>\n",
              "    <tr>\n",
              "      <td>44</td>\n",
              "      <td>1.321300</td>\n",
              "      <td>1.261608</td>\n",
              "      <td>0.729256</td>\n",
              "    </tr>\n",
              "    <tr>\n",
              "      <td>45</td>\n",
              "      <td>1.321300</td>\n",
              "      <td>1.244560</td>\n",
              "      <td>0.728691</td>\n",
              "    </tr>\n",
              "    <tr>\n",
              "      <td>46</td>\n",
              "      <td>1.321300</td>\n",
              "      <td>1.226752</td>\n",
              "      <td>0.740258</td>\n",
              "    </tr>\n",
              "    <tr>\n",
              "      <td>47</td>\n",
              "      <td>1.321300</td>\n",
              "      <td>1.211246</td>\n",
              "      <td>0.751403</td>\n",
              "    </tr>\n",
              "    <tr>\n",
              "      <td>48</td>\n",
              "      <td>1.321300</td>\n",
              "      <td>1.193264</td>\n",
              "      <td>0.763775</td>\n",
              "    </tr>\n",
              "    <tr>\n",
              "      <td>49</td>\n",
              "      <td>1.224700</td>\n",
              "      <td>1.177436</td>\n",
              "      <td>0.761026</td>\n",
              "    </tr>\n",
              "    <tr>\n",
              "      <td>50</td>\n",
              "      <td>1.224700</td>\n",
              "      <td>1.164269</td>\n",
              "      <td>0.763554</td>\n",
              "    </tr>\n",
              "    <tr>\n",
              "      <td>51</td>\n",
              "      <td>1.224700</td>\n",
              "      <td>1.149183</td>\n",
              "      <td>0.768398</td>\n",
              "    </tr>\n",
              "    <tr>\n",
              "      <td>52</td>\n",
              "      <td>1.224700</td>\n",
              "      <td>1.135740</td>\n",
              "      <td>0.773090</td>\n",
              "    </tr>\n",
              "    <tr>\n",
              "      <td>53</td>\n",
              "      <td>1.224700</td>\n",
              "      <td>1.124774</td>\n",
              "      <td>0.777942</td>\n",
              "    </tr>\n",
              "    <tr>\n",
              "      <td>54</td>\n",
              "      <td>1.138200</td>\n",
              "      <td>1.110441</td>\n",
              "      <td>0.781161</td>\n",
              "    </tr>\n",
              "    <tr>\n",
              "      <td>55</td>\n",
              "      <td>1.138200</td>\n",
              "      <td>1.098124</td>\n",
              "      <td>0.787922</td>\n",
              "    </tr>\n",
              "    <tr>\n",
              "      <td>56</td>\n",
              "      <td>1.138200</td>\n",
              "      <td>1.087385</td>\n",
              "      <td>0.783389</td>\n",
              "    </tr>\n",
              "    <tr>\n",
              "      <td>57</td>\n",
              "      <td>1.138200</td>\n",
              "      <td>1.077050</td>\n",
              "      <td>0.783389</td>\n",
              "    </tr>\n",
              "    <tr>\n",
              "      <td>58</td>\n",
              "      <td>1.138200</td>\n",
              "      <td>1.065760</td>\n",
              "      <td>0.787922</td>\n",
              "    </tr>\n",
              "    <tr>\n",
              "      <td>59</td>\n",
              "      <td>1.138200</td>\n",
              "      <td>1.055772</td>\n",
              "      <td>0.815670</td>\n",
              "    </tr>\n",
              "    <tr>\n",
              "      <td>60</td>\n",
              "      <td>1.075700</td>\n",
              "      <td>1.044991</td>\n",
              "      <td>0.793321</td>\n",
              "    </tr>\n",
              "    <tr>\n",
              "      <td>61</td>\n",
              "      <td>1.075700</td>\n",
              "      <td>1.036989</td>\n",
              "      <td>0.815670</td>\n",
              "    </tr>\n",
              "    <tr>\n",
              "      <td>62</td>\n",
              "      <td>1.075700</td>\n",
              "      <td>1.029443</td>\n",
              "      <td>0.803152</td>\n",
              "    </tr>\n",
              "    <tr>\n",
              "      <td>63</td>\n",
              "      <td>1.075700</td>\n",
              "      <td>1.022441</td>\n",
              "      <td>0.811003</td>\n",
              "    </tr>\n",
              "    <tr>\n",
              "      <td>64</td>\n",
              "      <td>1.075700</td>\n",
              "      <td>1.015051</td>\n",
              "      <td>0.825501</td>\n",
              "    </tr>\n",
              "    <tr>\n",
              "      <td>65</td>\n",
              "      <td>1.017800</td>\n",
              "      <td>1.008681</td>\n",
              "      <td>0.825501</td>\n",
              "    </tr>\n",
              "    <tr>\n",
              "      <td>66</td>\n",
              "      <td>1.017800</td>\n",
              "      <td>1.001963</td>\n",
              "      <td>0.825501</td>\n",
              "    </tr>\n",
              "    <tr>\n",
              "      <td>67</td>\n",
              "      <td>1.017800</td>\n",
              "      <td>0.995447</td>\n",
              "      <td>0.815670</td>\n",
              "    </tr>\n",
              "    <tr>\n",
              "      <td>68</td>\n",
              "      <td>1.017800</td>\n",
              "      <td>0.991012</td>\n",
              "      <td>0.825501</td>\n",
              "    </tr>\n",
              "    <tr>\n",
              "      <td>69</td>\n",
              "      <td>1.017800</td>\n",
              "      <td>0.985631</td>\n",
              "      <td>0.825501</td>\n",
              "    </tr>\n",
              "    <tr>\n",
              "      <td>70</td>\n",
              "      <td>0.984600</td>\n",
              "      <td>0.981297</td>\n",
              "      <td>0.825501</td>\n",
              "    </tr>\n",
              "    <tr>\n",
              "      <td>71</td>\n",
              "      <td>0.984600</td>\n",
              "      <td>0.976917</td>\n",
              "      <td>0.825501</td>\n",
              "    </tr>\n",
              "    <tr>\n",
              "      <td>72</td>\n",
              "      <td>0.984600</td>\n",
              "      <td>0.973480</td>\n",
              "      <td>0.825501</td>\n",
              "    </tr>\n",
              "    <tr>\n",
              "      <td>73</td>\n",
              "      <td>0.984600</td>\n",
              "      <td>0.970282</td>\n",
              "      <td>0.840281</td>\n",
              "    </tr>\n",
              "    <tr>\n",
              "      <td>74</td>\n",
              "      <td>0.984600</td>\n",
              "      <td>0.967120</td>\n",
              "      <td>0.840281</td>\n",
              "    </tr>\n",
              "    <tr>\n",
              "      <td>75</td>\n",
              "      <td>0.984600</td>\n",
              "      <td>0.964728</td>\n",
              "      <td>0.840281</td>\n",
              "    </tr>\n",
              "    <tr>\n",
              "      <td>76</td>\n",
              "      <td>0.953600</td>\n",
              "      <td>0.962677</td>\n",
              "      <td>0.840281</td>\n",
              "    </tr>\n",
              "    <tr>\n",
              "      <td>77</td>\n",
              "      <td>0.953600</td>\n",
              "      <td>0.961189</td>\n",
              "      <td>0.840281</td>\n",
              "    </tr>\n",
              "    <tr>\n",
              "      <td>78</td>\n",
              "      <td>0.953600</td>\n",
              "      <td>0.960104</td>\n",
              "      <td>0.840281</td>\n",
              "    </tr>\n",
              "    <tr>\n",
              "      <td>79</td>\n",
              "      <td>0.953600</td>\n",
              "      <td>0.959453</td>\n",
              "      <td>0.840281</td>\n",
              "    </tr>\n",
              "    <tr>\n",
              "      <td>80</td>\n",
              "      <td>0.953600</td>\n",
              "      <td>0.959244</td>\n",
              "      <td>0.840281</td>\n",
              "    </tr>\n",
              "  </tbody>\n",
              "</table><p>"
            ]
          },
          "metadata": {}
        },
        {
          "output_type": "execute_result",
          "data": {
            "text/plain": [
              "TrainOutput(global_step=7440, training_loss=1.5690086528819094, metrics={'train_runtime': 1411.2354, 'train_samples_per_second': 42.176, 'train_steps_per_second': 5.272, 'total_flos': 7887693555302400.0, 'train_loss': 1.5690086528819094, 'epoch': 80.0})"
            ]
          },
          "metadata": {},
          "execution_count": 45
        }
      ]
    },
    {
      "cell_type": "markdown",
      "source": [
        "### Save Model"
      ],
      "metadata": {
        "id": "ZcgsEYJlKbR0"
      }
    },
    {
      "cell_type": "code",
      "source": [
        "# Save the model\n",
        "trainer.save_model('saved_bert_model')"
      ],
      "metadata": {
        "id": "r0-EFIfIGAwB"
      },
      "execution_count": null,
      "outputs": []
    },
    {
      "cell_type": "code",
      "source": [
        "!ls"
      ],
      "metadata": {
        "id": "h3SgH3qXGA1S",
        "colab": {
          "base_uri": "https://localhost:8080/"
        },
        "outputId": "b28818bf-5583-4018-812f-bb85e68aafaa"
      },
      "execution_count": null,
      "outputs": [
        {
          "output_type": "stream",
          "name": "stdout",
          "text": [
            "bert_model  sample_data  saved_bert_model  UpdatedResumeDataSet.csv  wandb\n"
          ]
        }
      ]
    },
    {
      "cell_type": "code",
      "source": [
        "# Create a Zip file and download\n",
        "!zip -r saved_bert_model.zip saved_bert_model"
      ],
      "metadata": {
        "colab": {
          "base_uri": "https://localhost:8080/"
        },
        "id": "e7KOsH5j6fkP",
        "outputId": "bc8c44db-eaba-4f4f-f83d-4d2751688b94"
      },
      "execution_count": null,
      "outputs": [
        {
          "output_type": "stream",
          "name": "stdout",
          "text": [
            "  adding: saved_bert_model/ (stored 0%)\n",
            "  adding: saved_bert_model/training_args.bin (deflated 52%)\n",
            "  adding: saved_bert_model/tokenizer.json (deflated 71%)\n",
            "  adding: saved_bert_model/config.json (deflated 64%)\n",
            "  adding: saved_bert_model/tokenizer_config.json (deflated 75%)\n",
            "  adding: saved_bert_model/special_tokens_map.json (deflated 42%)\n",
            "  adding: saved_bert_model/vocab.txt (deflated 53%)\n",
            "  adding: saved_bert_model/model.safetensors (deflated 8%)\n"
          ]
        }
      ]
    },
    {
      "cell_type": "markdown",
      "source": [
        "### Load Model"
      ],
      "metadata": {
        "id": "6GxwVdGLKgPe"
      }
    },
    {
      "cell_type": "markdown",
      "source": [
        "**Exercise 15: Load the saved model and create a pipeline to perform text classification [1 Mark]**\n",
        "\n",
        " * Create the pipeline object for text classification\n",
        " * Create a `make_prediction` function to use pipeline object and output the prediction label\n",
        "\n",
        "**Hint:** pipeline()"
      ],
      "metadata": {
        "id": "kkX_uGuNaePi"
      }
    },
    {
      "cell_type": "code",
      "source": [
        "from transformers import pipeline"
      ],
      "metadata": {
        "id": "zh3Dvzz-GBEr"
      },
      "execution_count": null,
      "outputs": []
    },
    {
      "cell_type": "code",
      "source": [
        "my_model = pipeline(\n",
        "    'text-classification',\n",
        "    model='saved_bert_model',\n",
        "    device=0)"
      ],
      "metadata": {
        "id": "SKjG3Gm0Gb1Z",
        "colab": {
          "base_uri": "https://localhost:8080/"
        },
        "outputId": "0447d37b-dbe4-424a-fa70-72d638f8c7d4"
      },
      "execution_count": null,
      "outputs": [
        {
          "output_type": "stream",
          "name": "stderr",
          "text": [
            "Device set to use cuda:0\n"
          ]
        }
      ]
    },
    {
      "cell_type": "code",
      "source": [
        "test_df.head(2)"
      ],
      "metadata": {
        "colab": {
          "base_uri": "https://localhost:8080/"
        },
        "id": "Pvo7V1TziyKK",
        "outputId": "dc295450-7975-43bf-dd61-c090aef83c2f"
      },
      "execution_count": null,
      "outputs": [
        {
          "output_type": "execute_result",
          "data": {
            "text/plain": [
              "               Category                                             Resume  \\\n",
              "544  Operations Manager  key competencies â¶multi - operations managem...   \n",
              "109                Arts  i other skills course/skill name board year of...   \n",
              "\n",
              "                                        Cleaned_Resume  label  Count  \n",
              "544  key competencies multi operations management p...     18    899  \n",
              "109  i other skills course skill name board year of...      1    153  "
            ],
            "text/html": [
              "\n",
              "  <div id=\"df-712fe74a-3ca2-43ab-98f1-56121654bac9\" class=\"colab-df-container\">\n",
              "    <div>\n",
              "<style scoped>\n",
              "    .dataframe tbody tr th:only-of-type {\n",
              "        vertical-align: middle;\n",
              "    }\n",
              "\n",
              "    .dataframe tbody tr th {\n",
              "        vertical-align: top;\n",
              "    }\n",
              "\n",
              "    .dataframe thead th {\n",
              "        text-align: right;\n",
              "    }\n",
              "</style>\n",
              "<table border=\"1\" class=\"dataframe\">\n",
              "  <thead>\n",
              "    <tr style=\"text-align: right;\">\n",
              "      <th></th>\n",
              "      <th>Category</th>\n",
              "      <th>Resume</th>\n",
              "      <th>Cleaned_Resume</th>\n",
              "      <th>label</th>\n",
              "      <th>Count</th>\n",
              "    </tr>\n",
              "  </thead>\n",
              "  <tbody>\n",
              "    <tr>\n",
              "      <th>544</th>\n",
              "      <td>Operations Manager</td>\n",
              "      <td>key competencies â¶multi - operations managem...</td>\n",
              "      <td>key competencies multi operations management p...</td>\n",
              "      <td>18</td>\n",
              "      <td>899</td>\n",
              "    </tr>\n",
              "    <tr>\n",
              "      <th>109</th>\n",
              "      <td>Arts</td>\n",
              "      <td>i other skills course/skill name board year of...</td>\n",
              "      <td>i other skills course skill name board year of...</td>\n",
              "      <td>1</td>\n",
              "      <td>153</td>\n",
              "    </tr>\n",
              "  </tbody>\n",
              "</table>\n",
              "</div>\n",
              "    <div class=\"colab-df-buttons\">\n",
              "\n",
              "  <div class=\"colab-df-container\">\n",
              "    <button class=\"colab-df-convert\" onclick=\"convertToInteractive('df-712fe74a-3ca2-43ab-98f1-56121654bac9')\"\n",
              "            title=\"Convert this dataframe to an interactive table.\"\n",
              "            style=\"display:none;\">\n",
              "\n",
              "  <svg xmlns=\"http://www.w3.org/2000/svg\" height=\"24px\" viewBox=\"0 -960 960 960\">\n",
              "    <path d=\"M120-120v-720h720v720H120Zm60-500h600v-160H180v160Zm220 220h160v-160H400v160Zm0 220h160v-160H400v160ZM180-400h160v-160H180v160Zm440 0h160v-160H620v160ZM180-180h160v-160H180v160Zm440 0h160v-160H620v160Z\"/>\n",
              "  </svg>\n",
              "    </button>\n",
              "\n",
              "  <style>\n",
              "    .colab-df-container {\n",
              "      display:flex;\n",
              "      gap: 12px;\n",
              "    }\n",
              "\n",
              "    .colab-df-convert {\n",
              "      background-color: #E8F0FE;\n",
              "      border: none;\n",
              "      border-radius: 50%;\n",
              "      cursor: pointer;\n",
              "      display: none;\n",
              "      fill: #1967D2;\n",
              "      height: 32px;\n",
              "      padding: 0 0 0 0;\n",
              "      width: 32px;\n",
              "    }\n",
              "\n",
              "    .colab-df-convert:hover {\n",
              "      background-color: #E2EBFA;\n",
              "      box-shadow: 0px 1px 2px rgba(60, 64, 67, 0.3), 0px 1px 3px 1px rgba(60, 64, 67, 0.15);\n",
              "      fill: #174EA6;\n",
              "    }\n",
              "\n",
              "    .colab-df-buttons div {\n",
              "      margin-bottom: 4px;\n",
              "    }\n",
              "\n",
              "    [theme=dark] .colab-df-convert {\n",
              "      background-color: #3B4455;\n",
              "      fill: #D2E3FC;\n",
              "    }\n",
              "\n",
              "    [theme=dark] .colab-df-convert:hover {\n",
              "      background-color: #434B5C;\n",
              "      box-shadow: 0px 1px 3px 1px rgba(0, 0, 0, 0.15);\n",
              "      filter: drop-shadow(0px 1px 2px rgba(0, 0, 0, 0.3));\n",
              "      fill: #FFFFFF;\n",
              "    }\n",
              "  </style>\n",
              "\n",
              "    <script>\n",
              "      const buttonEl =\n",
              "        document.querySelector('#df-712fe74a-3ca2-43ab-98f1-56121654bac9 button.colab-df-convert');\n",
              "      buttonEl.style.display =\n",
              "        google.colab.kernel.accessAllowed ? 'block' : 'none';\n",
              "\n",
              "      async function convertToInteractive(key) {\n",
              "        const element = document.querySelector('#df-712fe74a-3ca2-43ab-98f1-56121654bac9');\n",
              "        const dataTable =\n",
              "          await google.colab.kernel.invokeFunction('convertToInteractive',\n",
              "                                                    [key], {});\n",
              "        if (!dataTable) return;\n",
              "\n",
              "        const docLinkHtml = 'Like what you see? Visit the ' +\n",
              "          '<a target=\"_blank\" href=https://colab.research.google.com/notebooks/data_table.ipynb>data table notebook</a>'\n",
              "          + ' to learn more about interactive tables.';\n",
              "        element.innerHTML = '';\n",
              "        dataTable['output_type'] = 'display_data';\n",
              "        await google.colab.output.renderOutput(dataTable, element);\n",
              "        const docLink = document.createElement('div');\n",
              "        docLink.innerHTML = docLinkHtml;\n",
              "        element.appendChild(docLink);\n",
              "      }\n",
              "    </script>\n",
              "  </div>\n",
              "\n",
              "\n",
              "<div id=\"df-0c50d37f-5959-43dc-afa1-13985cf8fefe\">\n",
              "  <button class=\"colab-df-quickchart\" onclick=\"quickchart('df-0c50d37f-5959-43dc-afa1-13985cf8fefe')\"\n",
              "            title=\"Suggest charts\"\n",
              "            style=\"display:none;\">\n",
              "\n",
              "<svg xmlns=\"http://www.w3.org/2000/svg\" height=\"24px\"viewBox=\"0 0 24 24\"\n",
              "     width=\"24px\">\n",
              "    <g>\n",
              "        <path d=\"M19 3H5c-1.1 0-2 .9-2 2v14c0 1.1.9 2 2 2h14c1.1 0 2-.9 2-2V5c0-1.1-.9-2-2-2zM9 17H7v-7h2v7zm4 0h-2V7h2v10zm4 0h-2v-4h2v4z\"/>\n",
              "    </g>\n",
              "</svg>\n",
              "  </button>\n",
              "\n",
              "<style>\n",
              "  .colab-df-quickchart {\n",
              "      --bg-color: #E8F0FE;\n",
              "      --fill-color: #1967D2;\n",
              "      --hover-bg-color: #E2EBFA;\n",
              "      --hover-fill-color: #174EA6;\n",
              "      --disabled-fill-color: #AAA;\n",
              "      --disabled-bg-color: #DDD;\n",
              "  }\n",
              "\n",
              "  [theme=dark] .colab-df-quickchart {\n",
              "      --bg-color: #3B4455;\n",
              "      --fill-color: #D2E3FC;\n",
              "      --hover-bg-color: #434B5C;\n",
              "      --hover-fill-color: #FFFFFF;\n",
              "      --disabled-bg-color: #3B4455;\n",
              "      --disabled-fill-color: #666;\n",
              "  }\n",
              "\n",
              "  .colab-df-quickchart {\n",
              "    background-color: var(--bg-color);\n",
              "    border: none;\n",
              "    border-radius: 50%;\n",
              "    cursor: pointer;\n",
              "    display: none;\n",
              "    fill: var(--fill-color);\n",
              "    height: 32px;\n",
              "    padding: 0;\n",
              "    width: 32px;\n",
              "  }\n",
              "\n",
              "  .colab-df-quickchart:hover {\n",
              "    background-color: var(--hover-bg-color);\n",
              "    box-shadow: 0 1px 2px rgba(60, 64, 67, 0.3), 0 1px 3px 1px rgba(60, 64, 67, 0.15);\n",
              "    fill: var(--button-hover-fill-color);\n",
              "  }\n",
              "\n",
              "  .colab-df-quickchart-complete:disabled,\n",
              "  .colab-df-quickchart-complete:disabled:hover {\n",
              "    background-color: var(--disabled-bg-color);\n",
              "    fill: var(--disabled-fill-color);\n",
              "    box-shadow: none;\n",
              "  }\n",
              "\n",
              "  .colab-df-spinner {\n",
              "    border: 2px solid var(--fill-color);\n",
              "    border-color: transparent;\n",
              "    border-bottom-color: var(--fill-color);\n",
              "    animation:\n",
              "      spin 1s steps(1) infinite;\n",
              "  }\n",
              "\n",
              "  @keyframes spin {\n",
              "    0% {\n",
              "      border-color: transparent;\n",
              "      border-bottom-color: var(--fill-color);\n",
              "      border-left-color: var(--fill-color);\n",
              "    }\n",
              "    20% {\n",
              "      border-color: transparent;\n",
              "      border-left-color: var(--fill-color);\n",
              "      border-top-color: var(--fill-color);\n",
              "    }\n",
              "    30% {\n",
              "      border-color: transparent;\n",
              "      border-left-color: var(--fill-color);\n",
              "      border-top-color: var(--fill-color);\n",
              "      border-right-color: var(--fill-color);\n",
              "    }\n",
              "    40% {\n",
              "      border-color: transparent;\n",
              "      border-right-color: var(--fill-color);\n",
              "      border-top-color: var(--fill-color);\n",
              "    }\n",
              "    60% {\n",
              "      border-color: transparent;\n",
              "      border-right-color: var(--fill-color);\n",
              "    }\n",
              "    80% {\n",
              "      border-color: transparent;\n",
              "      border-right-color: var(--fill-color);\n",
              "      border-bottom-color: var(--fill-color);\n",
              "    }\n",
              "    90% {\n",
              "      border-color: transparent;\n",
              "      border-bottom-color: var(--fill-color);\n",
              "    }\n",
              "  }\n",
              "</style>\n",
              "\n",
              "  <script>\n",
              "    async function quickchart(key) {\n",
              "      const quickchartButtonEl =\n",
              "        document.querySelector('#' + key + ' button');\n",
              "      quickchartButtonEl.disabled = true;  // To prevent multiple clicks.\n",
              "      quickchartButtonEl.classList.add('colab-df-spinner');\n",
              "      try {\n",
              "        const charts = await google.colab.kernel.invokeFunction(\n",
              "            'suggestCharts', [key], {});\n",
              "      } catch (error) {\n",
              "        console.error('Error during call to suggestCharts:', error);\n",
              "      }\n",
              "      quickchartButtonEl.classList.remove('colab-df-spinner');\n",
              "      quickchartButtonEl.classList.add('colab-df-quickchart-complete');\n",
              "    }\n",
              "    (() => {\n",
              "      let quickchartButtonEl =\n",
              "        document.querySelector('#df-0c50d37f-5959-43dc-afa1-13985cf8fefe button');\n",
              "      quickchartButtonEl.style.display =\n",
              "        google.colab.kernel.accessAllowed ? 'block' : 'none';\n",
              "    })();\n",
              "  </script>\n",
              "</div>\n",
              "\n",
              "    </div>\n",
              "  </div>\n"
            ],
            "application/vnd.google.colaboratory.intrinsic+json": {
              "type": "dataframe",
              "variable_name": "test_df",
              "summary": "{\n  \"name\": \"test_df\",\n  \"rows\": 25,\n  \"fields\": [\n    {\n      \"column\": \"Category\",\n      \"properties\": {\n        \"dtype\": \"string\",\n        \"num_unique_values\": 23,\n        \"samples\": [\n          \"Health and fitness\",\n          \"DotNet Developer\",\n          \"Operations Manager\"\n        ],\n        \"semantic_type\": \"\",\n        \"description\": \"\"\n      }\n    },\n    {\n      \"column\": \"Resume\",\n      \"properties\": {\n        \"dtype\": \"string\",\n        \"num_unique_values\": 24,\n        \"samples\": [\n          \"skill set \\u00e2\\u0080\\u00a2 experience in implementing, and troubleshooting network security solutions \\u00e2\\u0080\\u00a2 planning and implementation knowledge of multi vendor firewalls (cisco asa, checkpoint (upto r.80) juniper/netscreen, fortinet, fwsm) \\u00e2\\u0080\\u00a2 familiarity with the latest hardware and network security technologies \\u00e2\\u0080\\u00a2 excellent analytical and problem solving skills \\u00e2\\u0080\\u00a2 skilled in analyzing and monitoring network security solutions using a variety of monitoring solutions (zenoss, solarwinds, cisco prime) \\u00e2\\u0080\\u00a2 work experience on multi client data center environments. \\u00e2\\u0080\\u00a2 knowledge and work experience on firewall ios upgrade projects \\u00e2\\u0080\\u00a2 configuration of f5 load balancers, ssl certificate updates, i-rule. f5 upgrades \\u00e2\\u0080\\u00a2 configuration of cisco routers ( series- 1800, 1900, 2500, 2600, 2800, 3600, nexus - 5k, 7k) \\u00e2\\u0080\\u00a2 configuration of cisco switches (series - 2960, 3750, catalyst, 4500, 3600) \\u00e2\\u0080\\u00a2 working knowledge of bluecoat proxy \\u00e2\\u0080\\u00a2 knowledge of itil process.education details \\r\\nseptember 2006 to august 2011 bachelor of engineering (be) electronics pune, maharashtra a.i.s.s.m.s college of engineering, university of pune\\r\\njuly 2004 to february 2006 higher secondary certificate science pune, maharashtra sinhgad college, university of pune\\r\\njune 2003 to march 2004 secondary school certificate (ssc) science pune, maharashtra m.e.s boys high school, maharashtra, pune\\r\\nnetwork and security engineer \\r\\n\\r\\nnetwork and security engineer - capita\\r\\nskill details \\r\\nnetwork security- exprience - 72 months\\r\\ncheckpoint- exprience - 72 months\\r\\ncisco- exprience - 72 months\\r\\ncisco asa- exprience - 72 months\\r\\ncisco routing and switching- exprience - 60 months\\r\\nloadbalncing f5- exprience - 60 months\\r\\nsecurity- exprience - less than 1 year months\\r\\ncisco- exprience - less than 1 year months\\r\\nvpn- exprience - less than 1 year months\\r\\nlan- exprience - less than 1 year months\\r\\nnetworking- exprience - less than 1 year monthscompany details \\r\\ncompany - capita\\r\\ndescription - work on client shared network and security infra\\r\\n\\u00e2\\u009e\\u00a2 plan, implement and troubleshoot customer requests.\\r\\n\\u00e2\\u009e\\u00a2 monitor datacenter infra 24*7\\r\\n\\u00e2\\u009e\\u00a2 work as on call engineer for weekends to provide out of office support\\r\\ncompany - capgemini india pvt. ltd\\r\\ndescription - part of uk india noc.\\r\\n\\u00e2\\u009e\\u00a2 work on client dedicated infra.\\r\\n\\u00e2\\u009e\\u00a2 undergo client infra handover sessions to streamline client on boarding process\\r\\n\\u00e2\\u009e\\u00a2  act as mentor for juniors.\\r\\n\\u00e2\\u009e\\u00a2 attend weekly caab calls to represent critical changes.\\r\\ncompany - sungard availability services\\r\\ndescription - plan, troubleshoot and implement client network requests\\r\\n\\u00e2\\u009e\\u00a2 project work - internet bw upgrade/downgrade, decommission\\r\\n\\u00e2\\u009e\\u00a2 dr test planning and implementation.\\r\\n\\u00e2\\u009e\\u00a2 setting up l3vpn's for customers\\r\\ncompany - sungard software solutions\\r\\ndescription - maintain client documentation\\r\\n\\u00e2\\u009e\\u00a2 work on datacenter remediation project\\r\\n\\u00e2\\u009e\\u00a2 dns record management\\r\\n\\r\\nsungard availability services\",\n          \"education details \\r\\njanuary 2016 bsc.  mumbai, maharashtra mumbai university\\r\\njanuary 2013 h.s.c.   maharashtra board\\r\\njanuary 2011 s.s.c.   maharashtra board\\r\\nmysql database administrator \\r\\n\\r\\n2+ years of experience in mysql database administrator ( mysql dba)\\r\\nskill details \\r\\nmysql dba , centos , backup , restore , replication , query optimazation- exprience - 24 monthscompany details \\r\\ncompany - trimax it infrastructure & services ltd\\r\\ndescription - \\u00e2\\u00b7\\u00e2\\u00a0\\u00e2\\u00a0\\u00e2\\u00a0\\u00e2\\u00a0\\u00e2\\u00a0\\u00e2\\u00a0\\u00e2\\u00a0mysql installation, maintenance and upgrades (version 5.5 , 5.6)\\r\\n\\u00e2\\u00b7\\u00e2\\u00a0\\u00e2\\u00a0\\u00e2\\u00a0\\u00e2\\u00a0\\u00e2\\u00a0\\u00e2\\u00a0\\u00e2\\u00a0mysql database administration on a large scale mysql installation\\r\\n\\u00e2\\u00b7\\u00e2\\u00a0\\u00e2\\u00a0\\u00e2\\u00a0\\u00e2\\u00a0\\u00e2\\u00a0\\u00e2\\u00a0\\u00e2\\u00a0experience with mysql on both linux and windows\\r\\n\\u00e2\\u00b7\\u00e2\\u00a0\\u00e2\\u00a0\\u00e2\\u00a0\\u00e2\\u00a0\\u00e2\\u00a0\\u00e2\\u00a0\\u00e2\\u00a0mysql processes, security management and queries optimization.\\r\\n\\u00e2\\u00b7\\u00e2\\u00a0\\u00e2\\u00a0\\u00e2\\u00a0\\u00e2\\u00a0\\u00e2\\u00a0\\u00e2\\u00a0\\u00e2\\u00a0performed query analysis for slow and problematic queries.\\r\\n\\u00e2\\u00b7\\u00e2\\u00a0\\u00e2\\u00a0\\u00e2\\u00a0\\u00e2\\u00a0\\u00e2\\u00a0\\u00e2\\u00a0\\u00e2\\u00a0performed structural changes to database like creating tables, adding columns according to business requirement\\r\\n\\u00e2\\u00b7\\u00e2\\u00a0\\u00e2\\u00a0\\u00e2\\u00a0\\u00e2\\u00a0\\u00e2\\u00a0\\u00e2\\u00a0\\u00e2\\u00a0creating and maintaining\\u00e2\\u00a0database maintenance plans.\\r\\n\\r\\n\\r\\n\\r\\n\\u00e2\\u00b7\\u00e2\\u00a0\\u00e2\\u00a0\\u00e2\\u00a0\\u00e2\\u00a0\\u00e2\\u00a0\\u00e2\\u00a0\\u00e2\\u00a0writing scripts to create jobs for backup & restore plans.\\r\\n\\u00e2\\u00b7\\u00e2\\u00a0\\u00e2\\u00a0\\u00e2\\u00a0\\u00e2\\u00a0\\u00e2\\u00a0\\u00e2\\u00a0\\u00e2\\u00a0working on myisam to innodb engine.\\r\\n\\u00e2\\u00b7\\u00e2\\u00a0\\u00e2\\u00a0\\u00e2\\u00a0\\u00e2\\u00a0\\u00e2\\u00a0\\u00e2\\u00a0\\u00e2\\u00a0working on server shifting , tuning parameter , database purging\\r\\n\\u00e2\\u00b7\\u00e2\\u00a0\\u00e2\\u00a0\\u00e2\\u00a0\\u00e2\\u00a0\\u00e2\\u00a0\\u00e2\\u00a0\\u00e2\\u00a0working on mysql master slave replication\\r\\n\\u00e2\\u00b7\\u00e2\\u00a0\\u00e2\\u00a0\\u00e2\\u00a0\\u00e2\\u00a0\\u00e2\\u00a0\\u00e2\\u00a0\\u00e2\\u00a0handling release management and user acceptance.\\r\\n\\u00e2\\u00b7\\u00e2\\u00a0\\u00e2\\u00a0\\u00e2\\u00a0\\u00e2\\u00a0\\u00e2\\u00a0\\u00e2\\u00a0\\u00e2\\u00a0restore using xtrabackup.\\r\\n\\u00e2\\u00b7\\u00e2\\u00a0\\u00e2\\u00a0\\u00e2\\u00a0\\u00e2\\u00a0\\u00e2\\u00a0\\u00e2\\u00a0\\u00e2\\u00a0responsibilities include monitoring daily, weekly and monthly system maintenance tasks such as database backup, replication verification, database integrity verification and indexing updates\\r\\n\\u00e2\\u00b7\\u00e2\\u00a0\\u00e2\\u00a0\\u00e2\\u00a0\\u00e2\\u00a0\\u00e2\\u00a0\\u00e2\\u00a0\\u00e2\\u00a0work in 24/7 production database support.\\r\\ncompany - trimax it infrastructure & services ltd\\r\\ndescription - \\u00e2\\u00b7\\u00e2\\u00a0\\u00e2\\u00a0\\u00e2\\u00a0\\u00e2\\u00a0\\u00e2\\u00a0\\u00e2\\u00a0\\u00e2\\u00a0mysql installation, maintenance and upgrades (version 5.5 , 5.6)\\r\\n\\u00e2\\u00b7\\u00e2\\u00a0\\u00e2\\u00a0\\u00e2\\u00a0\\u00e2\\u00a0\\u00e2\\u00a0\\u00e2\\u00a0\\u00e2\\u00a0mysql database administration on a large scale mysql installation\\r\\n\\u00e2\\u00b7\\u00e2\\u00a0\\u00e2\\u00a0\\u00e2\\u00a0\\u00e2\\u00a0\\u00e2\\u00a0\\u00e2\\u00a0\\u00e2\\u00a0experience with mysql on both linux and windows\\r\\n\\u00e2\\u00b7\\u00e2\\u00a0\\u00e2\\u00a0\\u00e2\\u00a0\\u00e2\\u00a0\\u00e2\\u00a0\\u00e2\\u00a0\\u00e2\\u00a0mysql processes, security management and queries optimization.\\r\\n\\u00e2\\u00b7\\u00e2\\u00a0\\u00e2\\u00a0\\u00e2\\u00a0\\u00e2\\u00a0\\u00e2\\u00a0\\u00e2\\u00a0\\u00e2\\u00a0performed query analysis for slow and problematic queries.\\r\\n\\u00e2\\u00b7\\u00e2\\u00a0\\u00e2\\u00a0\\u00e2\\u00a0\\u00e2\\u00a0\\u00e2\\u00a0\\u00e2\\u00a0\\u00e2\\u00a0performed structural changes to database like creating tables, adding columns according to business requirement\\r\\n\\u00e2\\u00b7\\u00e2\\u00a0\\u00e2\\u00a0\\u00e2\\u00a0\\u00e2\\u00a0\\u00e2\\u00a0\\u00e2\\u00a0\\u00e2\\u00a0creating and maintaining\\u00e2\\u00a0database maintenance plans.\\r\\n\\r\\n\\r\\n\\r\\n\\u00e2\\u00b7\\u00e2\\u00a0\\u00e2\\u00a0\\u00e2\\u00a0\\u00e2\\u00a0\\u00e2\\u00a0\\u00e2\\u00a0\\u00e2\\u00a0writing scripts to create jobs for backup & restore plans.\\r\\n\\u00e2\\u00b7\\u00e2\\u00a0\\u00e2\\u00a0\\u00e2\\u00a0\\u00e2\\u00a0\\u00e2\\u00a0\\u00e2\\u00a0\\u00e2\\u00a0working on myisam to innodb engine.\\r\\n\\u00e2\\u00b7\\u00e2\\u00a0\\u00e2\\u00a0\\u00e2\\u00a0\\u00e2\\u00a0\\u00e2\\u00a0\\u00e2\\u00a0\\u00e2\\u00a0working on server shifting , tuning parameter , database purging\\r\\n\\u00e2\\u00b7\\u00e2\\u00a0\\u00e2\\u00a0\\u00e2\\u00a0\\u00e2\\u00a0\\u00e2\\u00a0\\u00e2\\u00a0\\u00e2\\u00a0working on mysql master slave replication\\r\\n\\u00e2\\u00b7\\u00e2\\u00a0\\u00e2\\u00a0\\u00e2\\u00a0\\u00e2\\u00a0\\u00e2\\u00a0\\u00e2\\u00a0\\u00e2\\u00a0handling release management and user acceptance.\\r\\n\\u00e2\\u00b7\\u00e2\\u00a0\\u00e2\\u00a0\\u00e2\\u00a0\\u00e2\\u00a0\\u00e2\\u00a0\\u00e2\\u00a0\\u00e2\\u00a0restore using xtrabackup.\\r\\n\\u00e2\\u00b7\\u00e2\\u00a0\\u00e2\\u00a0\\u00e2\\u00a0\\u00e2\\u00a0\\u00e2\\u00a0\\u00e2\\u00a0\\u00e2\\u00a0responsibilities include monitoring daily, weekly and monthly system maintenance tasks such as database backup, replication verification, database integrity verification and indexing updates\\r\\n\\u00e2\\u00b7\\u00e2\\u00a0\\u00e2\\u00a0\\u00e2\\u00a0\\u00e2\\u00a0\\u00e2\\u00a0\\u00e2\\u00a0\\u00e2\\u00a0work in 24/7 production database support.\",\n          \"key competencies \\u00e2\\u009c\\u00b6multi - operations management\\u00e2\\u009c\\u00b6people management \\u00e2\\u009c\\u00b6customer services - emails \\u00e2\\u009c\\u00b6 mis \\u00e2\\u009c\\u00b6vendor & client services management\\u00e2\\u009c\\u00b6cross functional coordination\\u00e2\\u009c\\u00b6banking & financial services\\u00e2\\u009c\\u00b6 transaction monitoring * atm operations \\u00e2\\u009c\\u00b6 & prepaid card operations (pre-issuance & post-issuance) \\u00e2\\u009c\\u00b6 pos operations * job profile & skills: \\u00e2\\u0080\\u00a2 an effective communicator with excellent relationship building & interpersonal skills. strong analytical, problem solving & organizational abilities. \\u00e2\\u0080\\u00a2 extensive experience in managing operations with demonstrated leadership qualities & organisational skills during the tenure. \\u00e2\\u0080\\u00a2 managing customer centric operations & ensuring customer satisfaction by achieving service quality norms. \\u00e2\\u0080\\u00a2 analyzing of all operational problems, customer complaints and take preventive and corrective actions to resolve the same. \\u00e2\\u0080\\u00a2 receive and respond to key customer inquiries in an effective manner and provide relevant and timely information. \\u00e2\\u0080\\u00a2 deft in steering banking back-end operations, analyzing risks and managing delinquencies with dexterity across applying techniques for maximizing recoveries and minimizing credit losses. \\u00e2\\u0080\\u00a2 analyzed & identified training needs of the team members and developing, organizing and conducting training programs and manage bottom quartile team to improve their performance. \\u00e2\\u0080\\u00a2 preparing and maintaining daily mis reports to evaluate the performance and efficiency of the process relate to various verticals. \\u00e2\\u0080\\u00a2 measuring the performance of the processes in terms of efficiency and effectiveness matrix and ensuring adherence to sla. \\u00e2\\u0080\\u00a2 major activities define processes for field services were monitored and necessary checks were executed and controlled. also measured vendor sla by analyzing the tat of vendors & the client sla provided to us. \\u00e2\\u0080\\u00a2 as per company procedures, handling & ensuring vendor's payment issues to be sorted out &payments are processed on quarterly basis. \\u00e2\\u0080\\u00a2 appropriately plan and execute each skill of operations in accordance with the department's policies and procedures. \\u00e2\\u0080\\u00a2 manage relationships with business team, software development team and other services to achieve project objectives. different software worked till now: - a. ctl prime - axis bank credit cards b. insight - for pos machine technical operations for amex (mid & tid generation- atos (venture infotek) c. ticket management system - tata communications private services ltd (atm - noc operations) d. branch portal (yalamanchili software exports ltd) - prepaid cards (sbi bank & zaggle prepaid oceans services ltd) zaggle prepaid ocean services pvt ltd oct, 2017 to till date designation: manager - operations (payment industry - prepaid cards - inr) education details \\r\\n  commerce mumbai, maharashtra mumbai university\\r\\noperations manager \\r\\n\\r\\nservice manager - operations (payment industry - prepaid cards - inr & ftc)\\r\\nskill details \\r\\noperations- exprience - 73 months\\r\\nsatisfaction- exprience - 48 months\\r\\ntraining- exprience - 24 months\\r\\nnoc- exprience - 23 months\\r\\npoint of sale- exprience - 20 monthscompany details \\r\\ncompany - zaggle prepaid ocean services pvt ltd\\r\\ndescription - card operations\\r\\ncompany - yalamanchili software exports ltd\\r\\ndescription - 24*7 operations pvt ltd) dec 2015 to feb 2017\\r\\n\\r\\ndesignation: service manager - operations (payment industry - prepaid cards - inr & ftc)\\r\\n\\r\\nkey contributions: \\u00e2\\u0080\\u00a2 a result-oriented business professional in planning, executing& managing processes, improving efficiency of operations, team building and detailing process information to determine effective result into operations.\\r\\n\\u00e2\\u0080\\u00a2 ensuring pins generation (sla) is maintained and chargeback cases are raised in perfect timeframe.\\r\\n\\u00e2\\u0080\\u00a2 managing email customer services properly and ensuring the emails are replied properly. also, ensuring transaction monitoring is properly managed 24/7.\\r\\n\\u00e2\\u0080\\u00a2 assisting bankers (sbi & associated banks) for their bcp plans by getting executed in the system with the help of dr-pr plans & vice versa or any other business requirements.\\r\\n\\u00e2\\u0080\\u00a2 expertise in maintaining highest level of quality in operations; ensuring adherence to all the quality parameters and procedures as per the stringent norms.\\r\\n\\u00e2\\u0080\\u00a2 lead, manage and supervise the execution of external audit engagements and responsible for presenting the findings & developing a quality reports to the senior management and clients.\\r\\n\\u00e2\\u0080\\u00a2 coach/mentor (20) team members to perform at a higher level by giving opportunities, providing timely continuous feedback and working with staff to improve their communication, time management, decision making, organization, and analytical skills.\\r\\n\\u00e2\\u0080\\u00a2 providing the solutions and services to the client in their own premises with aforesaid count of team members.\\r\\n\\u00e2\\u0080\\u00a2 also ensuring end to end process of pr & dr as per client requirements (pr- dr & dr -pr) by interacting with internal & external stakeholders.\\r\\n\\u00e2\\u0080\\u00a2 determining process gaps and designing & conducting training programs to enhance operational efficiency and retain talent by providing optimum opportunities for personal and professional growth.\\r\\ncompany - credit cards\\r\\ndescription - ensured highest standard of customer satisfaction and quality service; developing new policies and procedures to improve based on customer feedback and resolving customer queries via correspondence, inbound calls & email channels with the strength of (12-16) team members.\\r\\ncompany - ags transact technologies limited\\r\\ndescription - key contributions: lead - spoc to banks\\r\\ncompany - tata communications payment solutions ltd\\r\\ndescription - to make atms operational within tat by analyzing the issue is technical or non-technical and also by interacting with internal & external stakeholders.\\r\\ncompany - vertex customer solutions india private ltd\\r\\ndescription - key contributions: \\u00e2\\u0080\\u00a2 build positive working relationship with all team members and clients by keeping management informed   of kyc document collection & con-current audit progress, responding timely to management inquiries, understanding the business and conducting self professionally.\\r\\ncompany - financial inclusion network & operations limited\\r\\ndescription - key contributions: pos-operations \\u00e2\\u0080\\u00a2 cascading the adherence of process is strictly followed by team members & training them to reduce the downtime.\\r\\n\\u00e2\\u0080\\u00a2 managing stock of edc terminals \\u00e2\\u0080\\u00a2 managing deployments of terminals through multiple teams \\u00e2\\u0080\\u00a2 would have worked with multiple terminal make & model \\u00e2\\u0080\\u00a2 managing inward, outward & qc of applications installed in the pos machines.\\r\\ncompany - venture infotek private ltd\\r\\ndescription - key contributions: pos-operations\\r\\ncompany - axis bank ltd - customer services\\r\\ndescription - aug 2006 to oct 2009 (ma-foi&i- smart)\\r\\n\\r\\ndesignation: team leader/executive - emails, phone banking & correspondence unit (snail mails)\"\n        ],\n        \"semantic_type\": \"\",\n        \"description\": \"\"\n      }\n    },\n    {\n      \"column\": \"Cleaned_Resume\",\n      \"properties\": {\n        \"dtype\": \"string\",\n        \"num_unique_values\": 24,\n        \"samples\": [\n          \"skill set experience in implementing and troubleshooting network security solutions planning and implementation knowledge of multi vendor firewalls cisco asa checkpoint upto r 80 juniper netscreen fortinet fwsm familiarity with the latest hardware and network security technologies excellent analytical and problem solving skills skilled in analyzing and monitoring network security solutions using a variety of monitoring solutions zenoss solarwinds cisco prime work experience on multi client data center environments knowledge and work experience on firewall ios upgrade projects configuration of f5 load balancers ssl certificate updates i rule f5 upgrades configuration of cisco routers series 1800 1900 2500 2600 2800 3600 nexus 5k 7k configuration of cisco switches series 2960 3750 catalyst 4500 3600 working knowledge of bluecoat proxy knowledge of itil process education details september 2006 to august 2011 bachelor of engineering be electronics pune maharashtra a i s s m s college of engineering university of pune july 2004 to february 2006 higher secondary certificate science pune maharashtra sinhgad college university of pune june 2003 to march 2004 secondary school certificate ssc science pune maharashtra m e s boys high school maharashtra pune network and security engineer network and security engineer capita skill details network security exprience 72 months checkpoint exprience 72 months cisco exprience 72 months cisco asa exprience 72 months cisco routing and switching exprience 60 months loadbalncing f5 exprience 60 months security exprience less than 1 year months cisco exprience less than 1 year months vpn exprience less than 1 year months lan exprience less than 1 year months networking exprience less than 1 year monthscompany details company capita description work on client shared network and security infra plan implement and troubleshoot customer requests monitor datacenter infra 24 7 work as on call engineer for weekends to provide out of office support company capgemini india pvt ltd description part of uk india noc work on client dedicated infra undergo client infra handover sessions to streamline client on boarding process act as mentor for juniors attend weekly caab calls to represent critical changes company sungard availability services description plan troubleshoot and implement client network requests project work internet bw upgrade downgrade decommission dr test planning and implementation setting up l3vpn s for customers company sungard software solutions description maintain client documentation work on datacenter remediation project dns record management sungard availability services\",\n          \"education details january 2016 bsc mumbai maharashtra mumbai university january 2013 h s c maharashtra board january 2011 s s c maharashtra board mysql database administrator 2 years of experience in mysql database administrator mysql dba skill details mysql dba centos backup restore replication query optimazation exprience 24 monthscompany details company trimax it infrastructure services ltd description mysql installation maintenance and upgrades version 5 5 5 6 mysql database administration on a large scale mysql installation experience with mysql on both linux and windows mysql processes security management and queries optimization performed query analysis for slow and problematic queries performed structural changes to database like creating tables adding columns a ording to business requirement creating and maintaining database maintenance plans writing scripts to create jobs for backup restore plans working on myisam to innodb engine working on server shifting tuning parameter database purging working on mysql master slave replication handling release management and user a eptance restore using xtrabackup responsibilities include monitoring daily weekly and monthly system maintenance tasks such as database backup replication verification database integrity verification and indexing updates work in 24 7 production database support company trimax it infrastructure services ltd description mysql installation maintenance and upgrades version 5 5 5 6 mysql database administration on a large scale mysql installation experience with mysql on both linux and windows mysql processes security management and queries optimization performed query analysis for slow and problematic queries performed structural changes to database like creating tables adding columns a ording to business requirement creating and maintaining database maintenance plans writing scripts to create jobs for backup restore plans working on myisam to innodb engine working on server shifting tuning parameter database purging working on mysql master slave replication handling release management and user a eptance restore using xtrabackup responsibilities include monitoring daily weekly and monthly system maintenance tasks such as database backup replication verification database integrity verification and indexing updates work in 24 7 production database support \",\n          \"key competencies multi operations management people management customer services emails mis vendor client services management cross functional coordination banking financial services transaction monitoring atm operations prepaid card operations pre issuance post issuance pos operations job profile skills an effective communicator with excellent relationship building interpersonal skills strong analytical problem solving organizational abilities extensive experience in managing operations with demonstrated leadership qualities organisational skills during the tenure managing customer centric operations ensuring customer satisfaction by achieving service quality norms analyzing of all operational problems customer complaints and take preventive and corrective actions to resolve the same receive and respond to key customer inquiries in an effective manner and provide relevant and timely information deft in steering banking back end operations analyzing risks and managing delinquencies with dexterity across applying techniques for maximizing recoveries and minimizing credit losses analyzed identified training needs of the team members and developing organizing and conducting training programs and manage bottom quartile team to improve their performance preparing and maintaining daily mis reports to evaluate the performance and efficiency of the process relate to various verticals measuring the performance of the processes in terms of efficiency and effectiveness matrix and ensuring adherence to sla major activities define processes for field services were monitored and necessary checks were executed and controlled also measured vendor sla by analyzing the tat of vendors the client sla provided to us as per company procedures handling ensuring vendor s payment issues to be sorted out payments are processed on quarterly basis appropriately plan and execute each skill of operations in a ordance with the department s policies and procedures manage relationships with business team software development team and other services to achieve project objectives different software worked till now a ctl prime axis bank credit cards b insight for pos machine technical operations for amex mid tid generation atos venture infotek c ticket management system tata communications private services ltd atm noc operations d branch portal yalamanchili software exports ltd prepaid cards sbi bank zaggle prepaid oceans services ltd zaggle prepaid ocean services pvt ltd oct 2017 to till date designation manager operations payment industry prepaid cards inr education details commerce mumbai maharashtra mumbai university operations manager service manager operations payment industry prepaid cards inr ftc skill details operations exprience 73 months satisfaction exprience 48 months training exprience 24 months noc exprience 23 months point of sale exprience 20 monthscompany details company zaggle prepaid ocean services pvt ltd description card operations company yalamanchili software exports ltd description 24 7 operations pvt ltd dec 2015 to feb 2017 designation service manager operations payment industry prepaid cards inr ftc key contributions a result oriented business professional in planning executing managing processes improving efficiency of operations team building and detailing process information to determine effective result into operations ensuring pins generation sla is maintained and chargeback cases are raised in perfect timeframe managing email customer services properly and ensuring the emails are replied properly also ensuring transaction monitoring is properly managed 24 7 assisting bankers sbi associated banks for their bcp plans by getting executed in the system with the help of dr pr plans vice versa or any other business requirements expertise in maintaining highest level of quality in operations ensuring adherence to all the quality parameters and procedures as per the stringent norms lead manage and supervise the execution of external audit engagements and responsible for presenting the findings developing a quality reports to the senior management and clients coach mentor 20 team members to perform at a higher level by giving opportunities providing timely continuous feedback and working with staff to improve their communication time management decision making organization and analytical skills providing the solutions and services to the client in their own premises with aforesaid count of team members also ensuring end to end process of pr dr as per client requirements pr dr dr pr by interacting with internal external stakeholders determining process gaps and designing conducting training programs to enhance operational efficiency and retain talent by providing optimum opportunities for personal and professional growth company credit cards description ensured highest standard of customer satisfaction and quality service developing new policies and procedures to improve based on customer feedback and resolving customer queries via correspondence inbound calls email channels with the strength of 12 16 team members company ags transact technologies limited description key contributions lead spoc to banks company tata communications payment solutions ltd description to make atms operational within tat by analyzing the issue is technical or non technical and also by interacting with internal external stakeholders company vertex customer solutions india private ltd description key contributions build positive working relationship with all team members and clients by keeping management informed of kyc document collection con current audit progress responding timely to management inquiries understanding the business and conducting self professionally company financial inclusion network operations limited description key contributions pos operations cascading the adherence of process is strictly followed by team members training them to reduce the downtime managing stock of edc terminals managing deployments of terminals through multiple teams would have worked with multiple terminal make model managing inward outward qc of applications installed in the pos machines company venture infotek private ltd description key contributions pos operations company axis bank ltd customer services description aug 2006 to oct 2009 ma foi i smart designation team leader executive emails phone banking correspondence unit snail mails \"\n        ],\n        \"semantic_type\": \"\",\n        \"description\": \"\"\n      }\n    },\n    {\n      \"column\": \"label\",\n      \"properties\": {\n        \"dtype\": \"number\",\n        \"std\": 7,\n        \"min\": 1,\n        \"max\": 24,\n        \"num_unique_values\": 23,\n        \"samples\": [\n          14,\n          9,\n          18\n        ],\n        \"semantic_type\": \"\",\n        \"description\": \"\"\n      }\n    },\n    {\n      \"column\": \"Count\",\n      \"properties\": {\n        \"dtype\": \"number\",\n        \"std\": 280,\n        \"min\": 54,\n        \"max\": 910,\n        \"num_unique_values\": 24,\n        \"samples\": [\n          386,\n          326,\n          899\n        ],\n        \"semantic_type\": \"\",\n        \"description\": \"\"\n      }\n    }\n  ]\n}"
            }
          },
          "metadata": {},
          "execution_count": 51
        }
      ]
    },
    {
      "cell_type": "code",
      "source": [
        "test_df[['Cleaned_Resume']].values[0][0]"
      ],
      "metadata": {
        "colab": {
          "base_uri": "https://localhost:8080/"
        },
        "id": "gwpbuYmGi9wm",
        "outputId": "45a652ef-5703-4b87-be5b-2895499ac677"
      },
      "execution_count": null,
      "outputs": [
        {
          "output_type": "execute_result",
          "data": {
            "text/plain": [
              "'key competencies multi operations management people management customer services emails mis vendor client services management cross functional coordination banking financial services transaction monitoring atm operations prepaid card operations pre issuance post issuance pos operations job profile skills an effective communicator with excellent relationship building interpersonal skills strong analytical problem solving organizational abilities extensive experience in managing operations with demonstrated leadership qualities organisational skills during the tenure managing customer centric operations ensuring customer satisfaction by achieving service quality norms analyzing of all operational problems customer complaints and take preventive and corrective actions to resolve the same receive and respond to key customer inquiries in an effective manner and provide relevant and timely information deft in steering banking back end operations analyzing risks and managing delinquencies with dexterity across applying techniques for maximizing recoveries and minimizing credit losses analyzed identified training needs of the team members and developing organizing and conducting training programs and manage bottom quartile team to improve their performance preparing and maintaining daily mis reports to evaluate the performance and efficiency of the process relate to various verticals measuring the performance of the processes in terms of efficiency and effectiveness matrix and ensuring adherence to sla major activities define processes for field services were monitored and necessary checks were executed and controlled also measured vendor sla by analyzing the tat of vendors the client sla provided to us as per company procedures handling ensuring vendor s payment issues to be sorted out payments are processed on quarterly basis appropriately plan and execute each skill of operations in a ordance with the department s policies and procedures manage relationships with business team software development team and other services to achieve project objectives different software worked till now a ctl prime axis bank credit cards b insight for pos machine technical operations for amex mid tid generation atos venture infotek c ticket management system tata communications private services ltd atm noc operations d branch portal yalamanchili software exports ltd prepaid cards sbi bank zaggle prepaid oceans services ltd zaggle prepaid ocean services pvt ltd oct 2017 to till date designation manager operations payment industry prepaid cards inr education details commerce mumbai maharashtra mumbai university operations manager service manager operations payment industry prepaid cards inr ftc skill details operations exprience 73 months satisfaction exprience 48 months training exprience 24 months noc exprience 23 months point of sale exprience 20 monthscompany details company zaggle prepaid ocean services pvt ltd description card operations company yalamanchili software exports ltd description 24 7 operations pvt ltd dec 2015 to feb 2017 designation service manager operations payment industry prepaid cards inr ftc key contributions a result oriented business professional in planning executing managing processes improving efficiency of operations team building and detailing process information to determine effective result into operations ensuring pins generation sla is maintained and chargeback cases are raised in perfect timeframe managing email customer services properly and ensuring the emails are replied properly also ensuring transaction monitoring is properly managed 24 7 assisting bankers sbi associated banks for their bcp plans by getting executed in the system with the help of dr pr plans vice versa or any other business requirements expertise in maintaining highest level of quality in operations ensuring adherence to all the quality parameters and procedures as per the stringent norms lead manage and supervise the execution of external audit engagements and responsible for presenting the findings developing a quality reports to the senior management and clients coach mentor 20 team members to perform at a higher level by giving opportunities providing timely continuous feedback and working with staff to improve their communication time management decision making organization and analytical skills providing the solutions and services to the client in their own premises with aforesaid count of team members also ensuring end to end process of pr dr as per client requirements pr dr dr pr by interacting with internal external stakeholders determining process gaps and designing conducting training programs to enhance operational efficiency and retain talent by providing optimum opportunities for personal and professional growth company credit cards description ensured highest standard of customer satisfaction and quality service developing new policies and procedures to improve based on customer feedback and resolving customer queries via correspondence inbound calls email channels with the strength of 12 16 team members company ags transact technologies limited description key contributions lead spoc to banks company tata communications payment solutions ltd description to make atms operational within tat by analyzing the issue is technical or non technical and also by interacting with internal external stakeholders company vertex customer solutions india private ltd description key contributions build positive working relationship with all team members and clients by keeping management informed of kyc document collection con current audit progress responding timely to management inquiries understanding the business and conducting self professionally company financial inclusion network operations limited description key contributions pos operations cascading the adherence of process is strictly followed by team members training them to reduce the downtime managing stock of edc terminals managing deployments of terminals through multiple teams would have worked with multiple terminal make model managing inward outward qc of applications installed in the pos machines company venture infotek private ltd description key contributions pos operations company axis bank ltd customer services description aug 2006 to oct 2009 ma foi i smart designation team leader executive emails phone banking correspondence unit snail mails '"
            ],
            "application/vnd.google.colaboratory.intrinsic+json": {
              "type": "string"
            }
          },
          "metadata": {},
          "execution_count": 52
        }
      ]
    },
    {
      "cell_type": "code",
      "source": [
        "my_model(test_df[['Cleaned_Resume']].values[0][0][:100])"
      ],
      "metadata": {
        "colab": {
          "base_uri": "https://localhost:8080/"
        },
        "id": "8oV5Dc-Q7PEr",
        "outputId": "5db7025b-4461-474c-fbf6-c5570639eae5"
      },
      "execution_count": null,
      "outputs": [
        {
          "output_type": "execute_result",
          "data": {
            "text/plain": [
              "[{'label': 'LABEL_15', 'score': 0.24341633915901184}]"
            ]
          },
          "metadata": {},
          "execution_count": 53
        }
      ]
    },
    {
      "cell_type": "code",
      "source": [
        "my_model('python')[0]['label'].split('_')[-1]"
      ],
      "metadata": {
        "id": "y5JKzUUTGk1D",
        "colab": {
          "base_uri": "https://localhost:8080/",
          "height": 35
        },
        "outputId": "bc538bc8-0aa5-418e-9109-697a3219b9fc"
      },
      "execution_count": null,
      "outputs": [
        {
          "output_type": "execute_result",
          "data": {
            "text/plain": [
              "'20'"
            ],
            "application/vnd.google.colaboratory.intrinsic+json": {
              "type": "string"
            }
          },
          "metadata": {},
          "execution_count": 54
        }
      ]
    },
    {
      "cell_type": "code",
      "source": [
        "labelencoder.classes_"
      ],
      "metadata": {
        "colab": {
          "base_uri": "https://localhost:8080/"
        },
        "id": "eGU483muqWk8",
        "outputId": "3dc33acd-32ec-4818-d428-26b9ab01c8e9"
      },
      "execution_count": null,
      "outputs": [
        {
          "output_type": "execute_result",
          "data": {
            "text/plain": [
              "array(['Advocate', 'Arts', 'Automation Testing', 'Blockchain',\n",
              "       'Business Analyst', 'Civil Engineer', 'Data Science', 'Database',\n",
              "       'DevOps Engineer', 'DotNet Developer', 'ETL Developer',\n",
              "       'Electrical Engineering', 'HR', 'Hadoop', 'Health and fitness',\n",
              "       'Java Developer', 'Mechanical Engineer',\n",
              "       'Network Security Engineer', 'Operations Manager', 'PMO',\n",
              "       'Python Developer', 'SAP Developer', 'Sales', 'Testing',\n",
              "       'Web Designing'], dtype=object)"
            ]
          },
          "metadata": {},
          "execution_count": 55
        }
      ]
    },
    {
      "cell_type": "code",
      "source": [
        "# Function to predict label for a resume text\n",
        "\n",
        "def make_prediction(input_text):\n",
        "    model_pred = my_model(input_text)\n",
        "    pred_idx = int(model_pred[0]['label'].split('_')[-1])\n",
        "    pred_label = labelencoder.classes_[pred_idx]\n",
        "    return pred_label\n"
      ],
      "metadata": {
        "id": "AvSyk5jylTz7"
      },
      "execution_count": null,
      "outputs": []
    },
    {
      "cell_type": "code",
      "source": [
        "make_prediction(test_df[['Cleaned_Resume']].values[0][0][:100])"
      ],
      "metadata": {
        "colab": {
          "base_uri": "https://localhost:8080/",
          "height": 35
        },
        "id": "Ryz384zZ8bH3",
        "outputId": "eb290a17-0afa-4452-9420-83c2fc65a0a9"
      },
      "execution_count": null,
      "outputs": [
        {
          "output_type": "execute_result",
          "data": {
            "text/plain": [
              "'Java Developer'"
            ],
            "application/vnd.google.colaboratory.intrinsic+json": {
              "type": "string"
            }
          },
          "metadata": {},
          "execution_count": 57
        }
      ]
    },
    {
      "cell_type": "code",
      "source": [
        "make_prediction('programming, web designing, coding')"
      ],
      "metadata": {
        "colab": {
          "base_uri": "https://localhost:8080/",
          "height": 35
        },
        "id": "BARs_uj-lTxH",
        "outputId": "46bb770c-8846-44d4-be97-ed2d7368c879"
      },
      "execution_count": null,
      "outputs": [
        {
          "output_type": "execute_result",
          "data": {
            "text/plain": [
              "'Python Developer'"
            ],
            "application/vnd.google.colaboratory.intrinsic+json": {
              "type": "string"
            }
          },
          "metadata": {},
          "execution_count": 58
        }
      ]
    },
    {
      "cell_type": "code",
      "source": [
        "make_prediction('continuous integration and continuous delivery')"
      ],
      "metadata": {
        "colab": {
          "base_uri": "https://localhost:8080/",
          "height": 35
        },
        "id": "jUPAf9tR8yEC",
        "outputId": "dbcb04ea-1e73-43d0-f244-67e3954ac05a"
      },
      "execution_count": null,
      "outputs": [
        {
          "output_type": "execute_result",
          "data": {
            "text/plain": [
              "'Python Developer'"
            ],
            "application/vnd.google.colaboratory.intrinsic+json": {
              "type": "string"
            }
          },
          "metadata": {},
          "execution_count": 59
        }
      ]
    },
    {
      "cell_type": "code",
      "source": [
        "make_prediction('law student and journalist')"
      ],
      "metadata": {
        "colab": {
          "base_uri": "https://localhost:8080/",
          "height": 35
        },
        "id": "vRgaCbxzExGC",
        "outputId": "e0b8dbc2-7459-4b71-e5e1-716f7c5c586c"
      },
      "execution_count": null,
      "outputs": [
        {
          "output_type": "execute_result",
          "data": {
            "text/plain": [
              "'Arts'"
            ],
            "application/vnd.google.colaboratory.intrinsic+json": {
              "type": "string"
            }
          },
          "metadata": {},
          "execution_count": 60
        }
      ]
    },
    {
      "cell_type": "code",
      "source": [
        "make_prediction('machine learning, data, EDA, big data, neural networks')"
      ],
      "metadata": {
        "colab": {
          "base_uri": "https://localhost:8080/",
          "height": 35
        },
        "id": "SG_mZItOqG2v",
        "outputId": "a4d30638-6291-4bf3-bebc-cf598b0a52ee"
      },
      "execution_count": null,
      "outputs": [
        {
          "output_type": "execute_result",
          "data": {
            "text/plain": [
              "'Hadoop'"
            ],
            "application/vnd.google.colaboratory.intrinsic+json": {
              "type": "string"
            }
          },
          "metadata": {},
          "execution_count": 61
        }
      ]
    },
    {
      "cell_type": "markdown",
      "metadata": {
        "id": "mr0xI6QwFN-Q"
      },
      "source": [
        "## **Optional**: Create a Gradio based web interface to test and display the model predictions"
      ]
    },
    {
      "cell_type": "code",
      "execution_count": null,
      "metadata": {
        "id": "wl0ngdnKjKHH",
        "colab": {
          "base_uri": "https://localhost:8080/"
        },
        "outputId": "0c7dccf7-cf78-473f-a8d7-3da0386d6f76"
      },
      "outputs": [
        {
          "output_type": "stream",
          "name": "stdout",
          "text": [
            "\u001b[2K   \u001b[90m━━━━━━━━━━━━━━━━━━━━━━━━━━━━━━━━━━━━━━━━\u001b[0m \u001b[32m57.2/57.2 MB\u001b[0m \u001b[31m15.9 MB/s\u001b[0m eta \u001b[36m0:00:00\u001b[0m\n",
            "\u001b[2K   \u001b[90m━━━━━━━━━━━━━━━━━━━━━━━━━━━━━━━━━━━━━━━━\u001b[0m \u001b[32m320.4/320.4 kB\u001b[0m \u001b[31m27.6 MB/s\u001b[0m eta \u001b[36m0:00:00\u001b[0m\n",
            "\u001b[2K   \u001b[90m━━━━━━━━━━━━━━━━━━━━━━━━━━━━━━━━━━━━━━━━\u001b[0m \u001b[32m94.8/94.8 kB\u001b[0m \u001b[31m9.7 MB/s\u001b[0m eta \u001b[36m0:00:00\u001b[0m\n",
            "\u001b[2K   \u001b[90m━━━━━━━━━━━━━━━━━━━━━━━━━━━━━━━━━━━━━━━━\u001b[0m \u001b[32m11.3/11.3 MB\u001b[0m \u001b[31m92.8 MB/s\u001b[0m eta \u001b[36m0:00:00\u001b[0m\n",
            "\u001b[2K   \u001b[90m━━━━━━━━━━━━━━━━━━━━━━━━━━━━━━━━━━━━━━━━\u001b[0m \u001b[32m73.2/73.2 kB\u001b[0m \u001b[31m7.5 MB/s\u001b[0m eta \u001b[36m0:00:00\u001b[0m\n",
            "\u001b[2K   \u001b[90m━━━━━━━━━━━━━━━━━━━━━━━━━━━━━━━━━━━━━━━━\u001b[0m \u001b[32m62.3/62.3 kB\u001b[0m \u001b[31m6.7 MB/s\u001b[0m eta \u001b[36m0:00:00\u001b[0m\n",
            "\u001b[?25h"
          ]
        }
      ],
      "source": [
        "!pip -q install gradio"
      ]
    },
    {
      "cell_type": "code",
      "execution_count": null,
      "metadata": {
        "id": "3XwCJSdDDVVU"
      },
      "outputs": [],
      "source": [
        "import gradio"
      ]
    },
    {
      "cell_type": "code",
      "execution_count": null,
      "metadata": {
        "id": "bpRnUY5w551-",
        "colab": {
          "base_uri": "https://localhost:8080/"
        },
        "outputId": "63db3836-00f9-403e-d525-3c5ff8c1ec29"
      },
      "outputs": [
        {
          "output_type": "stream",
          "name": "stdout",
          "text": [
            "Colab notebook detected. To show errors in colab notebook, set debug=True in launch()\n",
            "* Running on public URL: https://79d16581118cafca5b.gradio.live\n",
            "\n",
            "This share link expires in 72 hours. For free permanent hosting and GPU upgrades, run `gradio deploy` from the terminal in the working directory to deploy to Hugging Face Spaces (https://huggingface.co/spaces)\n"
          ]
        },
        {
          "output_type": "display_data",
          "data": {
            "text/plain": [
              "<IPython.core.display.HTML object>"
            ],
            "text/html": [
              "<div><iframe src=\"https://79d16581118cafca5b.gradio.live\" width=\"100%\" height=\"500\" allow=\"autoplay; camera; microphone; clipboard-read; clipboard-write;\" frameborder=\"0\" allowfullscreen></iframe></div>"
            ]
          },
          "metadata": {}
        },
        {
          "output_type": "execute_result",
          "data": {
            "text/plain": []
          },
          "metadata": {},
          "execution_count": 64
        }
      ],
      "source": [
        "# Textbox to take Input from user\n",
        "in_text = gradio.Textbox(lines=10, placeholder=None, value=\"Enter resume text here\", label='Resume Text')\n",
        "\n",
        "\n",
        "# Textbox to display Output prediction\n",
        "out_label = gradio.Textbox(type=\"text\", label='Predicted Class Label')\n",
        "\n",
        "\n",
        "# Gradio interface to create UI\n",
        "iface = gradio.Interface(fn = make_prediction,             # fine-tuned model is used inside this function\n",
        "                         inputs = [in_text],\n",
        "                         outputs = [out_label],\n",
        "                         title = \"Resume Classification\",\n",
        "                         description = \"Using fine-tuned Bert model\",\n",
        "                         allow_flagging = 'never')\n",
        "\n",
        "\n",
        "# Launch interface\n",
        "iface.launch(share = True)"
      ]
    }
  ]
}