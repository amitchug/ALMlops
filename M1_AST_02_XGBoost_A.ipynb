{
  "cells": [
    {
      "cell_type": "markdown",
      "metadata": {
        "id": "view-in-github",
        "colab_type": "text"
      },
      "source": [
        "<a href=\"https://colab.research.google.com/github/amitchug/ALMlops/blob/main/M1_AST_02_XGBoost_A.ipynb\" target=\"_parent\"><img src=\"https://colab.research.google.com/assets/colab-badge.svg\" alt=\"Open In Colab\"/></a>"
      ]
    },
    {
      "cell_type": "markdown",
      "source": [
        "# Advanced Certification Programme in AI and MLOps\n",
        "## A programme by IISc and TalentSprint\n",
        "### Assignment 2: Extreme Gradient Boosting"
      ],
      "metadata": {
        "id": "PprHHREe8n5R"
      }
    },
    {
      "cell_type": "markdown",
      "source": [
        "## Learning Objectives:\n",
        "\n",
        "At the end of the experiment, you will be able to:\n",
        "\n",
        "*  perform preprocessing for different types of features\n",
        "*  build pipeline for preprocessing of features\n",
        "*  implement feature selection manually and automatically\n",
        "*  build an XG-Boost regressor model and check its performance"
      ],
      "metadata": {
        "id": "6Mxmt2UTIlPy"
      }
    },
    {
      "cell_type": "markdown",
      "source": [
        "## Introduction\n",
        "\n",
        "Predicting house prices is helpful to identify profitable investments or to determine whether the price advertised is over or under-estimated. Here, we will build an ML model to predict the sale price of homes based on different explanatory variables describing the aspects of residential houses."
      ],
      "metadata": {
        "id": "auIFJoV_C0-M"
      }
    },
    {
      "cell_type": "markdown",
      "source": [
        "## Dataset\n",
        "\n",
        "The dataset chosen is a [Housing dataset](https://www.kaggle.com/c/house-prices-advanced-regression-techniques/data) containing 79 features, one target feature (`SalePrice`), and 1460 samples. Visit the data source to understand each feature/column. Download the 'data_description.txt' file, which gives a full description."
      ],
      "metadata": {
        "id": "8LK-C5VcAcPG"
      }
    },
    {
      "cell_type": "markdown",
      "metadata": {
        "id": "RVF-O0dYjUZu"
      },
      "source": [
        "### Setup Steps:"
      ]
    },
    {
      "cell_type": "code",
      "execution_count": null,
      "metadata": {
        "id": "-xx2h3lEA5G0"
      },
      "outputs": [],
      "source": [
        "#@title Please enter your registration id to start: { run: \"auto\", display-mode: \"form\" }\n",
        "Id = \"\" #@param {type:\"string\"}"
      ]
    },
    {
      "cell_type": "code",
      "execution_count": null,
      "metadata": {
        "id": "UhPEIYA4A5G2"
      },
      "outputs": [],
      "source": [
        "#@title Please enter your password (your registered phone number) to continue: { run: \"auto\", display-mode: \"form\" }\n",
        "password = \"\" #@param {type:\"string\"}"
      ]
    },
    {
      "cell_type": "code",
      "execution_count": null,
      "metadata": {
        "cellView": "form",
        "collapsed": true,
        "id": "9BGQXmQZA5G2"
      },
      "outputs": [],
      "source": [
        "#@title Run this cell to complete the setup for this Notebook\n",
        "from IPython import get_ipython\n",
        "\n",
        "ipython = get_ipython()\n",
        "\n",
        "notebook= \"M1_AST_02_XGBoost_A\" #name of the notebook\n",
        "\n",
        "def setup():\n",
        "#  ipython.magic(\"sx pip3 install torch\")\n",
        "\n",
        "    ipython.magic(\"sx wget https://cdn.iisc.talentsprint.com/AIandMLOps/Datasets/housing_dataset.csv\")\n",
        "    from IPython.display import HTML, display\n",
        "    display(HTML('<script src=\"https://dashboard.talentsprint.com/aiml/record_ip.html?traineeId={0}&recordId={1}\"></script>'.format(getId(),submission_id)))\n",
        "    print(\"Setup completed successfully\")\n",
        "    return\n",
        "\n",
        "def submit_notebook():\n",
        "    ipython.magic(\"notebook -e \"+ notebook + \".ipynb\")\n",
        "\n",
        "    import requests, json, base64, datetime\n",
        "\n",
        "    url = \"https://dashboard.talentsprint.com/xp/app/save_notebook_attempts\"\n",
        "    if not submission_id:\n",
        "      data = {\"id\" : getId(), \"notebook\" : notebook, \"mobile\" : getPassword()}\n",
        "      r = requests.post(url, data = data)\n",
        "      r = json.loads(r.text)\n",
        "\n",
        "      if r[\"status\"] == \"Success\":\n",
        "          return r[\"record_id\"]\n",
        "      elif \"err\" in r:\n",
        "        print(r[\"err\"])\n",
        "        return None\n",
        "      else:\n",
        "        print (\"Something is wrong, the notebook will not be submitted for grading\")\n",
        "        return None\n",
        "\n",
        "    elif getAnswer() and getComplexity() and getAdditional() and getConcepts() and getComments() and getMentorSupport():\n",
        "      f = open(notebook + \".ipynb\", \"rb\")\n",
        "      file_hash = base64.b64encode(f.read())\n",
        "\n",
        "      data = {\"complexity\" : Complexity, \"additional\" :Additional,\n",
        "              \"concepts\" : Concepts, \"record_id\" : submission_id,\n",
        "              \"answer\" : Answer, \"id\" : Id, \"file_hash\" : file_hash,\n",
        "              \"notebook\" : notebook,\n",
        "              \"feedback_experiments_input\" : Comments,\n",
        "              \"feedback_mentor_support\": Mentor_support}\n",
        "      r = requests.post(url, data = data)\n",
        "      r = json.loads(r.text)\n",
        "      if \"err\" in r:\n",
        "        print(r[\"err\"])\n",
        "        return None\n",
        "      else:\n",
        "        print(\"Your submission is successful.\")\n",
        "        print(\"Ref Id:\", submission_id)\n",
        "        print(\"Date of submission: \", r[\"date\"])\n",
        "        print(\"Time of submission: \", r[\"time\"])\n",
        "        print(\"View your submissions: https://aimlops-iisc.talentsprint.com/notebook_submissions\")\n",
        "        #print(\"For any queries/discrepancies, please connect with mentors through the chat icon in LMS dashboard.\")\n",
        "        return submission_id\n",
        "    else: submission_id\n",
        "\n",
        "\n",
        "def getAdditional():\n",
        "  try:\n",
        "    if not Additional:\n",
        "      raise NameError\n",
        "    else:\n",
        "      return Additional\n",
        "  except NameError:\n",
        "    print (\"Please answer Additional Question\")\n",
        "    return None\n",
        "\n",
        "def getComplexity():\n",
        "  try:\n",
        "    if not Complexity:\n",
        "      raise NameError\n",
        "    else:\n",
        "      return Complexity\n",
        "  except NameError:\n",
        "    print (\"Please answer Complexity Question\")\n",
        "    return None\n",
        "\n",
        "def getConcepts():\n",
        "  try:\n",
        "    if not Concepts:\n",
        "      raise NameError\n",
        "    else:\n",
        "      return Concepts\n",
        "  except NameError:\n",
        "    print (\"Please answer Concepts Question\")\n",
        "    return None\n",
        "\n",
        "\n",
        "# def getWalkthrough():\n",
        "#   try:\n",
        "#     if not Walkthrough:\n",
        "#       raise NameError\n",
        "#     else:\n",
        "#       return Walkthrough\n",
        "#   except NameError:\n",
        "#     print (\"Please answer Walkthrough Question\")\n",
        "#     return None\n",
        "\n",
        "def getComments():\n",
        "  try:\n",
        "    if not Comments:\n",
        "      raise NameError\n",
        "    else:\n",
        "      return Comments\n",
        "  except NameError:\n",
        "    print (\"Please answer Comments Question\")\n",
        "    return None\n",
        "\n",
        "\n",
        "def getMentorSupport():\n",
        "  try:\n",
        "    if not Mentor_support:\n",
        "      raise NameError\n",
        "    else:\n",
        "      return Mentor_support\n",
        "  except NameError:\n",
        "    print (\"Please answer Mentor support Question\")\n",
        "    return None\n",
        "\n",
        "def getAnswer():\n",
        "  try:\n",
        "    if not Answer:\n",
        "      raise NameError\n",
        "    else:\n",
        "      return Answer\n",
        "  except NameError:\n",
        "    print (\"Please answer Question\")\n",
        "    return None\n",
        "\n",
        "\n",
        "def getId():\n",
        "  try:\n",
        "    return Id if Id else None\n",
        "  except NameError:\n",
        "    return None\n",
        "\n",
        "def getPassword():\n",
        "  try:\n",
        "    return password if password else None\n",
        "  except NameError:\n",
        "    return None\n",
        "\n",
        "submission_id = None\n",
        "### Setup\n",
        "if getPassword() and getId():\n",
        "  submission_id = submit_notebook()\n",
        "  if submission_id:\n",
        "    setup()\n",
        "else:\n",
        "  print (\"Please complete Id and Password cells before running setup\")\n",
        "\n"
      ]
    },
    {
      "cell_type": "markdown",
      "source": [
        "### Install XG-Boost and feature_engine library"
      ],
      "metadata": {
        "id": "m1lCya9WKEmv"
      }
    },
    {
      "cell_type": "code",
      "source": [
        "%%capture\n",
        "!pip -q install xgboost\n",
        "!pip -q install feature_engine"
      ],
      "metadata": {
        "id": "Wj8HDV2hVT-a"
      },
      "execution_count": null,
      "outputs": []
    },
    {
      "cell_type": "markdown",
      "source": [
        "Ignore the above warning."
      ],
      "metadata": {
        "id": "Cd9g5urAdBI3"
      }
    },
    {
      "cell_type": "markdown",
      "source": [
        "### Import required packages"
      ],
      "metadata": {
        "id": "kwDH0TpbKn70"
      }
    },
    {
      "cell_type": "code",
      "execution_count": null,
      "metadata": {
        "id": "-5dmv4mQRi5X"
      },
      "outputs": [],
      "source": [
        "from math import sqrt\n",
        "import pandas as pd\n",
        "import numpy as np\n",
        "import matplotlib.pyplot as plt\n",
        "import seaborn as sns\n",
        "import xgboost as xgb\n",
        "from sklearn.model_selection import train_test_split\n",
        "from sklearn.pipeline import Pipeline\n",
        "from sklearn.impute  import SimpleImputer\n",
        "from sklearn.preprocessing import OrdinalEncoder as OrdinalEncoder_Sk\n",
        "from sklearn.feature_selection import SelectFromModel\n",
        "from sklearn.metrics import mean_squared_error, r2_score\n",
        "\n",
        "from feature_engine.imputation import ArbitraryNumberImputer, CategoricalImputer\n",
        "\n",
        "from feature_engine.encoding import RareLabelEncoder,OrdinalEncoder\n",
        "from feature_engine.selection import DropFeatures\n",
        "\n",
        "# to visualise all the columns and upto 100 rows in the dataframe\n",
        "pd.set_option('display.max_columns', None)\n",
        "pd.set_option(\"display.max_rows\", 100)\n",
        "\n",
        "# for supressing warnings\n",
        "import warnings\n",
        "warnings.filterwarnings('ignore')"
      ]
    },
    {
      "cell_type": "markdown",
      "source": [
        "### Load the data"
      ],
      "metadata": {
        "id": "32IuzBpNLfYc"
      }
    },
    {
      "cell_type": "code",
      "source": [
        "# YOUR CODE HERE"
      ],
      "metadata": {
        "id": "JaylWUE2SwIw"
      },
      "execution_count": null,
      "outputs": []
    },
    {
      "cell_type": "markdown",
      "source": [
        "## Exploratory Data Analysis"
      ],
      "metadata": {
        "id": "zUXr9yL2CZwt"
      }
    },
    {
      "cell_type": "markdown",
      "source": [
        "Check the information of the dataframe regarding number of rows and columns, any null values, data types, etc."
      ],
      "metadata": {
        "id": "Hn4l_WHP7Lss"
      }
    },
    {
      "cell_type": "code",
      "source": [
        "# YOUR CODE HERE"
      ],
      "metadata": {
        "id": "E8FIqK5f54wN"
      },
      "execution_count": null,
      "outputs": []
    },
    {
      "cell_type": "markdown",
      "source": [
        "### Summarising the Data\n",
        "\n",
        "The following cell displays the types of features, the number of unique entries, and the percentage of Null entries in each feature column."
      ],
      "metadata": {
        "id": "wIZp5LNlSJN4"
      }
    },
    {
      "cell_type": "code",
      "source": [
        "summary = pd.DataFrame(data.dtypes, columns=['dtype'])\n",
        "summary = summary.reset_index()\n",
        "summary = summary.rename(columns={'index':'Name'})\n",
        "summary['Null_Counts'] = data.isnull().sum().values\n",
        "summary['Uniques'] = data.nunique().values\n",
        "summary['Null_Percent'] = (summary['Null_Counts']*100) / len(data)\n",
        "summary.sort_values(by='Null_Percent', ascending=False, inplace=True)\n",
        "summary"
      ],
      "metadata": {
        "id": "xKhAkQCeSIpB"
      },
      "execution_count": null,
      "outputs": []
    },
    {
      "cell_type": "markdown",
      "metadata": {
        "id": "tyc_ZOd_Ri5c"
      },
      "source": [
        "### Split dataset into train and test\n",
        "\n",
        "Separating the data into training and testing set before engineering. This is to avoid over-fitting. Need to set the seed."
      ]
    },
    {
      "cell_type": "code",
      "execution_count": null,
      "metadata": {
        "id": "g0ULUOl-Ri5g"
      },
      "outputs": [],
      "source": [
        "# YOUR CODE HERE"
      ]
    },
    {
      "cell_type": "markdown",
      "metadata": {
        "id": "_3tbXUovRi5h"
      },
      "source": [
        "### Missing values\n",
        "* Separating Date, Numerical, and Categorical variables\n",
        "* Checking missing entries in each data type\n"
      ]
    },
    {
      "cell_type": "code",
      "execution_count": null,
      "metadata": {
        "scrolled": true,
        "id": "L6IeyolqRi5i"
      },
      "outputs": [],
      "source": [
        "# YOUR CODE HERE"
      ]
    },
    {
      "cell_type": "code",
      "execution_count": null,
      "metadata": {
        "id": "eJS1h8wBRi5j"
      },
      "outputs": [],
      "source": [
        "# Missing values in our date variables\n",
        "# YOUR CODE HERE"
      ]
    },
    {
      "cell_type": "code",
      "source": [
        "# Visualize missing values in our date variables\n",
        "# YOUR CODE HERE"
      ],
      "metadata": {
        "id": "Xs4nBHFu3CZO"
      },
      "execution_count": null,
      "outputs": []
    },
    {
      "cell_type": "code",
      "execution_count": null,
      "metadata": {
        "scrolled": true,
        "id": "HPFr7n-DRi5k"
      },
      "outputs": [],
      "source": [
        "# Missing values in our numerical variables\n",
        "# YOUR CODE HERE"
      ]
    },
    {
      "cell_type": "code",
      "source": [
        "# Visualize missing values in our numerical variables\n",
        "plt.figure(figsize=(20, 5))\n",
        "sns.barplot(x=Num_V.index, y=Num_V.values, hue=Num_V.index)\n",
        "plt.xlabel(\"Numerical features\")\n",
        "plt.ylabel(\"Missing values\")\n",
        "plt.xticks(rotation=80)\n",
        "plt.show()"
      ],
      "metadata": {
        "id": "M3vs9Xxr3i77"
      },
      "execution_count": null,
      "outputs": []
    },
    {
      "cell_type": "code",
      "execution_count": null,
      "metadata": {
        "scrolled": true,
        "id": "9_s9a5yrRi5l"
      },
      "outputs": [],
      "source": [
        "# Missing values in our categorical variables\n",
        "# YOUR CODE HERE"
      ]
    },
    {
      "cell_type": "code",
      "source": [
        "# Visualize missing values in our categorical variables\n",
        "# YOUR CODE HERE"
      ],
      "metadata": {
        "id": "DKED-yaA34Dt"
      },
      "execution_count": null,
      "outputs": []
    },
    {
      "cell_type": "markdown",
      "source": [
        "### Handling missing data through imputation"
      ],
      "metadata": {
        "id": "qSvrywUWL4Uw"
      }
    },
    {
      "cell_type": "code",
      "execution_count": null,
      "metadata": {
        "scrolled": true,
        "id": "j5Wgh4eJRi5m"
      },
      "outputs": [],
      "source": [
        "# Imputate numerical variables\n",
        "# YOUR CODE HERE\n",
        "\n",
        "# YOUR CODE HERE"
      ]
    },
    {
      "cell_type": "code",
      "execution_count": null,
      "metadata": {
        "id": "jShoycGlRi5n"
      },
      "outputs": [],
      "source": [
        "# Imputate categorical variables\n",
        "# YOUR CODE HERE"
      ]
    },
    {
      "cell_type": "markdown",
      "metadata": {
        "id": "AIGSllEsRi5n"
      },
      "source": [
        "### Temporal features\n",
        "\n",
        "Extracting information from the data to capture the difference in years between the year in which the house was built, and the year in which the house was sold."
      ]
    },
    {
      "cell_type": "code",
      "execution_count": null,
      "metadata": {
        "id": "6SbdK27xRi5o"
      },
      "outputs": [],
      "source": [
        "# Create new temporal features from date variables\n",
        "# YOUR CODE HERE"
      ]
    },
    {
      "cell_type": "code",
      "execution_count": null,
      "metadata": {
        "id": "3avmd931Ri5o"
      },
      "outputs": [],
      "source": [
        "# Apply it to both train and test set\n",
        "# YOUR CODE HERE"
      ]
    },
    {
      "cell_type": "code",
      "execution_count": null,
      "metadata": {
        "id": "1jvMOkp1Ri5o"
      },
      "outputs": [],
      "source": [
        "# Check that test set does not contain null values in the engineered variables\n",
        "# YOUR CODE HERE"
      ]
    },
    {
      "cell_type": "markdown",
      "metadata": {
        "id": "Wow9d8gqRi5p"
      },
      "source": [
        "### Checking for any Null still exists either in a train or test set"
      ]
    },
    {
      "cell_type": "code",
      "execution_count": null,
      "metadata": {
        "id": "w9eEOXswRi5p"
      },
      "outputs": [],
      "source": [
        "# Train set\n",
        "# YOUR CODE HERE"
      ]
    },
    {
      "cell_type": "code",
      "execution_count": null,
      "metadata": {
        "id": "5H_bToZ2Ri5q"
      },
      "outputs": [],
      "source": [
        "# Test set\n",
        "# YOUR CODE HERE"
      ]
    },
    {
      "cell_type": "markdown",
      "source": [
        "### Replacing  all rarely appearing categories with 'Rare':\n",
        "\n",
        "The `RareLabelEncoder()` groups rare or infrequent categories in a new category called “`Rare`”, or any other name entered by the user."
      ],
      "metadata": {
        "id": "ha_nkHBm7XxE"
      }
    },
    {
      "cell_type": "code",
      "execution_count": null,
      "metadata": {
        "id": "Q1hWazlzRi5q"
      },
      "outputs": [],
      "source": [
        "# Encode rare categories\n",
        "rare_enc = RareLabelEncoder(tol=0.01,  n_categories=5, variables = vars_cat)\n",
        "rare_enc.fit(X_train)\n",
        "X_train = rare_enc.transform(X_train)\n",
        "X_test = rare_enc.transform(X_test)"
      ]
    },
    {
      "cell_type": "markdown",
      "source": [
        "### Checking for rare categories"
      ],
      "metadata": {
        "id": "zwaGHtEpOkRi"
      }
    },
    {
      "cell_type": "code",
      "source": [
        "# YOUR CODE HERE"
      ],
      "metadata": {
        "id": "c_eMQeIM_Tfu"
      },
      "execution_count": null,
      "outputs": []
    },
    {
      "cell_type": "markdown",
      "source": [
        "### Encoding of Categorical variables\n",
        "\n",
        "Transform the string values of categorical variables into numerical values."
      ],
      "metadata": {
        "id": "GPfdKZgSO3o6"
      }
    },
    {
      "cell_type": "code",
      "execution_count": null,
      "metadata": {
        "id": "bwIt5DR1Ri5r"
      },
      "outputs": [],
      "source": [
        "# Encode with labels\n",
        "ordinal_enc = OrdinalEncoder_Sk()\n",
        "X_train[vars_cat] = ordinal_enc.fit_transform(X_train[vars_cat])\n",
        "X_test[vars_cat] = ordinal_enc.transform(X_test[vars_cat])"
      ]
    },
    {
      "cell_type": "code",
      "execution_count": null,
      "metadata": {
        "id": "6dJmVFYdRi5r"
      },
      "outputs": [],
      "source": [
        "# Check any null values in test set\n",
        "# YOUR CODE HERE"
      ]
    },
    {
      "cell_type": "markdown",
      "source": [
        "### Building Pipeline for Pre-Processing\n",
        "\n",
        "All the pre-processing steps above can be implemented inside Pre-Processing Pipeline. Building a pipeline removes the dual task of hard coding for the same operation on the train and test set separately. Apart from this, it helps in the automation of testing and deployment without much human intervention."
      ],
      "metadata": {
        "id": "ZJ3Mi87Ew2Va"
      }
    },
    {
      "cell_type": "markdown",
      "source": [
        "#### Creating Class for temporal transformation that is compatible with SK_learn pipeline:\n",
        "\n",
        "In the pre-processing steps above, a function was created to calculate the year elapsed. Now we are converting that function into a class suitable for inserting inside the pipeline."
      ],
      "metadata": {
        "id": "2bOXf5UQj_jb"
      }
    },
    {
      "cell_type": "code",
      "source": [
        "from sklearn.base import BaseEstimator, TransformerMixin\n",
        "\n",
        "# YOUR CODE HERE\n",
        "\n",
        "        for feature in self.variables:\n",
        "            X[feature] = X[self.reference_variable] - X[feature]\n",
        "\n",
        "        return X\n"
      ],
      "metadata": {
        "id": "hkxLIP5nkLFN"
      },
      "execution_count": null,
      "outputs": []
    },
    {
      "cell_type": "markdown",
      "source": [
        "#### Building the Pre-Processing pipeline"
      ],
      "metadata": {
        "id": "ak80o0g81mnI"
      }
    },
    {
      "cell_type": "code",
      "source": [
        "price_pipe = Pipeline([\n",
        "\n",
        "    # ===== IMPUTATION =====\n",
        "    # impute numerical variables with the ArbitraryNumberImputer\n",
        "    # YOUR CODE HERE,\n",
        "\n",
        "     # impute numerical variables with the mostfrequent\n",
        "    ('frequentNumber_imputation', CategoricalImputer(imputation_method='frequent', variables=vars_num, ignore_format=True)),\n",
        "\n",
        "    # impute categorical variables with string missing\n",
        "    # YOUR CODE HERE,\n",
        "\n",
        "    # == TEMPORAL VARIABLES ====\n",
        "    ('elapsed_time', TemporalVariableTransformer(\n",
        "        variables=['YearBuilt', 'YearRemodAdd', 'GarageYrBlt'], reference_variable='YrSold')),\n",
        "\n",
        "    # YOUR CODE HERE,\n",
        "\n",
        "      # == CATEGORICAL ENCODING\n",
        "    ('rare_label_encoder', RareLabelEncoder(tol=0.01, n_categories=5, variables=vars_cat)),\n",
        "\n",
        "    # encode categorical and discrete variables using the target mean\n",
        "    # YOUR CODE HERE, #\n",
        "\n",
        "])"
      ],
      "metadata": {
        "id": "GImUVVjhZaj3"
      },
      "execution_count": null,
      "outputs": []
    },
    {
      "cell_type": "markdown",
      "source": [
        "Since we have already done pre-processing before the pipeline, we can't apply the pipeline to pre-preprocessed data. To apply the pipeline, copy the same train-test split cell again here so that we can get un-processed data as a train and test set."
      ],
      "metadata": {
        "id": "dLRLcrnqDCj8"
      }
    },
    {
      "cell_type": "code",
      "source": [
        "# YOUR CODE HERE"
      ],
      "metadata": {
        "id": "zZXrqNkFDLDc"
      },
      "execution_count": null,
      "outputs": []
    },
    {
      "cell_type": "markdown",
      "source": [
        "### Finally applying pipeline in train & test set"
      ],
      "metadata": {
        "id": "J7XELxoNeU11"
      }
    },
    {
      "cell_type": "code",
      "source": [
        "# YOUR CODE HERE"
      ],
      "metadata": {
        "id": "IvRKC1sunUcG"
      },
      "execution_count": null,
      "outputs": []
    },
    {
      "cell_type": "code",
      "source": [
        "# YOUR CODE HERE # Transformation for train set"
      ],
      "metadata": {
        "id": "tBj1tLiPr_Q5"
      },
      "execution_count": null,
      "outputs": []
    },
    {
      "cell_type": "code",
      "source": [
        "X_test_tfr=price_pipe.transform(X_test) # Transformation for test set"
      ],
      "metadata": {
        "id": "dimU04TXu1Y6"
      },
      "execution_count": null,
      "outputs": []
    },
    {
      "cell_type": "code",
      "source": [
        "X_train_tfr"
      ],
      "metadata": {
        "id": "gy0F_FcFn1XS"
      },
      "execution_count": null,
      "outputs": []
    },
    {
      "cell_type": "markdown",
      "metadata": {
        "id": "U4ijnrccRi5s"
      },
      "source": [
        "## XG-Boost Regressor"
      ]
    },
    {
      "cell_type": "code",
      "source": [
        "# Create an xgboost regression model\n",
        "model = xgb.XGBRegressor(n_estimators=100, max_depth=7, eta=0.1, subsample=0.7, colsample_bytree=0.8, objective='reg:squarederror', random_state=0)"
      ],
      "metadata": {
        "id": "zQBQbsHVV54x"
      },
      "execution_count": null,
      "outputs": []
    },
    {
      "cell_type": "markdown",
      "source": [
        "**Note :**  Good hyperparameter values can be found by trial and error for a given dataset, or systematic experimentation such as using a grid search across a range of values.\n",
        "\n",
        "**The most commonly configured hyperparameters are the following:**\n",
        "\n",
        "**n_estimators:** The number of trees in the ensemble, often increased until no further improvements are seen.\n",
        "\n",
        "**max_depth:** The maximum depth of each tree, often values are between 1 and 10.\n",
        "\n",
        "**eta:** The learning rate used to weight each model, often set to small values such as 0.3, 0.1, 0.01, or smaller.\n",
        "\n",
        "**subsample:** The number of samples (rows) used in each tree, set to a value between 0 and 1, often 1.0 to use all samples.\n",
        "\n",
        "**colsample_bytree:** Number of features (columns) used in each tree, set to a value between 0 and 1, often 1.0 to use all features.\n",
        "\n",
        "**XGBoost Parameters Detail** - [Ref.](https://xgboost.readthedocs.io/en/stable/parameter.html)"
      ],
      "metadata": {
        "id": "HGL8DRTo6vsy"
      }
    },
    {
      "cell_type": "code",
      "execution_count": null,
      "metadata": {
        "id": "UE2HaP5bRi5t"
      },
      "outputs": [],
      "source": [
        "# Train on training set\n",
        "# YOUR CODE HERE"
      ]
    },
    {
      "cell_type": "code",
      "execution_count": null,
      "metadata": {
        "id": "W1tgIJV_Ri5u"
      },
      "outputs": [],
      "source": [
        "# Evaluate the model:\n",
        "# Evaluate performance using the mean squared error and the root of the mean squared error\n",
        "# YOUR CODE HERE"
      ]
    },
    {
      "cell_type": "code",
      "execution_count": null,
      "metadata": {
        "id": "FyzYPzpeRi5w"
      },
      "outputs": [],
      "source": [
        "# Evaluating predictions with respect to the original price\n",
        "# YOUR CODE HERE"
      ]
    },
    {
      "cell_type": "markdown",
      "source": [
        "### Displaying the feature importance value given by the XG-Boost model"
      ],
      "metadata": {
        "id": "BF2hhXufQaib"
      }
    },
    {
      "cell_type": "code",
      "source": [
        "# List features\n",
        "# YOUR CODE HERE"
      ],
      "metadata": {
        "id": "ybgswOPrwqrc"
      },
      "execution_count": null,
      "outputs": []
    },
    {
      "cell_type": "code",
      "source": [
        "# Feature importance given by XGB\n",
        "# YOUR CODE HERE"
      ],
      "metadata": {
        "id": "jp0I-BaWwZjb"
      },
      "execution_count": null,
      "outputs": []
    },
    {
      "cell_type": "code",
      "source": [
        "# Feature Importance in dataframe\n",
        "# YOUR CODE HERE"
      ],
      "metadata": {
        "id": "7LWko7t2w1ck"
      },
      "execution_count": null,
      "outputs": []
    },
    {
      "cell_type": "code",
      "source": [
        "# Plot bar plot showing feature importances\n",
        "# YOUR CODE HERE"
      ],
      "metadata": {
        "id": "H4ePqHsHwWm4"
      },
      "execution_count": null,
      "outputs": []
    },
    {
      "cell_type": "markdown",
      "source": [
        "We can pick features having the highest feature importance values,  for example choosing the top 15:"
      ],
      "metadata": {
        "id": "oDNTKoGiRUrE"
      }
    },
    {
      "cell_type": "code",
      "source": [
        "# Top 15 features\n",
        "# YOUR CODE HERE"
      ],
      "metadata": {
        "id": "YoDi3vLgR_5k"
      },
      "execution_count": null,
      "outputs": []
    },
    {
      "cell_type": "markdown",
      "metadata": {
        "id": "iQzwhzZURi5x"
      },
      "source": [
        "## Feature Selection\n",
        "\n",
        "Above manual selection of best features can be done automatically using Scikit-Learn's `SelectFromModel` class. Here, we need to specify the model which has `feature_importances_` or `coef_` attribute after fitting, then train it."
      ]
    },
    {
      "cell_type": "code",
      "execution_count": null,
      "metadata": {
        "id": "FK2o6MIbRi5x"
      },
      "outputs": [],
      "source": [
        "# Feature selection using SelectFromModel, with XGBoost Regressor\n",
        "\n",
        "sel_ = SelectFromModel(xgb.XGBRegressor(n_estimators=150, objective='reg:squarederror', random_state=0))\n",
        "sel_.fit(X_train_tfr, y_train)"
      ]
    },
    {
      "cell_type": "code",
      "execution_count": null,
      "metadata": {
        "id": "W6CYlp3PRi5y"
      },
      "outputs": [],
      "source": [
        "# Show the number of total features and selected features\n",
        "# YOUR CODE HERE"
      ]
    },
    {
      "cell_type": "code",
      "execution_count": null,
      "metadata": {
        "id": "-ssLdy2nRi5y"
      },
      "outputs": [],
      "source": [
        "selected_feat"
      ]
    },
    {
      "cell_type": "markdown",
      "metadata": {
        "id": "Yu_HHEGhRi5z"
      },
      "source": [
        "## Re-build model with selected features"
      ]
    },
    {
      "cell_type": "code",
      "source": [
        "# YOUR CODE HERE"
      ],
      "metadata": {
        "id": "H6qaw4BfXkRK"
      },
      "execution_count": null,
      "outputs": []
    },
    {
      "cell_type": "code",
      "source": [
        "# Evaluate performance using the mean squared error and the root of the mean squared error\n",
        "pred = model.predict(X_train_tfr[selected_feat])\n",
        "print('linear train mse: {}'.format(mean_squared_error(y_train, pred)))\n",
        "print('linear train rmse: {}'.format(sqrt(mean_squared_error(y_train, pred))))\n",
        "print()\n",
        "pred = model.predict(X_test_tfr[selected_feat])\n",
        "print('linear test mse: {}'.format(mean_squared_error(y_test, pred)))\n",
        "print('linear test rmse: {}'.format(sqrt(mean_squared_error(y_test, pred))))"
      ],
      "metadata": {
        "id": "qx0NGU2V1swN"
      },
      "execution_count": null,
      "outputs": []
    },
    {
      "cell_type": "markdown",
      "source": [
        "### Evaluating predictions with respect to the original price"
      ],
      "metadata": {
        "id": "cH8uAMlNYgCq"
      }
    },
    {
      "cell_type": "code",
      "source": [
        "# Evaluating predictions with respect to the original price\n",
        "# YOUR CODE HERE"
      ],
      "metadata": {
        "id": "-vxoss6OYfkd"
      },
      "execution_count": null,
      "outputs": []
    },
    {
      "cell_type": "markdown",
      "source": [
        "## Training XGBoost without Pre-Processing\n",
        "\n",
        "XGBoost can handle categorical variable( [Ref.](https://xgboost.readthedocs.io/en/stable/tutorials/categorical.html) )and supports missing values by default. In tree algorithms, branch directions for missing values are learned during training. Note that the gblinear booster treats missing values as zeros. When the missing parameter is specifed, values in the input predictor that is equal to missing will be treated as missing and removed. By default it’s set to NaN.Considering the same we are going to train without pre-processing and compare the result.([Ref.](https://xgboost.readthedocs.io/en/stable/faq.html))"
      ],
      "metadata": {
        "id": "ru62nz22uWPg"
      }
    },
    {
      "cell_type": "code",
      "source": [
        "data_no_pro = pd.read_csv('housing_dataset.csv')\n",
        "print(data.shape)\n",
        "data_no_pro.head()"
      ],
      "metadata": {
        "id": "H8BAJ4MVufQS"
      },
      "execution_count": null,
      "outputs": []
    },
    {
      "cell_type": "code",
      "source": [
        "# YOUR CODE HERE"
      ],
      "metadata": {
        "id": "HlzXDAUwulTz"
      },
      "execution_count": null,
      "outputs": []
    },
    {
      "cell_type": "code",
      "source": [
        "# YOUR CODE HERE"
      ],
      "metadata": {
        "id": "_1asePBpumS7"
      },
      "execution_count": null,
      "outputs": []
    },
    {
      "cell_type": "code",
      "source": [
        "# YOUR CODE HERE"
      ],
      "metadata": {
        "id": "9cp66KF1uqF8"
      },
      "execution_count": null,
      "outputs": []
    },
    {
      "cell_type": "markdown",
      "source": [
        "### Temporal features\n",
        "Extracting information from the data to capture the difference in years between the year in which the house was built, and the year in which the house was sold."
      ],
      "metadata": {
        "id": "GloaGcj0utsL"
      }
    },
    {
      "cell_type": "code",
      "source": [
        "# Create new temporal features from date variables\n",
        "# YOUR CODE HERE"
      ],
      "metadata": {
        "id": "Lnx4D40AuyHM"
      },
      "execution_count": null,
      "outputs": []
    },
    {
      "cell_type": "code",
      "source": [
        "# Apply it to both train and test set\n",
        "# YOUR CODE HERE"
      ],
      "metadata": {
        "id": "IrNgY3HQu2Q2"
      },
      "execution_count": null,
      "outputs": []
    },
    {
      "cell_type": "code",
      "source": [
        "X_train=X_train.drop(columns=['YearBuilt', 'YearRemodAdd', 'GarageYrBlt'])\n",
        "X_test=X_test.drop(columns=['YearBuilt', 'YearRemodAdd', 'GarageYrBlt'])"
      ],
      "metadata": {
        "id": "h0vBsbmqxUh1"
      },
      "execution_count": null,
      "outputs": []
    },
    {
      "cell_type": "markdown",
      "source": [
        "###Modelling with unprocessed features\n",
        "\n"
      ],
      "metadata": {
        "id": "38f1h3Abu6P5"
      }
    },
    {
      "cell_type": "code",
      "source": [
        "# Create an xgboost regression model\n",
        "# YOUR CODE HERE"
      ],
      "metadata": {
        "id": "cQuZNIteu2Wu"
      },
      "execution_count": null,
      "outputs": []
    },
    {
      "cell_type": "code",
      "source": [
        "# Train on training set\n",
        "model_no_pro.fit(X_train, y_train)"
      ],
      "metadata": {
        "id": "GryNYUnBu_Ca"
      },
      "execution_count": null,
      "outputs": []
    },
    {
      "cell_type": "markdown",
      "source": [
        "**Note - Hyperparameters:**   **enable_categorical** - [Ref.](https://xgboost.readthedocs.io/en/stable/tutorials/categorical.html), **tree_method** - [Ref.](https://xgboost.readthedocs.io/en/stable/parameter.html)"
      ],
      "metadata": {
        "id": "WIu0tDfWyaQ5"
      }
    },
    {
      "cell_type": "code",
      "source": [
        "# Evaluate the model:\n",
        "# Evaluate performance using the mean squared error and the root of the mean squared error\n",
        "pred = model_no_pro.predict(X_train)\n",
        "print('linear train mse: {}'.format(mean_squared_error(y_train, pred)))\n",
        "print('linear train rmse: {}'.format(sqrt(mean_squared_error(y_train, pred))))\n",
        "print()\n",
        "pred = model_no_pro.predict(X_test)\n",
        "print('linear test mse: {}'.format(mean_squared_error(y_test, pred)))\n",
        "print('linear test rmse: {}'.format(sqrt(mean_squared_error(y_test, pred))))"
      ],
      "metadata": {
        "id": "_cBP0JkfvEFz"
      },
      "execution_count": null,
      "outputs": []
    },
    {
      "cell_type": "markdown",
      "metadata": {
        "id": "VHfHdGCP_n6Y"
      },
      "source": [
        "### Please answer the questions below to complete the experiment:\n",
        "\n",
        "\n"
      ]
    },
    {
      "cell_type": "code",
      "execution_count": null,
      "metadata": {
        "id": "VgSwVENIPcM6"
      },
      "outputs": [],
      "source": [
        "#@title  Which of the following is/are the hyperparameter/s used in XG-Boost? { run: \"auto\", form-width: \"500px\", display-mode: \"form\" }\n",
        "Answer = \"\" #@param [\"\", \"learning_rate(eta)\", \"min_split_loss(gamma)\", \"max_depth\", \"All of the above\"]"
      ]
    },
    {
      "cell_type": "code",
      "execution_count": null,
      "metadata": {
        "id": "NMzKSbLIgFzQ"
      },
      "outputs": [],
      "source": [
        "#@title How was the experiment? { run: \"auto\", form-width: \"500px\", display-mode: \"form\" }\n",
        "Complexity = \"\" #@param [\"\",\"Too Simple, I am wasting time\", \"Good, But Not Challenging for me\", \"Good and Challenging for me\", \"Was Tough, but I did it\", \"Too Difficult for me\"]\n"
      ]
    },
    {
      "cell_type": "code",
      "execution_count": null,
      "metadata": {
        "id": "DjcH1VWSFI2l"
      },
      "outputs": [],
      "source": [
        "#@title If it was too easy, what more would you have liked to be added? If it was very difficult, what would you have liked to have been removed? { run: \"auto\", display-mode: \"form\" }\n",
        "Additional = \"\" #@param {type:\"string\"}\n"
      ]
    },
    {
      "cell_type": "code",
      "execution_count": null,
      "metadata": {
        "id": "4VBk_4VTAxCM"
      },
      "outputs": [],
      "source": [
        "#@title Can you identify the concepts from the lecture which this experiment covered? { run: \"auto\", vertical-output: true, display-mode: \"form\" }\n",
        "Concepts = \"\" #@param [\"\",\"Yes\", \"No\"]\n"
      ]
    },
    {
      "cell_type": "code",
      "execution_count": null,
      "metadata": {
        "id": "XH91cL1JWH7m"
      },
      "outputs": [],
      "source": [
        "#@title  Text and image description/explanation and code comments within the experiment: { run: \"auto\", vertical-output: true, display-mode: \"form\" }\n",
        "Comments = \"\" #@param [\"\",\"Very Useful\", \"Somewhat Useful\", \"Not Useful\", \"Didn't use\"]\n"
      ]
    },
    {
      "cell_type": "code",
      "execution_count": null,
      "metadata": {
        "id": "z8xLqj7VWIKW"
      },
      "outputs": [],
      "source": [
        "#@title Mentor Support: { run: \"auto\", vertical-output: true, display-mode: \"form\" }\n",
        "Mentor_support = \"\" #@param [\"\",\"Very Useful\", \"Somewhat Useful\", \"Not Useful\", \"Didn't use\"]\n"
      ]
    },
    {
      "cell_type": "code",
      "execution_count": null,
      "metadata": {
        "cellView": "form",
        "id": "FzAZHt1zw-Y-"
      },
      "outputs": [],
      "source": [
        "#@title Run this cell to submit your notebook for grading { vertical-output: true }\n",
        "try:\n",
        "  if submission_id:\n",
        "      return_id = submit_notebook()\n",
        "      if return_id : submission_id = return_id\n",
        "  else:\n",
        "      print(\"Please complete the setup first.\")\n",
        "except NameError:\n",
        "  print (\"Please complete the setup first.\")"
      ]
    }
  ],
  "metadata": {
    "kernelspec": {
      "display_name": "Python 3",
      "language": "python",
      "name": "python3"
    },
    "language_info": {
      "codemirror_mode": {
        "name": "ipython",
        "version": 3
      },
      "file_extension": ".py",
      "mimetype": "text/x-python",
      "name": "python",
      "nbconvert_exporter": "python",
      "pygments_lexer": "ipython3",
      "version": "3.7.6"
    },
    "toc": {
      "nav_menu": {},
      "number_sections": true,
      "sideBar": true,
      "skip_h1_title": false,
      "toc_cell": false,
      "toc_position": {
        "height": "583px",
        "left": "0px",
        "right": "1324px",
        "top": "107px",
        "width": "212px"
      },
      "toc_section_display": "block",
      "toc_window_display": true
    },
    "colab": {
      "provenance": [],
      "include_colab_link": true
    }
  },
  "nbformat": 4,
  "nbformat_minor": 0
}